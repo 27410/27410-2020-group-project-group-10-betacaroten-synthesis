{
 "cells": [
  {
   "cell_type": "code",
   "execution_count": 1,
   "metadata": {},
   "outputs": [
    {
     "ename": "ModuleNotFoundError",
     "evalue": "No module named 'dfba'",
     "output_type": "error",
     "traceback": [
      "\u001b[0;31m---------------------------------------------------------------------------\u001b[0m",
      "\u001b[0;31mModuleNotFoundError\u001b[0m                       Traceback (most recent call last)",
      "\u001b[0;32m<ipython-input-1-501048a36044>\u001b[0m in \u001b[0;36m<module>\u001b[0;34m\u001b[0m\n\u001b[1;32m      1\u001b[0m \u001b[0;32mfrom\u001b[0m \u001b[0mos\u001b[0m\u001b[0;34m.\u001b[0m\u001b[0mpath\u001b[0m \u001b[0;32mimport\u001b[0m \u001b[0mdirname\u001b[0m\u001b[0;34m,\u001b[0m \u001b[0mjoin\u001b[0m\u001b[0;34m,\u001b[0m \u001b[0mpardir\u001b[0m\u001b[0;34m\u001b[0m\u001b[0;34m\u001b[0m\u001b[0m\n\u001b[1;32m      2\u001b[0m \u001b[0;34m\u001b[0m\u001b[0m\n\u001b[0;32m----> 3\u001b[0;31m \u001b[0;32mfrom\u001b[0m \u001b[0mdfba\u001b[0m \u001b[0;32mimport\u001b[0m \u001b[0mDfbaModel\u001b[0m\u001b[0;34m,\u001b[0m \u001b[0mExchangeFlux\u001b[0m\u001b[0;34m,\u001b[0m \u001b[0mKineticVariable\u001b[0m\u001b[0;34m\u001b[0m\u001b[0;34m\u001b[0m\u001b[0m\n\u001b[0m",
      "\u001b[0;31mModuleNotFoundError\u001b[0m: No module named 'dfba'"
     ]
    }
   ],
   "source": [
    "from os.path import dirname, join, pardir\n",
    "\n",
    "from dfba import DfbaModel, ExchangeFlux, KineticVariable"
   ]
  },
  {
   "cell_type": "code",
   "execution_count": 12,
   "metadata": {},
   "outputs": [
    {
     "name": "stdout",
     "output_type": "stream",
     "text": [
      "Maximum beta-carotene flow:  0.35143769968051247\n"
     ]
    }
   ],
   "source": [
    "import numpy as np\n",
    "from cobra.io import read_sbml_model\n",
    "from cobra import Reaction, Metabolite\n",
    "\n",
    "model_iMM904 = read_sbml_model('iMM904.xml')\n",
    "phy = Metabolite(id='phy', name='phytoene', compartment='c') #Adding the metabolite\n",
    "new_reaction1 = Reaction('phy_syn') #PHYtoene SYNtase\n",
    "phy = Metabolite(id='phy', name='phytoene', compartment='c') #Adding the metabolite\n",
    "\n",
    "new_reaction1.add_metabolites({model_iMM904.metabolites.ggdp_c: -2,\n",
    "                              phy: 1, # our newly created metabolites\n",
    "                               model_iMM904.metabolites.ppi_c: 2\n",
    "                                })\n",
    "model_iMM904.add_reactions([new_reaction1])\n",
    "new_reaction2 = Reaction('neu_syn') #NEUrosporene SYNtase\n",
    "#Adding the metabolite\n",
    "neu = Metabolite(id='neu', name='Neurosporene', compartment='c') \n",
    "#AH2 = Metabolite(id='AH2', name='Reduced acceptor', compartment='c') \n",
    "#A = Metabolite(id='A', name='Acceptor', compartment='c') \n",
    "new_reaction2.add_metabolites({\n",
    "    model_iMM904.metabolites.nadp_c: -3,\n",
    "    phy: -1, # our newly created metabolites\n",
    "    model_iMM904.metabolites.nadph_c: 3,\n",
    "    neu: 1,\n",
    "    })\n",
    "model_iMM904.add_reactions([new_reaction2])\n",
    "new_reaction3 = Reaction('lyc_syn') #LYCopene SYNtase\n",
    "lyc = Metabolite(id='lyc', name='Lycopene', compartment='c') #Adding the metabolite\n",
    "new_reaction3.add_metabolites({\n",
    "    neu: -1, # our newly created metabolites\n",
    "    model_iMM904.metabolites.nadph_c: -1, \n",
    "    model_iMM904.metabolites.o2_c: -1,\n",
    "    lyc: 1,\n",
    "    model_iMM904.metabolites.nadp_c: 1,\n",
    "    model_iMM904.metabolites.h2o_c: 2,\n",
    "    })\n",
    "model_iMM904.add_reactions([new_reaction3])\n",
    "new_reaction4 = Reaction('beta_syn') #BETA-carotene SYNtase\n",
    "beta = Metabolite(id='beta', name='Beta-carotene', compartment='c') #Adding the metabolite\n",
    "new_reaction4.add_metabolites({\n",
    "    lyc: -1, # our newly created metabolites\n",
    "    beta: 1,\n",
    "    })\n",
    "model_iMM904.add_reactions([new_reaction4])\n",
    "new_reaction5 = Reaction('EX_beta') #BETA-carotene SYNtase\n",
    "new_reaction5.add_metabolites({\n",
    "    beta: -1 #Excretion of beta-carotene\n",
    "    })\n",
    "model_iMM904.add_reactions([new_reaction5])\n",
    "with model_iMM904:\n",
    "    model_iMM904.objective = model_iMM904.reactions.EX_beta \n",
    "    print(\"Maximum beta-carotene flow: \",model_iMM904.optimize().objective_value)"
   ]
  },
  {
   "cell_type": "code",
   "execution_count": 13,
   "metadata": {},
   "outputs": [],
   "source": [
    "%%capture --no-display\n",
    "model_iMM904.solver = \"glpk\"\n",
    "dfba_model = DfbaModel(model_iMM904)\n",
    "\n",
    "#%%capture --no-display\n",
    "#fba_model = read_sbml_model(\"../data/iJR904.xml.gz\")\n",
    "#fba_model.solver = \"glpk\"\n",
    "#dfba_model = DfbaModel(fba_model)"
   ]
  },
  {
   "cell_type": "code",
   "execution_count": 14,
   "metadata": {},
   "outputs": [],
   "source": [
    "X = KineticVariable(\"Biomass\")\n",
    "Gluc = KineticVariable(\"Glucose\")\n",
    "Bet = KineticVariable(\"Beta-carotene\")\n",
    "Oxy = KineticVariable(\"Oxygen\")\n",
    "Eth = KineticVariable(\"Ethanol\")\n",
    "\n",
    "dfba_model.add_kinetic_variables([X, Gluc, Bet, Oxy, Eth])"
   ]
  },
  {
   "cell_type": "code",
   "execution_count": null,
   "metadata": {},
   "outputs": [],
   "source": []
  },
  {
   "cell_type": "code",
   "execution_count": 16,
   "metadata": {},
   "outputs": [],
   "source": [
    "mu = ExchangeFlux(\"BIOMASS_SC5_notrace\")\n",
    "v_G = ExchangeFlux(\"EX_glc__D_e\")\n",
    "v_O = ExchangeFlux(\"EX_o2_e\")\n",
    "v_E = ExchangeFlux(\"EX_etoh_e\")\n",
    "v_beta = ExchangeFlux(\"EX_beta\")\n",
    "\n",
    "\n",
    "dfba_model.add_exchange_fluxes([mu, v_G, v_beta, v_O, v_E])"
   ]
  },
  {
   "cell_type": "code",
   "execution_count": 17,
   "metadata": {},
   "outputs": [],
   "source": [
    "dfba_model.add_rhs_expression(\"Biomass\", mu * X)\n",
    "dfba_model.add_rhs_expression(\"Glucose\", v_G * 180.1559/1000 * X) # v_G [mmol gDW^-1 h^-1] * 0.18 g/mmol * gDW/L\n",
    "dfba_model.add_rhs_expression(\"Beta-carotene\", v_beta * 536.9/1000 * X +10)\n",
    "dfba_model.add_rhs_expression(\"Oxygen\", 0) # O2 is kept constant\n",
    "dfba_model.add_rhs_expression(\"Ethanol\", v_E * 46.06844/1000 * X - v_E * 46.06844/1000 * X)\n"
   ]
  },
  {
   "cell_type": "code",
   "execution_count": 18,
   "metadata": {},
   "outputs": [],
   "source": [
    "vmax_o2 = 15 # [mmol gDW^-1 h^-1]\n",
    "Ko = 0.024 # mmol/L O2 Michaelis-Mentent constant\n",
    "dfba_model.add_exchange_flux_lb(\"EX_o2_e\", vmax_o2 * (Oxy / (Ko + Oxy)), Oxy)"
   ]
  },
  {
   "cell_type": "code",
   "execution_count": 20,
   "metadata": {},
   "outputs": [
    {
     "ename": "TypeError",
     "evalue": "set_output_times(): incompatible function arguments. The following argument types are supported:\n    1. (self: dfba.dfba_utils.UserData, arg0: float, arg1: float) -> None\n\nInvoked with: <dfba.dfba_utils.UserData object at 0x7fc38c97ef30>, 25.0, ['EX_glc_e', 'EX_etoh_e']",
     "output_type": "error",
     "traceback": [
      "\u001b[0;31m---------------------------------------------------------------------------\u001b[0m",
      "\u001b[0;31mTypeError\u001b[0m                                 Traceback (most recent call last)",
      "\u001b[0;32m<ipython-input-20-f14c67d9f3cc>\u001b[0m in \u001b[0;36m<module>\u001b[0;34m\u001b[0m\n\u001b[1;32m      9\u001b[0m     }\n\u001b[1;32m     10\u001b[0m )\n\u001b[0;32m---> 11\u001b[0;31m \u001b[0mconcentrations\u001b[0m\u001b[0;34m,\u001b[0m \u001b[0mtrajectories\u001b[0m \u001b[0;34m=\u001b[0m \u001b[0mdfba_model\u001b[0m\u001b[0;34m.\u001b[0m\u001b[0msimulate\u001b[0m\u001b[0;34m(\u001b[0m\u001b[0;36m0.0\u001b[0m\u001b[0;34m,\u001b[0m \u001b[0;36m25.0\u001b[0m\u001b[0;34m,\u001b[0m \u001b[0;34m[\u001b[0m\u001b[0;34m\"EX_glc_e\"\u001b[0m\u001b[0;34m,\u001b[0m \u001b[0;34m\"EX_etoh_e\"\u001b[0m\u001b[0;34m]\u001b[0m\u001b[0;34m)\u001b[0m\u001b[0;34m\u001b[0m\u001b[0;34m\u001b[0m\u001b[0m\n\u001b[0m",
      "\u001b[0;32m/opt/conda/lib/python3.8/site-packages/dfba/model.py\u001b[0m in \u001b[0;36msimulate\u001b[0;34m(self, tstart, tstop, tout, output_fluxes)\u001b[0m\n\u001b[1;32m    389\u001b[0m             \u001b[0mlogger\u001b[0m\u001b[0;34m.\u001b[0m\u001b[0mdebug\u001b[0m\u001b[0;34m(\u001b[0m\u001b[0;34mf\"The created temporary directory is {directory}\"\u001b[0m\u001b[0;34m)\u001b[0m\u001b[0;34m\u001b[0m\u001b[0;34m\u001b[0m\u001b[0m\n\u001b[1;32m    390\u001b[0m             \u001b[0mlibrary\u001b[0m\u001b[0;34m.\u001b[0m\u001b[0mcreate\u001b[0m\u001b[0;34m(\u001b[0m\u001b[0mdirectory\u001b[0m\u001b[0;34m)\u001b[0m\u001b[0;34m\u001b[0m\u001b[0;34m\u001b[0m\u001b[0m\n\u001b[0;32m--> 391\u001b[0;31m             \u001b[0mself\u001b[0m\u001b[0;34m.\u001b[0m\u001b[0madd_to_library\u001b[0m\u001b[0;34m(\u001b[0m\u001b[0mtstart\u001b[0m\u001b[0;34m,\u001b[0m \u001b[0mtstop\u001b[0m\u001b[0;34m,\u001b[0m \u001b[0mtout\u001b[0m\u001b[0;34m,\u001b[0m \u001b[0mprint_fluxes\u001b[0m\u001b[0;34m,\u001b[0m \u001b[0mdirectory\u001b[0m\u001b[0;34m)\u001b[0m\u001b[0;34m\u001b[0m\u001b[0;34m\u001b[0m\u001b[0m\n\u001b[0m\u001b[1;32m    392\u001b[0m             \u001b[0mfunctionlib\u001b[0m \u001b[0;34m=\u001b[0m \u001b[0mjit\u001b[0m\u001b[0;34m.\u001b[0m\u001b[0mcompile\u001b[0m\u001b[0;34m(\u001b[0m\u001b[0mdirectory\u001b[0m\u001b[0;34m)\u001b[0m\u001b[0;34m\u001b[0m\u001b[0;34m\u001b[0m\u001b[0m\n\u001b[1;32m    393\u001b[0m             \u001b[0mlogger\u001b[0m\u001b[0;34m.\u001b[0m\u001b[0mdebug\u001b[0m\u001b[0;34m(\u001b[0m\u001b[0;34mf\"Function library {functionlib} compiled successfully...\"\u001b[0m\u001b[0;34m)\u001b[0m\u001b[0;34m\u001b[0m\u001b[0;34m\u001b[0m\u001b[0m\n",
      "\u001b[0;32m/opt/conda/lib/python3.8/site-packages/dfba/model.py\u001b[0m in \u001b[0;36madd_to_library\u001b[0;34m(self, tstart, tstop, tout, print_fluxes, directory)\u001b[0m\n\u001b[1;32m    574\u001b[0m         \u001b[0mself\u001b[0m\u001b[0;34m.\u001b[0m\u001b[0muser_data\u001b[0m\u001b[0;34m.\u001b[0m\u001b[0mset_name\u001b[0m\u001b[0;34m(\u001b[0m\u001b[0mstr\u001b[0m\u001b[0;34m(\u001b[0m\u001b[0mself\u001b[0m\u001b[0;34m.\u001b[0m\u001b[0mid\u001b[0m\u001b[0;34m)\u001b[0m\u001b[0;34m)\u001b[0m\u001b[0;34m\u001b[0m\u001b[0;34m\u001b[0m\u001b[0m\n\u001b[1;32m    575\u001b[0m         \u001b[0mself\u001b[0m\u001b[0;34m.\u001b[0m\u001b[0muser_data\u001b[0m\u001b[0;34m.\u001b[0m\u001b[0mset_kinetic_dimensions\u001b[0m\u001b[0;34m(\u001b[0m\u001b[0mnkin\u001b[0m\u001b[0;34m,\u001b[0m \u001b[0mnexc\u001b[0m\u001b[0;34m,\u001b[0m \u001b[0mnreq\u001b[0m\u001b[0;34m)\u001b[0m\u001b[0;34m\u001b[0m\u001b[0;34m\u001b[0m\u001b[0m\n\u001b[0;32m--> 576\u001b[0;31m         \u001b[0mself\u001b[0m\u001b[0;34m.\u001b[0m\u001b[0muser_data\u001b[0m\u001b[0;34m.\u001b[0m\u001b[0mset_output_times\u001b[0m\u001b[0;34m(\u001b[0m\u001b[0mtstop\u001b[0m\u001b[0;34m,\u001b[0m \u001b[0mtout\u001b[0m\u001b[0;34m)\u001b[0m\u001b[0;34m\u001b[0m\u001b[0;34m\u001b[0m\u001b[0m\n\u001b[0m\u001b[1;32m    577\u001b[0m         \u001b[0mself\u001b[0m\u001b[0;34m.\u001b[0m\u001b[0muser_data\u001b[0m\u001b[0;34m.\u001b[0m\u001b[0mset_initial_conditions\u001b[0m\u001b[0;34m(\u001b[0m\u001b[0minitial_conditions\u001b[0m\u001b[0;34m)\u001b[0m\u001b[0;34m\u001b[0m\u001b[0;34m\u001b[0m\u001b[0m\n\u001b[1;32m    578\u001b[0m         \u001b[0mself\u001b[0m\u001b[0;34m.\u001b[0m\u001b[0muser_data\u001b[0m\u001b[0;34m.\u001b[0m\u001b[0mset_exchange_indices\u001b[0m\u001b[0;34m(\u001b[0m\u001b[0mexchange_indices\u001b[0m\u001b[0;34m)\u001b[0m\u001b[0;34m\u001b[0m\u001b[0;34m\u001b[0m\u001b[0m\n",
      "\u001b[0;31mTypeError\u001b[0m: set_output_times(): incompatible function arguments. The following argument types are supported:\n    1. (self: dfba.dfba_utils.UserData, arg0: float, arg1: float) -> None\n\nInvoked with: <dfba.dfba_utils.UserData object at 0x7fc38c97ef30>, 25.0, ['EX_glc_e', 'EX_etoh_e']"
     ]
    }
   ],
   "source": [
    "dfba_model.add_initial_conditions(\n",
    "    {\n",
    "        \"Biomass\": 0.01, # (gDW/L)\n",
    "        \"Glucose\": 15.5, # (g/L)\n",
    "        \"Beta-carotene\": 0,   # (g/L)\n",
    "        \"Oxygen\": 0,  # (mmol/L)\n",
    "        \"Ethanol\": 0.0,  # (g/L)\n",
    "        \n",
    "    }\n",
    ")\n",
    "concentrations, trajectories = dfba_model.simulate(0.0, 25.0, 0,1,[\"EX_glc_e\", \"EX_etoh_e\"])"
   ]
  },
  {
   "cell_type": "code",
   "execution_count": null,
   "metadata": {},
   "outputs": [],
   "source": [
    "from dfba.plot.matplotlib import *"
   ]
  },
  {
   "cell_type": "code",
   "execution_count": null,
   "metadata": {},
   "outputs": [],
   "source": [
    "plot_concentrations(concentrations)"
   ]
  },
  {
   "cell_type": "code",
   "execution_count": null,
   "metadata": {},
   "outputs": [],
   "source": []
  }
 ],
 "metadata": {
  "kernelspec": {
   "display_name": "Python 3",
   "language": "python",
   "name": "python3"
  },
  "language_info": {
   "codemirror_mode": {
    "name": "ipython",
    "version": 3
   },
   "file_extension": ".py",
   "mimetype": "text/x-python",
   "name": "python",
   "nbconvert_exporter": "python",
   "pygments_lexer": "ipython3",
   "version": "3.8.3"
  }
 },
 "nbformat": 4,
 "nbformat_minor": 4
}
