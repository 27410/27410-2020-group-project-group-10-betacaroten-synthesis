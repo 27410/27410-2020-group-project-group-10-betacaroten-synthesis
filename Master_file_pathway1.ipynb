{
 "cells": [
  {
   "cell_type": "code",
   "execution_count": 8,
   "metadata": {},
   "outputs": [
    {
     "name": "stdout",
     "output_type": "stream",
     "text": [
      "Maximum beta-carotene flow:  0.35143769968051247\n"
     ]
    }
   ],
   "source": [
    "import numpy as np\n",
    "from cobra.io import read_sbml_model\n",
    "from cobra import Reaction, Metabolite\n",
    "model_iMM904 = read_sbml_model('iMM904.xml')\n",
    "phy = Metabolite(id='phy', name='phytoene', compartment='c') #Adding the metabolite\n",
    "new_reaction1 = Reaction('phy_syn') #PHYtoene SYNtase\n",
    "phy = Metabolite(id='phy', name='phytoene', compartment='c') #Adding the metabolite\n",
    "\n",
    "new_reaction1.add_metabolites({model_iMM904.metabolites.ggdp_c: -2,\n",
    "                              phy: 1, # our newly created metabolites\n",
    "                               model_iMM904.metabolites.ppi_c: 2\n",
    "                                })\n",
    "model_iMM904.add_reactions([new_reaction1])\n",
    "new_reaction2 = Reaction('neu_syn') #NEUrosporene SYNtase\n",
    "#Adding the metabolite\n",
    "neu = Metabolite(id='neu', name='Neurosporene', compartment='c') \n",
    "#AH2 = Metabolite(id='AH2', name='Reduced acceptor', compartment='c') \n",
    "#A = Metabolite(id='A', name='Acceptor', compartment='c') \n",
    "new_reaction2.add_metabolites({\n",
    "    model_iMM904.metabolites.nadp_c: -3,\n",
    "    phy: -1, # our newly created metabolites\n",
    "    model_iMM904.metabolites.nadph_c: 3,\n",
    "    neu: 1,\n",
    "    })\n",
    "model_iMM904.add_reactions([new_reaction2])\n",
    "new_reaction3 = Reaction('lyc_syn') #LYCopene SYNtase\n",
    "lyc = Metabolite(id='lyc', name='Lycopene', compartment='c') #Adding the metabolite\n",
    "new_reaction3.add_metabolites({\n",
    "    neu: -1, # our newly created metabolites\n",
    "    model_iMM904.metabolites.nadph_c: -1, \n",
    "    model_iMM904.metabolites.o2_c: -1,\n",
    "    lyc: 1,\n",
    "    model_iMM904.metabolites.nadp_c: 1,\n",
    "    model_iMM904.metabolites.h2o_c: 2,\n",
    "    })\n",
    "model_iMM904.add_reactions([new_reaction3])\n",
    "new_reaction4 = Reaction('beta_syn') #BETA-carotene SYNtase\n",
    "beta = Metabolite(id='beta', name='Beta-carotene', compartment='c') #Adding the metabolite\n",
    "new_reaction4.add_metabolites({\n",
    "    lyc: -1, # our newly created metabolites\n",
    "    beta: 1,\n",
    "    })\n",
    "model_iMM904.add_reactions([new_reaction4])\n",
    "new_reaction5 = Reaction('EX_beta') #BETA-carotene SYNtase\n",
    "new_reaction5.add_metabolites({\n",
    "    beta: -1 #Excretion of beta-carotene\n",
    "    })\n",
    "model_iMM904.add_reactions([new_reaction5])\n",
    "with model_iMM904:\n",
    "    model_iMM904.objective = model_iMM904.reactions.EX_beta \n",
    "    print(\"Maximum beta-carotene flow: \",model_iMM904.optimize().objective_value)"
   ]
  },
  {
   "cell_type": "code",
   "execution_count": 9,
   "metadata": {},
   "outputs": [
    {
     "data": {
      "text/html": [
       "<strong><em>Optimal</em> solution with objective value 0.288</strong><br><div>\n",
       "<style scoped>\n",
       "    .dataframe tbody tr th:only-of-type {\n",
       "        vertical-align: middle;\n",
       "    }\n",
       "\n",
       "    .dataframe tbody tr th {\n",
       "        vertical-align: top;\n",
       "    }\n",
       "\n",
       "    .dataframe thead th {\n",
       "        text-align: right;\n",
       "    }\n",
       "</style>\n",
       "<table border=\"1\" class=\"dataframe\">\n",
       "  <thead>\n",
       "    <tr style=\"text-align: right;\">\n",
       "      <th></th>\n",
       "      <th>fluxes</th>\n",
       "      <th>reduced_costs</th>\n",
       "    </tr>\n",
       "  </thead>\n",
       "  <tbody>\n",
       "    <tr>\n",
       "      <th>CITtcp</th>\n",
       "      <td>0.000000e+00</td>\n",
       "      <td>-0.000000e+00</td>\n",
       "    </tr>\n",
       "    <tr>\n",
       "      <th>13BGH</th>\n",
       "      <td>0.000000e+00</td>\n",
       "      <td>-4.751566e-02</td>\n",
       "    </tr>\n",
       "    <tr>\n",
       "      <th>13BGHe</th>\n",
       "      <td>0.000000e+00</td>\n",
       "      <td>0.000000e+00</td>\n",
       "    </tr>\n",
       "    <tr>\n",
       "      <th>13GS</th>\n",
       "      <td>3.266700e-01</td>\n",
       "      <td>0.000000e+00</td>\n",
       "    </tr>\n",
       "    <tr>\n",
       "      <th>16GS</th>\n",
       "      <td>0.000000e+00</td>\n",
       "      <td>-9.503132e-02</td>\n",
       "    </tr>\n",
       "    <tr>\n",
       "      <th>...</th>\n",
       "      <td>...</td>\n",
       "      <td>...</td>\n",
       "    </tr>\n",
       "    <tr>\n",
       "      <th>phy_syn</th>\n",
       "      <td>-3.972329e-14</td>\n",
       "      <td>0.000000e+00</td>\n",
       "    </tr>\n",
       "    <tr>\n",
       "      <th>neu_syn</th>\n",
       "      <td>-3.972329e-14</td>\n",
       "      <td>-5.551115e-17</td>\n",
       "    </tr>\n",
       "    <tr>\n",
       "      <th>lyc_syn</th>\n",
       "      <td>-3.972329e-14</td>\n",
       "      <td>0.000000e+00</td>\n",
       "    </tr>\n",
       "    <tr>\n",
       "      <th>beta_syn</th>\n",
       "      <td>-3.972329e-14</td>\n",
       "      <td>0.000000e+00</td>\n",
       "    </tr>\n",
       "    <tr>\n",
       "      <th>EX_beta</th>\n",
       "      <td>-3.972329e-14</td>\n",
       "      <td>0.000000e+00</td>\n",
       "    </tr>\n",
       "  </tbody>\n",
       "</table>\n",
       "<p>1582 rows × 2 columns</p>\n",
       "</div>"
      ],
      "text/plain": [
       "<Solution 0.288 at 0x7fa5084a8ca0>"
      ]
     },
     "execution_count": 9,
     "metadata": {},
     "output_type": "execute_result"
    }
   ],
   "source": [
    "model_iMM904.optimize()"
   ]
  },
  {
   "cell_type": "code",
   "execution_count": 11,
   "metadata": {},
   "outputs": [],
   "source": [
    "solution = model_iMM904.optimize()"
   ]
  },
  {
   "cell_type": "code",
   "execution_count": 17,
   "metadata": {},
   "outputs": [],
   "source": [
    "max_growth = model_iMM904.optimize().objective_value"
   ]
  },
  {
   "cell_type": "code",
   "execution_count": 14,
   "metadata": {},
   "outputs": [
    {
     "data": {
      "text/plain": [
       "-10.0"
      ]
     },
     "execution_count": 14,
     "metadata": {},
     "output_type": "execute_result"
    }
   ],
   "source": [
    "solution.fluxes['EX_glc__D_e']"
   ]
  },
  {
   "cell_type": "code",
   "execution_count": 18,
   "metadata": {},
   "outputs": [
    {
     "name": "stdout",
     "output_type": "stream",
     "text": [
      "Max growth rate on glucose: 0.29\n"
     ]
    }
   ],
   "source": [
    "print(\"Max growth rate on glucose:\",round(max_growth,2))"
   ]
  },
  {
   "cell_type": "code",
   "execution_count": 21,
   "metadata": {},
   "outputs": [
    {
     "data": {
      "text/plain": [
       "0.028786570370404923"
      ]
     },
     "execution_count": 21,
     "metadata": {},
     "output_type": "execute_result"
    }
   ],
   "source": [
    "max_growth/abs(solution.fluxes[\"EX_glc__D_e\"])"
   ]
  },
  {
   "cell_type": "code",
   "execution_count": 7,
   "metadata": {},
   "outputs": [
    {
     "name": "stdout",
     "output_type": "stream",
     "text": [
      "Max growth and production in glucose. Growth rate and production is independent:\n",
      "\n",
      "Maximize\n",
      "1.0*BIOMASS_SC5_notrace - 1.0*BIOMASS_SC5_notrace_reverse_93090\n"
     ]
    }
   ],
   "source": [
    "#Find the max growth rate of S. cerevisiae on glucose with the standard medium settings with glucose\n",
    "#Test the maximum beta-carotene production at another growth rate\n",
    "print(\"Max growth and production in glucose. Growth rate and production is independent:\\n\")\n",
    "with model_iMM904: \n",
    "    #Max growth\n",
    "    print(model_iMM904.objective)\n",
    "    model_iMM904.optimize()\n",
    "    model_iMM904.optimize().objective_value\n",
    "    #solution = model_iMM904.optimize()\n",
    "    #print(\"Max growth rate on glucose:\",round(initial_growth,2))\n",
    "    #print(\"hej\", solution)\n",
    "    #print(type(solution.fluxes))\n",
    "    \n",
    "    "
   ]
  },
  {
   "cell_type": "code",
   "execution_count": null,
   "metadata": {},
   "outputs": [],
   "source": [
    "with model_iMM904:\n",
    "    #max production\n",
    "    model_iMM904.objective = model_iMM904.reactions.EX_beta           #sets objective to the beta-carotene flow\n",
    "    initial_beta_flow = model_iMM904.optimize().objective_value       #Find max beta-carotene flow\n",
    "    print(\"Max beta-carotene flow on glucose:\",round(initial_beta_flow,2))\n",
    "    print(initial_beta_flow/abs(initial_beta_flow.fluxes[\"EX_glc__D_e\"]))"
   ]
  }
 ],
 "metadata": {
  "kernelspec": {
   "display_name": "Python 3",
   "language": "python",
   "name": "python3"
  },
  "language_info": {
   "codemirror_mode": {
    "name": "ipython",
    "version": 3
   },
   "file_extension": ".py",
   "mimetype": "text/x-python",
   "name": "python",
   "nbconvert_exporter": "python",
   "pygments_lexer": "ipython3",
   "version": "3.8.5"
  }
 },
 "nbformat": 4,
 "nbformat_minor": 4
}
