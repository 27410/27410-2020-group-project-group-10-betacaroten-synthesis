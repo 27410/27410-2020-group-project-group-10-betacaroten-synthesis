{
 "cells": [
  {
   "cell_type": "code",
   "execution_count": 3,
   "metadata": {},
   "outputs": [
    {
     "name": "stdout",
     "output_type": "stream",
     "text": [
      "Maximum beta-carotene flow:  0.35143769968051247\n"
     ]
    }
   ],
   "source": [
    "import numpy as np\n",
    "from cobra.io import read_sbml_model\n",
    "from cobra import Reaction, Metabolite\n",
    "model_iMM904 = read_sbml_model('iMM904.xml')\n",
    "phy = Metabolite(id='phy', name='phytoene', compartment='c') #Adding the metabolite\n",
    "new_reaction1 = Reaction('phy_syn') #PHYtoene SYNtase\n",
    "phy = Metabolite(id='phy', name='phytoene', compartment='c') #Adding the metabolite\n",
    "\n",
    "new_reaction1.add_metabolites({model_iMM904.metabolites.ggdp_c: -2,\n",
    "                              phy: 1, # our newly created metabolites\n",
    "                               model_iMM904.metabolites.ppi_c: 2\n",
    "                                })\n",
    "model_iMM904.add_reactions([new_reaction1])\n",
    "new_reaction2 = Reaction('neu_syn') #NEUrosporene SYNtase\n",
    "#Adding the metabolite\n",
    "neu = Metabolite(id='neu', name='Neurosporene', compartment='c') \n",
    "#AH2 = Metabolite(id='AH2', name='Reduced acceptor', compartment='c') \n",
    "#A = Metabolite(id='A', name='Acceptor', compartment='c') \n",
    "new_reaction2.add_metabolites({\n",
    "    model_iMM904.metabolites.nadp_c: -3,\n",
    "    phy: -1, # our newly created metabolites\n",
    "    model_iMM904.metabolites.nadph_c: 3,\n",
    "    neu: 1,\n",
    "    })\n",
    "model_iMM904.add_reactions([new_reaction2])\n",
    "new_reaction3 = Reaction('lyc_syn') #LYCopene SYNtase\n",
    "lyc = Metabolite(id='lyc', name='Lycopene', compartment='c') #Adding the metabolite\n",
    "new_reaction3.add_metabolites({\n",
    "    neu: -1, # our newly created metabolites\n",
    "    model_iMM904.metabolites.nadph_c: -1, \n",
    "    model_iMM904.metabolites.o2_c: -1,\n",
    "    lyc: 1,\n",
    "    model_iMM904.metabolites.nadp_c: 1,\n",
    "    model_iMM904.metabolites.h2o_c: 2,\n",
    "    })\n",
    "model_iMM904.add_reactions([new_reaction3])\n",
    "new_reaction4 = Reaction('beta_syn') #BETA-carotene SYNtase\n",
    "beta = Metabolite(id='beta', name='Beta-carotene', compartment='c') #Adding the metabolite\n",
    "new_reaction4.add_metabolites({\n",
    "    lyc: -1, # our newly created metabolites\n",
    "    beta: 1,\n",
    "    })\n",
    "model_iMM904.add_reactions([new_reaction4])\n",
    "new_reaction5 = Reaction('EX_beta') #BETA-carotene SYNtase\n",
    "new_reaction5.add_metabolites({\n",
    "    beta: -1 #Excretion of beta-carotene\n",
    "    })\n",
    "model_iMM904.add_reactions([new_reaction5])\n",
    "with model_iMM904:\n",
    "    model_iMM904.objective = model_iMM904.reactions.EX_beta \n",
    "    print(\"Maximum beta-carotene flow: \",model_iMM904.optimize().objective_value)"
   ]
  },
  {
   "cell_type": "code",
   "execution_count": null,
   "metadata": {},
   "outputs": [],
   "source": []
  }
 ],
 "metadata": {
  "kernelspec": {
   "display_name": "Python 3",
   "language": "python",
   "name": "python3"
  },
  "language_info": {
   "codemirror_mode": {
    "name": "ipython",
    "version": 3
   },
   "file_extension": ".py",
   "mimetype": "text/x-python",
   "name": "python",
   "nbconvert_exporter": "python",
   "pygments_lexer": "ipython3",
   "version": "3.8.3"
  }
 },
 "nbformat": 4,
 "nbformat_minor": 4
}
