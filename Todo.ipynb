{
 "cells": [
  {
   "cell_type": "markdown",
   "metadata": {},
   "source": [
    "Tilføje pathway 2 - den Niko sendte"
   ]
  },
  {
   "cell_type": "markdown",
   "metadata": {},
   "source": [
    "Vi går med pathway 1"
   ]
  },
  {
   "cell_type": "markdown",
   "metadata": {},
   "source": [
    "Lav knockouts -> se nr. 9 og sammenlign initial beta production med den forbedrede. \n",
    "\n",
    "Besked sendt til niko - det virker ikke i øjeblikket "
   ]
  },
  {
   "cell_type": "markdown",
   "metadata": {},
   "source": [
    "undersøg forskellige carbosources og forskellen for producitonen. Evt. kig på side 7 - og usregn yielden."
   ]
  },
  {
   "cell_type": "markdown",
   "metadata": {},
   "source": [
    "Undersøg også anaerob og aerob production og find yielden + flowet"
   ]
  },
  {
   "cell_type": "markdown",
   "metadata": {},
   "source": [
    "Escher - Henri"
   ]
  },
  {
   "cell_type": "markdown",
   "metadata": {},
   "source": [
    "Måske skriv noget om BIGG og hvordan vi har fundet metabolitterne "
   ]
  },
  {
   "cell_type": "code",
   "execution_count": null,
   "metadata": {},
   "outputs": [],
   "source": []
  }
 ],
 "metadata": {
  "kernelspec": {
   "display_name": "python3.6",
   "language": "python",
   "name": "python3.6"
  },
  "language_info": {
   "codemirror_mode": {
    "name": "ipython",
    "version": 3
   },
   "file_extension": ".py",
   "mimetype": "text/x-python",
   "name": "python",
   "nbconvert_exporter": "python",
   "pygments_lexer": "ipython3",
   "version": "3.6.12"
  }
 },
 "nbformat": 4,
 "nbformat_minor": 4
}
