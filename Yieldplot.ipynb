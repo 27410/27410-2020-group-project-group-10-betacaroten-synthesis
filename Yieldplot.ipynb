{
 "cells": [
  {
   "cell_type": "code",
   "execution_count": 3,
   "metadata": {},
   "outputs": [
    {
     "name": "stdout",
     "output_type": "stream",
     "text": [
      "Maximum beta-carotene flow:  0.35143769968051247\n"
     ]
    }
   ],
   "source": [
    "import numpy as np\n",
    "from cobra.io import read_sbml_model\n",
    "from cobra import Reaction, Metabolite\n",
    "model_iMM904 = read_sbml_model('iMM904.xml')\n",
    "phy = Metabolite(id='phy', name='phytoene', compartment='c') #Adding the metabolite\n",
    "new_reaction1 = Reaction('phy_syn') #PHYtoene SYNtase\n",
    "phy = Metabolite(id='phy', name='phytoene', compartment='c') #Adding the metabolite\n",
    "\n",
    "new_reaction1.add_metabolites({model_iMM904.metabolites.ggdp_c: -2,\n",
    "                              phy: 1, # our newly created metabolites\n",
    "                               model_iMM904.metabolites.ppi_c: 2\n",
    "                                })\n",
    "model_iMM904.add_reactions([new_reaction1])\n",
    "new_reaction2 = Reaction('neu_syn') #NEUrosporene SYNtase\n",
    "#Adding the metabolite\n",
    "neu = Metabolite(id='neu', name='Neurosporene', compartment='c') \n",
    "#AH2 = Metabolite(id='AH2', name='Reduced acceptor', compartment='c') \n",
    "#A = Metabolite(id='A', name='Acceptor', compartment='c') \n",
    "new_reaction2.add_metabolites({\n",
    "    model_iMM904.metabolites.nadp_c: -3,\n",
    "    phy: -1, # our newly created metabolites\n",
    "    model_iMM904.metabolites.nadph_c: 3,\n",
    "    neu: 1,\n",
    "    })\n",
    "model_iMM904.add_reactions([new_reaction2])\n",
    "new_reaction3 = Reaction('lyc_syn') #LYCopene SYNtase\n",
    "lyc = Metabolite(id='lyc', name='Lycopene', compartment='c') #Adding the metabolite\n",
    "new_reaction3.add_metabolites({\n",
    "    neu: -1, # our newly created metabolites\n",
    "    model_iMM904.metabolites.nadph_c: -1, \n",
    "    model_iMM904.metabolites.o2_c: -1,\n",
    "    lyc: 1,\n",
    "    model_iMM904.metabolites.nadp_c: 1,\n",
    "    model_iMM904.metabolites.h2o_c: 2,\n",
    "    })\n",
    "model_iMM904.add_reactions([new_reaction3])\n",
    "new_reaction4 = Reaction('beta_syn') #BETA-carotene SYNtase\n",
    "beta = Metabolite(id='beta', name='Beta-carotene', compartment='c', formula ='C40H56') #Adding the metabolite\n",
    "new_reaction4.add_metabolites({\n",
    "    lyc: -1, # our newly created metabolites\n",
    "    beta: 1,\n",
    "    })\n",
    "model_iMM904.add_reactions([new_reaction4])\n",
    "new_reaction5 = Reaction('EX_beta') #BETA-carotene SYNtase\n",
    "new_reaction5.add_metabolites({\n",
    "    beta: -1 #Excretion of beta-carotene\n",
    "    })\n",
    "model_iMM904.add_reactions([new_reaction5])\n",
    "with model_iMM904:\n",
    "    model_iMM904.objective = model_iMM904.reactions.EX_beta \n",
    "    print(\"Maximum beta-carotene flow: \",model_iMM904.optimize().objective_value)"
   ]
  },
  {
   "cell_type": "code",
   "execution_count": 4,
   "metadata": {},
   "outputs": [
    {
     "name": "stdout",
     "output_type": "stream",
     "text": [
      "{'C': 40, 'H': 56}\n"
     ]
    }
   ],
   "source": [
    "print(model_iMM904.metabolites.beta.elements)"
   ]
  },
  {
   "cell_type": "code",
   "execution_count": 5,
   "metadata": {},
   "outputs": [],
   "source": [
    "C = 12\n",
    "H = 1\n",
    "N = 14\n",
    "O = 16\n",
    "biomass_weight = C*47.5+H*7+N*9.25 #g/mol - this is the median measured\n",
    "beta_weight = model_iMM904.metabolites.beta.elements['C']*C+model_iMM904.metabolites.beta.elements['H']*H #g/mol\n",
    "gxtsn_e_weight = model_iMM904.metabolites.xtsn_e.elements['C']*C+model_iMM904.metabolites.xtsn_e.elements['H']*H+model_iMM904.metabolites.xtsn_e.elements['O']*O+model_iMM904.metabolites.xtsn_e.elements['N']*N\n",
    "glucose_weight = model_iMM904.metabolites.glc__D_c.elements['C']*C+model_iMM904.metabolites.glc__D_c.elements['H']*H+model_iMM904.metabolites.glc__D_c.elements['O']*O\n",
    "    "
   ]
  },
  {
   "cell_type": "code",
   "execution_count": 6,
   "metadata": {},
   "outputs": [],
   "source": [
    "genes_for_kncokout = ['GAPD','PYK','ARGN','ARGN', 'PYRDC']"
   ]
  },
  {
   "cell_type": "code",
   "execution_count": 7,
   "metadata": {},
   "outputs": [
    {
     "name": "stdout",
     "output_type": "stream",
     "text": [
      "<class 'str'>\n"
     ]
    }
   ],
   "source": [
    "print(type(genes_for_kncokout[0]))"
   ]
  },
  {
   "cell_type": "code",
   "execution_count": 8,
   "metadata": {},
   "outputs": [
    {
     "data": {
      "text/html": [
       "\n",
       "        <table>\n",
       "            <tr>\n",
       "                <td><strong>Reaction identifier</strong></td><td>GAPD</td>\n",
       "            </tr><tr>\n",
       "                <td><strong>Name</strong></td><td>Glyceraldehyde-3-phosphate dehydrogenase</td>\n",
       "            </tr><tr>\n",
       "                <td><strong>Memory address</strong></td>\n",
       "                <td>0x07fb3d9e7df10</td>\n",
       "            </tr><tr>\n",
       "                <td><strong>Stoichiometry</strong></td>\n",
       "                <td>\n",
       "                    <p style='text-align:right'>g3p_c + nad_c + pi_c <=> 13dpg_c + h_c + nadh_c</p>\n",
       "                    <p style='text-align:right'>Glyceraldehyde 3-phosphate + Nicotinamide adenine dinucleotide + Phosphate <=> 3-Phospho-D-glyceroyl phosphate + H+ + Nicotinamide adenine dinucleotide - reduced</p>\n",
       "                </td>\n",
       "            </tr><tr>\n",
       "                <td><strong>GPR</strong></td><td>YJL052W or YJR009C or YGR192C</td>\n",
       "            </tr><tr>\n",
       "                <td><strong>Lower bound</strong></td><td>-999999.0</td>\n",
       "            </tr><tr>\n",
       "                <td><strong>Upper bound</strong></td><td>999999.0</td>\n",
       "            </tr>\n",
       "        </table>\n",
       "        "
      ],
      "text/plain": [
       "<Reaction GAPD at 0x7fb3d9e7df10>"
      ]
     },
     "execution_count": 8,
     "metadata": {},
     "output_type": "execute_result"
    }
   ],
   "source": [
    "model_iMM904.reactions.get_by_id(genes_for_kncokout[0])"
   ]
  },
  {
   "cell_type": "code",
   "execution_count": 24,
   "metadata": {},
   "outputs": [
    {
     "name": "stdout",
     "output_type": "stream",
     "text": [
      "\u001b[1m\n",
      "Yield when biomass flux is 0.0028786570370401554 .\u001b[0m\n",
      "Investigation of maximum beta-carotene yield with a growth flux of : 0.0\n",
      "\u001b[1m\n",
      "Yield when biomass flux is 0.028786570370401554 .\u001b[0m\n",
      "Investigation of maximum beta-carotene yield with a growth flux of : 0.03\n",
      "\u001b[1m\n",
      "Yield when biomass flux is 0.05757314074080311 .\u001b[0m\n",
      "Investigation of maximum beta-carotene yield with a growth flux of : 0.06\n",
      "\u001b[1m\n",
      "Yield when biomass flux is 0.08635971111120466 .\u001b[0m\n",
      "Investigation of maximum beta-carotene yield with a growth flux of : 0.09\n",
      "\u001b[1m\n",
      "Yield when biomass flux is 0.11514628148160622 .\u001b[0m\n",
      "Investigation of maximum beta-carotene yield with a growth flux of : 0.12\n",
      "\u001b[1m\n",
      "Yield when biomass flux is 0.14393285185200777 .\u001b[0m\n",
      "Investigation of maximum beta-carotene yield with a growth flux of : 0.14\n",
      "\u001b[1m\n",
      "Yield when biomass flux is 0.17271942222240932 .\u001b[0m\n",
      "Investigation of maximum beta-carotene yield with a growth flux of : 0.17\n",
      "\u001b[1m\n",
      "Yield when biomass flux is 0.20150599259281088 .\u001b[0m\n",
      "Investigation of maximum beta-carotene yield with a growth flux of : 0.2\n",
      "\u001b[1m\n",
      "Yield when biomass flux is 0.23029256296321243 .\u001b[0m\n",
      "Investigation of maximum beta-carotene yield with a growth flux of : 0.23\n",
      "\u001b[1m\n",
      "Yield when biomass flux is 0.259079133333614 .\u001b[0m\n",
      "Investigation of maximum beta-carotene yield with a growth flux of : 0.26\n",
      "\u001b[1m\n",
      "Yield when biomass flux is 0.2875778380003115 .\u001b[0m\n",
      "Investigation of maximum beta-carotene yield with a growth flux of : 0.29\n",
      "[120.9210482671278, 11.045531440131366, 4.941336060853869, 2.906604267761296, 1.8892383712149803, 1.278818833287265, 0.8718724746686866, 0.581196504226847, 0.36114219643457374, 0.1819519562309959, 0.0021199255481499178]\n",
      "[0.34809022652043975, 0.3179629680798244, 0.28448823647914545, 0.2510135048784601, 0.21753877327777138, 0.18406404167709334, 0.15058931007639775, 0.11711457847570261, 0.08316836201108191, 0.047139955128682076, 0.0006096436058585786]\n",
      "[0.034809022652043976, 0.03179629680798244, 0.028448823647914546, 0.025101350487846008, 0.021753877327777137, 0.018406404167709334, 0.015058931007639775, 0.011711457847570262, 0.00831683620110819, 0.0047139955128682074, 6.096436058585786e-05]\n",
      "[0.00029786570370401555, 0.0028886570370401554, 0.005767314074080311, 0.008645971111120466, 0.011524628148160621, 0.014403285185200777, 0.017281942222240932, 0.020160599259281087, 0.023039256296321243, 0.0259179133333614, 0.02876778380003115]\n"
     ]
    }
   ],
   "source": [
    "model_iMM904.objective = model_iMM904.reactions.BIOMASS_SC5_notrace \n",
    "solution = model_iMM904.optimize()\n",
    "max_growth_flux = model_iMM904.optimize().objective_value\n",
    "\n",
    "different_Growth = [max_growth_flux*0.01,max_growth_flux*0.1,max_growth_flux*0.2,max_growth_flux*0.3, max_growth_flux*0.4,max_growth_flux*0.5,max_growth_flux*0.6,max_growth_flux*0.7, max_growth_flux*0.8, max_growth_flux*0.9, max_growth_flux*0.999]\n",
    "difference_beta_yield = []\n",
    "difference_beta_yield_glc = []\n",
    "difference_beta_flux = []\n",
    "difference_growth_yield = []\n",
    "for i in range(len(different_Growth)):\n",
    "    with model_iMM904:\n",
    "        print(\"\\033[1m\\nYield when biomass flux is\", different_Growth[i], \".\\033[0m\")\n",
    "        model_iMM904.reactions.BIOMASS_SC5_notrace.bounds = different_Growth[i],different_Growth[i]+0.0001\n",
    "        model_iMM904.objective = model_iMM904.reactions.BIOMASS_SC5_notrace \n",
    "        solution = model_iMM904.optimize()\n",
    "        max_growth_flux = model_iMM904.optimize().objective_value\n",
    "        yield_X_glc_mol = max_growth_flux/abs(solution.fluxes[\"EX_glc__D_e\"])\n",
    "        difference_growth_yield.append(yield_X_glc_mol)\n",
    "\n",
    "        model_iMM904.objective = model_iMM904.reactions.EX_beta \n",
    "        solution_beta = model_iMM904.optimize()\n",
    "        max_beta_flux = model_iMM904.optimize().objective_value \n",
    "\n",
    "        print('Investigation of maximum beta-carotene yield with a growth flux of :', round(max_growth_flux*0.999,2))\n",
    "        yield_b_glc_g = (max_beta_flux /abs(solution_beta.fluxes[\"EX_glc__D_e\"]))*(beta_weight/glucose_weight)\n",
    "        yield_b_glc_mol = max_beta_flux /abs(solution_beta.fluxes[\"EX_glc__D_e\"])\n",
    "        yield_b_X_g = (max_beta_flux /abs(solution_beta.fluxes[\"BIOMASS_SC5_notrace\"]))*(beta_weight/biomass_weight)\n",
    "        yield_b_X_mol = max_beta_flux /abs(solution_beta.fluxes[\"BIOMASS_SC5_notrace\"])\n",
    "        difference_beta_yield.append(yield_b_X_mol)\n",
    "        difference_beta_flux.append(max_beta_flux)\n",
    "        difference_beta_yield_glc.append(yield_b_glc_mol)\n",
    "print(difference_beta_yield)\n",
    "print(difference_beta_flux)\n",
    "print(difference_beta_yield_glc)\n",
    "print(difference_growth_yield)"
   ]
  },
  {
   "cell_type": "code",
   "execution_count": 21,
   "metadata": {},
   "outputs": [
    {
     "data": {
      "image/png": "[encoded data removed]",
      "text/plain": [
       "<Figure size 432x288 with 1 Axes>"
      ]
     },
     "metadata": {
      "needs_background": "light"
     },
     "output_type": "display_data"
    }
   ],
   "source": [
    "\n",
    "import matplotlib.pyplot as plt\n",
    "plt.plot(difference_beta_yield, different_Growth)\n",
    "plt.xlabel('Product yield [$mmol / mmol$]')\n",
    "plt.ylabel('Growth [$h^{-1}$]')\n",
    "plt.show()"
   ]
  },
  {
   "cell_type": "code",
   "execution_count": 22,
   "metadata": {},
   "outputs": [
    {
     "data": {
      "image/png": "[encoded data removed]",
      "text/plain": [
       "<Figure size 432x288 with 1 Axes>"
      ]
     },
     "metadata": {
      "needs_background": "light"
     },
     "output_type": "display_data"
    }
   ],
   "source": [
    "import matplotlib.pyplot as plt\n",
    "plt.plot(different_Growth, difference_beta_flux)\n",
    "plt.xlabel('Growth [$h^{-1}$]')\n",
    "plt.ylabel('Product flux [$mmol gDW^{-1} h^{-1}$]')\n",
    "plt.show()"
   ]
  },
  {
   "cell_type": "code",
   "execution_count": 23,
   "metadata": {},
   "outputs": [
    {
     "data": {
      "image/png": "[encoded data removed]",
      "text/plain": [
       "<Figure size 432x288 with 1 Axes>"
      ]
     },
     "metadata": {
      "needs_background": "light"
     },
     "output_type": "display_data"
    }
   ],
   "source": [
    "import matplotlib.pyplot as plt\n",
    "plt.plot(difference_beta_yield_glc,difference_growth_yield)\n",
    "plt.xlabel('Product yeild beta/glc) [$mmol/mol$]')\n",
    "plt.ylabel('growth yeild x/glc) [$mmol/mol$]')\n",
    "plt.show()"
   ]
  },
  {
   "cell_type": "code",
   "execution_count": null,
   "metadata": {},
   "outputs": [],
   "source": []
  }
 ],
 "metadata": {
  "kernelspec": {
   "display_name": "Python 3",
   "language": "python",
   "name": "python3"
  },
  "language_info": {
   "codemirror_mode": {
    "name": "ipython",
    "version": 3
   },
   "file_extension": ".py",
   "mimetype": "text/x-python",
   "name": "python",
   "nbconvert_exporter": "python",
   "pygments_lexer": "ipython3",
   "version": "3.8.3"
  }
 },
 "nbformat": 4,
 "nbformat_minor": 4
}
