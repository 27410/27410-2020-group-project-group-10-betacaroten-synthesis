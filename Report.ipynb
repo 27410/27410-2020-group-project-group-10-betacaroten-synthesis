{
 "cells": [
  {
   "cell_type": "markdown",
   "metadata": {},
   "source": [
    "# β-carotene synthesis in *Saccharomyces cerevisiae*"
   ]
  },
  {
   "cell_type": "markdown",
   "metadata": {},
   "source": [
    "## 1. Introduction\n",
    "In this project we will explore the possiblilties for the production of β-carotene in *Saccharomyces cerevisiae* from a computer-based perspective. We will use an exsisting GSM to predict the behaivor after inserting the new pathway and suggest strategies for how to optimize the cell factory. "
   ]
  },
  {
   "cell_type": "markdown",
   "metadata": {},
   "source": [
    "### 1.1 Literature review of the compound"
   ]
  },
  {
   "cell_type": "markdown",
   "metadata": {},
   "source": [
    "**β-carotene** \n",
    "\n",
    "β-carotene belongs to the large group of caroterpernoids, also called tetraterpenoids. Caroterpernoids are organic red/orange pigments. They are found naturally in many plants and fungi as well as in some algae and bacteria. β-carotene are well known for colouring plants, like carrots and pumpkins, in their characteristic orange colour [1]. \n",
    "\n",
    "As Caroterpernoids are tetraterpenoids they are all synthesized from 8 isoprene molecules and have the chemical formula $C_{40}$$H_{x}$. Caroterpernoids are divided in two classes, xanthophylls and carotenes. Xanthophylls contain oxygen whereas carotenes are purely carbohydrates. β-carotene ($C_{40}$$H_{56}$) belongs in the carotene class and can be seen on the figure below [1]. "
   ]
  },
  {
   "cell_type": "markdown",
   "metadata": {},
   "source": [
    "![Beta-carotine drawing](Figures/Beta-Carotin.png)"
   ]
  },
  {
   "cell_type": "markdown",
   "metadata": {},
   "source": [
    "β-carotene has a number of biological functions. It serves as a precursor for vitamin A, which is related to a number of important functions in the human body, including proper growth and function of sight [1,2]. Moreover, it is shown to have antioxidant properties and to be an anticancer substance.\n",
    "\n",
    "β-carotene is a valuable product within the food, pharmacological and cosmetic industry. Not only for its bioactive properties but also as an additive for coloring in food and pharmaceutical tablets. Within cosmetics it is often used in creams, as it protects the skin against oxidation and UV radiation [2]. \n",
    "\n",
    "β-carotene can be produced by different methods includes both physiochemical, chemical and biotechnological methods. Here is presented a short overview of the different methods:\n",
    "   - **Physiochemical extraction:** This method involves extracting β-carotene from plants, where carrots often are used. To extract the β-carotene, several steps are needed. This includes, but is not limited to, the following: Shredding, juicing/pressing, protein coagulation and sedimentation, extraction with organic solvents as acetone, filtration, evaporation and crystallization. The method is often costly due the large raw material needed. Additionally, disadvantages for this method includes that the raw materials are dependent on season, geographical area and that it competes with the food and feed industry [2].\n",
    "   - **Chemical synthesis:** β-carotene can be chemical synthesized using Wittig reaction or Grignard reagents. In the Wittig reaction two phosphonium salts containing 15 carbon atoms are combined with one dialdehyde molecule containing 10 carbon atoms. After isomerization the result is the 40 carbon long β-carotene [2].  With the Grignard reagents one diketone molecule and two methanol molecules are combined to form the 40 carbon long products. After isomerization a small range of symmetric compounds are formed, including β-carotene [2]. \n",
    "   - **Microbiological biosynthesis:** β-carotene can be produced by biosynthesis by a wide range of microorganisms, including yeasts, bacteria, algae and fungi. Some are natural producers where others like *S. cerevisiae* has to be genetically engineered [2].\n"
   ]
  },
  {
   "cell_type": "markdown",
   "metadata": {},
   "source": [
    "**JEg synes vi skal skrive noget om hvorfor det er godt at syntetisere det biologisk!** og hvorfor vi gerne vil gøre det"
   ]
  },
  {
   "cell_type": "markdown",
   "metadata": {},
   "source": [
    "### 1.2 Literature review of the cell factory\n",
    "The yeast *S. cerevisiae* was chosen as the cell factory for this project, as it is a well-known organism with beneficial features in industrial production setups. It is an eukaryotic single-celled organism under the phylum ascomycetes in the kingdom fungi. It has been used for thousands of years in various productions like wine and brewing, and is considered non-pathogenic, which emphasizes its importance to many processes. Due to the age of usage it has been studied as a model eukaryote for many years and was the first eukaryotic species to be full genome sequenced [3]. It differs from the model bacterial organism *Escherichia coli* by its larger size and having compartments like the nucleus. Furthermore it gives other possibilities of production that are not available in bacteria [3].\n",
    "\n",
    "Many tools for genetical manipulation are available for *S. cerevisiae*, due to the extensive work with the organism. This makes it suitable to insert new pathways for production of desired compounds. This is not let alone with the fact that it is advanced in growth rate and is well established in industrial biotechnology, making it suitable as a cell factory and widely used in the fermentation-based industry [4]. \n",
    "\n",
    "As this project focuses on β-carotene production, *S. cerevisiae* has proven to be even more relevant. Through genetic engineering it has been proven possible to produce β-carotenes in *S. cerevisiae*. As a conventional yeast, the organism can produce geranylgeranyl diphosphate, which is a precursor in the carotenoid biosynthesis pathway. Compared to other heterologous β-carotene production organisms, it is considered safe which is important, as β-carotenes among other is used as a food additive [4].\n",
    "\n",
    "Due to the extensive knowledge of *S. cerevisiae* and that it has already been proven possible to produce β-carotene in the organism, we found it relevant to take a computational look at this organism and its available gene sequence models (GSM). This will hopefully make it possible to predict higher production titers and better hypothetical genetic engineering strategies for optimization of the production. More specific, we will work with the strain *S. cerevisiae S288C* [5], which has two GSMs available on BIGG.com [6].\n"
   ]
  },
  {
   "cell_type": "markdown",
   "metadata": {},
   "source": [
    "## 2. Problem definition\n",
    "β-carotene is a carotenoid with numerous biological functions in the human body, including being the precursor for vitamin A, which is necessary for growth, vision and embryotic development. Furthermore, β-carotene is widely used in the industry as a coloring agent in food and cosmetics and an additive in medicine as it has shown anticancer as well as antioxidant properties. Despite the numerous functions of β-carotene, the human body is not able to synthesize it, pushing market demands for its biosynthetic production [7]. \n",
    "\n",
    "There are different method for producing β-carotene, where physiochemical extraction is the most commonly used technique. However, this method is expensive, and effective production methods for its natural biosynthesis is thus of great interest. Based on this, extensive research has been caried out to examinate the microbial biosynthesis. It provides a solid basis for a natural and sustainable production, while avoiding the use of organic solvents, heavy metals, strong acids and alkalines. Metabolic engineering has additionally carved the way to improve the yield and thus obtain higher titers and productivity. All though utilizing a natural producer of β-carotene seem like the straightforward choice as production organism, it has been found that most of these are non-cultivable in laboratory conditions and that they require extensive optimalization. Choosing a well characterized microorganism, with various tools available for genetic engineering will thus enhance the chances and ease the process of increasing the product yield and productivity. \n",
    "\n",
    "In this report an existing GSM for *S. cerevisiae* is used and relevant reactions for the synthesis of β-carotene have been incorporate. Afterwards the GSM is visualized using Escher, before performing growth and β-carotene production predictions based on gene deletions and changes of the carbon source [8]."
   ]
  },
  {
   "cell_type": "markdown",
   "metadata": {},
   "source": [
    "## 3. Selection and assessment of existing GSM"
   ]
  },
  {
   "cell_type": "markdown",
   "metadata": {},
   "source": [
    "Using the data base BiGG, two GSM models for *S. cerevisias* were identified. Both are from the same strain, strain S288C, however iMM904 contains 1226 metabolites, 1557 reaction, and 905 genes while iND750 is a bit smaller with 1059 metabolites, 1266 reactions, and 750 genes. Before begining on the engineering strategy, memote will be used to detemine which model have the best score. Based on the score and model size, one GSM will be choosen as the model used in this project. "
   ]
  },
  {
   "cell_type": "code",
   "execution_count": 74,
   "metadata": {},
   "outputs": [],
   "source": [
    "import numpy as np\n",
    "from cobra.io import read_sbml_model\n",
    "from cobra import Reaction, Metabolite"
   ]
  },
  {
   "cell_type": "markdown",
   "metadata": {},
   "source": [
    "#### Memote report of iMM904.xml"
   ]
  },
  {
   "cell_type": "code",
   "execution_count": 75,
   "metadata": {},
   "outputs": [],
   "source": [
    "model_iMM904 = read_sbml_model('iMM904.xml')"
   ]
  },
  {
   "cell_type": "code",
   "execution_count": 374,
   "metadata": {},
   "outputs": [],
   "source": [
    "#This code has been outcommented as it only needed to be runned once. It takes about 10 - 15 min to run this code. \n",
    "#%%time\n",
    "#!memote report snapshot iMM904.xml --filename iMM904.html"
   ]
  },
  {
   "cell_type": "markdown",
   "metadata": {},
   "source": [
    "The memote analysis of iMM904.xml resulted in an overall score of 85%.\n",
    "The consistenty test had a good result with a sub score of 96%, the score of stoichiometric inconsistency was 100%, and the mass balance score was 96%. \n",
    "For the annotation tests, the score was generally high (above 80%) except for the gene annotation, which only scored 43%.\n",
    "\n",
    "The full memote report can be read in the html file in the repository named: iMM904.html."
   ]
  },
  {
   "cell_type": "markdown",
   "metadata": {},
   "source": [
    "#### Memote report of iND750.xml"
   ]
  },
  {
   "cell_type": "code",
   "execution_count": 375,
   "metadata": {},
   "outputs": [],
   "source": [
    "#This code has been outcommented as it only needed to be runned once. It takes about 10 - 15 min to run this code.\n",
    "#model_iND750 = read_sbml_model('iND750.xml') #This model is not used and is therefore outcommented. \n",
    "#%%time\n",
    "#!memote report snapshot iND750.xml --filename iND750.html"
   ]
  },
  {
   "cell_type": "markdown",
   "metadata": {},
   "source": [
    "The memote analysis of iND750.xml gave a overall score of 86%.\n",
    "The consistenty test of this model also gave a good result with a sub score of 97%. Here the score of stoichiometric inconsistency was 100% and the mass balance gave a score of 97.3%. \n",
    "For the annotation tests, the score was generlly high (above 80%) except for the gene annotation, which only scored 43%.\n",
    "\n",
    "The full memote report can be read in the html file in the repository named: iND750.html."
   ]
  },
  {
   "cell_type": "markdown",
   "metadata": {},
   "source": [
    "#### Choice of GSM"
   ]
  },
  {
   "cell_type": "markdown",
   "metadata": {},
   "source": [
    "From the memote analysis of the two GSM's, the models were overall fairly similar and were both given high scores. \n",
    "The smallere model iND750 had a slightly higher score, however, the difference in score is not large enough to arguee for the use of the smallere model. iMM904 contains more genes, reaction and metabolites and it is therefore assumed that it is capable of simulating the organisme better. Therefore we chose to use the large model iMM904 to simulate the different enigneering strategies for production of β-carotene."
   ]
  },
  {
   "cell_type": "markdown",
   "metadata": {},
   "source": [
    "## 4. Computer-Aided Cell Factory Engineering"
   ]
  },
  {
   "cell_type": "markdown",
   "metadata": {},
   "source": [
    "*S. cerevisiae* is not a natural producer of β-carotene, and there is no pathway for production of the compound in the model. To enable the production, some new metabolites and reactions must be added to iMM904 to allow predictions of the production of β-carotene through the GSM. \n",
    "\n",
    "Through research in the literature and investigation on KEGG, two pathways were found to be available for this matter. Therefore, it was relevant to investigate which of the two would be the most optimal pathway [9]. The figure below illustrates the two pathways. In the following, pathway 1 will refer to the yellow illustration, and pathway 2 will refer to the red illustration. \n",
    "\n",
    "![Pathways on kegg](Figures/Second_pathway_13_11_2020.png)\n",
    "\n",
    "It is relevant to note that the first metabolite Geranyl-geranyl-PP is already in the model as seen below. Therefore, this will be the starting point for the insertion of new reactions. \n"
   ]
  },
  {
   "cell_type": "code",
   "execution_count": 376,
   "metadata": {},
   "outputs": [
    {
     "data": {
      "text/html": [
       "\n",
       "        <table>\n",
       "            <tr>\n",
       "                <td><strong>Metabolite identifier</strong></td><td>ggdp_c</td>\n",
       "            </tr><tr>\n",
       "                <td><strong>Name</strong></td><td>Geranylgeranyl diphosphate C20H33O7P2</td>\n",
       "            </tr><tr>\n",
       "                <td><strong>Memory address</strong></td>\n",
       "                <td>0x07f87113cbfd0</td>\n",
       "            </tr><tr>\n",
       "                <td><strong>Formula</strong></td><td>C20H33O7P2</td>\n",
       "            </tr><tr>\n",
       "                <td><strong>Compartment</strong></td><td>c</td>\n",
       "            </tr><tr>\n",
       "                <td><strong>In 2 reaction(s)</strong></td><td>\n",
       "                    FRTT, GGTT</td>\n",
       "            </tr>\n",
       "        </table>"
      ],
      "text/plain": [
       "<Metabolite ggdp_c at 0x7f87113cbfd0>"
      ]
     },
     "execution_count": 376,
     "metadata": {},
     "output_type": "execute_result"
    }
   ],
   "source": [
    "model_iMM904.metabolites.ggdp_c"
   ]
  },
  {
   "cell_type": "markdown",
   "metadata": {},
   "source": [
    "#### Pathway 1\n",
    "The first pathway is also described in the paper from Verwaal, René et al. [10].\n",
    "It starts at hydroxymethylglutaryl coA, which is produced from acetyl coA naturally in *S. cerevisiae*, but it is only the last four reactions in the pathway that needs to be added as the rest is already in the model. The pathway is stated below, and step 1-4 is the necessary steps to be add to the model to create production of β-carotene.\n",
    "\n",
    "The pathway:\n",
    "    \n",
    "    hydroxymethylglutaryl CoA --> mevalonate (metabolite id: hmgcoa_c and mev_R_c) \n",
    "    (Enzyme name: HMG CoA reductase, reaction id: HMGCOAR)\n",
    "    \n",
    "    mevalonate --> --> geranyl diphosphate (metabolite id: ggdp_c) (multiple reactions)\n",
    "\n",
    "    step 1: 2 geranyl diphosphate --> Phytoene + 2 diphosphate (metabolite id: ppi_c)\n",
    "    (https://www.genome.jp/dbget-bin/www_bget?rn:R10177 - multistep reaction (see R02065+R04218))\n",
    "\n",
    "    step 2: Phytoene + 3 Acceptors -> Neurosporene + 3 reduced acceptors \n",
    "    (https://www.genome.jp/dbget-bin/www_bget?rn:R09691)\n",
    "\n",
    "    step 3: Neurosporene + reduced acceptor + O2 -> Lycopene + acceptor + 2 water \n",
    "    (https://www.genome.jp/dbget-bin/www_bget?rn:R04800)\n",
    "\n",
    "    step 4: Lycopene -> beta-Carotene \n",
    "    (https://www.genome.jp/dbget-bin/www_bget?rn:R03823)\n",
    "    \n",
    "Unfortunately, some of the steps have unknown acceptors and reducers. Therefore, we had to take some assumptions. We chose to use NADP+ and NADPH as acceptors and reducers, as these are common in cellular reactions. If this assumption was not taken, it would not be possible to get a flux through the pathway. We argue that this assumption is valid, as the paper from Verwaal, René et al. has already shown that the pathway can be added for β-carotene production in *S. cerevisiae* [10].\n",
    "\n"
   ]
  },
  {
   "cell_type": "markdown",
   "metadata": {},
   "source": [
    "#### Pathway 2\n",
    "The second pathway was found through KEGG. The pathway uses the same precursors (GGDP) as the first pathway. Again, step 1-6 refers to the steps that are necessary to create production of β-carotene in the model.  \n",
    "\n",
    "The pathway:\n",
    "\n",
    "    hydroxymethylglutaryl CoA --> mevalonate (metabolite id: hmgcoa_c and mev_R_c) \n",
    "    (Enzyme name: HMG CoA reductase, reaction id: HMGCOAR)\n",
    "    \n",
    "    mevalonate --> --> geranyl diphosphate (metabolite id: ggdp_c) (multiple reactions)\n",
    "    \n",
    "    step 1: 2 geranyl diphosphate --> Phytoene + 2 diphosphate (metabolite id: ppi_c)\n",
    "    (https://www.genome.jp/dbget-bin/www_bget?rn:R10177 - multistep reaction (see R02065+R04218))\n",
    "    \n",
    "    step 2: Phytoene + 2 Plastoquinone <=> 9,15,9'-tricis-zeta-Carotene + 2 Plastoquinol \n",
    "    (https://www.genome.jp/dbget-bin/www_bget?reaction+R09652+R09653+R09654+R04786+R04787)\n",
    "    \n",
    "    step 3: 9,15,9'-tricis-zeta-Carotene <=> 9,9'-dicis-zeta-Carotene \n",
    "    (https://www.genome.jp/dbget-bin/www_bget?reaction+R09655)\n",
    "    \n",
    "    step 4: 9,9'-dicis-zeta-Carotene + 2 Quinone <=> 7,9,7',9'-tetracis-Lycopene + 2 Hydroquinone\n",
    "    (https://www.genome.jp/dbget-bin/www_bget?reaction+R07511+R09656+R09658+R04798+R04800)\n",
    "    \n",
    "    step 5: 7,9,7',9'-tetracis-Lycopene <=> Lycopene\n",
    "    (https://www.genome.jp/dbget-bin/www_bget?reaction+R07512)\n",
    "    \n",
    "    step 6: Lycopene -> beta-Carotene \n",
    "    (https://www.genome.jp/dbget-bin/www_bget?rn:R03823)\n",
    "    \n",
    "This pathway consists of several steps. However, through research of the reactions, it was found that Plastoquinol was needed as an electron acceptor. This acceptor is normally involved in the photosynthesis as an electron transporter in the light-dependent reactions. We therefore assume that this compound is not likely found in *S. cerevisiae* and it is as expected not found in the GSM. To use this partway it would therefore require an insertion of an extra pathway which we found unfeasible. "
   ]
  },
  {
   "cell_type": "markdown",
   "metadata": {},
   "source": [
    "#### Choice of pathway\n",
    "As Pathway 2 would require extensive research and novel findings due to the the lack of plastoquniol, we choce to go further with pathway 1 for this cell factory engineering design. \n"
   ]
  },
  {
   "cell_type": "markdown",
   "metadata": {},
   "source": [
    "### 4.2 Adding reactions from pathway 1 to create β-carotene pathway in *S. cerevisiae*:"
   ]
  },
  {
   "cell_type": "markdown",
   "metadata": {},
   "source": [
    "To add the relevant reactions to the GSM, we investigated which metabolites and reactions that were already present in the model. These can be seen below. For code simplicity these are outcommented. "
   ]
  },
  {
   "cell_type": "code",
   "execution_count": 377,
   "metadata": {},
   "outputs": [],
   "source": [
    "#Reactions from mev__R_c to ggdp_c:\n",
    "#model_iMM904.reactions.HMGCOAR     #Hydroxymethylglutaryl CoA reductase\n",
    "#model_iMM904.reactions.MEVK1       #Mevalonate kinase atp\n",
    "#model_iMM904.reactions.PMEVK       #Phosphomevalonate kinase\n",
    "#model_iMM904.reactions.DPMVD       #Diphosphomevalonate decarboxylase\n",
    "#model_iMM904.reactions.IPDDI       #Isopentenyl-diphosphate D-isomerase\n",
    "#model_iMM904.reactions.DMATT       #Dimethylallyltranstransferase\n",
    "#model_iMM904.reactions.GRTT        #Geranyltranstransferase\n",
    "#model_iMM904.reactions.FRTT        #Farnesyltranstransferase\n",
    "\n",
    "#Metabolites relevant for the new reactions\n",
    "#model_iMM904.metabolites.hmgcoa_c  #Hydroxymethylglutaryl CoA\n",
    "#model_iMM904.metabolites.mev__R_c  #R Mevalonate\n",
    "#model_iMM904.metabolites.frdp_c    #Farnesyl diphosphate\n",
    "#model_iMM904.metabolites.ggdp_c    #Geranylgeranyl diphosphate\n",
    "#model_iMM904.metabolites.ppi_c     #Diphosphate\n",
    "#model_iMM904.metabolites.nadp_c    #Nicotinamide adenine dinucleotide phosphate\n",
    "#model_iMM904.metabolites.nadph_c   #Nicotinamide adenine dinucleotide phosphate H\n",
    "#model_iMM904.metabolites.h2o_c     #Hydrogen dioxide \n",
    "#model_iMM904.metabolites.o2_c      #Oxygen\n"
   ]
  },
  {
   "cell_type": "markdown",
   "metadata": {},
   "source": [
    "In the following, step 1-4 from pathway 1, which is shown above, will be added to the model. "
   ]
  },
  {
   "cell_type": "markdown",
   "metadata": {},
   "source": [
    "#### 15-cis-Phytoene syntase\n",
    "The frist reaction to be added is: *2 Geranylgeranyl diphosphate <=> 15-cis-Phytoene + 2 Diphosphate*\n",
    "\n",
    "This will allow production of Phytoene\n",
    "(https://www.genome.jp/dbget-bin/www_bget?rn:R10177)."
   ]
  },
  {
   "cell_type": "code",
   "execution_count": 76,
   "metadata": {},
   "outputs": [
    {
     "name": "stdout",
     "output_type": "stream",
     "text": [
      "2 ggdp_c --> phy + 2 ppi_c\n"
     ]
    }
   ],
   "source": [
    "new_reaction1 = Reaction('phy_syn')                                            #Create reaction: PHYtoene SYNtase\n",
    "phy = Metabolite(id='phy', name='phytoene', compartment='c')                   #Adding the metabolite\n",
    "new_reaction1.add_metabolites({\n",
    "                            model_iMM904.metabolites.ggdp_c: -2,\n",
    "                            phy: 1,                                            #Our newly created metabolites\n",
    "                            model_iMM904.metabolites.ppi_c: 2\n",
    "                                })\n",
    "print(new_reaction1.build_reaction_string())                                   #Check the new reaction"
   ]
  },
  {
   "cell_type": "markdown",
   "metadata": {},
   "source": [
    "The above print statement shows that the reaction was correctly assembled. Below we incorporate the reaction to the GSM and check the occruance. The procedure will be performed on all the reactions added to the model. "
   ]
  },
  {
   "cell_type": "code",
   "execution_count": 77,
   "metadata": {},
   "outputs": [
    {
     "data": {
      "text/html": [
       "\n",
       "        <table>\n",
       "            <tr>\n",
       "                <td><strong>Reaction identifier</strong></td><td>phy_syn</td>\n",
       "            </tr><tr>\n",
       "                <td><strong>Name</strong></td><td></td>\n",
       "            </tr><tr>\n",
       "                <td><strong>Memory address</strong></td>\n",
       "                <td>0x07fc3bda47ca0</td>\n",
       "            </tr><tr>\n",
       "                <td><strong>Stoichiometry</strong></td>\n",
       "                <td>\n",
       "                    <p style='text-align:right'>2 ggdp_c --> phy + 2 ppi_c</p>\n",
       "                    <p style='text-align:right'>2 Geranylgeranyl diphosphate C20H33O7P2 --> phytoene + 2 Diphosphate</p>\n",
       "                </td>\n",
       "            </tr><tr>\n",
       "                <td><strong>GPR</strong></td><td></td>\n",
       "            </tr><tr>\n",
       "                <td><strong>Lower bound</strong></td><td>0.0</td>\n",
       "            </tr><tr>\n",
       "                <td><strong>Upper bound</strong></td><td>1000.0</td>\n",
       "            </tr>\n",
       "        </table>\n",
       "        "
      ],
      "text/plain": [
       "<Reaction phy_syn at 0x7fc3bda47ca0>"
      ]
     },
     "execution_count": 77,
     "metadata": {},
     "output_type": "execute_result"
    }
   ],
   "source": [
    "model_iMM904.add_reactions([new_reaction1])\n",
    "model_iMM904.reactions.phy_syn                                                 #Check that the reaction is in the model"
   ]
  },
  {
   "cell_type": "markdown",
   "metadata": {},
   "source": [
    "#### All-trans-Neurosporene Syntase\n",
    "The next reaction added synthesises all-trans-Neurosporene as seen below: \n",
    "\n",
    "*15-cis-Phytoene + 3 Acceptor <=> all-trans-Neurosporene + 3 Reduced acceptor*\n",
    "(https://www.genome.jp/dbget-bin/www_bget?rn:R09691)"
   ]
  },
  {
   "cell_type": "code",
   "execution_count": 78,
   "metadata": {},
   "outputs": [
    {
     "name": "stdout",
     "output_type": "stream",
     "text": [
      "3 nadp_c + phy --> 3 nadph_c + neu\n"
     ]
    }
   ],
   "source": [
    "new_reaction2 = Reaction('neu_syn')                                            #NEUrosporene SYNtase\n",
    "neu = Metabolite(id='neu', name='Neurosporene', compartment='c')               #Adding the metabolite\n",
    "new_reaction2.add_metabolites({\n",
    "                            model_iMM904.metabolites.nadp_c: -3,\n",
    "                            phy: -1,                                           #Our newly created metabolites\n",
    "                            model_iMM904.metabolites.nadph_c: 3,\n",
    "                            neu: 1,\n",
    "                            })\n",
    "print(new_reaction2.build_reaction_string()) # see if one get the rigth reaction\n",
    "model_iMM904.add_reactions([new_reaction2])"
   ]
  },
  {
   "cell_type": "code",
   "execution_count": 79,
   "metadata": {},
   "outputs": [
    {
     "data": {
      "text/html": [
       "\n",
       "        <table>\n",
       "            <tr>\n",
       "                <td><strong>Reaction identifier</strong></td><td>neu_syn</td>\n",
       "            </tr><tr>\n",
       "                <td><strong>Name</strong></td><td></td>\n",
       "            </tr><tr>\n",
       "                <td><strong>Memory address</strong></td>\n",
       "                <td>0x07fc3a82c2c70</td>\n",
       "            </tr><tr>\n",
       "                <td><strong>Stoichiometry</strong></td>\n",
       "                <td>\n",
       "                    <p style='text-align:right'>3 nadp_c + phy --> 3 nadph_c + neu</p>\n",
       "                    <p style='text-align:right'>3 Nicotinamide adenine dinucleotide phosphate + phytoene --> 3 Nicotinamide adenine dinucleotide phosphate - reduced + Neurosporene</p>\n",
       "                </td>\n",
       "            </tr><tr>\n",
       "                <td><strong>GPR</strong></td><td></td>\n",
       "            </tr><tr>\n",
       "                <td><strong>Lower bound</strong></td><td>0.0</td>\n",
       "            </tr><tr>\n",
       "                <td><strong>Upper bound</strong></td><td>1000.0</td>\n",
       "            </tr>\n",
       "        </table>\n",
       "        "
      ],
      "text/plain": [
       "<Reaction neu_syn at 0x7fc3a82c2c70>"
      ]
     },
     "execution_count": 79,
     "metadata": {},
     "output_type": "execute_result"
    }
   ],
   "source": [
    "model_iMM904.reactions.neu_syn                                                 #Check that the reaction is in the model"
   ]
  },
  {
   "cell_type": "markdown",
   "metadata": {},
   "source": [
    "#### Lycopene synthesis\n",
    "The production of lycopene is show below: \n",
    "\n",
    "*all-trans-Neurosporene + Reduced acceptor + Oxygen <=> Lycopene + Acceptor + 2 H2O* \n",
    " (https://www.genome.jp/dbget-bin/www_bget?rn:R04800)"
   ]
  },
  {
   "cell_type": "code",
   "execution_count": 80,
   "metadata": {},
   "outputs": [
    {
     "name": "stdout",
     "output_type": "stream",
     "text": [
      "nadph_c + neu + 0.5 o2_c --> 2 h2o_c + lyc + nadp_c\n"
     ]
    }
   ],
   "source": [
    "new_reaction3 = Reaction('lyc_syn')                                            #LYCopene SYNtase\n",
    "lyc = Metabolite(id='lyc', name='Lycopene', compartment='c')                   #Adding the metabolite\n",
    "new_reaction3.add_metabolites({\n",
    "                            neu: -1,\n",
    "                            model_iMM904.metabolites.nadph_c: -1, \n",
    "                            model_iMM904.metabolites.o2_c: -1/2,\n",
    "                            lyc: 1,\n",
    "                            model_iMM904.metabolites.nadp_c: 1,\n",
    "                            model_iMM904.metabolites.h2o_c: 2,\n",
    "                            })\n",
    "print(new_reaction3.build_reaction_string())                                   #Check the reaction"
   ]
  },
  {
   "cell_type": "code",
   "execution_count": 81,
   "metadata": {},
   "outputs": [
    {
     "data": {
      "text/html": [
       "\n",
       "        <table>\n",
       "            <tr>\n",
       "                <td><strong>Reaction identifier</strong></td><td>lyc_syn</td>\n",
       "            </tr><tr>\n",
       "                <td><strong>Name</strong></td><td></td>\n",
       "            </tr><tr>\n",
       "                <td><strong>Memory address</strong></td>\n",
       "                <td>0x07fc3a2c63070</td>\n",
       "            </tr><tr>\n",
       "                <td><strong>Stoichiometry</strong></td>\n",
       "                <td>\n",
       "                    <p style='text-align:right'>nadph_c + neu + 0.5 o2_c --> 2 h2o_c + lyc + nadp_c</p>\n",
       "                    <p style='text-align:right'>Nicotinamide adenine dinucleotide phosphate - reduced + Neurosporene + 0.5 O2 O2 --> 2 H2O H2O + Lycopene + Nicotinamide adenine dinucleotide phosphate</p>\n",
       "                </td>\n",
       "            </tr><tr>\n",
       "                <td><strong>GPR</strong></td><td></td>\n",
       "            </tr><tr>\n",
       "                <td><strong>Lower bound</strong></td><td>0.0</td>\n",
       "            </tr><tr>\n",
       "                <td><strong>Upper bound</strong></td><td>1000.0</td>\n",
       "            </tr>\n",
       "        </table>\n",
       "        "
      ],
      "text/plain": [
       "<Reaction lyc_syn at 0x7fc3a2c63070>"
      ]
     },
     "execution_count": 81,
     "metadata": {},
     "output_type": "execute_result"
    }
   ],
   "source": [
    "model_iMM904.add_reactions([new_reaction3])\n",
    "model_iMM904.reactions.lyc_syn                                                 #Check that the reaction is in the model"
   ]
  },
  {
   "cell_type": "markdown",
   "metadata": {},
   "source": [
    " #### beta-carotene production\n",
    " The last reaction β-carotene production is added:\n",
    " \n",
    " *Lycopene -> β-carotene*  \n",
    " (https://www.genome.jp/dbget-bin/www_bget?rn:R03823)"
   ]
  },
  {
   "cell_type": "code",
   "execution_count": 82,
   "metadata": {},
   "outputs": [
    {
     "name": "stdout",
     "output_type": "stream",
     "text": [
      "lyc --> beta\n"
     ]
    }
   ],
   "source": [
    "new_reaction4 = Reaction('beta_syn')                                                  #BETA-carotene SYNtase\n",
    "beta = Metabolite(id='beta', name='Betacarotene', compartment='c', formula ='C40H56') #Adding the metabolite\n",
    "new_reaction4.add_metabolites({\n",
    "                            lyc: -1, \n",
    "                            beta: 1,\n",
    "                            })\n",
    "print(new_reaction4.build_reaction_string())                                          #Check the reaction"
   ]
  },
  {
   "cell_type": "code",
   "execution_count": 83,
   "metadata": {},
   "outputs": [
    {
     "data": {
      "text/html": [
       "\n",
       "        <table>\n",
       "            <tr>\n",
       "                <td><strong>Reaction identifier</strong></td><td>beta_syn</td>\n",
       "            </tr><tr>\n",
       "                <td><strong>Name</strong></td><td></td>\n",
       "            </tr><tr>\n",
       "                <td><strong>Memory address</strong></td>\n",
       "                <td>0x07fc3a2c63310</td>\n",
       "            </tr><tr>\n",
       "                <td><strong>Stoichiometry</strong></td>\n",
       "                <td>\n",
       "                    <p style='text-align:right'>lyc --> beta</p>\n",
       "                    <p style='text-align:right'>Lycopene --> Betacarotene</p>\n",
       "                </td>\n",
       "            </tr><tr>\n",
       "                <td><strong>GPR</strong></td><td></td>\n",
       "            </tr><tr>\n",
       "                <td><strong>Lower bound</strong></td><td>0.0</td>\n",
       "            </tr><tr>\n",
       "                <td><strong>Upper bound</strong></td><td>1000.0</td>\n",
       "            </tr>\n",
       "        </table>\n",
       "        "
      ],
      "text/plain": [
       "<Reaction beta_syn at 0x7fc3a2c63310>"
      ]
     },
     "execution_count": 83,
     "metadata": {},
     "output_type": "execute_result"
    }
   ],
   "source": [
    "model_iMM904.add_reactions([new_reaction4])\n",
    "model_iMM904.reactions.beta_syn                                                        #Check the reaction in the model"
   ]
  },
  {
   "cell_type": "markdown",
   "metadata": {},
   "source": [
    "#### β-carotene extraction from the cell\n",
    "To make a balance in the model, a β-carotene exchange reaction is created. We assume that beta-carotene is secreted from the cell."
   ]
  },
  {
   "cell_type": "code",
   "execution_count": 84,
   "metadata": {},
   "outputs": [
    {
     "name": "stdout",
     "output_type": "stream",
     "text": [
      "beta --> \n"
     ]
    }
   ],
   "source": [
    "new_reaction5 = Reaction('EX_beta')                                                   #Excretion of β-carotene\n",
    "new_reaction5.add_metabolites({\n",
    "                            beta: -1                                                                          \n",
    "                            })\n",
    "print(new_reaction5.build_reaction_string())                                          #Check the reaction"
   ]
  },
  {
   "cell_type": "code",
   "execution_count": 85,
   "metadata": {},
   "outputs": [
    {
     "data": {
      "text/html": [
       "\n",
       "        <table>\n",
       "            <tr>\n",
       "                <td><strong>Reaction identifier</strong></td><td>EX_beta</td>\n",
       "            </tr><tr>\n",
       "                <td><strong>Name</strong></td><td></td>\n",
       "            </tr><tr>\n",
       "                <td><strong>Memory address</strong></td>\n",
       "                <td>0x07fc3a83ceac0</td>\n",
       "            </tr><tr>\n",
       "                <td><strong>Stoichiometry</strong></td>\n",
       "                <td>\n",
       "                    <p style='text-align:right'>beta --></p>\n",
       "                    <p style='text-align:right'>Betacarotene --></p>\n",
       "                </td>\n",
       "            </tr><tr>\n",
       "                <td><strong>GPR</strong></td><td></td>\n",
       "            </tr><tr>\n",
       "                <td><strong>Lower bound</strong></td><td>0.0</td>\n",
       "            </tr><tr>\n",
       "                <td><strong>Upper bound</strong></td><td>1000.0</td>\n",
       "            </tr>\n",
       "        </table>\n",
       "        "
      ],
      "text/plain": [
       "<Reaction EX_beta at 0x7fc3a83ceac0>"
      ]
     },
     "execution_count": 85,
     "metadata": {},
     "output_type": "execute_result"
    }
   ],
   "source": [
    "model_iMM904.add_reactions([new_reaction5])\n",
    "model_iMM904.reactions.EX_beta                                                        #Check the reaction in the model"
   ]
  },
  {
   "cell_type": "markdown",
   "metadata": {},
   "source": [
    "### 4.3 Testing yields of β-carotene production and growth rates "
   ]
  },
  {
   "cell_type": "markdown",
   "metadata": {},
   "source": [
    "To investigate the newly inserted pathway it was interesting to calculate the maximum growth rate of the cells, and afterwards investigate the maximum possible β-carotene yield under the restriction of a minimum growth rate on 1% and on 99.9% of the total growth flux.  \n",
    "This is to ensure we only get viable results where we both get a production yield and a growth rate above 0. As the cells normally aim to maximize their growth rates, these assumptions seem the most realistic. The yields at lower growth rates are investigated later. "
   ]
  },
  {
   "cell_type": "code",
   "execution_count": 134,
   "metadata": {},
   "outputs": [
    {
     "name": "stdout",
     "output_type": "stream",
     "text": [
      "\u001b[1mMax growth and production in glucose:\u001b[0m\n",
      "\n",
      "Max growth flux on glucose:\t 0.288 \tmmol*gDW^1*h^-1\n",
      "Yield x/glc:\t\t\t 0.029 \tmol/mol\n",
      "Yield x/glc:\t\t\t 112.987 mg/g\n",
      "\n",
      "Investigation of maximum beta-carotene yield with a min growth flux of 1 % of the max growth flux: 0.002879\n",
      "Max beta-carotene flux on glucose:\t 0.36\n",
      "yield beta/glc:\t\t 0.036 \tmol/mol\n",
      "Yield beta/glc:\t\t 106.547 \tmg/g\n",
      "\n",
      "yield beta/x:\t\t 124.297 \tmol/mol\n",
      "Yield beta/x:\t\t 94299.973 \tmg/g\n",
      "\n",
      "\n",
      "Investigation of maximum beta-carotene yield with a min growth flux of 99.9 % of the max growth flux: 0.287578\n",
      "Max beta-carotene flux on glucose:\t 0.36\n",
      "yield beta/glc:\t\t 6.3e-05 \tmol/mol\n",
      "Yield beta/glc:\t\t 0.188 \t\tmg/g\n",
      "\n",
      "yield beta/x:\t\t 0.002192 \tmol/mol\n",
      "Yield beta/x:\t\t 1.663 \t\tmg/g\n"
     ]
    }
   ],
   "source": [
    "#Find the max growth rate of S. cerevisiae on glucose with the standard medium settings with glucose.\n",
    "#Test the maximum beta-carotene production at another growth rate\n",
    "print(\"\\033[1mMax growth and production in glucose:\\033[0m\\n\")\n",
    "with model_iMM904: \n",
    "    #Calculate weights of the metabolites\n",
    "    C = 12\n",
    "    H = 1\n",
    "    N = 14\n",
    "    O = 16\n",
    "    biomass_weight = C*47.5+H*7+N*9.25 #g/mol, this is the median measurement of S. cerevisiae composition.\n",
    "    beta_weight = model_iMM904.metabolites.beta.elements['C']*C+model_iMM904.metabolites.beta.elements['H']*H #g/mol\n",
    "    glucose_weight = model_iMM904.metabolites.glc__D_c.elements['C']*C+model_iMM904.metabolites.glc__D_c.elements['H']*H+model_iMM904.metabolites.glc__D_c.elements['O']*O\n",
    "    \n",
    "    #Find max growth\n",
    "    solution = model_iMM904.optimize()\n",
    "    initial_growth = model_iMM904.optimize().objective_value\n",
    "    \n",
    "    #Calculate and print yields of biomass\n",
    "    yield_X_glc_g = (initial_growth/abs(solution.fluxes[\"EX_glc__D_e\"]))*(biomass_weight/glucose_weight)\n",
    "    yield_X_glc_mol = initial_growth/abs(solution.fluxes[\"EX_glc__D_e\"])\n",
    "    print(\"Max growth flux on glucose:\\t\",round(initial_growth,3), \"\\tmmol*gDW^1*h^-1\")\n",
    "    print(\"Yield x/glc:\\t\\t\\t\", round(yield_X_glc_mol,3),\"\\tmol/mol\")\n",
    "    print(\"Yield x/glc:\\t\\t\\t\", round(yield_X_glc_g*1000,3), \"mg/g\")\n",
    "    \n",
    "    #Find max production at at least 1 % growth flux.\n",
    "    model_iMM904.reactions.BIOMASS_SC5_notrace.bounds = initial_growth*0.01, 100\n",
    "    print('\\nInvestigation of maximum beta-carotene yield with a min growth flux of 1 % of the max growth flux:', round(initial_growth*0.01,6))\n",
    "    #Change objective to max EX_beta and find max beta-carotene flux\n",
    "    model_iMM904.objective = model_iMM904.reactions.EX_beta\n",
    "    solution = model_iMM904.optimize()\n",
    "    initial_beta_flow = model_iMM904.optimize().objective_value \n",
    "    \n",
    "    #Yield calculations of beta-carotene at min 1% growth flux\n",
    "    yield_b_glc_g = (initial_beta_flow/abs(solution.fluxes[\"EX_glc__D_e\"]))*(beta_weight/glucose_weight)\n",
    "    yield_b_glc_mol = initial_beta_flow/abs(solution.fluxes[\"EX_glc__D_e\"])\n",
    "    yield_b_X_g = (initial_beta_flow/abs(solution.fluxes[\"BIOMASS_SC5_notrace\"]))*(beta_weight/biomass_weight)\n",
    "    yield_b_X_mol = initial_beta_flow/abs(solution.fluxes[\"BIOMASS_SC5_notrace\"])\n",
    "    \n",
    "    print(\"Max beta-carotene flux on glucose:\\t\",round(initial_beta_flow,2))\n",
    "    print(\"yield beta/glc:\\t\\t\", round(yield_b_glc_mol,3), \"\\tmol/mol\")\n",
    "    print(\"Yield beta/glc:\\t\\t\", round(yield_b_glc_g*1000,3), \"\\tmg/g\\n\")\n",
    "    print(\"yield beta/x:\\t\\t\", round(yield_b_X_mol,3), \"\\tmol/mol\")\n",
    "    print(\"Yield beta/x:\\t\\t\", round(yield_b_X_g*1000,3), \"\\tmg/g\\n\")\n",
    "    \n",
    "    \n",
    "    #Find max production at at least 99.9 % growth flux.\n",
    "    print('\\nInvestigation of maximum beta-carotene yield with a min growth flux of 99.9 % of the max growth flux:', round(initial_growth*0.999,6))\n",
    "    model_iMM904.reactions.BIOMASS_SC5_notrace.bounds = initial_growth*0.999, 100\n",
    "    solution = model_iMM904.optimize()\n",
    "    beta_flow_maxgrowth = model_iMM904.optimize().objective_value \n",
    "    \n",
    "    #Calculate yields of betacarotene\n",
    "    yield_b_glc_g = (beta_flow_maxgrowth /abs(solution.fluxes[\"EX_glc__D_e\"]))*(beta_weight/glucose_weight)\n",
    "    yield_b_glc_mol = beta_flow_maxgrowth /abs(solution.fluxes[\"EX_glc__D_e\"])\n",
    "    yield_b_X_g = (beta_flow_maxgrowth /abs(solution.fluxes[\"BIOMASS_SC5_notrace\"]))*(beta_weight/biomass_weight)\n",
    "    yield_b_X_mol = beta_flow_maxgrowth /abs(solution.fluxes[\"BIOMASS_SC5_notrace\"])\n",
    "    \n",
    "    #Print yieldss \n",
    "    print(\"Max beta-carotene flux on glucose:\\t\",round(initial_beta_flow,2))\n",
    "    print(\"yield beta/glc:\\t\\t\", round(yield_b_glc_mol,6), \"\\tmol/mol\")\n",
    "    print(\"Yield beta/glc:\\t\\t\", round(yield_b_glc_g*1000,3), \"\\t\\tmg/g\\n\")\n",
    "    print(\"yield beta/x:\\t\\t\", round(yield_b_X_mol,6), \"\\tmol/mol\")\n",
    "    print(\"Yield beta/x:\\t\\t\", round(yield_b_X_g*1000,3), \"\\t\\tmg/g\")\n"
   ]
  },
  {
   "cell_type": "markdown",
   "metadata": {},
   "source": [
    "From the above we see that it is possible to produce β-carotene with the inserted pathway, and it seems to depend very much on the growth rate. This makes sense as the cell will prioritise to send carbon for growth and not β-carotene. "
   ]
  },
  {
   "cell_type": "markdown",
   "metadata": {},
   "source": [
    "#### Yields and growth rates on different carbon sources"
   ]
  },
  {
   "cell_type": "markdown",
   "metadata": {},
   "source": [
    "In the following we wanted to test the growth and production on different carbon sources, as this can have a big impact on the cell.\n",
    "\n",
    "In the scrip below, all carbon exchange reaction is found and saved as a list in carbon_source_exchanges.\n",
    "Then the growth rate is sorted, so only carbonsources with growth rates higher or equal to the one of glucose, is used. Afterward the yield of β-carotene over carbon source calculated. This yield is used to sort the carbonsource, so only higher yield than the one on glucose is considered.\n",
    "As the output, the yield of β-carotene over carbon source and biomass is shown and the percentage increase or decrease is calculated. "
   ]
  },
  {
   "cell_type": "code",
   "execution_count": 87,
   "metadata": {},
   "outputs": [],
   "source": [
    "#Save all exchange reactions with carbon in a list\n",
    "carbon_source_exchanges=[]                                    #Creates list to save carbon sources\n",
    "for exchange in model_iMM904.exchanges:                       #Iterate through all exchange reactions\n",
    "    for metabolite in exchange.metabolites:                   #Iterate through metabolites\n",
    "        if \"C\" in metabolite.elements:                        #Save all reactions that contains carbon\n",
    "            carbon_source_exchanges.append(exchange.id) "
   ]
  },
  {
   "cell_type": "code",
   "execution_count": 88,
   "metadata": {},
   "outputs": [
    {
     "name": "stdout",
     "output_type": "stream",
     "text": [
      "\u001b[1mYield of β-carotene on carbon sources with higher og equal flows as from glucose:\u001b[0m\n",
      "\n",
      "The yield beta/glc on 99.9% growth flow:\t\t 6.3e-05 \tmol/mol\n",
      "\n",
      "\u001b[1mGrowth and production at different carbon sources: \u001b[0m\n",
      "\n",
      "D-Glucosamine 6-phosphate exchange:\n",
      "Yield b/carbon: 7.6e-05 mol/mol\n",
      "Yield b/carbon increase: 20.67 %\n",
      "Yield beta/biomass: 0.001874 mol/mol\n",
      "Yield b/x increase: -14.51564913915584 %\n",
      "\n",
      "Adenosine exchange:\n",
      "Yield b/carbon: 7.6e-05 mol/mol\n",
      "Yield b/carbon increase: 20.65 %\n",
      "Yield beta/biomass: 0.002049 mol/mol\n",
      "Yield b/x increase: -6.548309862678991 %\n",
      "\n",
      "Guanosine exchange:\n",
      "Yield b/carbon: 7.6e-05 mol/mol\n",
      "Yield b/carbon increase: 20.65 %\n",
      "Yield beta/biomass: 0.002059 mol/mol\n",
      "Yield b/x increase: -6.067229516396836 %\n",
      "\n",
      "S Adenosyl L methionine exchange:\n",
      "Yield b/carbon: 7.6e-05 mol/mol\n",
      "Yield b/carbon increase: 20.65 %\n",
      "Yield beta/biomass: 0.002036 mol/mol\n",
      "Yield b/x increase: -7.11615172841401 %\n",
      "\n",
      "Inosine exchange:\n",
      "Yield b/carbon: 7.6e-05 mol/mol\n",
      "Yield b/carbon increase: 20.65 %\n",
      "Yield beta/biomass: 0.002052 mol/mol\n",
      "Yield b/x increase: -6.386156973401754 %\n",
      "\n",
      "Maltose exchange:\n",
      "Yield b/carbon: 6.7e-05 mol/mol\n",
      "Yield b/carbon increase: 5.69 %\n",
      "Yield beta/biomass: 0.001286 mol/mol\n",
      "Yield b/x increase: -41.31412147323946 %\n",
      "\n",
      "Melibiose exchange:\n",
      "Yield b/carbon: 6.7e-05 mol/mol\n",
      "Yield b/carbon increase: 5.69 %\n",
      "Yield beta/biomass: 0.001286 mol/mol\n",
      "Yield b/x increase: -41.31412152576718 %\n",
      "\n",
      "Sucrose exchange:\n",
      "Yield b/carbon: 6.7e-05 mol/mol\n",
      "Yield b/carbon increase: 5.69 %\n",
      "Yield beta/biomass: 0.001286 mol/mol\n",
      "Yield b/x increase: -41.314121527582905 %\n",
      "\n",
      "Adenosine 3  5  bisphosphate exchange:\n",
      "Yield b/carbon: 7.6e-05 mol/mol\n",
      "Yield b/carbon increase: 20.65 %\n",
      "Yield beta/biomass: 0.002045 mol/mol\n",
      "Yield b/x increase: -6.69847002008126 %\n",
      "\n",
      "Trehalose exchange:\n",
      "Yield b/carbon: 6.7e-05 mol/mol\n",
      "Yield b/carbon increase: 5.69 %\n",
      "Yield beta/biomass: 0.001285 mol/mol\n",
      "Yield b/x increase: -41.35968090045825 %\n",
      "\n",
      "Xanthosine exchange:\n",
      "Yield b/carbon: 7.6e-05 mol/mol\n",
      "Yield b/carbon increase: 20.65 %\n",
      "Yield beta/biomass: 0.002064 mol/mol\n",
      "Yield b/x increase: -5.846830998909354 %\n",
      "\n",
      "There are 11 exchange reactions that can give a equal or higher growth rate and beta-carotene production. (Independent of each other)\n"
     ]
    }
   ],
   "source": [
    "print(\"\\033[1mYield of β-carotene on carbon sources with higher og equal flows as from glucose:\\033[0m\\n\")\n",
    "print(\"The yield beta/glc on 99.9% growth flow:\\t\\t\", round(yield_b_glc_mol,6), \"\\tmol/mol\\n\")\n",
    "\n",
    "#Investigate growthrates and β-carotene for different carbon sources.\n",
    "print(\"\\033[1mGrowth and production at different carbon sources: \\033[0m\\n\")\n",
    "potential_better_Csources = []                                 \n",
    "yeild_dict = dict()\n",
    "\n",
    "#Iterate through carbon sources locally.\n",
    "for i in range (0,len(carbon_source_exchanges)):               \n",
    "    with model_iMM904:                                       \n",
    "        #Change medium\n",
    "        medium=model_iMM904.medium                                               #Resets medium to standard\n",
    "        medium['EX_glc__D_e']= 0                                                 #sets glucose level to 0\n",
    "        medium[carbon_source_exchanges[i]]= 10                                   #sets level of carbon source to 10\n",
    "        model_iMM904.medium = medium                           \n",
    "        \n",
    "        #Save max growth floux\n",
    "        solution_growth = model_iMM904.slim_optimize(error_value=0.)\n",
    "\n",
    "        #growth flux equal or higher than on glucose\n",
    "        if round(solution_growth,5) >= round(initial_growth,5): \n",
    "            #Find yields of beta-carotene at 99.9 % max growth flux\n",
    "            model_iMM904.reactions.BIOMASS_SC5_notrace.bounds = solution_growth*0.999, 100\n",
    "            solution = model_iMM904.optimize()\n",
    "            model_iMM904.objective = model_iMM904.reactions.EX_beta               \n",
    "            solution_beta = model_iMM904.optimize().objective_value               \n",
    "            yield_b_carbon_mol = solution_beta /abs(solution.fluxes[carbon_source_exchanges[i]])\n",
    "            \n",
    "            #Beta-carotene yield is equal or higher than at glucose\n",
    "            if round(yield_b_carbon_mol,5) > round(yield_b_glc_mol,5):\n",
    "                #Save carbon source and caluclate yields.\n",
    "                potential_better_Csources.append(carbon_source_exchanges[i])      \n",
    "                name=model_iMM904.reactions.get_by_id(carbon_source_exchanges[i]) #Get reaction name\n",
    "                yield_beta_x_mol = solution_beta / abs(solution.fluxes['BIOMASS_SC5_notrace'])\n",
    "                yeild_dict[yield_beta_x_mol] = carbon_source_exchanges[i]\n",
    "                \n",
    "                #Print yeilds: \n",
    "                solution = model_iMM904.optimize()\n",
    "                print(name.name+\":\")   #print name \n",
    "                print('Yield b/carbon:', round(yield_b_carbon_mol,6), \"mol/mol\") #mol product / mol carbon source\n",
    "                print('Yield b/carbon increase:',round((yield_b_carbon_mol/yield_b_glc_mol)*100-100,2), \"%\")\n",
    "                print('Yield beta/biomass:', round(yield_beta_x_mol,6), \"mol/mol\") #mol product / mol biomass\n",
    "                print('Yield b/x increase:', (yield_beta_x_mol/yield_b_X_mol)*100-100, \"%\\n\")\n",
    "print(\"There are \"+ str(len(potential_better_Csources)) + \" exchange reactions that can give a equal or higher growth rate and beta-carotene production. (Independent of each other)\")"
   ]
  },
  {
   "cell_type": "markdown",
   "metadata": {},
   "source": [
    "From the above code, it seems that the maximum increase in yield beta/carbon is 20.65 %, which is facilitated by several sources. However the yield beta/biomass is increasing and therefore we proceeded with the source that gave the least decrease at -5.8 %: Xanthosine"
   ]
  },
  {
   "cell_type": "markdown",
   "metadata": {},
   "source": [
    "#### More indepth calculating the β-carotene yield on a different carbon source\n",
    "In the following we are going to invstigate the yield og beta caroten when *S. cervisiae* is grown on Xanthosine.\n",
    "\n",
    "In the above code a dictionary with the yield beta/x values were saved. This is used to extract the best carbon source. "
   ]
  },
  {
   "cell_type": "code",
   "execution_count": 89,
   "metadata": {},
   "outputs": [
    {
     "name": "stdout",
     "output_type": "stream",
     "text": [
      "EX_xtsn_e\n"
     ]
    }
   ],
   "source": [
    "#save exchangerate with maximum yield\n",
    "import operator\n",
    "max_exchange = max(yeild_dict.items(), key=operator.itemgetter(0))[1]\n",
    "print(max_exchange)"
   ]
  },
  {
   "cell_type": "code",
   "execution_count": 90,
   "metadata": {},
   "outputs": [
    {
     "data": {
      "text/html": [
       "\n",
       "        <table>\n",
       "            <tr>\n",
       "                <td><strong>Reaction identifier</strong></td><td>EX_xtsn_e</td>\n",
       "            </tr><tr>\n",
       "                <td><strong>Name</strong></td><td>Xanthosine exchange</td>\n",
       "            </tr><tr>\n",
       "                <td><strong>Memory address</strong></td>\n",
       "                <td>0x07fc3a7b91cd0</td>\n",
       "            </tr><tr>\n",
       "                <td><strong>Stoichiometry</strong></td>\n",
       "                <td>\n",
       "                    <p style='text-align:right'>xtsn_e --></p>\n",
       "                    <p style='text-align:right'>Xanthosine --></p>\n",
       "                </td>\n",
       "            </tr><tr>\n",
       "                <td><strong>GPR</strong></td><td></td>\n",
       "            </tr><tr>\n",
       "                <td><strong>Lower bound</strong></td><td>0.0</td>\n",
       "            </tr><tr>\n",
       "                <td><strong>Upper bound</strong></td><td>999999.0</td>\n",
       "            </tr>\n",
       "        </table>\n",
       "        "
      ],
      "text/plain": [
       "<Reaction EX_xtsn_e at 0x7fc3a7b91cd0>"
      ]
     },
     "execution_count": 90,
     "metadata": {},
     "output_type": "execute_result"
    }
   ],
   "source": [
    "model_iMM904.reactions.EX_xtsn_e"
   ]
  },
  {
   "cell_type": "code",
   "execution_count": 91,
   "metadata": {},
   "outputs": [
    {
     "data": {
      "text/html": [
       "\n",
       "        <table>\n",
       "            <tr>\n",
       "                <td><strong>Metabolite identifier</strong></td><td>xtsn_e</td>\n",
       "            </tr><tr>\n",
       "                <td><strong>Name</strong></td><td>Xanthosine</td>\n",
       "            </tr><tr>\n",
       "                <td><strong>Memory address</strong></td>\n",
       "                <td>0x07fc3a71c97c0</td>\n",
       "            </tr><tr>\n",
       "                <td><strong>Formula</strong></td><td>C10H12N4O6</td>\n",
       "            </tr><tr>\n",
       "                <td><strong>Compartment</strong></td><td>e</td>\n",
       "            </tr><tr>\n",
       "                <td><strong>In 2 reaction(s)</strong></td><td>\n",
       "                    EX_xtsn_e, XTSNt2</td>\n",
       "            </tr>\n",
       "        </table>"
      ],
      "text/plain": [
       "<Metabolite xtsn_e at 0x7fc3a71c97c0>"
      ]
     },
     "execution_count": 91,
     "metadata": {},
     "output_type": "execute_result"
    }
   ],
   "source": [
    "model_iMM904.metabolites.xtsn_e"
   ]
  },
  {
   "cell_type": "code",
   "execution_count": 92,
   "metadata": {},
   "outputs": [
    {
     "name": "stdout",
     "output_type": "stream",
     "text": [
      "\u001b[1mMax growth and production in Xanthosine exchange:\u001b[0m\n",
      "\n",
      "Max growth flow on xtsn:\t 0.37 \tmmol*gDW^1*h^-1\n",
      "Yield x/xtsn:\t\t\t 0.04 \tmol/mol\n",
      "Yield x/xtsn:\t\t\t 91.67 mg/g\n",
      "\n",
      "Investigation of maximum β-carotene yield with a min growth flux of 1% of the max groth flux: 0.003685\n",
      "Max β-carotene flux on xtsn:\t 0.36\n",
      "yield beta/xtsn:\t\t 0.041284 \tmol/mol\n",
      "Yield beta/xtsn:\t\t 77.92 \t\tmg/g\n",
      "\n",
      "yield beta/x:\t\t\t 112.033206 \t\tmol/mol\n",
      "Yield beta/x:\t\t\t 84996.18 \t\tmg/g\n",
      "\n",
      "Investigation of maximum β-carotenee yield with a min growth flux of 99,9 % of the max groth flux: 0.368129\n",
      "Max β-carotene flux on xtsn:\t 0.36\n",
      "yield beta/xtsn:\t\t 7.6e-05 \tmol/mol\n",
      "Yield beta/xtsn:\t\t 0.14 \t\tmg/g\n",
      "\n",
      "yield beta/x:\t\t\t 0.002066 \t\tmol/mol\n",
      "Yield beta/x:\t\t\t 1.57 \t\tmg/g\n"
     ]
    }
   ],
   "source": [
    "#Find the max growth rate of S. cerevisiae on glucose with the standard medium settings with glucose\n",
    "#Test the maximum beta-carotene production at another growth rate\n",
    "print(\"\\033[1mMax growth and production in Xanthosine exchange:\\033[0m\\n\")\n",
    "with model_iMM904: \n",
    "    #Change the medium to max exhcange carbon source. \n",
    "    medium=model_iMM904.medium                             #Resets medium to standard\n",
    "    medium['EX_glc__D_e']= 0                               #sets glucose level to 0\n",
    "    medium[max_exchange]= 10                               #sets level of carbon source to 10\n",
    "    model_iMM904.medium = medium \n",
    "    \n",
    "    #Calculate weights of the metabolites\n",
    "    C = 12\n",
    "    H = 1\n",
    "    N = 14\n",
    "    O = 16\n",
    "    P = 31\n",
    "    biomass_weight = C*47.5+H*7+N*9.25 #g/mol - this is the median measured\n",
    "    beta_weight = model_iMM904.metabolites.beta.elements['C']*C+model_iMM904.metabolites.beta.elements['H']*H #g/mol\n",
    "    gxtsn_e_weight = model_iMM904.metabolites.xtsn_e.elements['C']*C+model_iMM904.metabolites.xtsn_e.elements['H']*H+model_iMM904.metabolites.xtsn_e.elements['O']*O+model_iMM904.metabolites.xtsn_e.elements['N']*N\n",
    "    \n",
    "    #Find max growth\n",
    "    solution = model_iMM904.optimize()\n",
    "    initial_growth_carbon = model_iMM904.optimize().objective_value\n",
    "    \n",
    "    #Calculate and print yields of biomass / carbon source\n",
    "    yield_X_xtsn_g = (initial_growth_carbon/abs(solution.fluxes[\"EX_xtsn_e\"]))*(biomass_weight/gxtsn_e_weight)\n",
    "    yield_X_xtsn_mol = initial_growth_carbon/abs(solution.fluxes[\"EX_xtsn_e\"])\n",
    "    print(\"Max growth flow on xtsn:\\t\",round(initial_growth_carbon,2), \"\\tmmol*gDW^1*h^-1\")\n",
    "    print(\"Yield x/xtsn:\\t\\t\\t\", round(yield_X_xtsn_mol,2),\"\\tmol/mol\")\n",
    "    print(\"Yield x/xtsn:\\t\\t\\t\", round(yield_X_xtsn_g*1000,2), \"mg/g\")\n",
    "    \n",
    "    \n",
    "    #Calculate yields of betacarotene on biomass and carbon source. \n",
    "    print('\\nInvestigation of maximum β-carotene yield with a min growth flux of 1% of the max groth flux:', round(initial_growth_carbon*0.01,6))\n",
    "    model_iMM904.reactions.BIOMASS_SC5_notrace.bounds = initial_growth_carbon*0.01, 100\n",
    "    model_iMM904.objective = model_iMM904.reactions.EX_beta  \n",
    "    solution = model_iMM904.optimize()\n",
    "    beta_flow_maxgrowth = model_iMM904.optimize().objective_value \n",
    "    yield_b_xtsn_g = (beta_flow_maxgrowth /abs(solution.fluxes[\"EX_xtsn_e\"]))*(beta_weight/gxtsn_e_weight)\n",
    "    yield_b_xtsn_mol = beta_flow_maxgrowth /abs(solution.fluxes[\"EX_xtsn_e\"])\n",
    "    yield_b_X_g = (beta_flow_maxgrowth /abs(solution.fluxes[\"BIOMASS_SC5_notrace\"]))*(beta_weight/biomass_weight)\n",
    "    yield_b_X_mol = beta_flow_maxgrowth /abs(solution.fluxes[\"BIOMASS_SC5_notrace\"])\n",
    "    \n",
    "    #Print results. \n",
    "    print(\"Max β-carotene flux on xtsn:\\t\",round(initial_beta_flow,2))\n",
    "    print(\"yield beta/xtsn:\\t\\t\", round(yield_b_xtsn_mol,6), \"\\tmol/mol\")\n",
    "    print(\"Yield beta/xtsn:\\t\\t\", round(yield_b_xtsn_g*1000,2), \"\\t\\tmg/g\\n\")\n",
    "    print(\"yield beta/x:\\t\\t\\t\", round(yield_b_X_mol,6), \"\\t\\tmol/mol\")\n",
    "    print(\"Yield beta/x:\\t\\t\\t\", round(yield_b_X_g*1000,2), \"\\t\\tmg/g\")\n",
    "    \n",
    "    #Calculate yields of betacarotene on biomass and carbon source. \n",
    "    print('\\nInvestigation of maximum β-carotenee yield with a min growth flux of 99,9 % of the max groth flux:', round(initial_growth_carbon*0.999,6))\n",
    "    model_iMM904.reactions.BIOMASS_SC5_notrace.bounds = initial_growth_carbon*0.999, 100\n",
    "    model_iMM904.objective = model_iMM904.reactions.EX_beta  \n",
    "    solution = model_iMM904.optimize()\n",
    "    beta_flow_maxgrowth = model_iMM904.optimize().objective_value \n",
    "    yield_b_xtsn_g = (beta_flow_maxgrowth /abs(solution.fluxes[\"EX_xtsn_e\"]))*(beta_weight/gxtsn_e_weight)\n",
    "    yield_b_xtsn_mol = beta_flow_maxgrowth /abs(solution.fluxes[\"EX_xtsn_e\"])\n",
    "    yield_b_X_g = (beta_flow_maxgrowth /abs(solution.fluxes[\"BIOMASS_SC5_notrace\"]))*(beta_weight/biomass_weight)\n",
    "    yield_b_X_mol = beta_flow_maxgrowth /abs(solution.fluxes[\"BIOMASS_SC5_notrace\"])\n",
    "    \n",
    "    #Print results. \n",
    "    print(\"Max β-carotene flux on xtsn:\\t\",round(initial_beta_flow,2))\n",
    "    print(\"yield beta/xtsn:\\t\\t\", round(yield_b_xtsn_mol,6), \"\\tmol/mol\")\n",
    "    print(\"Yield beta/xtsn:\\t\\t\", round(yield_b_xtsn_g*1000,2), \"\\t\\tmg/g\\n\")\n",
    "    print(\"yield beta/x:\\t\\t\\t\", round(yield_b_X_mol,6), \"\\t\\tmol/mol\")\n",
    "    print(\"Yield beta/x:\\t\\t\\t\", round(yield_b_X_g*1000,2), \"\\t\\tmg/g\")"
   ]
  },
  {
   "cell_type": "markdown",
   "metadata": {},
   "source": [
    "We see that we get a increase of yield x/xtsn compared to the yield x/glucose in mol/mol. However,when looking at the yield in mg/g it is lower. That meaans that the cell will be more efficient to convert it pr molecule, but as the new carbonsource is heavier, the yield in gm/g is lower and therefore the price will be higher for the new carbon source. Additionaly, all other parameters suggests that glucose is better. Whit this in mind, we would stick to glucose as carbon source.  "
   ]
  },
  {
   "cell_type": "markdown",
   "metadata": {},
   "source": [
    "#### Testing yields under anaerobic conditions"
   ]
  },
  {
   "cell_type": "markdown",
   "metadata": {},
   "source": [
    "In the following we will investigate how anaerobic conditions influence the β-carotene production:"
   ]
  },
  {
   "cell_type": "code",
   "execution_count": 93,
   "metadata": {},
   "outputs": [
    {
     "name": "stdout",
     "output_type": "stream",
     "text": [
      "The max growth in anaerobic conditions: -0.0\n",
      "The max beta-carotene flux in anaerobic conditions: 0.0\n"
     ]
    }
   ],
   "source": [
    "with model_iMM904:\n",
    "    #Remove oxygen from the medium\n",
    "    medium=model_iMM904.medium                             \n",
    "    medium['EX_o2_e']= 0                               \n",
    "    model_iMM904.medium = medium \n",
    "    \n",
    "    #investigate the growth flux \n",
    "    growth = model_iMM904.slim_optimize()\n",
    "    model_iMM904.objective = model_iMM904.reactions.EX_beta\n",
    "    beta_carotene = model_iMM904.optimize().objective_value\n",
    "    print(\"The max growth in anaerobic conditions:\", round(growth,6))\n",
    "    print(\"The max beta-carotene flux in anaerobic conditions:\", round(beta_carotene,6))"
   ]
  },
  {
   "cell_type": "markdown",
   "metadata": {},
   "source": [
    "From these results it seems that *S. cerevisiae* can not grow anaerobic on glucose. This a bit unexpected, but might show the limitations of the GSM, as this organism usually is able to grow under anaerobic conditions. However the production of beta-carotene is expected to be 0, as the pathway needs oxygen to be functioning."
   ]
  },
  {
   "cell_type": "markdown",
   "metadata": {},
   "source": [
    "#### Testing optimal β-carotene production in relation to different growth fluxes\n",
    "In the following we wanted to investigate the optimal growth for β-carotene  production on glucose and Xanthosine. "
   ]
  },
  {
   "cell_type": "code",
   "execution_count": 147,
   "metadata": {},
   "outputs": [
    {
     "name": "stdout",
     "output_type": "stream",
     "text": [
      "Maximum β-carotene flux:  0.361247947454844\n",
      "Growth rate at maximum β-carotene flux:  0.0\n"
     ]
    }
   ],
   "source": [
    "with model_iMM904:\n",
    "    model_iMM904.objective = model_iMM904.reactions.EX_beta \n",
    "    print(\"Maximum β-carotene flux: \",model_iMM904.optimize().objective_value)\n",
    "    solution = model_iMM904.optimize()\n",
    "    print(\"Growth rate at maximum β-carotene flux: \", solution.fluxes['BIOMASS_SC5_notrace'])"
   ]
  },
  {
   "cell_type": "markdown",
   "metadata": {},
   "source": [
    "It is clear that the maximum beta-carotene production allows no growth, and therefore it is relevant to find the point of optimal growth and optimal beta-carotene production. "
   ]
  },
  {
   "cell_type": "code",
   "execution_count": 96,
   "metadata": {
    "jupyter": {
     "source_hidden": true
    }
   },
   "outputs": [],
   "source": [
    "import cobra.test\n",
    "from cobra.flux_analysis import production_envelope"
   ]
  },
  {
   "cell_type": "code",
   "execution_count": 145,
   "metadata": {
    "jupyter": {
     "source_hidden": true
    }
   },
   "outputs": [
    {
     "name": "stdout",
     "output_type": "stream",
     "text": [
      "EX_glc__D_e plot, where z is beta-carotene flux, y is biomass flux: \n"
     ]
    },
    {
     "data": {
      "image/png": "[encoded data removed]",
      "text/plain": [
       "<Figure size 432x288 with 1 Axes>"
      ]
     },
     "metadata": {
      "needs_background": "light"
     },
     "output_type": "display_data"
    }
   ],
   "source": [
    "#Plotting the growthrate in relation to β-carotene production on glucose. \n",
    "with model_iMM904:\n",
    "    medium=model_iMM904.medium                             #Resets medium to standard\n",
    "    medium['EX_o2_e']= 2.0                                 #Reset the oxygen level\n",
    "    model_iMM904.medium = medium \n",
    "    solution_growth = model_iMM904.slim_optimize(error_value=0.)\n",
    "    \n",
    "    #Plot the relation between growth and  β-carotene produciton \n",
    "    print(\"EX_glc__D_e plot, where z is beta-carotene flux, y is biomass flux: \")\n",
    "    max_beta = production_envelope(\n",
    "            model_iMM904,\n",
    "            reactions=[model_iMM904.reactions.EX_beta],\n",
    "            objective=model_iMM904.reactions.BIOMASS_SC5_notrace\n",
    "            )\n",
    "    max_beta.plot(x='EX_beta', y='flux_maximum')\n",
    "        \n"
   ]
  },
  {
   "cell_type": "code",
   "execution_count": 146,
   "metadata": {
    "jupyter": {
     "source_hidden": true
    }
   },
   "outputs": [
    {
     "name": "stdout",
     "output_type": "stream",
     "text": [
      "EX_xtsn_e plot, where x is beta-carotene flux, y is biomass flux: \n"
     ]
    },
    {
     "data": {
      "image/png": "[encoded data removed]",
      "text/plain": [
       "<Figure size 432x288 with 1 Axes>"
      ]
     },
     "metadata": {
      "needs_background": "light"
     },
     "output_type": "display_data"
    }
   ],
   "source": [
    "with model_iMM904:\n",
    "    #Make changes in the medium\n",
    "    medium=model_iMM904.medium                             #Resets medium to standard\n",
    "    medium['EX_glc__D_e']= 0                               #sets glucose level to 0\n",
    "    medium[max_exchange]= 10                               #sets level of carbon source to 10\n",
    "    model_iMM904.medium = medium \n",
    "    solution_growth = model_iMM904.slim_optimize(error_value=0.)\n",
    "\n",
    "    #Plot the relation between growth and β-carotene produciton \n",
    "    print(max_exchange, \"plot, where x is beta-carotene flux, y is biomass flux: \")\n",
    "    max_beta = production_envelope(\n",
    "            model_iMM904,\n",
    "            reactions=[model_iMM904.reactions.EX_beta],\n",
    "            objective=model_iMM904.reactions.BIOMASS_SC5_notrace\n",
    "            )\n",
    "    max_beta.plot(x='EX_beta', y='flux_maximum')"
   ]
  },
  {
   "cell_type": "markdown",
   "metadata": {},
   "source": [
    "From the two graphs it seems that the second carbon source gives a higher range of production flux as this carbon sources gives a max growth flow at above 0.35 and still have production, and a max beta-flux with at more than 0.40 before there is no growth. As the curve is linear, the optimal growth must be determined from calculations of prices in relation to production as well as the size of the tank. "
   ]
  },
  {
   "cell_type": "markdown",
   "metadata": {},
   "source": [
    "#### Improving the yield of β-carotene through knockouts\n"
   ]
  },
  {
   "cell_type": "markdown",
   "metadata": {},
   "source": [
    "Reading ..(reference) different knowck strdegies was tried to improve the flow of beta caroten.\n",
    "First we try to knock out Glyceraldehyde-3-phosphate dehydrogenase:"
   ]
  },
  {
   "cell_type": "code",
   "execution_count": null,
   "metadata": {},
   "outputs": [],
   "source": [
    "#All the genes have been investigated in the model. This is outcommented to easen the reading.\n",
    "#model_iMM904.reactions.GAPD\n",
    "#model_iMM904.reactions.PYK\n",
    "#model_iMM904.reactions.ARGN\n",
    "#model_iMM904.reactions.ATPS\n",
    "#model_iMM904.reactions.PYRDC"
   ]
  },
  {
   "cell_type": "code",
   "execution_count": 31,
   "metadata": {
    "jupyter": {
     "source_hidden": true
    }
   },
   "outputs": [
    {
     "name": "stdout",
     "output_type": "stream",
     "text": [
      "Maximum beta-carotene flow:  0.35143769968051114\n"
     ]
    }
   ],
   "source": [
    "with model_iMM904:\n",
    "    model_iMM904.reactions.ARGN.bounds = 0,0\n",
    "    model_iMM904.objective = model_iMM904.reactions.EX_beta \n",
    "    print(\"Maximum beta-carotene flux: \",model_iMM904.optimize().objective_value)"
   ]
  },
  {
   "cell_type": "markdown",
   "metadata": {},
   "source": [
    "In the following we created a list of all the genes that should be knockout out, and this list is used to iterate through all of them and perform the calculations. "
   ]
  },
  {
   "cell_type": "code",
   "execution_count": 131,
   "metadata": {
    "jupyter": {
     "source_hidden": true
    }
   },
   "outputs": [
    {
     "name": "stdout",
     "output_type": "stream",
     "text": [
      "\u001b[1m\n",
      "Yield when GAPD is knocked out.\u001b[0m\n",
      "\n",
      "Maximum beta-carotene yield with a min growth flux of 1 % of the max growth flux: 0.0\n",
      "Max β-carotene flux on glucose: 0.06\n",
      "yield beta/glc:\t\t\t 0.07 \t\tmol/mol\n",
      "Yield beta/glc:\t\t\t 199.75 \tmg/g\n",
      "yield beta/x:\t\t\t 145.59 \tmol/mol\n",
      "Yield beta/x:\t\t\t 110454.55 \tmg/g\n",
      "\n",
      "Maximum β-carotene yield with a min growth flux of 99,9 % of the max groth flow: 0.04\n",
      "Max β-carotene flux on glucose: 6.5e-05\n",
      "yield beta/glc:\t\t\t 0.000113 \tmol/mol\n",
      "Yield beta/glc:\t\t\t 0.335205 \tmg/g\n",
      "yield beta/x:\t\t\t 0.001638 \tmol/mol\n",
      "Yield beta/x:\t\t\t 1.242763 \tmg/g\n",
      "\n",
      "\u001b[1m\n",
      "Yield when PYK is knocked out.\u001b[0m\n",
      "\n",
      "Maximum beta-carotene yield with a min growth flux of 1 % of the max growth flux: 0.001\n",
      "Max β-carotene flux on glucose: 0.07\n",
      "yield beta/glc:\t\t\t 0.04 \t\tmol/mol\n",
      "Yield beta/glc:\t\t\t 123.71 \tmg/g\n",
      "yield beta/x:\t\t\t 141.92 \tmol/mol\n",
      "Yield beta/x:\t\t\t 107672.88 \tmg/g\n",
      "\n",
      "Maximum β-carotene yield with a min growth flux of 99,9 % of the max groth flow: 0.052\n",
      "Max β-carotene flux on glucose: 0.00011\n",
      "yield beta/glc:\t\t\t 0.000169 \tmol/mol\n",
      "Yield beta/glc:\t\t\t 0.502047 \tmg/g\n",
      "yield beta/x:\t\t\t 0.002106 \tmol/mol\n",
      "Yield beta/x:\t\t\t 1.597756 \tmg/g\n",
      "\n",
      "\u001b[1m\n",
      "Yield when ARGN is knocked out.\u001b[0m\n",
      "\n",
      "Maximum beta-carotene yield with a min growth flux of 1 % of the max growth flux: 0.003\n",
      "Max β-carotene flux on glucose: 0.36\n",
      "yield beta/glc:\t\t\t 0.04 \t\tmol/mol\n",
      "Yield beta/glc:\t\t\t 106.55 \tmg/g\n",
      "yield beta/x:\t\t\t 124.3 \tmol/mol\n",
      "Yield beta/x:\t\t\t 94299.97 \tmg/g\n",
      "\n",
      "Maximum β-carotene yield with a min growth flux of 99,9 % of the max groth flow: 0.288\n",
      "Max β-carotene flux on glucose: 0.00063\n",
      "yield beta/glc:\t\t\t 6.3e-05 \tmol/mol\n",
      "Yield beta/glc:\t\t\t 0.187717 \tmg/g\n",
      "yield beta/x:\t\t\t 0.002192 \tmol/mol\n",
      "Yield beta/x:\t\t\t 1.663061 \tmg/g\n",
      "\n",
      "\u001b[1m\n",
      "Yield when ATPS is knocked out.\u001b[0m\n",
      "\n",
      "Maximum beta-carotene yield with a min growth flux of 1 % of the max growth flux: 0.003\n",
      "Max β-carotene flux on glucose: 0.36\n",
      "yield beta/glc:\t\t\t 0.04 \t\tmol/mol\n",
      "Yield beta/glc:\t\t\t 106.55 \tmg/g\n",
      "yield beta/x:\t\t\t 124.3 \tmol/mol\n",
      "Yield beta/x:\t\t\t 94299.97 \tmg/g\n",
      "\n",
      "Maximum β-carotene yield with a min growth flux of 99,9 % of the max groth flow: 0.288\n",
      "Max β-carotene flux on glucose: 0.00063\n",
      "yield beta/glc:\t\t\t 6.3e-05 \tmol/mol\n",
      "Yield beta/glc:\t\t\t 0.187717 \tmg/g\n",
      "yield beta/x:\t\t\t 0.002192 \tmol/mol\n",
      "Yield beta/x:\t\t\t 1.663061 \tmg/g\n",
      "\n",
      "\u001b[1m\n",
      "Yield when PYRDC is knocked out.\u001b[0m\n",
      "\n",
      "Maximum beta-carotene yield with a min growth flux of 1 % of the max growth flux: 0.002\n",
      "Max β-carotene flux on glucose: 0.35\n",
      "yield beta/glc:\t\t\t 0.04 \t\tmol/mol\n",
      "Yield beta/glc:\t\t\t 105.13 \tmg/g\n",
      "yield beta/x:\t\t\t 184.21 \tmol/mol\n",
      "Yield beta/x:\t\t\t 139758.04 \tmg/g\n",
      "\n",
      "Maximum β-carotene yield with a min growth flux of 99,9 % of the max groth flow: 0.191\n",
      "Max β-carotene flux on glucose: 0.00038\n",
      "yield beta/glc:\t\t\t 3.8e-05 \tmol/mol\n",
      "Yield beta/glc:\t\t\t 0.113149 \tmg/g\n",
      "yield beta/x:\t\t\t 0.001985 \tmol/mol\n",
      "Yield beta/x:\t\t\t 1.505671 \tmg/g\n",
      "\n"
     ]
    }
   ],
   "source": [
    "genes_for_kncokout = ['GAPD','PYK','ARGN','ATPS','PYRDC']\n",
    "for i in range(len(genes_for_kncokout)):\n",
    "    with model_iMM904:\n",
    "        #Knockout the gene and calculate the growth flux\n",
    "        print(\"\\033[1m\\nYield when\", genes_for_kncokout[i], \"is knocked out.\\033[0m\")\n",
    "        model_iMM904.reactions.get_by_id(genes_for_kncokout[i]).bounds = 0,0\n",
    "        \n",
    "        #Check max growth\n",
    "        model_iMM904.objective = model_iMM904.reactions.BIOMASS_SC5_notrace \n",
    "        solution = model_iMM904.optimize()\n",
    "        max_growth_flux = model_iMM904.optimize().objective_value\n",
    "        \n",
    "\n",
    "        #Find max production at at least 1 % growth flux.\n",
    "        model_iMM904.reactions.BIOMASS_SC5_notrace.bounds = max_growth_flux*0.01, 100\n",
    "        print('\\nMaximum beta-carotene yield with a min growth flux of 1 % of the max growth flux:', round(max_growth_flux *0.01,3))\n",
    "        #Change objective to max EX_beta and find max beta-carotene flux\n",
    "        model_iMM904.objective = model_iMM904.reactions.EX_beta\n",
    "        solution = model_iMM904.optimize()\n",
    "        initial_beta_flow = model_iMM904.optimize().objective_value \n",
    "    \n",
    "        #Yield calculations of beta-carotene at min 1% growth flux\n",
    "        yield_b_glc_g = (initial_beta_flow/abs(solution.fluxes[\"EX_glc__D_e\"]))*(beta_weight/glucose_weight)\n",
    "        yield_b_glc_mol = initial_beta_flow/abs(solution.fluxes[\"EX_glc__D_e\"])\n",
    "        yield_b_X_g = (initial_beta_flow/abs(solution.fluxes[\"BIOMASS_SC5_notrace\"]))*(beta_weight/biomass_weight)\n",
    "        yield_b_X_mol = initial_beta_flow/abs(solution.fluxes[\"BIOMASS_SC5_notrace\"])\n",
    "        print(\"Max β-carotene flux on glucose:\",round(initial_beta_flow,2))\n",
    "        print(\"yield beta/glc:\\t\\t\\t\", round(yield_b_glc_mol,2), \"\\t\\tmol/mol\")\n",
    "        print(\"Yield beta/glc:\\t\\t\\t\", round(yield_b_glc_g*1000,2), \"\\tmg/g\")\n",
    "        print(\"yield beta/x:\\t\\t\\t\", round(yield_b_X_mol,2), \"\\tmol/mol\")\n",
    "        print(\"Yield beta/x:\\t\\t\\t\", round(yield_b_X_g*1000,2), \"\\tmg/g\\n\")\n",
    "    \n",
    "\n",
    "        #Calculate β-carotene flux at 99.9 % growth flux\n",
    "        model_iMM904.reactions.BIOMASS_SC5_notrace.bounds = max_growth_flux*0.999, 100\n",
    "        model_iMM904.objective = model_iMM904.reactions.EX_beta \n",
    "        solution_beta = model_iMM904.optimize()\n",
    "        max_beta_flux = model_iMM904.optimize().objective_value \n",
    "\n",
    "        #Caluclate yields\n",
    "        print('Maximum β-carotene yield with a min growth flux of 99,9 % of the max groth flow:', round(max_growth_flux*0.999,3))\n",
    "        yield_b_glc_g = (max_beta_flux /abs(solution_beta.fluxes[\"EX_glc__D_e\"]))*(beta_weight/glucose_weight)\n",
    "        yield_b_glc_mol = max_beta_flux /abs(solution_beta.fluxes[\"EX_glc__D_e\"])\n",
    "        yield_b_X_g = (max_beta_flux /abs(solution_beta.fluxes[\"BIOMASS_SC5_notrace\"]))*(beta_weight/biomass_weight)\n",
    "        yield_b_X_mol = max_beta_flux /abs(solution_beta.fluxes[\"BIOMASS_SC5_notrace\"])\n",
    "        print(\"Max β-carotene flux on glucose:\",round(max_beta_flux,6))\n",
    "        print(\"yield beta/glc:\\t\\t\\t\", round(yield_b_glc_mol,6), \"\\tmol/mol\")\n",
    "        print(\"Yield beta/glc:\\t\\t\\t\", round(yield_b_glc_g*1000,6), \"\\tmg/g\")\n",
    "        print(\"yield beta/x:\\t\\t\\t\", round(yield_b_X_mol,6), \"\\tmol/mol\")\n",
    "        print(\"Yield beta/x:\\t\\t\\t\", round(yield_b_X_g*1000,6), \"\\tmg/g\\n\")\n",
    "        \n"
   ]
  },
  {
   "cell_type": "markdown",
   "metadata": {},
   "source": [
    "Next we try to knockout different combinations of genes to see if this have an impact on the flux of β-carotene. "
   ]
  },
  {
   "cell_type": "code",
   "execution_count": 139,
   "metadata": {
    "jupyter": {
     "source_hidden": true
    }
   },
   "outputs": [
    {
     "name": "stdout",
     "output_type": "stream",
     "text": [
      "\n",
      "Maximum beta-carotene yield with a min growth flux of 1 % of the max growth flux: 0.000395\n",
      "Max β-carotene flux on glucose: 0.057644\n",
      "yield beta/glc:\t\t\t 0.07 \t\tmol/mol\n",
      "Yield beta/glc:\t\t\t 199.75 \tmg/g\n",
      "yield beta/x:\t\t\t 145.79 \tmol/mol\n",
      "Yield beta/x:\t\t\t 110603.12 \tmg/g\n",
      "\n",
      "Maximum β-carotene yield with a min growth flux of 99,9 % of the max groth flow: 0.039501\n",
      "Max β-carotene flux on glucose: 6.5e-05\n",
      "yield beta/glc:\t\t\t 0.000113 \tmol/mol\n",
      "Yield beta/glc:\t\t\t 0.335 \tmg/g\n",
      "yield beta/x:\t\t\t 0.00164 \tmol/mol\n",
      "Yield beta/x:\t\t\t 1.244 \tmg/g\n",
      "\n"
     ]
    }
   ],
   "source": [
    "with model_iMM904:\n",
    "    #knock out all genes. \n",
    "    model_iMM904.reactions.PYRDC.bounds = 0,0\n",
    "    model_iMM904.reactions.ARGN.bounds = 0,0\n",
    "    model_iMM904.reactions.GAPD.bounds = 0,0\n",
    "    model_iMM904.reactions.PYK.bounds = 0,0\n",
    "    model_iMM904.reactions.ATPS.bounds = 0,0   \n",
    "    \n",
    "    #Check max growth\n",
    "    model_iMM904.objective = model_iMM904.reactions.BIOMASS_SC5_notrace \n",
    "    solution = model_iMM904.optimize()\n",
    "    max_growth_flux = model_iMM904.optimize().objective_value\n",
    "\n",
    "    #Find max production at at least 1 % growth flux.\n",
    "    model_iMM904.reactions.BIOMASS_SC5_notrace.bounds = max_growth_flux*0.01, 100\n",
    "    print('\\nMaximum beta-carotene yield with a min growth flux of 1 % of the max growth flux:', round(max_growth_flux *0.01,6))\n",
    "    #Change objective to max EX_beta and find max beta-carotene flux\n",
    "    model_iMM904.objective = model_iMM904.reactions.EX_beta\n",
    "    solution = model_iMM904.optimize()\n",
    "    initial_beta_flow = model_iMM904.optimize().objective_value \n",
    "\n",
    "    #Yield calculations of beta-carotene at min 1% growth flux\n",
    "    yield_b_glc_g = (initial_beta_flow/abs(solution.fluxes[\"EX_glc__D_e\"]))*(beta_weight/glucose_weight)\n",
    "    yield_b_glc_mol = initial_beta_flow/abs(solution.fluxes[\"EX_glc__D_e\"])\n",
    "    yield_b_X_g = (initial_beta_flow/abs(solution.fluxes[\"BIOMASS_SC5_notrace\"]))*(beta_weight/biomass_weight)\n",
    "    yield_b_X_mol = initial_beta_flow/abs(solution.fluxes[\"BIOMASS_SC5_notrace\"])\n",
    "    print(\"Max β-carotene flux on glucose:\",round(initial_beta_flow,6))\n",
    "    print(\"yield beta/glc:\\t\\t\\t\", round(yield_b_glc_mol,2), \"\\t\\tmol/mol\")\n",
    "    print(\"Yield beta/glc:\\t\\t\\t\", round(yield_b_glc_g*1000,2), \"\\tmg/g\")\n",
    "    print(\"yield beta/x:\\t\\t\\t\", round(yield_b_X_mol,2), \"\\tmol/mol\")\n",
    "    print(\"Yield beta/x:\\t\\t\\t\", round(yield_b_X_g*1000,2), \"\\tmg/g\\n\")\n",
    "\n",
    "\n",
    "    #Calculate β-carotene flux at 99.9 % growth flux\n",
    "    model_iMM904.reactions.BIOMASS_SC5_notrace.bounds = max_growth_flux*0.999, 100\n",
    "    model_iMM904.objective = model_iMM904.reactions.EX_beta \n",
    "    solution_beta = model_iMM904.optimize()\n",
    "    max_beta_flux = model_iMM904.optimize().objective_value \n",
    "\n",
    "    #Caluclate yields\n",
    "    print('Maximum β-carotene yield with a min growth flux of 99,9 % of the max groth flow:', round(max_growth_flux*0.999,6))\n",
    "    yield_b_glc_g = (max_beta_flux /abs(solution_beta.fluxes[\"EX_glc__D_e\"]))*(beta_weight/glucose_weight)\n",
    "    yield_b_glc_mol = max_beta_flux /abs(solution_beta.fluxes[\"EX_glc__D_e\"])\n",
    "    yield_b_X_g = (max_beta_flux /abs(solution_beta.fluxes[\"BIOMASS_SC5_notrace\"]))*(beta_weight/biomass_weight)\n",
    "    yield_b_X_mol = max_beta_flux /abs(solution_beta.fluxes[\"BIOMASS_SC5_notrace\"])\n",
    "    print(\"Max β-carotene flux on glucose:\",round(max_beta_flux,6))\n",
    "    print(\"yield beta/glc:\\t\\t\\t\", round(yield_b_glc_mol,6), \"\\tmol/mol\")\n",
    "    print(\"Yield beta/glc:\\t\\t\\t\", round(yield_b_glc_g*1000,3), \"\\tmg/g\")\n",
    "    print(\"yield beta/x:\\t\\t\\t\", round(yield_b_X_mol,6), \"\\tmol/mol\")\n",
    "    print(\"Yield beta/x:\\t\\t\\t\", round(yield_b_X_g*1000,3), \"\\tmg/g\\n\")\n",
    "    "
   ]
  },
  {
   "cell_type": "code",
   "execution_count": 143,
   "metadata": {
    "jupyter": {
     "source_hidden": true
    }
   },
   "outputs": [
    {
     "name": "stdout",
     "output_type": "stream",
     "text": [
      "Optknock knockout plot: \n"
     ]
    },
    {
     "data": {
      "image/png": "[encoded data removed]",
      "text/plain": [
       "<Figure size 432x288 with 1 Axes>"
      ]
     },
     "metadata": {
      "needs_background": "light"
     },
     "output_type": "display_data"
    }
   ],
   "source": [
    "with model_iMM904:\n",
    "    model_iMM904.reactions.FACOAL181.bounds = 0,0\n",
    "    model_iMM904.reactions.MTHFD.bounds = 0,0\n",
    "    model_iMM904.reactions.ACt2r.bounds = 0,0\n",
    "\n",
    "    #Plot the relation between growth and  β-carotene produciton \n",
    "    print(\"Optknock knockout plot: \")\n",
    "    max_beta = production_envelope(\n",
    "            model_iMM904,\n",
    "            reactions=[model_iMM904.reactions.EX_beta],\n",
    "            objective=model_iMM904.reactions.BIOMASS_SC5_notrace\n",
    "            )\n",
    "    max_beta.plot(x='EX_beta', y='flux_maximum')"
   ]
  },
  {
   "cell_type": "markdown",
   "metadata": {},
   "source": [
    "Different combinations of gene knockout did have apositive effect on the final flow of beta-carotene. \n",
    "\n",
    "yield x/glc is increased both mol (from 0.03 to 0.07 )  and mg (112.99 to 269.94), the yield in minimum growth is increased (beta/glc to 0.04 to 0.07 mmol) and  (yield beta/x 124.3 to 145.79mmol - also fir mg pr g) . yield at max is increased for glucose( yield beta/glc 6.3e-05 to 0.000113 mmol) but not on biomass (yield beta/x 0.002192 to 0.00164 mmol). However we see that the mazimum\n"
   ]
  },
  {
   "cell_type": "code",
   "execution_count": null,
   "metadata": {},
   "outputs": [],
   "source": []
  },
  {
   "cell_type": "markdown",
   "metadata": {},
   "source": [
    "### Finding knock-outs with OptKnock\n",
    "We chose to also try OptKnock to find possible knock-outs to optimize the beta-carotene production. A screenshot of the code is seen below. For the full code see the notebook OptKnock.ipynb."
   ]
  },
  {
   "cell_type": "markdown",
   "metadata": {},
   "source": [
    "![Opt](Figures/OptKnock.png)"
   ]
  },
  {
   "cell_type": "markdown",
   "metadata": {},
   "source": [
    "As seen from the table above we get a fva value of 0, meaning that we do not get any production of beta-carotene but that we observe the optimal growth rate for our S. Cerevisiae strain. Put in other words this means that we do not get an increased beta-carotene yield by knocking out multiple gene combinations of max 3 genes at a time. By using the optknock function we do though not get the full picture of the situation, as the optknock function only optimize the pathway leading up to our product of biomass. Optknock do hence not account for the presence of competing pathways in the metabolic network, which possibly fuel on our synthesized product and like that degrade it resulting in lower production titers than reality. In order to investigate if this is the case one could run robustknock but as this is not implemented in a python package, yet we will not do this. "
   ]
  },
  {
   "cell_type": "code",
   "execution_count": 18,
   "metadata": {
    "jupyter": {
     "source_hidden": true
    }
   },
   "outputs": [
    {
     "name": "stdout",
     "output_type": "stream",
     "text": [
      "Maximum growth:  0.28754975097687085\n",
      "Maximum beta-carotene flow:  0.3514376996805114\n"
     ]
    }
   ],
   "source": [
    "with model_iMM904:\n",
    "    model_iMM904.reactions.FACOAL181.bounds = 0,0\n",
    "    model_iMM904.reactions.MTHFD.bounds = 0,0\n",
    "    model_iMM904.reactions.ACt2r.bounds = 0,0\n",
    "    print(\"Maximum growth: \",model_iMM904.optimize().objective_value)\n",
    "    model_iMM904.objective = model_iMM904.reactions.EX_beta \n",
    "    print(\"Maximum beta-carotene flow: \",model_iMM904.optimize().objective_value)"
   ]
  },
  {
   "cell_type": "code",
   "execution_count": 138,
   "metadata": {
    "jupyter": {
     "source_hidden": true
    }
   },
   "outputs": [
    {
     "name": "stdout",
     "output_type": "stream",
     "text": [
      "\n",
      "Maximum beta-carotene yield with a min growth flux of 1 % of the max growth flux: 0.002875\n",
      "Max β-carotene flux on glucose: 0.357801\n",
      "yield beta/glc:\t\t\t 0.04 \t\tmol/mol\n",
      "Yield beta/glc:\t\t\t 106.55 \tmg/g\n",
      "yield beta/x:\t\t\t 124.43 \tmol/mol\n",
      "Yield beta/x:\t\t\t 94402.0 \tmg/g\n",
      "\n",
      "Maximum β-carotene yield with a min growth flux of 99,9 % of the max groth flow: 0.287262\n",
      "Max β-carotene flux on glucose: 0.00063\n",
      "yield beta/glc:\t\t\t 6.3e-05 \tmol/mol\n",
      "Yield beta/glc:\t\t\t 0.188 \tmg/g\n",
      "yield beta/x:\t\t\t 0.002194 \tmol/mol\n",
      "Yield beta/x:\t\t\t 1.665 \tmg/g\n",
      "\n"
     ]
    }
   ],
   "source": [
    "with model_iMM904:\n",
    "    model_iMM904.reactions.FACOAL181.bounds = 0,0\n",
    "    model_iMM904.reactions.MTHFD.bounds = 0,0\n",
    "    model_iMM904.reactions.ACt2r.bounds = 0,0\n",
    "    #Check max growth\n",
    "    model_iMM904.objective = model_iMM904.reactions.BIOMASS_SC5_notrace \n",
    "    solution = model_iMM904.optimize()\n",
    "    max_growth_flux = model_iMM904.optimize().objective_value\n",
    "\n",
    "    #Find max production at at least 1 % growth flux.\n",
    "    model_iMM904.reactions.BIOMASS_SC5_notrace.bounds = max_growth_flux*0.01, 100\n",
    "    print('\\nMaximum beta-carotene yield with a min growth flux of 1 % of the max growth flux:', round(max_growth_flux *0.01,6))\n",
    "    #Change objective to max EX_beta and find max beta-carotene flux\n",
    "    model_iMM904.objective = model_iMM904.reactions.EX_beta\n",
    "    solution = model_iMM904.optimize()\n",
    "    initial_beta_flow = model_iMM904.optimize().objective_value \n",
    "\n",
    "    #Yield calculations of beta-carotene at min 1% growth flux\n",
    "    yield_b_glc_g = (initial_beta_flow/abs(solution.fluxes[\"EX_glc__D_e\"]))*(beta_weight/glucose_weight)\n",
    "    yield_b_glc_mol = initial_beta_flow/abs(solution.fluxes[\"EX_glc__D_e\"])\n",
    "    yield_b_X_g = (initial_beta_flow/abs(solution.fluxes[\"BIOMASS_SC5_notrace\"]))*(beta_weight/biomass_weight)\n",
    "    yield_b_X_mol = initial_beta_flow/abs(solution.fluxes[\"BIOMASS_SC5_notrace\"])\n",
    "    print(\"Max β-carotene flux on glucose:\",round(initial_beta_flow,6))\n",
    "    print(\"yield beta/glc:\\t\\t\\t\", round(yield_b_glc_mol,2), \"\\t\\tmol/mol\")\n",
    "    print(\"Yield beta/glc:\\t\\t\\t\", round(yield_b_glc_g*1000,2), \"\\tmg/g\")\n",
    "    print(\"yield beta/x:\\t\\t\\t\", round(yield_b_X_mol,2), \"\\tmol/mol\")\n",
    "    print(\"Yield beta/x:\\t\\t\\t\", round(yield_b_X_g*1000,2), \"\\tmg/g\\n\")\n",
    "\n",
    "\n",
    "    #Calculate β-carotene flux at 99.9 % growth flux\n",
    "    model_iMM904.reactions.BIOMASS_SC5_notrace.bounds = max_growth_flux*0.999, 100\n",
    "    model_iMM904.objective = model_iMM904.reactions.EX_beta \n",
    "    solution_beta = model_iMM904.optimize()\n",
    "    max_beta_flux = model_iMM904.optimize().objective_value \n",
    "\n",
    "    #Caluclate yields\n",
    "    print('Maximum β-carotene yield with a min growth flux of 99,9 % of the max groth flow:', round(max_growth_flux*0.999,6))\n",
    "    yield_b_glc_g = (max_beta_flux /abs(solution_beta.fluxes[\"EX_glc__D_e\"]))*(beta_weight/glucose_weight)\n",
    "    yield_b_glc_mol = max_beta_flux /abs(solution_beta.fluxes[\"EX_glc__D_e\"])\n",
    "    yield_b_X_g = (max_beta_flux /abs(solution_beta.fluxes[\"BIOMASS_SC5_notrace\"]))*(beta_weight/biomass_weight)\n",
    "    yield_b_X_mol = max_beta_flux /abs(solution_beta.fluxes[\"BIOMASS_SC5_notrace\"])\n",
    "    print(\"Max β-carotene flux on glucose:\",round(max_beta_flux,6))\n",
    "    print(\"yield beta/glc:\\t\\t\\t\", round(yield_b_glc_mol,6), \"\\tmol/mol\")\n",
    "    print(\"Yield beta/glc:\\t\\t\\t\", round(yield_b_glc_g*1000,3), \"\\tmg/g\")\n",
    "    print(\"yield beta/x:\\t\\t\\t\", round(yield_b_X_mol,6), \"\\tmol/mol\")\n",
    "    print(\"Yield beta/x:\\t\\t\\t\", round(yield_b_X_g*1000,3), \"\\tmg/g\\n\")\n",
    "    \n"
   ]
  },
  {
   "cell_type": "code",
   "execution_count": 137,
   "metadata": {},
   "outputs": [
    {
     "name": "stdout",
     "output_type": "stream",
     "text": [
      "Paper knockout plot: \n"
     ]
    },
    {
     "data": {
      "image/png": "[encoded data removed]",
      "text/plain": [
       "<Figure size 432x288 with 1 Axes>"
      ]
     },
     "metadata": {
      "needs_background": "light"
     },
     "output_type": "display_data"
    }
   ],
   "source": [
    "with model_iMM904:\n",
    "    model_iMM904.reactions.FACOAL181.bounds = 0,0\n",
    "    model_iMM904.reactions.MTHFD.bounds = 0,0\n",
    "    model_iMM904.reactions.ACt2r.bounds = 0,0\n",
    "\n",
    "    #Plot the relation between growth and  β-carotene produciton \n",
    "    print(\"Paper knockout plot: \")\n",
    "    max_beta = production_envelope(\n",
    "            model_iMM904,\n",
    "            reactions=[model_iMM904.reactions.EX_beta],\n",
    "            objective=model_iMM904.reactions.BIOMASS_SC5_notrace\n",
    "            )\n",
    "    max_beta.plot(x='EX_beta', y='flux_maximum')"
   ]
  },
  {
   "cell_type": "markdown",
   "metadata": {},
   "source": [
    "With this we see an increase of  Yield beta/x: mg from 94299.97 to 94402.0 and a small increase Yield beta/x from 1.663 to 1.665 mg. This indicates that these three knockouts improves the production a little bit, thoug not near the yield from the paper. "
   ]
  },
  {
   "cell_type": "markdown",
   "metadata": {},
   "source": [
    "## 5. Discussion (<500 words)"
   ]
  },
  {
   "cell_type": "markdown",
   "metadata": {},
   "source": [
    "Then using the model to optimize to maximum β-carotene production, then no flux toward biomass is observed. This means that at maximum production, it is not possible for the cell to growth and thus system is not feasible for production. To ensure a both growth and high production, a trade off is needed where the organism produces β-carotene at a lower rate then maximum to ensure that there are carbon for growth and maintains of the organisms. In the report, the trade off is set to a minimum growth rate of 99.9% of the maximum growth rate then maximizing the β-carotene production. Here enough carbon is directed into biomass to ensure growth and the production yield becomes more realistic compare to the paper [reference].\n",
    "With the knock out strategies, did not lead to useful results. Using OptKnock it was not possible to identify any combination of gene knockouts that would give an increased yield and insure a growth rate at the same time. Then replicating the gene knockouts from the paper [reference to paper], only a decrease in flux is observed. This means that even though we chose a model with a high score and the most reactions and genes within, it does not mimic the complexity of the organism in term of number of genes and regulation of gene expression. This makes seems then there are 5.800 protein encoding gene in S. cerevisiae and only 905 gene in the model.\n",
    "However changing the carbon source to give a higher yield compared to the yield on glucose on a number of different carbon sources. Here it is the carbon source xanthosian which gives the best yield. The model predicts that the growth on xanthosian gives a 20.74% increase in yield mg β-carotene/ g xanthosian however a small decrease on 5.77% is observed then looking at the yield mg β-carotene / g DW. However this carbon source is complex and cost 1,434.83 USD pr. gram[sigma]. Therefore it will be expensive to use this carbon source for production. \n"
   ]
  },
  {
   "cell_type": "markdown",
   "metadata": {},
   "source": [
    "## 6. Conclusion (<200 words)"
   ]
  },
  {
   "cell_type": "markdown",
   "metadata": {},
   "source": [
    "Throughout this work we have investigated the beta-carotene production possibilities from a non-natural producer, namely S. cerevisiae strain S288C. In addition, we have investigated different available GSM and utilized the GSM iMM904 which received the highest score through memote and subsequent contained more metabolites, reactions and genes. We studied two different beta-carotene pathways and excluded one based on the need for Plastoquinol and incorporated the metabolites and pathways from the other into the GSM for its natural synthesis of beta-carotene. \n",
    "We have used computational modeling to predict genetic manipulation that can optimize our microbial strain to a max production rate of beta-carotene, among these we found that we could obtain a % increase in growth rate and a % increase in beta-carotene production by changing the carbon source to …. but found no increase in flow when grown under anerobic conditions. Note that these numbers are independent upon each other. Based upon a literature search we knocked out different gene combinations as well as analyzed knockout possibilities through optknock but did not experience an increase in beta-carotene flow. \n",
    "In short, we have engineered the S. cerevisiae strain S288C to produce ….. g/mol beta-carotene with a growth rate of …."
   ]
  },
  {
   "cell_type": "markdown",
   "metadata": {},
   "source": [
    "## References"
   ]
  },
  {
   "cell_type": "markdown",
   "metadata": {},
   "source": [
    "[1] Berman, Judit, et al. “Nutritionally Important Carotenoids as Consumer Products.” Phytochemistry Reviews, vol. 14, no. 5, Springer Netherlands, 2015, pp. 727–43, doi:10.1007/s11101-014-9373-1, 10.1007/11101.1572-980X.\n",
    "\n",
    "[2] Bogacz-Radomska, Ludmila, and Joanna Harasym. “β-Carotene-Properties and Production Methods.” Food Quality and Safety, vol. 2, no. 2, Oxford University Press, 2018, pp. 69–74, doi:10.1093/fqsafe/fyy004.\n",
    "\n",
    "[3] Madigan, M. T., Martinko, J. M., & Parker, J. (2014). Brock biology of microorganisms. Upper Saddle River, NJ: Prentice Hall/Pearson Education.\n",
    "\n",
    "[4]Li, Q., Sun, Z., Li, J., & Zhang, Y. (2013). Enhancing beta-carotene production in *Saccharomyces cerevisiae* by metabolic engineering. FEMS microbiology letters, 345(2), 94–101. https://doi.org/10.1111/1574-6968.12187\n",
    "\n",
    "[5] Fisk, D. G., Ball, C. A., Dolinski, K., Engel, S. R., Hong, E. L., Issel-Tarver, L., Schwartz, K., Sethuraman, A., Botstein, D., Cherry, J. M., & Saccharomyces Genome Database Project (2006). Saccharomyces cerevisiae S288C genome annotation: a working hypothesis. Yeast (Chichester, England), 23(12), 857–865. https://doi.org/10.1002/yea.1400\n",
    "\n",
    "[6] This statement is based on seach on the website http://bigg.ucsd.edu/search?query=Saccharomyces+cerevisiae the 10/11/2020.\n",
    "\n",
    "[7] β-Carotene—properties and production methods (Food Quality and Safety)\n",
    "\n",
    "[8] Engineering microbial factories for synthesis of value-added products (J Ind Microbiol Biotechnol.)\n",
    "\n",
    "[9] https://www.genome.jp/kegg-bin/show_pathway?map00906+C02094 (last visted: 27/11 - 2020)\n",
    "\n",
    "[10] Verwaal, René et al. “High-level production of beta-carotene in Saccharomyces cerevisiae by successive transformation with carotenogenic genes from Xanthophyllomyces dendrorhous.” Applied and environmental microbiology vol. 73,13 (2007): 4342-50. doi:10.1128/AEM.02759-06\n",
    "\n"
   ]
  }
 ],
 "metadata": {
  "kernelspec": {
   "display_name": "Python 3",
   "language": "python",
   "name": "python3"
  },
  "language_info": {
   "codemirror_mode": {
    "name": "ipython",
    "version": 3
   },
   "file_extension": ".py",
   "mimetype": "text/x-python",
   "name": "python",
   "nbconvert_exporter": "python",
   "pygments_lexer": "ipython3",
   "version": "3.8.3"
  }
 },
 "nbformat": 4,
 "nbformat_minor": 4
}
