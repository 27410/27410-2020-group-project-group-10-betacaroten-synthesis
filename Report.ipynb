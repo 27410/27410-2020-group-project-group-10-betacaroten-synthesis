{
 "cells": [
  {
   "cell_type": "markdown",
   "metadata": {},
   "source": [
    "# [Title]"
   ]
  },
  {
   "cell_type": "markdown",
   "metadata": {},
   "source": [
    "## 1. Introduction"
   ]
  },
  {
   "cell_type": "markdown",
   "metadata": {},
   "source": [
    "### 1.1 Literature review of the compound (<500 words)"
   ]
  },
  {
   "cell_type": "markdown",
   "metadata": {},
   "source": [
    "β-carotene is "
   ]
  },
  {
   "cell_type": "markdown",
   "metadata": {},
   "source": [
    "![Beta-carotine drawing](Figures/Beta-Carotin.png)"
   ]
  },
  {
   "cell_type": "markdown",
   "metadata": {},
   "source": [
    "### 1.2 Literature review of the cell factory (<500 words)"
   ]
  },
  {
   "cell_type": "markdown",
   "metadata": {},
   "source": [
    "For this project, the strain Saccharomyces cerevisiae S288C was chosen. This strain is a..."
   ]
  },
  {
   "cell_type": "markdown",
   "metadata": {},
   "source": [
    "## 2. Problem definition (<300 words)"
   ]
  },
  {
   "cell_type": "markdown",
   "metadata": {},
   "source": [
    "## 3. *If Project category II:* Selection and assessment of existing GSM (<500 words)"
   ]
  },
  {
   "cell_type": "markdown",
   "metadata": {},
   "source": [
    "Using the data base BiGG, two GSM models for S. cerevisias was identified. Both are from the same strain, strain S288C, however one, iMM904, contains 1226 metabolites, 1557 reaction and 905 genes while the other one, iND750, is a bit smaller with 1059 metabolites, 1266 reactions and 750 genes. Before begning on the engineering, memote will be used to detemine which model have the best score and choose that on to work with. "
   ]
  },
  {
   "cell_type": "code",
   "execution_count": null,
   "metadata": {},
   "outputs": [],
   "source": [
    "import numpy as np\n",
    "from cobra.io import read_sbml_model\n",
    "from cobra import Reaction, Metabolite"
   ]
  },
  {
   "cell_type": "code",
   "execution_count": null,
   "metadata": {},
   "outputs": [],
   "source": [
    "model_iMM904 = read_sbml_model('iMM904.xml')"
   ]
  },
  {
   "cell_type": "code",
   "execution_count": 6,
   "metadata": {
    "collapsed": true,
    "jupyter": {
     "outputs_hidden": true
    }
   },
   "outputs": [
    {
     "name": "stdout",
     "output_type": "stream",
     "text": [
      "\u001b[1m============================= test session starts ==============================\u001b[0m\n",
      "platform linux -- Python 3.6.12, pytest-6.0.2, py-1.9.0, pluggy-0.13.1\n",
      "rootdir: /usr/local/lib/python3.6/dist-packages/memote/suite/tests\n",
      "collected 145 items                                                            \u001b[0m\u001b[1m\n",
      "\n",
      "../../../../usr/local/lib/python3.6/dist-packages/memote/suite/tests/test_annotation.py \u001b[32m.\u001b[0m\u001b[32m [  0%]\n",
      "\u001b[0m\u001b[32m.\u001b[0m\u001b[32m.\u001b[0m\u001b[31mF\u001b[0m\u001b[31mF\u001b[0m\u001b[31mF\u001b[0m\u001b[31mF\u001b[0m\u001b[31mF\u001b[0m\u001b[31mF\u001b[0m\u001b[31mF\u001b[0m\u001b[31mF\u001b[0m\u001b[32m.\u001b[0m\u001b[32m.\u001b[0m\u001b[31mF\u001b[0m\u001b[31mF\u001b[0m\u001b[31mF\u001b[0m\u001b[31mF\u001b[0m\u001b[31mF\u001b[0m\u001b[32m.\u001b[0m\u001b[31mF\u001b[0m\u001b[31mF\u001b[0m\u001b[31mF\u001b[0m\u001b[31mF\u001b[0m\u001b[31mF\u001b[0m\u001b[31mF\u001b[0m\u001b[31mF\u001b[0m\u001b[31mF\u001b[0m\u001b[31mF\u001b[0m\u001b[31mF\u001b[0m\u001b[31mF\u001b[0m\u001b[31mF\u001b[0m\u001b[31mF\u001b[0m\u001b[31mF\u001b[0m\u001b[31mF\u001b[0m\u001b[32m.\u001b[0m\u001b[32m.\u001b[0m\u001b[31mF\u001b[0m\u001b[31mF\u001b[0m\u001b[32m.\u001b[0m\u001b[32m.\u001b[0m\u001b[31mF\u001b[0m\u001b[32m.\u001b[0m\u001b[32m.\u001b[0m\u001b[32m.\u001b[0m\u001b[31mF\u001b[0m\u001b[32m.\u001b[0m\u001b[32m.\u001b[0m\u001b[32m.\u001b[0m\u001b[32m.\u001b[0m\u001b[31mF\u001b[0m\u001b[31mF\u001b[0m\u001b[31mF\u001b[0m\u001b[32m.\u001b[0m\u001b[31mF\u001b[0m\u001b[31mF\u001b[0m\u001b[31mF\u001b[0m\u001b[31mF\u001b[0m\u001b[31mF\u001b[0m\u001b[32m.\u001b[0m\u001b[31mF\u001b[0m\u001b[31mF\u001b[0m\u001b[31mF\u001b[0m\u001b[31mF\u001b[0m\u001b[32m.\u001b[0m\u001b[32m.\u001b[0m\u001b[31m         [ 44%]\u001b[0m\n",
      "../../../../usr/local/lib/python3.6/dist-packages/memote/suite/tests/test_basic.py \u001b[32m.\u001b[0m\u001b[31m [ 45%]\n",
      "\u001b[0m\u001b[32m.\u001b[0m\u001b[32m.\u001b[0m\u001b[32m.\u001b[0m\u001b[32m.\u001b[0m\u001b[32m.\u001b[0m\u001b[31mF\u001b[0m\u001b[31mF\u001b[0m\u001b[32m.\u001b[0m\u001b[32m.\u001b[0m\u001b[32m.\u001b[0m\u001b[32m.\u001b[0m\u001b[32m.\u001b[0m\u001b[32m.\u001b[0m\u001b[32m.\u001b[0m\u001b[31mF\u001b[0m\u001b[32m.\u001b[0m\u001b[32m.\u001b[0m\u001b[32m.\u001b[0m\u001b[31mF\u001b[0m\u001b[32m.\u001b[0m\u001b[31mF\u001b[0m\u001b[31mF\u001b[0m\u001b[31m                                                   [ 60%]\u001b[0m\n",
      "../../../../usr/local/lib/python3.6/dist-packages/memote/suite/tests/test_biomass.py \u001b[32m.\u001b[0m\u001b[31m [ 61%]\n",
      "\u001b[0m\u001b[31mF\u001b[0m\u001b[32m.\u001b[0m\u001b[32m.\u001b[0m\u001b[32m.\u001b[0m\u001b[32m.\u001b[0m\u001b[31mF\u001b[0m\u001b[31mF\u001b[0m\u001b[32m.\u001b[0m\u001b[31mF\u001b[0m\u001b[31m                                                                [ 67%]\u001b[0m\n",
      "../../../../usr/local/lib/python3.6/dist-packages/memote/suite/tests/test_consistency.py \u001b[32m.\u001b[0m\u001b[31m [ 68%]\n",
      "\u001b[0m\u001b[33ms\u001b[0m\u001b[33ms\u001b[0m\u001b[33ms\u001b[0m\u001b[33ms\u001b[0m\u001b[33ms\u001b[0m\u001b[33ms\u001b[0m\u001b[33ms\u001b[0m\u001b[33ms\u001b[0m\u001b[33ms\u001b[0m\u001b[33ms\u001b[0m\u001b[33ms\u001b[0m\u001b[33ms\u001b[0m\u001b[33ms\u001b[0m\u001b[33ms\u001b[0m\u001b[33ms\u001b[0m\u001b[33ms\u001b[0m\u001b[31mF\u001b[0m\u001b[31mF\u001b[0m\u001b[31mF\u001b[0m\u001b[31mF\u001b[0m\u001b[31mF\u001b[0m\u001b[31mF\u001b[0m\u001b[32m.\u001b[0m\u001b[31mF\u001b[0m\u001b[31mF\u001b[0m\u001b[31mF\u001b[0m\u001b[31m                                               [ 86%]\u001b[0m\n",
      "../../../../usr/local/lib/python3.6/dist-packages/memote/suite/tests/test_essentiality.py \u001b[33ms\u001b[0m\u001b[31m [ 86%]\n",
      "\u001b[0m\u001b[31m                                                                         [ 86%]\u001b[0m\n",
      "../../../../usr/local/lib/python3.6/dist-packages/memote/suite/tests/test_growth.py \u001b[33ms\u001b[0m\u001b[31m [ 87%]\n",
      "\u001b[0m\u001b[31m                                                                         [ 87%]\u001b[0m\n",
      "../../../../usr/local/lib/python3.6/dist-packages/memote/suite/tests/test_matrix.py \u001b[32m.\u001b[0m\u001b[31m [ 88%]\n",
      "\u001b[0m\u001b[32m.\u001b[0m\u001b[32m.\u001b[0m\u001b[32m.\u001b[0m\u001b[31m                                                                      [ 90%]\u001b[0m\n",
      "../../../../usr/local/lib/python3.6/dist-packages/memote/suite/tests/test_sbml.py \u001b[32m.\u001b[0m\u001b[31m [ 91%]\n",
      "\u001b[0m\u001b[32m.\u001b[0m\u001b[31m                                                                        [ 91%]\u001b[0m\n",
      "../../../../usr/local/lib/python3.6/dist-packages/memote/suite/tests/test_sbo.py \u001b[31mF\u001b[0m\u001b[31m [ 92%]\n",
      "\u001b[0m\u001b[31mF\u001b[0m\u001b[31mF\u001b[0m\u001b[31mF\u001b[0m\u001b[31mF\u001b[0m\u001b[31mF\u001b[0m\u001b[31mF\u001b[0m\u001b[31mF\u001b[0m\u001b[33ms\u001b[0m\u001b[33ms\u001b[0m\u001b[32m.\u001b[0m\u001b[31m                                                               [ 99%]\u001b[0m\n",
      "../../../../usr/local/lib/python3.6/dist-packages/memote/suite/tests/test_thermodynamics.py \u001b[32m.\u001b[0m\u001b[31m [100%]\u001b[0m\n",
      "\n",
      "\u001b[33m=============================== warnings summary ===============================\u001b[0m\n",
      "/usr/local/lib/python3.6/dist-packages/_pytest/stepwise.py:122\n",
      "  /usr/local/lib/python3.6/dist-packages/_pytest/stepwise.py:122 \u001b[1;31mPytestCacheWarning\u001b[0m: could not create cache path /usr/local/lib/python3.6/dist-packages/memote/suite/tests/.pytest_cache/v/cache/stepwise\n",
      "\n",
      "/usr/local/lib/python3.6/dist-packages/_pytest/cacheprovider.py:396\n",
      "  /usr/local/lib/python3.6/dist-packages/_pytest/cacheprovider.py:396 \u001b[1;31mPytestCacheWarning\u001b[0m: could not create cache path /usr/local/lib/python3.6/dist-packages/memote/suite/tests/.pytest_cache/v/cache/nodeids\n",
      "\n",
      "/usr/local/lib/python3.6/dist-packages/_pytest/cacheprovider.py:350\n",
      "  /usr/local/lib/python3.6/dist-packages/_pytest/cacheprovider.py:350 \u001b[1;31mPytestCacheWarning\u001b[0m: could not create cache path /usr/local/lib/python3.6/dist-packages/memote/suite/tests/.pytest_cache/v/cache/lastfailed\n",
      "\n",
      "-- Docs: https://docs.pytest.org/en/stable/warnings.html\n",
      "=========================== short test summary info ============================\n",
      "FAILED ../../../../usr/local/lib/python3.6/dist-packages/memote/suite/tests/test_annotation.py::test_metabolite_annotation_overview[pubchem.compound]\n",
      "FAILED ../../../../usr/local/lib/python3.6/dist-packages/memote/suite/tests/test_annotation.py::test_metabolite_annotation_overview[kegg.compound]\n",
      "FAILED ../../../../usr/local/lib/python3.6/dist-packages/memote/suite/tests/test_annotation.py::test_metabolite_annotation_overview[seed.compound]\n",
      "FAILED ../../../../usr/local/lib/python3.6/dist-packages/memote/suite/tests/test_annotation.py::test_metabolite_annotation_overview[inchikey]\n",
      "FAILED ../../../../usr/local/lib/python3.6/dist-packages/memote/suite/tests/test_annotation.py::test_metabolite_annotation_overview[inchi]\n",
      "FAILED ../../../../usr/local/lib/python3.6/dist-packages/memote/suite/tests/test_annotation.py::test_metabolite_annotation_overview[chebi]\n",
      "FAILED ../../../../usr/local/lib/python3.6/dist-packages/memote/suite/tests/test_annotation.py::test_metabolite_annotation_overview[hmdb]\n",
      "FAILED ../../../../usr/local/lib/python3.6/dist-packages/memote/suite/tests/test_annotation.py::test_metabolite_annotation_overview[reactome]\n",
      "FAILED ../../../../usr/local/lib/python3.6/dist-packages/memote/suite/tests/test_annotation.py::test_metabolite_annotation_overview[biocyc]\n",
      "FAILED ../../../../usr/local/lib/python3.6/dist-packages/memote/suite/tests/test_annotation.py::test_reaction_annotation_overview[rhea]\n",
      "FAILED ../../../../usr/local/lib/python3.6/dist-packages/memote/suite/tests/test_annotation.py::test_reaction_annotation_overview[kegg.reaction]\n",
      "FAILED ../../../../usr/local/lib/python3.6/dist-packages/memote/suite/tests/test_annotation.py::test_reaction_annotation_overview[seed.reaction]\n",
      "FAILED ../../../../usr/local/lib/python3.6/dist-packages/memote/suite/tests/test_annotation.py::test_reaction_annotation_overview[metanetx.reaction]\n",
      "FAILED ../../../../usr/local/lib/python3.6/dist-packages/memote/suite/tests/test_annotation.py::test_reaction_annotation_overview[reactome]\n",
      "FAILED ../../../../usr/local/lib/python3.6/dist-packages/memote/suite/tests/test_annotation.py::test_reaction_annotation_overview[ec-code]\n",
      "FAILED ../../../../usr/local/lib/python3.6/dist-packages/memote/suite/tests/test_annotation.py::test_reaction_annotation_overview[brenda]\n",
      "FAILED ../../../../usr/local/lib/python3.6/dist-packages/memote/suite/tests/test_annotation.py::test_reaction_annotation_overview[biocyc]\n",
      "FAILED ../../../../usr/local/lib/python3.6/dist-packages/memote/suite/tests/test_annotation.py::test_gene_product_annotation_overview[refseq]\n",
      "FAILED ../../../../usr/local/lib/python3.6/dist-packages/memote/suite/tests/test_annotation.py::test_gene_product_annotation_overview[uniprot]\n",
      "FAILED ../../../../usr/local/lib/python3.6/dist-packages/memote/suite/tests/test_annotation.py::test_gene_product_annotation_overview[ecogene]\n",
      "FAILED ../../../../usr/local/lib/python3.6/dist-packages/memote/suite/tests/test_annotation.py::test_gene_product_annotation_overview[kegg.genes]\n",
      "FAILED ../../../../usr/local/lib/python3.6/dist-packages/memote/suite/tests/test_annotation.py::test_gene_product_annotation_overview[ncbigi]\n",
      "FAILED ../../../../usr/local/lib/python3.6/dist-packages/memote/suite/tests/test_annotation.py::test_gene_product_annotation_overview[ncbigene]\n",
      "FAILED ../../../../usr/local/lib/python3.6/dist-packages/memote/suite/tests/test_annotation.py::test_gene_product_annotation_overview[ncbiprotein]\n",
      "FAILED ../../../../usr/local/lib/python3.6/dist-packages/memote/suite/tests/test_annotation.py::test_gene_product_annotation_overview[ccds]\n",
      "FAILED ../../../../usr/local/lib/python3.6/dist-packages/memote/suite/tests/test_annotation.py::test_gene_product_annotation_overview[hprd]\n",
      "FAILED ../../../../usr/local/lib/python3.6/dist-packages/memote/suite/tests/test_annotation.py::test_gene_product_annotation_overview[asap]\n",
      "FAILED ../../../../usr/local/lib/python3.6/dist-packages/memote/suite/tests/test_annotation.py::test_metabolite_annotation_wrong_ids[pubchem.compound]\n",
      "FAILED ../../../../usr/local/lib/python3.6/dist-packages/memote/suite/tests/test_annotation.py::test_metabolite_annotation_wrong_ids[inchikey]\n",
      "FAILED ../../../../usr/local/lib/python3.6/dist-packages/memote/suite/tests/test_annotation.py::test_metabolite_annotation_wrong_ids[inchi]\n",
      "FAILED ../../../../usr/local/lib/python3.6/dist-packages/memote/suite/tests/test_annotation.py::test_metabolite_annotation_wrong_ids[reactome]\n",
      "FAILED ../../../../usr/local/lib/python3.6/dist-packages/memote/suite/tests/test_annotation.py::test_reaction_annotation_wrong_ids[rhea]\n",
      "FAILED ../../../../usr/local/lib/python3.6/dist-packages/memote/suite/tests/test_annotation.py::test_reaction_annotation_wrong_ids[reactome]\n",
      "FAILED ../../../../usr/local/lib/python3.6/dist-packages/memote/suite/tests/test_annotation.py::test_reaction_annotation_wrong_ids[ec-code]\n",
      "FAILED ../../../../usr/local/lib/python3.6/dist-packages/memote/suite/tests/test_annotation.py::test_reaction_annotation_wrong_ids[brenda]\n",
      "FAILED ../../../../usr/local/lib/python3.6/dist-packages/memote/suite/tests/test_annotation.py::test_gene_product_annotation_wrong_ids[refseq]\n",
      "FAILED ../../../../usr/local/lib/python3.6/dist-packages/memote/suite/tests/test_annotation.py::test_gene_product_annotation_wrong_ids[uniprot]\n",
      "FAILED ../../../../usr/local/lib/python3.6/dist-packages/memote/suite/tests/test_annotation.py::test_gene_product_annotation_wrong_ids[ecogene]\n",
      "FAILED ../../../../usr/local/lib/python3.6/dist-packages/memote/suite/tests/test_annotation.py::test_gene_product_annotation_wrong_ids[kegg.genes]\n",
      "FAILED ../../../../usr/local/lib/python3.6/dist-packages/memote/suite/tests/test_annotation.py::test_gene_product_annotation_wrong_ids[ncbigi]\n",
      "FAILED ../../../../usr/local/lib/python3.6/dist-packages/memote/suite/tests/test_annotation.py::test_gene_product_annotation_wrong_ids[ncbiprotein]\n",
      "FAILED ../../../../usr/local/lib/python3.6/dist-packages/memote/suite/tests/test_annotation.py::test_gene_product_annotation_wrong_ids[ccds]\n",
      "FAILED ../../../../usr/local/lib/python3.6/dist-packages/memote/suite/tests/test_annotation.py::test_gene_product_annotation_wrong_ids[hprd]\n",
      "FAILED ../../../../usr/local/lib/python3.6/dist-packages/memote/suite/tests/test_annotation.py::test_gene_product_annotation_wrong_ids[asap]\n",
      "FAILED ../../../../usr/local/lib/python3.6/dist-packages/memote/suite/tests/test_basic.py::test_gene_protein_reaction_rule_presence\n",
      "FAILED ../../../../usr/local/lib/python3.6/dist-packages/memote/suite/tests/test_basic.py::test_ngam_presence\n",
      "FAILED ../../../../usr/local/lib/python3.6/dist-packages/memote/suite/tests/test_basic.py::test_transport_reaction_gpr_presence\n",
      "FAILED ../../../../usr/local/lib/python3.6/dist-packages/memote/suite/tests/test_basic.py::test_find_reactions_with_partially_identical_annotations\n",
      "FAILED ../../../../usr/local/lib/python3.6/dist-packages/memote/suite/tests/test_basic.py::test_find_reactions_with_identical_genes\n",
      "FAILED ../../../../usr/local/lib/python3.6/dist-packages/memote/suite/tests/test_basic.py::test_find_medium_metabolites\n",
      "FAILED ../../../../usr/local/lib/python3.6/dist-packages/memote/suite/tests/test_biomass.py::test_biomass_consistency[BIOMASS_SC5_notrace]\n",
      "FAILED ../../../../usr/local/lib/python3.6/dist-packages/memote/suite/tests/test_biomass.py::test_gam_in_biomass[BIOMASS_SC5_notrace]\n",
      "FAILED ../../../../usr/local/lib/python3.6/dist-packages/memote/suite/tests/test_biomass.py::test_fast_growth_default[BIOMASS_SC5_notrace]\n",
      "FAILED ../../../../usr/local/lib/python3.6/dist-packages/memote/suite/tests/test_biomass.py::test_essential_precursors_not_in_biomass[BIOMASS_SC5_notrace]\n",
      "FAILED ../../../../usr/local/lib/python3.6/dist-packages/memote/suite/tests/test_consistency.py::test_reaction_charge_balance\n",
      "FAILED ../../../../usr/local/lib/python3.6/dist-packages/memote/suite/tests/test_consistency.py::test_reaction_mass_balance\n",
      "FAILED ../../../../usr/local/lib/python3.6/dist-packages/memote/suite/tests/test_consistency.py::test_blocked_reactions\n",
      "FAILED ../../../../usr/local/lib/python3.6/dist-packages/memote/suite/tests/test_consistency.py::test_find_stoichiometrically_balanced_cycles\n",
      "FAILED ../../../../usr/local/lib/python3.6/dist-packages/memote/suite/tests/test_consistency.py::test_find_orphans\n",
      "FAILED ../../../../usr/local/lib/python3.6/dist-packages/memote/suite/tests/test_consistency.py::test_find_deadends\n",
      "FAILED ../../../../usr/local/lib/python3.6/dist-packages/memote/suite/tests/test_consistency.py::test_find_metabolites_not_produced_with_open_bounds\n",
      "FAILED ../../../../usr/local/lib/python3.6/dist-packages/memote/suite/tests/test_consistency.py::test_find_metabolites_not_consumed_with_open_bounds\n",
      "FAILED ../../../../usr/local/lib/python3.6/dist-packages/memote/suite/tests/test_consistency.py::test_find_reactions_unbounded_flux_default_condition\n",
      "FAILED ../../../../usr/local/lib/python3.6/dist-packages/memote/suite/tests/test_sbo.py::test_metabolite_sbo_presence\n",
      "FAILED ../../../../usr/local/lib/python3.6/dist-packages/memote/suite/tests/test_sbo.py::test_reaction_sbo_presence\n",
      "FAILED ../../../../usr/local/lib/python3.6/dist-packages/memote/suite/tests/test_sbo.py::test_gene_sbo_presence\n",
      "FAILED ../../../../usr/local/lib/python3.6/dist-packages/memote/suite/tests/test_sbo.py::test_metabolic_reaction_specific_sbo_presence\n",
      "FAILED ../../../../usr/local/lib/python3.6/dist-packages/memote/suite/tests/test_sbo.py::test_transport_reaction_specific_sbo_presence\n",
      "FAILED ../../../../usr/local/lib/python3.6/dist-packages/memote/suite/tests/test_sbo.py::test_metabolite_specific_sbo_presence\n",
      "FAILED ../../../../usr/local/lib/python3.6/dist-packages/memote/suite/tests/test_sbo.py::test_gene_specific_sbo_presence\n",
      "FAILED ../../../../usr/local/lib/python3.6/dist-packages/memote/suite/tests/test_sbo.py::test_exchange_specific_sbo_presence\n",
      "\u001b[31m======= \u001b[31m\u001b[1m71 failed\u001b[0m, \u001b[32m54 passed\u001b[0m, \u001b[33m20 skipped\u001b[0m, \u001b[33m3 warnings\u001b[0m\u001b[31m in 68.03s (0:01:08)\u001b[0m\u001b[31m =======\u001b[0m\n",
      "Writing snapshot report to 'iMM904.html'.\n",
      "CPU times: user 1.38 s, sys: 292 ms, total: 1.67 s\n",
      "Wall time: 1min 20s\n"
     ]
    }
   ],
   "source": [
    "%%time\n",
    "!memote report snapshot iMM904.xml --filename iMM904.html"
   ]
  },
  {
   "cell_type": "markdown",
   "metadata": {},
   "source": [
    "The overall score is 85%.\n",
    "The consistenty test gav a good result with a sub score of 96%. Here the score of stoichiometric inconsistency of 100% and the mass balance gave a score of 96%. \n",
    "For the annotation tests, the score was generlly high (above 80%) except for the genes, which only score 43%"
   ]
  },
  {
   "cell_type": "code",
   "execution_count": null,
   "metadata": {},
   "outputs": [],
   "source": [
    "model_iND750 = read_sbml_model('iND750.xml')"
   ]
  },
  {
   "cell_type": "code",
   "execution_count": null,
   "metadata": {},
   "outputs": [
    {
     "name": "stdout",
     "output_type": "stream",
     "text": [
      "\u001b[1m============================= test session starts ==============================\u001b[0m\n",
      "platform linux -- Python 3.6.12, pytest-6.0.2, py-1.9.0, pluggy-0.13.1\n",
      "rootdir: /usr/local/lib/python3.6/dist-packages/memote/suite/tests\n",
      "collected 145 items                                                            \u001b[0m\u001b[1m\n",
      "\n",
      "../../../../usr/local/lib/python3.6/dist-packages/memote/suite/tests/test_annotation.py \u001b[32m.\u001b[0m\u001b[32m [  0%]\n",
      "\u001b[0m\u001b[32m.\u001b[0m\u001b[32m.\u001b[0m\u001b[31mF\u001b[0m\u001b[31mF\u001b[0m\u001b[31mF\u001b[0m\u001b[31mF\u001b[0m\u001b[31mF\u001b[0m\u001b[31mF\u001b[0m\u001b[31mF\u001b[0m\u001b[31mF\u001b[0m\u001b[32m.\u001b[0m\u001b[32m.\u001b[0m\u001b[31mF\u001b[0m\u001b[31mF\u001b[0m\u001b[31mF\u001b[0m\u001b[31mF\u001b[0m\u001b[32m.\u001b[0m\u001b[32m.\u001b[0m\u001b[31mF\u001b[0m\u001b[31mF\u001b[0m\u001b[31mF\u001b[0m\u001b[31mF\u001b[0m\u001b[31mF\u001b[0m\u001b[31mF\u001b[0m\u001b[31mF\u001b[0m\u001b[31mF\u001b[0m\u001b[31mF\u001b[0m\u001b[31mF\u001b[0m\u001b[31mF\u001b[0m\u001b[31mF\u001b[0m\u001b[31mF\u001b[0m\u001b[31mF\u001b[0m\u001b[31mF\u001b[0m\u001b[32m.\u001b[0m\u001b[32m.\u001b[0m\u001b[31mF\u001b[0m\u001b[31mF\u001b[0m\u001b[32m.\u001b[0m\u001b[32m.\u001b[0m\u001b[31mF\u001b[0m\u001b[32m.\u001b[0m\u001b[32m.\u001b[0m\u001b[32m.\u001b[0m\u001b[32m.\u001b[0m\u001b[32m.\u001b[0m\u001b[32m.\u001b[0m\u001b[32m.\u001b[0m\u001b[32m.\u001b[0m\u001b[31mF\u001b[0m\u001b[31mF\u001b[0m\u001b[31mF\u001b[0m\u001b[32m.\u001b[0m\u001b[31mF\u001b[0m\u001b[31mF\u001b[0m\u001b[31mF\u001b[0m\u001b[31mF\u001b[0m\u001b[31mF\u001b[0m\u001b[32m.\u001b[0m\u001b[31mF\u001b[0m\u001b[31mF\u001b[0m\u001b[31mF\u001b[0m\u001b[31mF\u001b[0m\u001b[32m.\u001b[0m\u001b[32m.\u001b[0m\u001b[31m         [ 44%]\u001b[0m\n",
      "../../../../usr/local/lib/python3.6/dist-packages/memote/suite/tests/test_basic.py \u001b[32m.\u001b[0m\u001b[31m [ 45%]\n",
      "\u001b[0m\u001b[32m.\u001b[0m\u001b[32m.\u001b[0m\u001b[32m.\u001b[0m\u001b[32m.\u001b[0m\u001b[32m.\u001b[0m\u001b[31mF\u001b[0m\u001b[31mF\u001b[0m\u001b[32m.\u001b[0m\u001b[32m.\u001b[0m\u001b[32m.\u001b[0m\u001b[32m.\u001b[0m\u001b[32m.\u001b[0m\u001b[32m.\u001b[0m\u001b[32m.\u001b[0m\u001b[31mF\u001b[0m\u001b[32m.\u001b[0m\u001b[32m.\u001b[0m\u001b[32m.\u001b[0m\u001b[31mF\u001b[0m\u001b[32m.\u001b[0m\u001b[31mF\u001b[0m\u001b[31mF\u001b[0m\u001b[31m                                                   [ 60%]\u001b[0m\n",
      "../../../../usr/local/lib/python3.6/dist-packages/memote/suite/tests/test_biomass.py \u001b[32m.\u001b[0m\u001b[31m [ 61%]\n",
      "\u001b[0m\u001b[31mF\u001b[0m\u001b[32m.\u001b[0m\u001b[32m.\u001b[0m\u001b[32m.\u001b[0m\u001b[32m.\u001b[0m\u001b[31mF\u001b[0m\u001b[31mF\u001b[0m\u001b[32m.\u001b[0m\u001b[31mF\u001b[0m\u001b[31m                                                                [ 67%]\u001b[0m\n",
      "../../../../usr/local/lib/python3.6/dist-packages/memote/suite/tests/test_consistency.py \u001b[32m.\u001b[0m\u001b[31m [ 68%]\n",
      "\u001b[0m\u001b[33ms\u001b[0m\u001b[33ms\u001b[0m\u001b[33ms\u001b[0m\u001b[33ms\u001b[0m\u001b[33ms\u001b[0m\u001b[33ms\u001b[0m\u001b[33ms\u001b[0m\u001b[33ms\u001b[0m\u001b[33ms\u001b[0m\u001b[33ms\u001b[0m\u001b[33ms\u001b[0m\u001b[33ms\u001b[0m\u001b[33ms\u001b[0m\u001b[33ms\u001b[0m\u001b[33ms\u001b[0m\u001b[33ms\u001b[0m\u001b[32m.\u001b[0m\u001b[31mF\u001b[0m\u001b[31mF\u001b[0m\u001b[31mF\u001b[0m\u001b[31mF\u001b[0m\u001b[31mF\u001b[0m\u001b[32m.\u001b[0m"
     ]
    }
   ],
   "source": [
    "%%time\n",
    "!memote report snapshot  --skip test_stoichiometric_consistency \\\n",
    "    --skip test_find_metabolites_not_produced_with_open_bounds \\\n",
    "    --skip test_find_metabolites_not_consumed_with_open_bounds iND750.xml --filename iND750.html"
   ]
  },
  {
   "cell_type": "markdown",
   "metadata": {},
   "source": [
    "Delkonklussion på testen"
   ]
  },
  {
   "cell_type": "markdown",
   "metadata": {},
   "source": [
    "Endelig konklussion, hvilken vælges"
   ]
  },
  {
   "cell_type": "markdown",
   "metadata": {},
   "source": [
    "## 4. Computer-Aided Cell Factory Engineering (<1500 words if Category II project; <500 words for Category I project)"
   ]
  },
  {
   "cell_type": "markdown",
   "metadata": {},
   "source": [
    "## 5. Discussion (<500 words)"
   ]
  },
  {
   "cell_type": "markdown",
   "metadata": {},
   "source": [
    "## 6. Conclusion (<200 words)"
   ]
  },
  {
   "cell_type": "markdown",
   "metadata": {},
   "source": [
    "## References"
   ]
  },
  {
   "cell_type": "code",
   "execution_count": null,
   "metadata": {},
   "outputs": [],
   "source": []
  }
 ],
 "metadata": {
  "kernelspec": {
   "display_name": "Python 3",
   "language": "python",
   "name": "python3"
  },
  "language_info": {
   "codemirror_mode": {
    "name": "ipython",
    "version": 3
   },
   "file_extension": ".py",
   "mimetype": "text/x-python",
   "name": "python",
   "nbconvert_exporter": "python",
   "pygments_lexer": "ipython3",
   "version": "3.8.5"
  }
 },
 "nbformat": 4,
 "nbformat_minor": 4
}
