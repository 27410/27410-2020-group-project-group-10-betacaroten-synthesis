{
 "cells": [
  {
   "cell_type": "markdown",
   "metadata": {},
   "source": [
    "# β-carotene synthesis in *Saccharomyces cerevisiae*"
   ]
  },
  {
   "cell_type": "markdown",
   "metadata": {},
   "source": [
    "## 1. Introduction\n",
    "In this project we will explore the possiblilties for the production of β-carotene synthesis in *Saccharomyces cerevisiae* for a computer-based perspective. We will use an exsisting GSM to predict the behaivor after inserting the new pathway and suggest strategies for how to optimize the cell factory. "
   ]
  },
  {
   "cell_type": "markdown",
   "metadata": {},
   "source": [
    "### 1.1 Literature review of the compound (<500 words)"
   ]
  },
  {
   "cell_type": "markdown",
   "metadata": {},
   "source": [
    "**β-carotene** \n",
    "\n",
    "β-carotene belongs to the large group of caroterpernoids, also called tetraterpenoids. Caroterpernoids are organic red/orange pigments. They are found naturally in many plants and fungi as well as some algae and bacteria. β-carotene are well known for giving plants as carrots and pumkin their characteristic orange color [1]. \n",
    "\n",
    "As Caroterpernoids are tetraterpenoids they are all synthesized from 8 isoprene molecules and have the chemical formula $C_{40}$$H_{x}$. Caroterpernoids devided in two classes xanthophylls and carotenes. Xanthophylls contains oxygen whereas carotenes is purely carbohydrates. β-carotene ($C_{40}$$H_{56}$) belongs in the carotene class as can be seen on the figure below [1]. "
   ]
  },
  {
   "cell_type": "markdown",
   "metadata": {},
   "source": [
    "![Beta-carotine drawing](Figures/Beta-Carotin.png)"
   ]
  },
  {
   "cell_type": "markdown",
   "metadata": {},
   "source": [
    "β-carotene has a number of biological functions. It serves as a precursor for vitamin A, which is related to a number of important functions in the human body including proper growth and function of sight[1,2]. Moreover, it is shown to have properties as antioxidant and anticancer.\n",
    "\n",
    "β-carotene is a valuble propduct within the food, pharmalogical and cosmetic indutry. Not only for its bioactive properties but also as an additive for colouring in food and pharmaceutical tablets. Within cosmetics it is often used in creams as it protects the skin against oxidation and UV radiation[2]. \n",
    "\n",
    "**Current production methods**\n",
    "\n",
    "Currently there is different ways for production of b-carotene. This including both physiochemical, chemical and biotechnological methods. Here is presented a short overview of the different methods:\n",
    "   - **Physiochemical:** This method involves extracting b-carotene from plants, often used for this is carrots. To extract the b-carotene several steps is needed. This includes, but not limited to, following: Shredding, juicing/pressing, protein coagulation and sedimentation, extraction with organic solvents as acetone, filtration, evaporation and crystallization. The method is often costly due the large raw material need. Additionally, disadvantages for this method includes that the raw material are dependent on season and geographical area [2].\n",
    "   - **Chemical synthesis:** b-carotene can be chemical synthesized using Wittig reaction or Grignard reagents. In the Wittig reaction two phosphorium salts containing 15 carbon atoms are combined with one dialdehyde molecule containing 10 carbon atoms. After isomerization the result is the 40 carbon atoms long b-carotene [2].  With the Grignard reagent one diketone molecule and two methanol molecules are combined to form the 40 carbon atoms long products. Isomarization follows were small range of symmetric compounds are formed including b-carotene[2]. \n",
    "   - **Microbiological biosynthesis:** b-carotene can be produced by biosynthesis by a wide range of microorganisms, including yeasts, bacteria, algae and fungi. Some are natural producers where others a Saccharomyces cerevisiae have to be genetically engineered[2].\n",
    "\n",
    "\n",
    "----------------------\n",
    "[1] Berman, Judit, et al. “Nutritionally Important Carotenoids as Consumer Products.” Phytochemistry Reviews, vol. 14, no. 5, Springer Netherlands, 2015, pp. 727–43, doi:10.1007/s11101-014-9373-1, 10.1007/11101.1572-980X.\n",
    "[2] Bogacz-Radomska, Ludmila, and Joanna Harasym. “β-Carotene-Properties and Production Methods.” Food Quality and Safety, vol. 2, no. 2, Oxford University Press, 2018, pp. 69–74, doi:10.1093/fqsafe/fyy004."
   ]
  },
  {
   "cell_type": "markdown",
   "metadata": {},
   "source": [
    "### 1.2 Literature review of the cell factory (<500 words)\n",
    "*Saccharomyces cerevisiae* was chosen as the cell factory for this project, as it is a well-known organism with beneficial features in industrial production setups. It differs from the model bacterial organism *Escherichia coli* by its larger size and is presence of nucleus, and gives other possibilities of production that are not available in bacteria[1]\n",
    "\n",
    "*S. cerevisiae* is a eukaryotic single-celled organism of the species yeast, under the phylum ascomycetes. It has been used for thousands of years in various productions like wine, brewing and cheese making, and is considered non-pathogenic, which emphasises its importance to many nations. Due to the age of usage it has been studied as a model eukaryote for many years and was the first eukaryotic cell with the full genome sequenced[1]. \n",
    "\n",
    "As there have been made extensive work, which has created thorough knowledge of the specie, many advanced molecular biological tools for genetically manipulation are available. This makes it suitable to work with in the laboratory, to test new pathways and products. This is not let alone with the fact that it is advanced in growth speed and is well established in industrial biotechnology, making it suitable as a cell factory and widely used in the fermentation-based industry[2]. \n",
    "\n",
    "As this project focuses on beta-carotene production, *S. cerevisiae* has proven to be even more relevant. As conventional yeast, *S. cerevisiae* can produce geranylgeranyl diphosphate, which is a precursor in the carotenoid biosynthesis. Through genetic engineering it has been proven possible to produce beta-carotenes in *S. cerevisiae*. Compared to other heterlogous beta-carotene production organisms, it is considered safe which is important, as beta-carotenes can be used in food production etc.[4]\n",
    "\n",
    "Due to the extensive knowledge of *S. cerevisiae* and that it has already been proven possible to produce beta-carotene in the organism, we found it relevant to take a computational look at this organism and available gene sequence models (GSM). This will hopefully make it possible to predict higher production titers and better hypothetical genetic engineering strategies for production optimisation. More specificly, we will work with the strain *S. cerevisiae S288C*[3], which has two GSMs available on BIGG.com*\n",
    "\n",
    "\n",
    "[1]Madigan, M. T., Martinko, J. M., & Parker, J. (2014). Brock biology of microorganisms. Upper Saddle River, NJ: Prentice Hall/Pearson Education.\n",
    "[2]Li, Q., Sun, Z., Li, J., & Zhang, Y. (2013). Enhancing beta-carotene production in Saccharomyces cerevisiae by metabolic engineering. FEMS microbiology letters, 345(2), 94–101. https://doi.org/10.1111/1574-6968.12187\n",
    "[3] Fisk, D. G., Ball, C. A., Dolinski, K., Engel, S. R., Hong, E. L., Issel-Tarver, L., Schwartz, K., Sethuraman, A., Botstein, D., Cherry, J. M., & Saccharomyces Genome Database Project (2006). Saccharomyces cerevisiae S288C genome annotation: a working hypothesis. Yeast (Chichester, England), 23(12), 857–865. https://doi.org/10.1002/yea.1400\n",
    "\n",
    "[4] Qian Li, Zhiqiang Sun, Jing Li, Yansheng Zhang, Enhancing beta-carotene production in Saccharomyces cerevisiae by metabolic engineering, FEMS Microbiology Letters, Volume 345, Issue 2, August 2013, Pages 94–101, https://doi.org/10.1111/1574-6968.12187\n",
    "\n",
    "* This statement is based on seach on the website http://bigg.ucsd.edu/search?query=Saccharomyces+cerevisiae the 10/11/2020.\n",
    "\n"
   ]
  },
  {
   "cell_type": "markdown",
   "metadata": {},
   "source": [
    "## 2. Problem definition (<300 words)\n",
    "Beta-carotene is a carotenoid with numerous biological functions in the human body including being involved in the natural synthesis of provitamin A, among others necessary for growth, vision and embryotic development. Beta-carotene is furthermore widely used in the industry as a coloring agent in food and cosmetics and an additive in medicine as it has shown anticancer as well as antioxidant properties. Despite the numerous functions of beta-carotene, we are not able to synthesize it in the human body, pushing market demands for its synthetic production. \n",
    "Chemical synthesis is as of today the most commonly used technique for its production, but research has revealed that synthetic beta-carotene has carcinogenic activity and effective production methods for its natural synthesis is thus of great interest. Based on this extensive research has been caried out to examine the microbial biosynthesis of it as it provides a solid basis for a natural and sustainable production while avoiding the use of organic solvents such as heavy metals, strong acids and bases along with the formation of byproducts. Metabolic engineering has additionally carved the way to improve the yield and thus obtain higher titers and productivity of the product, through strain engineering. All though utilizing a natural producer of beta-carotene seem like the straightforward choice as production organism, it has been found that most of these are non-cultivable in laboratory conditions and that they require extensive optimalization. Choosing a well characterized microorganism, with various tools available for genetic engineering will thus enhance the chances and ease the process of increasing the product yield and productivity of the strain. \n",
    "We have utilized an existing genome scale metabolic model (GSM) for *S. cerevisiae* and incorporate relevant reactions and pathways for its natural synthesis of beta-carotene. Afterwards we have performed phenotype predictions based on gene deletions and essentiality and evaluated on metabolic pathway visualizations with Escher.\n",
    "\n",
    "Kiler artilker: \n",
    "β-Carotene—properties and production methods (Food Quality and Safety)\n",
    "Engineering microbial factories for synthesis of value-added products (J Ind Microbiol Biotechnol.)"
   ]
  },
  {
   "cell_type": "markdown",
   "metadata": {},
   "source": [
    "## 3. *If Project category II:* Selection and assessment of existing GSM (<500 words)"
   ]
  },
  {
   "cell_type": "markdown",
   "metadata": {},
   "source": [
    "Using the data base BiGG, two GSM models for *S. cerevisias* were identified. Both are from the same strain, strain S288C, however iMM904, contains 1226 metabolites, 1557 reaction and 905 genes while iND750 is a bit smaller with 1059 metabolites, 1266 reactions and 750 genes. Before begining on the engineering strategy, memote will be used to detemine which model have the best score. Based on the score and model size, one GSM will be choosen as the model used in this project. "
   ]
  },
  {
   "cell_type": "code",
   "execution_count": 372,
   "metadata": {},
   "outputs": [],
   "source": [
    "import numpy as np\n",
    "from cobra.io import read_sbml_model\n",
    "from cobra import Reaction, Metabolite"
   ]
  },
  {
   "cell_type": "markdown",
   "metadata": {},
   "source": [
    "#### Memote report of iMM904.xml"
   ]
  },
  {
   "cell_type": "code",
   "execution_count": 373,
   "metadata": {},
   "outputs": [],
   "source": [
    "model_iMM904 = read_sbml_model('iMM904.xml')"
   ]
  },
  {
   "cell_type": "code",
   "execution_count": 374,
   "metadata": {},
   "outputs": [],
   "source": [
    "#This code has been outcommented as it only needed to be runned once. It takes about 10 - 15 min to run this code. \n",
    "#%%time\n",
    "#!memote report snapshot iMM904.xml --filename iMM904.html"
   ]
  },
  {
   "cell_type": "markdown",
   "metadata": {},
   "source": [
    "From the memote analysis of iMM904.xml, the overall score is 85%.\n",
    "The consistenty test had a good result with a sub score of 96%. Here the score of stoichiometric inconsistency was 100% and the mass balance gave a score of 96%. \n",
    "For the annotation tests, the score was generlly high (above 80%) except for the gene annotation, which only score 43%"
   ]
  },
  {
   "cell_type": "markdown",
   "metadata": {},
   "source": [
    "#### Memote report of iND750.xml"
   ]
  },
  {
   "cell_type": "code",
   "execution_count": 375,
   "metadata": {},
   "outputs": [],
   "source": [
    "#This code has been outcommented as it only needed to be runned once. It takes about 10 - 15 min to run this code.\n",
    "#model_iND750 = read_sbml_model('iND750.xml') #This model is not used and is therefore outcommented. \n",
    "#%%time\n",
    "#!memote report snapshot iND750.xml --filename iND750.html"
   ]
  },
  {
   "cell_type": "markdown",
   "metadata": {},
   "source": [
    "The memote analysis of iND750.xml gave a overall score is 86%.\n",
    "The consistenty test of this model also gave a good result with a sub score of 97%. Here the score of stoichiometric inconsistency of 100% and the mass balance gave a score of 97.3%. \n",
    "For the annotation tests, the score was generlly high (above 80%) except for the gene annotation, which only score 43%"
   ]
  },
  {
   "cell_type": "markdown",
   "metadata": {},
   "source": [
    "#### Choice of GSM"
   ]
  },
  {
   "cell_type": "markdown",
   "metadata": {},
   "source": [
    "Overall the models are fairly similar and both have high scores. However, even though the smallere model iND750 is a bit higher scored, it is the larger model, iMM904, that will be used in this report to similate the production of β-carotene. This is simply because iMM904 contains more genes, reaction and metabolites and therefore is able to simulate the organisme better. Here the different in score is not large engouth to arguee for the use of the smallere model.\n",
    "\n",
    "*Idea for rewrite:*\n",
    "From the memote analysis of the two GSM's, the models were overall fairly similar and were both given high scores. \n",
    "The smallere model iND750 had a slightly higher score, however, the difference in score is not large enough to arguee for the use of the smallere model. iMM904 contains more genes, reaction and metabolites and is therefore able to simulate the organisme better. Therefore we chose to use the large model iMM904 to simulate the different enigneering strategies for production of β-carotene."
   ]
  },
  {
   "cell_type": "markdown",
   "metadata": {},
   "source": [
    "## 4. Computer-Aided Cell Factory Engineering (<1500 words if Category II project)"
   ]
  },
  {
   "cell_type": "markdown",
   "metadata": {},
   "source": [
    "*S. cerevisiae* is not a natural producer of β-carotene, and therefore a pathway for production of the compound is not found in the model. To enable the production, some new metabolites and reaction must be added to iMM904, to allow prediction of the production of β-carotene through the GSM. \n",
    "\n",
    "Through research in the literature and investigation on KEGG, two pathways were found to be availble for this matter. Therefore it was relevant to investigate which of the two would be the most optimal pathway. (kilde) \n",
    "\n",
    "![Pathways on kegg](Figures/Second_pathway_13_11_2020.png)\n",
    "\n",
    "The figure above illustrates the two pathways. In the following, pathway 1 will refer to the yellow illustration, and pathway 2 will refer to the red pathway. \n",
    "\n",
    "It is relevant to note that the two first illustrated metabolite Geranyl-geranyl-PP is already in the model, and this is the step we are starting from. \n"
   ]
  },
  {
   "cell_type": "code",
   "execution_count": 376,
   "metadata": {},
   "outputs": [
    {
     "data": {
      "text/html": [
       "\n",
       "        <table>\n",
       "            <tr>\n",
       "                <td><strong>Metabolite identifier</strong></td><td>ggdp_c</td>\n",
       "            </tr><tr>\n",
       "                <td><strong>Name</strong></td><td>Geranylgeranyl diphosphate C20H33O7P2</td>\n",
       "            </tr><tr>\n",
       "                <td><strong>Memory address</strong></td>\n",
       "                <td>0x07f87113cbfd0</td>\n",
       "            </tr><tr>\n",
       "                <td><strong>Formula</strong></td><td>C20H33O7P2</td>\n",
       "            </tr><tr>\n",
       "                <td><strong>Compartment</strong></td><td>c</td>\n",
       "            </tr><tr>\n",
       "                <td><strong>In 2 reaction(s)</strong></td><td>\n",
       "                    FRTT, GGTT</td>\n",
       "            </tr>\n",
       "        </table>"
      ],
      "text/plain": [
       "<Metabolite ggdp_c at 0x7f87113cbfd0>"
      ]
     },
     "execution_count": 376,
     "metadata": {},
     "output_type": "execute_result"
    }
   ],
   "source": [
    "model_iMM904.metabolites.ggdp_c"
   ]
  },
  {
   "cell_type": "markdown",
   "metadata": {},
   "source": [
    "#### Pathway 1\n",
    "The first pathyway is also described in the paper \"....\"\n",
    "It starts at hydroxymethylglutaryl coA, which is produced from acetyl coA naturally in *S. cerevisiae*, but it is only the last four reactions in the pathway that needs to be added as the rest is already in the model.\n",
    "\n",
    "The pathway:\n",
    "    \n",
    "    hydroxymethylglutaryl CoA --> mevalonate (metabolite id: hmgcoa_c and mev_R_c) \n",
    "    (Enzyme name: HMG CoA reductase, reaction id: HMGCOAR)\n",
    "    \n",
    "    mevalonate --> --> geranyl diphosphate (metabolite id: ggdp_c) (multiple reactions)\n",
    "\n",
    "    step 1: 2 geranyl diphosphate --> Phytoene + 2 diphosphate (metabolite id: ppi_c)\n",
    "    (https://www.genome.jp/dbget-bin/www_bget?rn:R10177 - multistep reaction (see R02065+R04218))\n",
    "\n",
    "    step 2: Phytoene + 3 Acceptors -> Neurosporene + 3 reduced acceptors \n",
    "    (https://www.genome.jp/dbget-bin/www_bget?rn:R09691)\n",
    "\n",
    "    step 3: Neurosporene + reduced acceptor + O2 -> Lycopene + acceptor + 2 water \n",
    "    (https://www.genome.jp/dbget-bin/www_bget?rn:R04800)\n",
    "\n",
    "    step 4: Lycopene -> beta-Carotene \n",
    "    (https://www.genome.jp/dbget-bin/www_bget?rn:R03823)\n",
    "    \n",
    "Unfortunately, some of the steps have unknown acceptors and reducers. Therefore we had to take some assumptions. We chose to use NADP+ and NADPH as acceptors and reducers, as these are common in cellular reactions. If this assumption was not taken, it would not be possible to get a flux through the pathway. We argue that this assumption is valid, as the paper **...** has already shown that the pathway can be added for β-carotene production in *S. cerevisiae*.\n",
    "\n",
    "KILDE! "
   ]
  },
  {
   "cell_type": "markdown",
   "metadata": {},
   "source": [
    "#### Pathway 2\n",
    "The second pathway was found through KEGG. The pathway uses the same precursors (GGDP) as the first patway. \n",
    "\n",
    "The pathway:\n",
    "\n",
    "    hydroxymethylglutaryl CoA --> mevalonate (metabolite id: hmgcoa_c and mev_R_c) \n",
    "    (Enzyme name: HMG CoA reductase, reaction id: HMGCOAR)\n",
    "    \n",
    "    mevalonate --> --> geranyl diphosphate (metabolite id: ggdp_c) (multiple reactions)\n",
    "    \n",
    "    step 1: 2 geranyl diphosphate --> Phytoene + 2 diphosphate (metabolite id: ppi_c)\n",
    "    (https://www.genome.jp/dbget-bin/www_bget?rn:R10177 - multistep reaction (see R02065+R04218))\n",
    "    \n",
    "    step 2: Phytoene + 2 Plastoquinone <=> 9,15,9'-tricis-zeta-Carotene + 2 Plastoquinol \n",
    "    (https://www.genome.jp/dbget-bin/www_bget?reaction+R09652+R09653+R09654+R04786+R04787)\n",
    "    \n",
    "    step 3: 9,15,9'-tricis-zeta-Carotene <=> 9,9'-dicis-zeta-Carotene \n",
    "    (https://www.genome.jp/dbget-bin/www_bget?reaction+R09655)\n",
    "    \n",
    "    step 4: 9,9'-dicis-zeta-Carotene + 2 Quinone <=> 7,9,7',9'-tetracis-Lycopene + 2 Hydroquinone\n",
    "    (https://www.genome.jp/dbget-bin/www_bget?reaction+R07511+R09656+R09658+R04798+R04800)\n",
    "    \n",
    "    step 5: 7,9,7',9'-tetracis-Lycopene <=> Lycopene\n",
    "    (https://www.genome.jp/dbget-bin/www_bget?reaction+R07512)\n",
    "    \n",
    "    step 6: Lycopene -> beta-Carotene \n",
    "    (https://www.genome.jp/dbget-bin/www_bget?rn:R03823)\n",
    "    \n",
    "This pathway consists of several steps. However through research of the reactions, it was found that Plastoquinol was needed as an elctron acceptor. This compound is normally involved in photosynthesis as an electron transporter in the light-dependent reactions. We therefore assume that this compound is not likely found in *S. cerevisiae* and it is as expected not found in the GSM. To use this partway it would therefor require an insertion of an extra pathway which we found unfeasable. "
   ]
  },
  {
   "cell_type": "markdown",
   "metadata": {},
   "source": [
    "#### Choice of pathway\n",
    "As Pathway 2 would require extensive research and novel findings due to the the lack of plastoquniol, we choce to go further with pathway 1 for this cell factory engineering design. \n"
   ]
  },
  {
   "cell_type": "markdown",
   "metadata": {},
   "source": [
    "### 4.2 Adding reactions from pathway 1 to create β-carotene pathway in *S. cerevisiae*:"
   ]
  },
  {
   "cell_type": "markdown",
   "metadata": {},
   "source": [
    "To add the relevant reactions to the GSM, we investigated which metabolites and reactions that were already present in the model. These can be seen below. For code simplicity these are outcommented. "
   ]
  },
  {
   "cell_type": "code",
   "execution_count": 377,
   "metadata": {},
   "outputs": [],
   "source": [
    "#Reactions from mev__R_c to ggdp_c:\n",
    "#model_iMM904.reactions.HMGCOAR     #Hydroxymethylglutaryl CoA reductase\n",
    "#model_iMM904.reactions.MEVK1       #Mevalonate kinase atp\n",
    "#model_iMM904.reactions.PMEVK       #Phosphomevalonate kinase\n",
    "#model_iMM904.reactions.DPMVD       #Diphosphomevalonate decarboxylase\n",
    "#model_iMM904.reactions.IPDDI       #Isopentenyl-diphosphate D-isomerase\n",
    "#model_iMM904.reactions.DMATT       #Dimethylallyltranstransferase\n",
    "#model_iMM904.reactions.GRTT        #Geranyltranstransferase\n",
    "#model_iMM904.reactions.FRTT        #Farnesyltranstransferase\n",
    "\n",
    "#Metabolites relevant for the new reactions\n",
    "#model_iMM904.metabolites.hmgcoa_c  #Hydroxymethylglutaryl CoA\n",
    "#model_iMM904.metabolites.mev__R_c  #R Mevalonate\n",
    "#model_iMM904.metabolites.frdp_c    #Farnesyl diphosphate\n",
    "#model_iMM904.metabolites.ggdp_c    #Geranylgeranyl diphosphate\n",
    "#model_iMM904.metabolites.ppi_c     #Diphosphate\n",
    "#model_iMM904.metabolites.nadp_c    #Nicotinamide adenine dinucleotide phosphate\n",
    "#model_iMM904.metabolites.nadph_c   #Nicotinamide adenine dinucleotide phosphate H\n",
    "#model_iMM904.metabolites.h2o_c     #Hydrogen dioxide \n",
    "#model_iMM904.metabolites.o2_c      #Oxygen\n"
   ]
  },
  {
   "cell_type": "markdown",
   "metadata": {},
   "source": [
    "In the following, step 1-4 will be added to the model. "
   ]
  },
  {
   "cell_type": "markdown",
   "metadata": {},
   "source": [
    "#### 15-cis-Phytoene syntase\n",
    "The frist reaction to be added is: *2 Geranylgeranyl diphosphate <=> 15-cis-Phytoene + 2 Diphosphate*\n",
    "\n",
    "This will allow for Phytoene production which is a precurser in the reaction. \n",
    "\n",
    "(https://www.genome.jp/dbget-bin/www_bget?rn:R10177)"
   ]
  },
  {
   "cell_type": "code",
   "execution_count": 378,
   "metadata": {},
   "outputs": [
    {
     "name": "stdout",
     "output_type": "stream",
     "text": [
      "2 ggdp_c --> phy + 2 ppi_c\n"
     ]
    }
   ],
   "source": [
    "phy = Metabolite(id='phy', name='phytoene', compartment='c') #Adding the metabolite\n",
    "new_reaction1 = Reaction('phy_syn') #PHYtoene SYNtase\n",
    "phy = Metabolite(id='phy', name='phytoene', compartment='c') #Adding the metabolite\n",
    "\n",
    "new_reaction1.add_metabolites({model_iMM904.metabolites.ggdp_c: -2,\n",
    "                              phy: 1, # our newly created metabolites\n",
    "                               model_iMM904.metabolites.ppi_c: 2\n",
    "                                })\n",
    "print(new_reaction1.build_reaction_string()) # see if one get the rigth reaction"
   ]
  },
  {
   "cell_type": "markdown",
   "metadata": {},
   "source": [
    "The above print statement shows that the reaction was correctly assembled. Below we incorporate the reaction to the GSM and check the occruance. The procedure will be performed on all the reactions added to the model. "
   ]
  },
  {
   "cell_type": "code",
   "execution_count": 379,
   "metadata": {},
   "outputs": [
    {
     "data": {
      "text/html": [
       "\n",
       "        <table>\n",
       "            <tr>\n",
       "                <td><strong>Reaction identifier</strong></td><td>phy_syn</td>\n",
       "            </tr><tr>\n",
       "                <td><strong>Name</strong></td><td></td>\n",
       "            </tr><tr>\n",
       "                <td><strong>Memory address</strong></td>\n",
       "                <td>0x07f87109aa710</td>\n",
       "            </tr><tr>\n",
       "                <td><strong>Stoichiometry</strong></td>\n",
       "                <td>\n",
       "                    <p style='text-align:right'>2 ggdp_c --> phy + 2 ppi_c</p>\n",
       "                    <p style='text-align:right'>2 Geranylgeranyl diphosphate C20H33O7P2 --> phytoene + 2 Diphosphate</p>\n",
       "                </td>\n",
       "            </tr><tr>\n",
       "                <td><strong>GPR</strong></td><td></td>\n",
       "            </tr><tr>\n",
       "                <td><strong>Lower bound</strong></td><td>0.0</td>\n",
       "            </tr><tr>\n",
       "                <td><strong>Upper bound</strong></td><td>1000.0</td>\n",
       "            </tr>\n",
       "        </table>\n",
       "        "
      ],
      "text/plain": [
       "<Reaction phy_syn at 0x7f87109aa710>"
      ]
     },
     "execution_count": 379,
     "metadata": {},
     "output_type": "execute_result"
    }
   ],
   "source": [
    "model_iMM904.add_reactions([new_reaction1])\n",
    "model_iMM904.reactions.phy_syn #check that the reaction is in the model"
   ]
  },
  {
   "cell_type": "markdown",
   "metadata": {},
   "source": [
    "#### All-trans-Neurosporene Syntase\n",
    "The next reaction added synthesises all-trans-Neurosporene as seen below: \n",
    "\n",
    "*15-cis-Phytoene + 3 Acceptor <=> all-trans-Neurosporene + 3 Reduced acceptor*\n",
    "\n",
    "(https://www.genome.jp/dbget-bin/www_bget?rn:R09691)"
   ]
  },
  {
   "cell_type": "code",
   "execution_count": 380,
   "metadata": {},
   "outputs": [
    {
     "name": "stdout",
     "output_type": "stream",
     "text": [
      "3 nadp_c + phy --> 3 nadph_c + neu\n"
     ]
    }
   ],
   "source": [
    "new_reaction2 = Reaction('neu_syn') #NEUrosporene SYNtase\n",
    "#Adding the metabolite\n",
    "neu = Metabolite(id='neu', name='Neurosporene', compartment='c') \n",
    "#AH2 = Metabolite(id='AH2', name='Reduced acceptor', compartment='c') \n",
    "#A = Metabolite(id='A', name='Acceptor', compartment='c') \n",
    "new_reaction2.add_metabolites({\n",
    "    model_iMM904.metabolites.nadp_c: -3,\n",
    "    phy: -1, # our newly created metabolites\n",
    "    model_iMM904.metabolites.nadph_c: 3,\n",
    "    neu: 1,\n",
    "    })\n",
    "print(new_reaction2.build_reaction_string()) # see if one get the rigth reaction\n",
    "model_iMM904.add_reactions([new_reaction2])"
   ]
  },
  {
   "cell_type": "code",
   "execution_count": 381,
   "metadata": {},
   "outputs": [
    {
     "data": {
      "text/html": [
       "\n",
       "        <table>\n",
       "            <tr>\n",
       "                <td><strong>Reaction identifier</strong></td><td>neu_syn</td>\n",
       "            </tr><tr>\n",
       "                <td><strong>Name</strong></td><td></td>\n",
       "            </tr><tr>\n",
       "                <td><strong>Memory address</strong></td>\n",
       "                <td>0x07f87109aa748</td>\n",
       "            </tr><tr>\n",
       "                <td><strong>Stoichiometry</strong></td>\n",
       "                <td>\n",
       "                    <p style='text-align:right'>3 nadp_c + phy --> 3 nadph_c + neu</p>\n",
       "                    <p style='text-align:right'>3 Nicotinamide adenine dinucleotide phosphate + phytoene --> 3 Nicotinamide adenine dinucleotide phosphate - reduced + Neurosporene</p>\n",
       "                </td>\n",
       "            </tr><tr>\n",
       "                <td><strong>GPR</strong></td><td></td>\n",
       "            </tr><tr>\n",
       "                <td><strong>Lower bound</strong></td><td>0.0</td>\n",
       "            </tr><tr>\n",
       "                <td><strong>Upper bound</strong></td><td>1000.0</td>\n",
       "            </tr>\n",
       "        </table>\n",
       "        "
      ],
      "text/plain": [
       "<Reaction neu_syn at 0x7f87109aa748>"
      ]
     },
     "execution_count": 381,
     "metadata": {},
     "output_type": "execute_result"
    }
   ],
   "source": [
    "model_iMM904.reactions.neu_syn #check that the reaction is in the model"
   ]
  },
  {
   "cell_type": "markdown",
   "metadata": {},
   "source": [
    "#### Lycopene synthesis\n",
    "The production og lycopene is show below: \n",
    "\n",
    "*all-trans-Neurosporene + Reduced acceptor + Oxygen <=> Lycopene + Acceptor + 2 H2O* \n",
    "\n",
    "(https://www.genome.jp/dbget-bin/www_bget?rn:R04800)"
   ]
  },
  {
   "cell_type": "code",
   "execution_count": 382,
   "metadata": {},
   "outputs": [
    {
     "name": "stdout",
     "output_type": "stream",
     "text": [
      "nadph_c + neu + o2_c --> 2 h2o_c + lyc + nadp_c\n"
     ]
    }
   ],
   "source": [
    "new_reaction3 = Reaction('lyc_syn') #LYCopene SYNtase\n",
    "lyc = Metabolite(id='lyc', name='Lycopene', compartment='c') #Adding the metabolite\n",
    "new_reaction3.add_metabolites({\n",
    "    neu: -1, # our newly created metabolites\n",
    "    model_iMM904.metabolites.nadph_c: -1, \n",
    "    model_iMM904.metabolites.o2_c: -1,\n",
    "    lyc: 1,\n",
    "    model_iMM904.metabolites.nadp_c: 1,\n",
    "    model_iMM904.metabolites.h2o_c: 2,\n",
    "    })\n",
    "print(new_reaction3.build_reaction_string()) # see if one get the rigth reaction"
   ]
  },
  {
   "cell_type": "code",
   "execution_count": 383,
   "metadata": {},
   "outputs": [
    {
     "data": {
      "text/html": [
       "\n",
       "        <table>\n",
       "            <tr>\n",
       "                <td><strong>Reaction identifier</strong></td><td>lyc_syn</td>\n",
       "            </tr><tr>\n",
       "                <td><strong>Name</strong></td><td></td>\n",
       "            </tr><tr>\n",
       "                <td><strong>Memory address</strong></td>\n",
       "                <td>0x07f871099fe10</td>\n",
       "            </tr><tr>\n",
       "                <td><strong>Stoichiometry</strong></td>\n",
       "                <td>\n",
       "                    <p style='text-align:right'>nadph_c + neu + o2_c --> 2 h2o_c + lyc + nadp_c</p>\n",
       "                    <p style='text-align:right'>Nicotinamide adenine dinucleotide phosphate - reduced + Neurosporene + O2 O2 --> 2 H2O H2O + Lycopene + Nicotinamide adenine dinucleotide phosphate</p>\n",
       "                </td>\n",
       "            </tr><tr>\n",
       "                <td><strong>GPR</strong></td><td></td>\n",
       "            </tr><tr>\n",
       "                <td><strong>Lower bound</strong></td><td>0.0</td>\n",
       "            </tr><tr>\n",
       "                <td><strong>Upper bound</strong></td><td>1000.0</td>\n",
       "            </tr>\n",
       "        </table>\n",
       "        "
      ],
      "text/plain": [
       "<Reaction lyc_syn at 0x7f871099fe10>"
      ]
     },
     "execution_count": 383,
     "metadata": {},
     "output_type": "execute_result"
    }
   ],
   "source": [
    "model_iMM904.add_reactions([new_reaction3])\n",
    "model_iMM904.reactions.lyc_syn #check that the reaction is in the model"
   ]
  },
  {
   "cell_type": "markdown",
   "metadata": {},
   "source": [
    " #### beta-carotene production\n",
    " The last reaction for beta-Carotene production is added:\n",
    " \n",
    " *Lycopene -> beta-Carotene* \n",
    " \n",
    " (https://www.genome.jp/dbget-bin/www_bget?rn:R03823)"
   ]
  },
  {
   "cell_type": "code",
   "execution_count": 384,
   "metadata": {},
   "outputs": [
    {
     "name": "stdout",
     "output_type": "stream",
     "text": [
      "lyc --> beta\n"
     ]
    }
   ],
   "source": [
    "new_reaction4 = Reaction('beta_syn') #BETA-carotene SYNtase\n",
    "beta = Metabolite(id='beta', name='Betacarotene', compartment='c', formula ='C40H56') #Adding the metabolite\n",
    "new_reaction4.add_metabolites({\n",
    "    lyc: -1, # our newly created metabolites\n",
    "    beta: 1,\n",
    "    })\n",
    "print(new_reaction4.build_reaction_string()) # see if one get the rigth reaction"
   ]
  },
  {
   "cell_type": "code",
   "execution_count": 385,
   "metadata": {},
   "outputs": [
    {
     "data": {
      "text/html": [
       "\n",
       "        <table>\n",
       "            <tr>\n",
       "                <td><strong>Reaction identifier</strong></td><td>beta_syn</td>\n",
       "            </tr><tr>\n",
       "                <td><strong>Name</strong></td><td></td>\n",
       "            </tr><tr>\n",
       "                <td><strong>Memory address</strong></td>\n",
       "                <td>0x07f87109aa780</td>\n",
       "            </tr><tr>\n",
       "                <td><strong>Stoichiometry</strong></td>\n",
       "                <td>\n",
       "                    <p style='text-align:right'>lyc --> beta</p>\n",
       "                    <p style='text-align:right'>Lycopene --> Betacarotene</p>\n",
       "                </td>\n",
       "            </tr><tr>\n",
       "                <td><strong>GPR</strong></td><td></td>\n",
       "            </tr><tr>\n",
       "                <td><strong>Lower bound</strong></td><td>0.0</td>\n",
       "            </tr><tr>\n",
       "                <td><strong>Upper bound</strong></td><td>1000.0</td>\n",
       "            </tr>\n",
       "        </table>\n",
       "        "
      ],
      "text/plain": [
       "<Reaction beta_syn at 0x7f87109aa780>"
      ]
     },
     "execution_count": 385,
     "metadata": {},
     "output_type": "execute_result"
    }
   ],
   "source": [
    "model_iMM904.add_reactions([new_reaction4])\n",
    "model_iMM904.reactions.beta_syn #check that the reaction is in the model"
   ]
  },
  {
   "cell_type": "markdown",
   "metadata": {},
   "source": [
    "#### Beta-carotene extraction from the cell\n",
    "To make a balance in the model, a beta-carotene exchange reaction is created. We assume that beta-carotene is secreted from the cell."
   ]
  },
  {
   "cell_type": "code",
   "execution_count": 386,
   "metadata": {},
   "outputs": [
    {
     "name": "stdout",
     "output_type": "stream",
     "text": [
      "beta --> \n"
     ]
    }
   ],
   "source": [
    "new_reaction5 = Reaction('EX_beta') #BETA-carotene SYNtase\n",
    "new_reaction5.add_metabolites({\n",
    "    beta: -1 #Excretion of beta-carotene\n",
    "    })\n",
    "print(new_reaction5.build_reaction_string()) # see if one get the rigth reaction"
   ]
  },
  {
   "cell_type": "code",
   "execution_count": 387,
   "metadata": {},
   "outputs": [
    {
     "data": {
      "text/html": [
       "\n",
       "        <table>\n",
       "            <tr>\n",
       "                <td><strong>Reaction identifier</strong></td><td>EX_beta</td>\n",
       "            </tr><tr>\n",
       "                <td><strong>Name</strong></td><td></td>\n",
       "            </tr><tr>\n",
       "                <td><strong>Memory address</strong></td>\n",
       "                <td>0x07f8711f274e0</td>\n",
       "            </tr><tr>\n",
       "                <td><strong>Stoichiometry</strong></td>\n",
       "                <td>\n",
       "                    <p style='text-align:right'>beta --> </p>\n",
       "                    <p style='text-align:right'>Betacarotene --> </p>\n",
       "                </td>\n",
       "            </tr><tr>\n",
       "                <td><strong>GPR</strong></td><td></td>\n",
       "            </tr><tr>\n",
       "                <td><strong>Lower bound</strong></td><td>0.0</td>\n",
       "            </tr><tr>\n",
       "                <td><strong>Upper bound</strong></td><td>1000.0</td>\n",
       "            </tr>\n",
       "        </table>\n",
       "        "
      ],
      "text/plain": [
       "<Reaction EX_beta at 0x7f8711f274e0>"
      ]
     },
     "execution_count": 387,
     "metadata": {},
     "output_type": "execute_result"
    }
   ],
   "source": [
    "model_iMM904.add_reactions([new_reaction5])\n",
    "model_iMM904.reactions.EX_beta #check that the reaction is in the model"
   ]
  },
  {
   "cell_type": "markdown",
   "metadata": {},
   "source": [
    "### 4.3 Testing titers of beta-carotene production and growth rates "
   ]
  },
  {
   "cell_type": "markdown",
   "metadata": {},
   "source": [
    "The growth rate and maximum production of beta-carotene will be calculated in the following.\n",
    "\n",
    "First we wanted to investigate the maximum growthrate of the cells, and afterwards investigate the maximum possible beta-carotene production, independent on eachother."
   ]
  },
  {
   "cell_type": "code",
   "execution_count": 388,
   "metadata": {},
   "outputs": [
    {
     "name": "stdout",
     "output_type": "stream",
     "text": [
      "Max growth and production in glucose. Growth rate and production is independent:\n",
      "\n",
      "Max growth flow on glucose:\t 0.29 \tmmol*gDW^1*h^-1\n",
      "Yield x/glc:\t\t\t 0.03 \tmol/mol\n",
      "Yield x/glc:\t\t\t 112.99 mg/g\n",
      "\n",
      "Investigation of maximum beta-carotene yield with a min growth flow of 1 % of the max groth flow: 0.0\n",
      "Max beta-carotene flow on glucose:\t 0.35\n",
      "yield beta/glc:\t\t 0.03 \tmol/mol\n",
      "Yield beta/glc:\t\t 103.65 \tmg/g\n",
      "\n",
      "yield beta/x:\t\t 120.92 \tmol/mol\n",
      "Yield beta/x:\t\t 91739.11 \tmg/g\n",
      "\n",
      "\n",
      "Investigation of maximum beta-carotene yield with a min growth flow of 99,9 % of the max groth flow: 0.29\n",
      "Max beta-carotene flow on glucose:\t 0.35\n",
      "yield beta/glc:\t\t 6.1e-05 \tmol/mol\n",
      "Yield beta/glc:\t\t 0.18 \t\tmg/g\n",
      "\n",
      "yield beta/x:\t\t 0.00212 \tmol/mol\n",
      "Yield beta/x:\t\t 1.61 \t\tmg/g\n"
     ]
    }
   ],
   "source": [
    "#Find the max growth rate of S. cerevisiae on glucose with the standard medium settings with glucose\n",
    "#Test the maximum beta-carotene production at another growth rate\n",
    "print(\"Max growth and production in glucose. Growth rate and production is independent:\\n\")\n",
    "with model_iMM904: \n",
    "    \n",
    "    ####### objective = biomass\n",
    "    #Calculate weights of the metabolites\n",
    "    C = 12\n",
    "    H = 1\n",
    "    N = 14\n",
    "    O = 16\n",
    "    biomass_weight = C*47.5+H*7+N*9.25 #g/mol - this is the median measured\n",
    "    beta_weight = model_iMM904.metabolites.beta.elements['C']*C+model_iMM904.metabolites.beta.elements['H']*H #g/mol\n",
    "    glucose_weight = model_iMM904.metabolites.glc__D_c.elements['C']*C+model_iMM904.metabolites.glc__D_c.elements['H']*H+model_iMM904.metabolites.glc__D_c.elements['O']*O\n",
    "    \n",
    "    #Max growth\n",
    "    solution = model_iMM904.optimize()\n",
    "    initial_growth = model_iMM904.optimize().objective_value\n",
    "    \n",
    "    #calculate and print yields of biomass\n",
    "    yield_X_glc_g = (initial_growth/abs(solution.fluxes[\"EX_glc__D_e\"]))*(biomass_weight/glucose_weight)\n",
    "    yield_X_glc_mol = initial_growth/abs(solution.fluxes[\"EX_glc__D_e\"])\n",
    "    print(\"Max growth flow on glucose:\\t\",round(initial_growth,2), \"\\tmmol*gDW^1*h^-1\")\n",
    "    print(\"Yield x/glc:\\t\\t\\t\", round(yield_X_glc_mol,2),\"\\tmol/mol\")\n",
    "    print(\"Yield x/glc:\\t\\t\\t\", round(yield_X_glc_g*1000,2), \"mg/g\")\n",
    "    \n",
    "    #max production\n",
    "    model_iMM904.reactions.BIOMASS_SC5_notrace.bounds = initial_growth*0.01, 100\n",
    "    print('\\nInvestigation of maximum beta-carotene yield with a min growth flow of 1 % of the max groth flow:', round(initial_growth*0.01,2))\n",
    "    ###### objective = EX_beta\n",
    "    model_iMM904.objective = model_iMM904.reactions.EX_beta           #sets objective to the beta-carotene flow\n",
    "    solution = model_iMM904.optimize()\n",
    "    initial_beta_flow = model_iMM904.optimize().objective_value       #Find max beta-carotene flow\n",
    "    \n",
    "    #yield calculations\n",
    "    yield_b_glc_g = (initial_beta_flow/abs(solution.fluxes[\"EX_glc__D_e\"]))*(beta_weight/glucose_weight)\n",
    "    yield_b_glc_mol = initial_beta_flow/abs(solution.fluxes[\"EX_glc__D_e\"])\n",
    "    yield_b_X_g = (initial_beta_flow/abs(solution.fluxes[\"BIOMASS_SC5_notrace\"]))*(beta_weight/biomass_weight)\n",
    "    yield_b_X_mol = initial_beta_flow/abs(solution.fluxes[\"BIOMASS_SC5_notrace\"])\n",
    "    \n",
    "    print(\"Max beta-carotene flow on glucose:\\t\",round(initial_beta_flow,2))\n",
    "    print(\"yield beta/glc:\\t\\t\", round(yield_b_glc_mol,2), \"\\tmol/mol\")\n",
    "    print(\"Yield beta/glc:\\t\\t\", round(yield_b_glc_g*1000,2), \"\\tmg/g\\n\")\n",
    "    print(\"yield beta/x:\\t\\t\", round(yield_b_X_mol,2), \"\\tmol/mol\")\n",
    "    print(\"Yield beta/x:\\t\\t\", round(yield_b_X_g*1000,2), \"\\tmg/g\\n\")\n",
    "    \n",
    "    \n",
    "    #Calculate yields of betacarotene\n",
    "    print('\\nInvestigation of maximum beta-carotene yield with a min growth flow of 99,9 % of the max groth flow:', round(initial_growth*0.999,2))\n",
    "    model_iMM904.reactions.BIOMASS_SC5_notrace.bounds = initial_growth*0.999, 100\n",
    "    solution = model_iMM904.optimize()\n",
    "    beta_flow_maxgrowth = model_iMM904.optimize().objective_value \n",
    "    yield_b_glc_g = (beta_flow_maxgrowth /abs(solution.fluxes[\"EX_glc__D_e\"]))*(beta_weight/glucose_weight)\n",
    "    yield_b_glc_mol = beta_flow_maxgrowth /abs(solution.fluxes[\"EX_glc__D_e\"])\n",
    "    yield_b_X_g = (beta_flow_maxgrowth /abs(solution.fluxes[\"BIOMASS_SC5_notrace\"]))*(beta_weight/biomass_weight)\n",
    "    yield_b_X_mol = beta_flow_maxgrowth /abs(solution.fluxes[\"BIOMASS_SC5_notrace\"])\n",
    "    \n",
    "    #print \n",
    "    print(\"Max beta-carotene flow on glucose:\\t\",round(initial_beta_flow,2))\n",
    "    print(\"yield beta/glc:\\t\\t\", round(yield_b_glc_mol,6), \"\\tmol/mol\")\n",
    "    print(\"Yield beta/glc:\\t\\t\", round(yield_b_glc_g*1000,2), \"\\t\\tmg/g\\n\")\n",
    "    print(\"yield beta/x:\\t\\t\", round(yield_b_X_mol,6), \"\\tmol/mol\")\n",
    "    print(\"Yield beta/x:\\t\\t\", round(yield_b_X_g*1000,2), \"\\t\\tmg/g\")\n"
   ]
  },
  {
   "cell_type": "markdown",
   "metadata": {},
   "source": [
    "\n",
    "In the following we wanted to test the growth and production at different carbon sources."
   ]
  },
  {
   "cell_type": "code",
   "execution_count": 389,
   "metadata": {},
   "outputs": [
    {
     "name": "stdout",
     "output_type": "stream",
     "text": [
      "yield beta/glc:\t\t 6.1e-05 \tmol/mol\n",
      "Growth and production at different carbon sources. Growth rate and production is independent: \n",
      "\n",
      "D-Glucosamine 6-phosphate exchange:\n",
      "Yield b/carbon: 7.4e-05 mol/mol\n",
      "Yield c/carbon increase: 20.93 %\n",
      "Yield beta/biomass: 0.001816 mol/mol\n",
      "Yield b/x increase: -14.334455346243487 %\n",
      "\n",
      "Adenosine exchange:\n",
      "Yield b/carbon: 7.4e-05 mol/mol\n",
      "Yield c/carbon increase: 20.74 %\n",
      "Yield beta/biomass: 0.001983 mol/mol\n",
      "Yield b/x increase: -6.474468838551289 %\n",
      "\n",
      "Guanosine exchange:\n",
      "Yield b/carbon: 7.4e-05 mol/mol\n",
      "Yield c/carbon increase: 20.74 %\n",
      "Yield beta/biomass: 0.001993 mol/mol\n",
      "Yield b/x increase: -5.993008371233785 %\n",
      "\n",
      "S Adenosyl L methionine exchange:\n",
      "Yield b/carbon: 7.4e-05 mol/mol\n",
      "Yield c/carbon increase: 20.74 %\n",
      "Yield beta/biomass: 0.001971 mol/mol\n",
      "Yield b/x increase: -7.0427594230292385 %\n",
      "\n",
      "Inosine exchange:\n",
      "Yield b/carbon: 7.4e-05 mol/mol\n",
      "Yield c/carbon increase: 20.74 %\n",
      "Yield beta/biomass: 0.001986 mol/mol\n",
      "Yield b/x increase: -6.312187824798144 %\n",
      "\n",
      "Adenosine 3  5  bisphosphate exchange:\n",
      "Yield b/carbon: 7.4e-05 mol/mol\n",
      "Yield c/carbon increase: 20.74 %\n",
      "Yield beta/biomass: 0.001979 mol/mol\n",
      "Yield b/x increase: -6.62474764565988 %\n",
      "\n",
      "Xanthosine exchange:\n",
      "Yield b/carbon: 7.4e-05 mol/mol\n",
      "Yield c/carbon increase: 20.74 %\n",
      "Yield beta/biomass: 0.001998 mol/mol\n",
      "Yield b/x increase: -5.772435701747696 %\n",
      "\n",
      "There are 7 exchange reactions that can give a equal or higher growth rate and beta-carotene production. (independent of each other)\n"
     ]
    }
   ],
   "source": [
    "print(\"yield beta/glc:\\t\\t\", round(yield_b_glc_mol,6), \"\\tmol/mol\")\n",
    "#Save all exchange reactions with carbon in a list\n",
    "carbon_source_exchanges=[]                                    #Creates list to save carbon sources\n",
    "for exchange in model_iMM904.exchanges:                       #Iterate through all exchange reactions\n",
    "    for metabolite in exchange.metabolites:                   #Iterate through metabolites\n",
    "        if \"C\" in metabolite.elements:                        #Save all reactions that contains carbon\n",
    "            carbon_source_exchanges.append(exchange.id) \n",
    "            \n",
    "print(\"Growth and production at different carbon sources. Growth rate and production is independent: \\n\")\n",
    "#Investigate growthrates and beta-carotene for different carbon sources.     \n",
    "potential_better_Csources = []                                 #Create list to save potential better C-sources\n",
    "yeild_dict = dict()\n",
    "for i in range (0,len(carbon_source_exchanges)):               #iterate through exchange reaction\n",
    "    with model_iMM904:                                         #Only local changes\n",
    "        #Change medium\n",
    "        medium=model_iMM904.medium                             #Resets medium to standard\n",
    "        medium['EX_glc__D_e']= 0                               #sets glucose level to 0\n",
    "        medium[carbon_source_exchanges[i]]= 10                 #sets level of carbon source to 10\n",
    "        model_iMM904.medium = medium                           \n",
    "        \n",
    "        #Save max growthrate\n",
    "        solution_growth = model_iMM904.slim_optimize(error_value=0.)\n",
    "        #growth_flow = model_iMM904.optimize().objective_value\n",
    "       \n",
    "        #Only choose growthrate equal or higher than glucose (standard)\n",
    "        if round(solution_growth,5) >= round(initial_growth,5): \n",
    "            model_iMM904.reactions.BIOMASS_SC5_notrace.bounds = solution_growth*0.999, 100\n",
    "            solution = model_iMM904.optimize()\n",
    "            model_iMM904.objective = model_iMM904.reactions.EX_beta               #sets objective to the beta-carotene flow\n",
    "            solution_beta = model_iMM904.optimize().objective_value               #save max beta-carotene flow\n",
    "            yield_b_carbon_mol = solution_beta  /abs(solution.fluxes[carbon_source_exchanges[i]])\n",
    "            \n",
    "            #Only choose beta-carotene yield is equal or higher than the standard\n",
    "            if round(yield_b_carbon_mol,5) > round(yield_b_glc_mol,5): #checks if max \n",
    "                \n",
    "                potential_better_Csources.append(carbon_source_exchanges[i])      #If true, save the carbon source in the list\n",
    "                name=model_iMM904.reactions.get_by_id(carbon_source_exchanges[i]) #gets the reaction name for the carbon source\n",
    "                yield_beta_x_mol = solution_beta / abs(solution.fluxes['BIOMASS_SC5_notrace'])\n",
    "                yeild_dict[yield_beta_x_mol] = carbon_source_exchanges[i]\n",
    "                \n",
    "                #Print yeilds: \n",
    "                solution = model_iMM904.optimize()\n",
    "                print(name.name+\":\")   #print name \n",
    "                print('Yield b/carbon:', round(yield_b_carbon_mol,6), \"mol/mol\") #mol product / mol carbon source\n",
    "                print('Yield c/carbon increase:',round((yield_b_carbon_mol/yield_b_glc_mol)*100-100,2), \"%\")\n",
    "                print('Yield beta/biomass:', round(yield_beta_x_mol,6), \"mol/mol\") #mol product / mol biomass\n",
    "                print('Yield b/x increase:', (yield_beta_x_mol/yield_b_X_mol)*100-100, \"%\\n\")\n",
    "print(\"There are \"+ str(len(potential_better_Csources)) + \" exchange reactions that can give a equal or higher growth rate and beta-carotene production. (independent of each other)\") "
   ]
  },
  {
   "cell_type": "markdown",
   "metadata": {},
   "source": [
    "From the above code, it seems that D-Glucosamine 6-phosphate exchange will increase the yield with 21 %."
   ]
  },
  {
   "cell_type": "markdown",
   "metadata": {},
   "source": [
    "#### Calculating the beta-carotene yield on different carbon sources\n",
    "In the following we are going to invstigate the yield og beta caroten when *S. cervisiae* is grown on Maltose, Melibiose, Sucrose and Trehalose. "
   ]
  },
  {
   "cell_type": "code",
   "execution_count": 390,
   "metadata": {},
   "outputs": [
    {
     "name": "stdout",
     "output_type": "stream",
     "text": [
      "EX_xtsn_e\n"
     ]
    }
   ],
   "source": [
    "#save exchangerate with maximum yield\n",
    "import operator\n",
    "max_exchange = max(yeild_dict.items(), key=operator.itemgetter(0))[1]\n",
    "print(max_exchange)"
   ]
  },
  {
   "cell_type": "code",
   "execution_count": 391,
   "metadata": {},
   "outputs": [
    {
     "data": {
      "text/html": [
       "\n",
       "        <table>\n",
       "            <tr>\n",
       "                <td><strong>Reaction identifier</strong></td><td>EX_xtsn_e</td>\n",
       "            </tr><tr>\n",
       "                <td><strong>Name</strong></td><td>Xanthosine exchange</td>\n",
       "            </tr><tr>\n",
       "                <td><strong>Memory address</strong></td>\n",
       "                <td>0x07f8710d825f8</td>\n",
       "            </tr><tr>\n",
       "                <td><strong>Stoichiometry</strong></td>\n",
       "                <td>\n",
       "                    <p style='text-align:right'>xtsn_e --> </p>\n",
       "                    <p style='text-align:right'>Xanthosine --> </p>\n",
       "                </td>\n",
       "            </tr><tr>\n",
       "                <td><strong>GPR</strong></td><td></td>\n",
       "            </tr><tr>\n",
       "                <td><strong>Lower bound</strong></td><td>0.0</td>\n",
       "            </tr><tr>\n",
       "                <td><strong>Upper bound</strong></td><td>999999.0</td>\n",
       "            </tr>\n",
       "        </table>\n",
       "        "
      ],
      "text/plain": [
       "<Reaction EX_xtsn_e at 0x7f8710d825f8>"
      ]
     },
     "execution_count": 391,
     "metadata": {},
     "output_type": "execute_result"
    }
   ],
   "source": [
    "model_iMM904.reactions.EX_xtsn_e"
   ]
  },
  {
   "cell_type": "code",
   "execution_count": 392,
   "metadata": {},
   "outputs": [
    {
     "data": {
      "text/html": [
       "\n",
       "        <table>\n",
       "            <tr>\n",
       "                <td><strong>Metabolite identifier</strong></td><td>xtsn_e</td>\n",
       "            </tr><tr>\n",
       "                <td><strong>Name</strong></td><td>Xanthosine</td>\n",
       "            </tr><tr>\n",
       "                <td><strong>Memory address</strong></td>\n",
       "                <td>0x07f87112b95f8</td>\n",
       "            </tr><tr>\n",
       "                <td><strong>Formula</strong></td><td>C10H12N4O6</td>\n",
       "            </tr><tr>\n",
       "                <td><strong>Compartment</strong></td><td>e</td>\n",
       "            </tr><tr>\n",
       "                <td><strong>In 2 reaction(s)</strong></td><td>\n",
       "                    XTSNt2, EX_xtsn_e</td>\n",
       "            </tr>\n",
       "        </table>"
      ],
      "text/plain": [
       "<Metabolite xtsn_e at 0x7f87112b95f8>"
      ]
     },
     "execution_count": 392,
     "metadata": {},
     "output_type": "execute_result"
    }
   ],
   "source": [
    "model_iMM904.metabolites.xtsn_e"
   ]
  },
  {
   "cell_type": "code",
   "execution_count": 394,
   "metadata": {},
   "outputs": [
    {
     "name": "stdout",
     "output_type": "stream",
     "text": [
      "Max growth and production in D-Glucosamine 6-phosphate exchange. Growth rate and production is independent:\n",
      "\n",
      "Max growth flow on xtsn:\t 0.37 \tmmol*gDW^1*h^-1\n",
      "Yield x/xtsn:\t\t\t 0.04 \tmol/mol\n",
      "Yield x/xtsn:\t\t\t 91.67 mg/g\n",
      "\n",
      "Investigation of maximum beta-carotene yield with a min growth flow of 99,9 % of the max groth flow: 0.37\n",
      "Max beta-carotene flow on xtsn:\t 0.35\n",
      "yield beta/xtsn:\t\t 7.4e-05 \tmol/mol\n",
      "Yield beta/xtsn:\t\t 0.14 \t\tmg/g\n",
      "\n",
      "yield beta/x:\t\t\t 0.002 \t\tmol/mol\n",
      "Yield beta/x:\t\t\t 1.52 \t\tmg/g\n"
     ]
    }
   ],
   "source": [
    "#Find the max growth rate of S. cerevisiae on glucose with the standard medium settings with glucose\n",
    "#Test the maximum beta-carotene production at another growth rate\n",
    "print(\"Max growth and production in D-Glucosamine 6-phosphate exchange. Growth rate and production is independent:\\n\")\n",
    "with model_iMM904: \n",
    "    #Calculate weights of the metabolites\n",
    "    medium=model_iMM904.medium                             #Resets medium to standard\n",
    "    medium['EX_glc__D_e']= 0                               #sets glucose level to 0\n",
    "    medium[max_exchange]= 10                               #sets level of carbon source to 10\n",
    "    model_iMM904.medium = medium \n",
    "    C = 12\n",
    "    H = 1\n",
    "    N = 14\n",
    "    O = 16\n",
    "    P = 31\n",
    "    biomass_weight = C*47.5+H*7+N*9.25 #g/mol - this is the median measured\n",
    "    beta_weight = model_iMM904.metabolites.beta.elements['C']*C+model_iMM904.metabolites.beta.elements['H']*H #g/mol\n",
    "    gxtsn_e_weight = model_iMM904.metabolites.xtsn_e.elements['C']*C+model_iMM904.metabolites.xtsn_e.elements['H']*H+model_iMM904.metabolites.xtsn_e.elements['O']*O+model_iMM904.metabolites.xtsn_e.elements['N']*N\n",
    "    \n",
    "    #Max growth\n",
    "    solution = model_iMM904.optimize()\n",
    "    initial_growth_carbon = model_iMM904.optimize().objective_value\n",
    "    \n",
    "    #calculate and print yields of biomass\n",
    "    yield_X_xtsn_g = (initial_growth_carbon/abs(solution.fluxes[\"EX_xtsn_e\"]))*(biomass_weight/gxtsn_e_weight)\n",
    "    yield_X_xtsn_mol = initial_growth_carbon/abs(solution.fluxes[\"EX_xtsn_e\"])\n",
    "    print(\"Max growth flow on xtsn:\\t\",round(initial_growth_carbon,2), \"\\tmmol*gDW^1*h^-1\")\n",
    "    print(\"Yield x/xtsn:\\t\\t\\t\", round(yield_X_xtsn_mol,2),\"\\tmol/mol\")\n",
    "    print(\"Yield x/xtsn:\\t\\t\\t\", round(yield_X_xtsn_g*1000,2), \"mg/g\")\n",
    "    \n",
    "    \n",
    "    #Calculate yields of betacarotene\n",
    "    print('\\nInvestigation of maximum beta-carotene yield with a min growth flow of 99,9 % of the max groth flow:', round(initial_growth_carbon*0.999,2))\n",
    "    model_iMM904.reactions.BIOMASS_SC5_notrace.bounds = initial_growth_carbon*0.999, 100\n",
    "    model_iMM904.objective = model_iMM904.reactions.EX_beta  \n",
    "    solution = model_iMM904.optimize()\n",
    "    beta_flow_maxgrowth = model_iMM904.optimize().objective_value \n",
    "    yield_b_xtsn_g = (beta_flow_maxgrowth /abs(solution.fluxes[\"EX_xtsn_e\"]))*(beta_weight/gxtsn_e_weight)\n",
    "    yield_b_xtsn_mol = beta_flow_maxgrowth /abs(solution.fluxes[\"EX_xtsn_e\"])\n",
    "    yield_b_X_g = (beta_flow_maxgrowth /abs(solution.fluxes[\"BIOMASS_SC5_notrace\"]))*(beta_weight/biomass_weight)\n",
    "    yield_b_X_mol = beta_flow_maxgrowth /abs(solution.fluxes[\"BIOMASS_SC5_notrace\"])\n",
    "    \n",
    "    #print \n",
    "    print(\"Max beta-carotene flow on xtsn:\\t\",round(initial_beta_flow,2))\n",
    "    print(\"yield beta/xtsn:\\t\\t\", round(yield_b_xtsn_mol,6), \"\\tmol/mol\")\n",
    "    print(\"Yield beta/xtsn:\\t\\t\", round(yield_b_xtsn_g*1000,2), \"\\t\\tmg/g\\n\")\n",
    "    print(\"yield beta/x:\\t\\t\\t\", round(yield_b_X_mol,6), \"\\t\\tmol/mol\")\n",
    "    print(\"Yield beta/x:\\t\\t\\t\", round(yield_b_X_g*1000,2), \"\\t\\tmg/g\")"
   ]
  },
  {
   "cell_type": "markdown",
   "metadata": {},
   "source": [
    "We see that we get a increase of yield beta/xtsn compared to the yield beta/glucose in mol/mol. However,when looking at the yiled in mg/g it is lower. That meaans that the cell will be more efficient to convert it pr molecule, but as the new carbonsource is heavier, the yield in gm/g is lower and therefore the price will be higher for the new carbon source. Whit this in mind, we would stick to glucose as carbon source.  "
   ]
  },
  {
   "cell_type": "markdown",
   "metadata": {},
   "source": [
    "#### Testing titers under anaerobic conditions"
   ]
  },
  {
   "cell_type": "markdown",
   "metadata": {},
   "source": [
    "In the following we will investigate how anaerobic conditions influence the e beta-carotene production:"
   ]
  },
  {
   "cell_type": "code",
   "execution_count": 395,
   "metadata": {},
   "outputs": [
    {
     "name": "stdout",
     "output_type": "stream",
     "text": [
      "The max growth in anaerobic conditions: 0.0\n",
      "The max beta-carotene flux in anaerobic conditions: 0.0\n"
     ]
    }
   ],
   "source": [
    "with model_iMM904:\n",
    "\n",
    "    medium=model_iMM904.medium                             #Resets medium to standard\n",
    "    medium['EX_o2_e']= 0                               #sets level of O2 level to 10\n",
    "    model_iMM904.medium = medium \n",
    "    growth = model_iMM904.slim_optimize()\n",
    "    model_iMM904.objective = model_iMM904.reactions.EX_beta\n",
    "    beta_carotene = model_iMM904.optimize().objective_value\n",
    "    print(\"The max growth in anaerobic conditions:\", round(growth,2))\n",
    "    print(\"The max beta-carotene flux in anaerobic conditions:\", round(beta_carotene,2))"
   ]
  },
  {
   "cell_type": "markdown",
   "metadata": {},
   "source": [
    "From these results it seems that *S. cerevisiae* can not grow anaerobic on glucose. This a bit unexpected, but might show the limitations of the GSM, as this organism usually is able to grow under anaerobic conditions. However the production of beta-carotene is expected to be 0, as the pathway needs oxygen to be functioning."
   ]
  },
  {
   "cell_type": "markdown",
   "metadata": {},
   "source": [
    "#### Testing optimal titers of beta-carotene at optimal growth\n",
    "In the following we wanted to investigate the optimal growth for beta-carotene production. "
   ]
  },
  {
   "cell_type": "code",
   "execution_count": 401,
   "metadata": {},
   "outputs": [
    {
     "name": "stdout",
     "output_type": "stream",
     "text": [
      "Maximum beta-carotene flow:  0.3514376996805112\n",
      "Growth rate at maximum beta carotene flow:  0.0\n"
     ]
    }
   ],
   "source": [
    "with model_iMM904:\n",
    "    model_iMM904.objective = model_iMM904.reactions.EX_beta \n",
    "    print(\"Maximum beta-carotene flow: \",model_iMM904.optimize().objective_value)\n",
    "    solution = model_iMM904.optimize()\n",
    "    print(\"Growth rate at maximum beta carotene flow: \", solution.fluxes['BIOMASS_SC5_notrace'])"
   ]
  },
  {
   "cell_type": "markdown",
   "metadata": {},
   "source": [
    "It is clear that the maximum beta-carotene production allows no growth, and therefore it is relevant to find the point of which optimal growth and optimal beta-carotene production. "
   ]
  },
  {
   "cell_type": "code",
   "execution_count": 402,
   "metadata": {},
   "outputs": [],
   "source": [
    "import cobra.test\n",
    "from cobra.flux_analysis import production_envelope"
   ]
  },
  {
   "cell_type": "code",
   "execution_count": 403,
   "metadata": {},
   "outputs": [
    {
     "name": "stdout",
     "output_type": "stream",
     "text": [
      "EX_glc__D_e plot: \n"
     ]
    },
    {
     "data": {
      "image/png": "[encoded data removed]",
      "text/plain": [
       "<Figure size 432x288 with 1 Axes>"
      ]
     },
     "metadata": {
      "needs_background": "light"
     },
     "output_type": "display_data"
    }
   ],
   "source": [
    "#Plotting the growthrate in relation to beta-carotene production for different carbon sources. \n",
    "with model_iMM904:\n",
    "    medium=model_iMM904.medium                             #Resets medium to standard\n",
    "    medium['EX_o2_e']= 2.0                               #sets level of O2 level to 10\n",
    "    model_iMM904.medium = medium \n",
    "    solution_growth = model_iMM904.slim_optimize(error_value=0.)\n",
    "    #Plot the relation between growth and beta-carotene produciton \n",
    "    print(\"EX_glc__D_e plot: \")\n",
    "    max_beta = production_envelope(\n",
    "            model_iMM904,\n",
    "            reactions=[model_iMM904.reactions.EX_beta],\n",
    "            objective=model_iMM904.reactions.BIOMASS_SC5_notrace\n",
    "            )\n",
    "    max_beta.plot(x='EX_beta', y='flux_maximum')\n",
    "        \n"
   ]
  },
  {
   "cell_type": "code",
   "execution_count": 404,
   "metadata": {},
   "outputs": [
    {
     "name": "stdout",
     "output_type": "stream",
     "text": [
      "EX_xtsn_e plot: \n"
     ]
    },
    {
     "data": {
      "image/png": "[encoded data removed]",
      "text/plain": [
       "<Figure size 432x288 with 1 Axes>"
      ]
     },
     "metadata": {
      "needs_background": "light"
     },
     "output_type": "display_data"
    }
   ],
   "source": [
    "with model_iMM904:\n",
    "    #make changes in the medium\n",
    "    medium=model_iMM904.medium                             #Resets medium to standard\n",
    "    medium['EX_glc__D_e']= 0                               #sets glucose level to 0\n",
    "    medium[max_exchange]= 10               #sets level of carbon source to 10\n",
    "    model_iMM904.medium = medium \n",
    "    solution_growth = model_iMM904.slim_optimize(error_value=0.)\n",
    "\n",
    "    #Plot the relation between growth and beta-carotene produciton \n",
    "    print(max_exchange, \"plot: \")\n",
    "    max_beta = production_envelope(\n",
    "            model_iMM904,\n",
    "            reactions=[model_iMM904.reactions.EX_beta],\n",
    "            objective=model_iMM904.reactions.BIOMASS_SC5_notrace\n",
    "            )\n",
    "    max_beta.plot(x='EX_beta', y='flux_maximum')"
   ]
  },
  {
   "cell_type": "markdown",
   "metadata": {},
   "source": [
    "From the two graphs it seems that the second carbonsource give a higher range of production titers as this carbon sources gives a max growth flow at above 0.35 and still have production, and a max beta-flow with at more than 0.40 before there is no growth. "
   ]
  },
  {
   "cell_type": "markdown",
   "metadata": {},
   "source": [
    "#### Improving the yield of beta-caroten through knockouts\n"
   ]
  },
  {
   "cell_type": "markdown",
   "metadata": {},
   "source": [
    "Reading ..(reference) different knowck strdegies was tried to improve the flow of beta caroten.\n",
    "First we try to knock out Glyceraldehyde-3-phosphate dehydrogenase:"
   ]
  },
  {
   "cell_type": "code",
   "execution_count": 405,
   "metadata": {},
   "outputs": [
    {
     "data": {
      "text/html": [
       "\n",
       "        <table>\n",
       "            <tr>\n",
       "                <td><strong>Reaction identifier</strong></td><td>GAPD</td>\n",
       "            </tr><tr>\n",
       "                <td><strong>Name</strong></td><td>Glyceraldehyde-3-phosphate dehydrogenase</td>\n",
       "            </tr><tr>\n",
       "                <td><strong>Memory address</strong></td>\n",
       "                <td>0x07f8710c6f748</td>\n",
       "            </tr><tr>\n",
       "                <td><strong>Stoichiometry</strong></td>\n",
       "                <td>\n",
       "                    <p style='text-align:right'>g3p_c + nad_c + pi_c <=> 13dpg_c + h_c + nadh_c</p>\n",
       "                    <p style='text-align:right'>Glyceraldehyde 3-phosphate + Nicotinamide adenine dinucleotide + Phosphate <=> 3-Phospho-D-glyceroyl phosphate + H+ + Nicotinamide adenine dinucleotide - reduced</p>\n",
       "                </td>\n",
       "            </tr><tr>\n",
       "                <td><strong>GPR</strong></td><td>YJL052W or YJR009C or YGR192C</td>\n",
       "            </tr><tr>\n",
       "                <td><strong>Lower bound</strong></td><td>-999999.0</td>\n",
       "            </tr><tr>\n",
       "                <td><strong>Upper bound</strong></td><td>999999.0</td>\n",
       "            </tr>\n",
       "        </table>\n",
       "        "
      ],
      "text/plain": [
       "<Reaction GAPD at 0x7f8710c6f748>"
      ]
     },
     "execution_count": 405,
     "metadata": {},
     "output_type": "execute_result"
    }
   ],
   "source": [
    "model_iMM904.reactions.GAPD"
   ]
  },
  {
   "cell_type": "code",
   "execution_count": 450,
   "metadata": {},
   "outputs": [
    {
     "name": "stdout",
     "output_type": "stream",
     "text": [
      "\n",
      "Investigation of maximum beta-carotene yield with a min growth flow of 99,9 % of the max groth flow: 0.04\n",
      "Max beta-carotene flow on glucose:\t 0.0\n",
      "yield beta/glc:\t\t 0.00011 \tmol/mol\n",
      "Yield beta/glc:\t\t 0.33 \tmg/g\n",
      "\n",
      "yield beta/x:\t\t 0.001604 \tmol/mol\n",
      "Yield beta/x:\t\t 1.22 \tmg/g\n"
     ]
    }
   ],
   "source": [
    " with model_iMM904:\n",
    "    model_iMM904.reactions.GAPD.bounds = 0,0\n",
    "    model_iMM904.objective = model_iMM904.reactions.BIOMASS_SC5_notrace \n",
    "    solution = model_iMM904.optimize()\n",
    "    max_growth_flux = model_iMM904.optimize().objective_value\n",
    "    model_iMM904.reactions.BIOMASS_SC5_notrace.bounds = max_growth_flux*0.999, 100\n",
    "    \n",
    "    model_iMM904.objective = model_iMM904.reactions.EX_beta \n",
    "    solution_beta = model_iMM904.optimize()\n",
    "    max_beta_flux = model_iMM904.optimize().objective_value \n",
    "    \n",
    "    print('\\nInvestigation of maximum beta-carotene yield with a min growth flow of 99,9 % of the max groth flow:', round(max_growth_flux*0.999,2))\n",
    "    yield_b_glc_g = (max_beta_flux /abs(solution_beta.fluxes[\"EX_glc__D_e\"]))*(beta_weight/glucose_weight)\n",
    "    yield_b_glc_mol = max_beta_flux /abs(solution_beta.fluxes[\"EX_glc__D_e\"])\n",
    "    yield_b_X_g = (max_beta_flux /abs(solution_beta.fluxes[\"BIOMASS_SC5_notrace\"]))*(beta_weight/biomass_weight)\n",
    "    yield_b_X_mol = max_beta_flux /abs(solution_beta.fluxes[\"BIOMASS_SC5_notrace\"])\n",
    "    \n",
    "    #print \n",
    "    print(\"Max beta-carotene flow on glucose:\\t\",round(max_beta_flux,2))\n",
    "    print(\"yield beta/glc:\\t\\t\", round(yield_b_glc_mol,6), \"\\tmol/mol\")\n",
    "    print(\"Yield beta/glc:\\t\\t\", round(yield_b_glc_g*1000,2), \"\\tmg/g\\n\")\n",
    "    print(\"yield beta/x:\\t\\t\", round(yield_b_X_mol,6), \"\\tmol/mol\")\n",
    "    print(\"Yield beta/x:\\t\\t\", round(yield_b_X_g*1000,2), \"\\tmg/g\")"
   ]
  },
  {
   "cell_type": "markdown",
   "metadata": {},
   "source": [
    "Here it can be seen that the flow of 0.0571 of beta caroten is lower than before where the flow was 0.351.\n",
    "Next we try to know out Pyruvate kinase:"
   ]
  },
  {
   "cell_type": "code",
   "execution_count": 28,
   "metadata": {},
   "outputs": [
    {
     "data": {
      "text/html": [
       "\n",
       "        <table>\n",
       "            <tr>\n",
       "                <td><strong>Reaction identifier</strong></td><td>PYK</td>\n",
       "            </tr><tr>\n",
       "                <td><strong>Name</strong></td><td>Pyruvate kinase</td>\n",
       "            </tr><tr>\n",
       "                <td><strong>Memory address</strong></td>\n",
       "                <td>0x07f4b70a1fc88</td>\n",
       "            </tr><tr>\n",
       "                <td><strong>Stoichiometry</strong></td>\n",
       "                <td>\n",
       "                    <p style='text-align:right'>adp_c + h_c + pep_c --> atp_c + pyr_c</p>\n",
       "                    <p style='text-align:right'>ADP C10H12N5O10P2 + H+ + Phosphoenolpyruvate --> ATP C10H12N5O13P3 + Pyruvate</p>\n",
       "                </td>\n",
       "            </tr><tr>\n",
       "                <td><strong>GPR</strong></td><td>YAL038W or YOR347C</td>\n",
       "            </tr><tr>\n",
       "                <td><strong>Lower bound</strong></td><td>0.0</td>\n",
       "            </tr><tr>\n",
       "                <td><strong>Upper bound</strong></td><td>999999.0</td>\n",
       "            </tr>\n",
       "        </table>\n",
       "        "
      ],
      "text/plain": [
       "<Reaction PYK at 0x7f4b70a1fc88>"
      ]
     },
     "execution_count": 28,
     "metadata": {},
     "output_type": "execute_result"
    }
   ],
   "source": [
    "model_iMM904.reactions.PYK"
   ]
  },
  {
   "cell_type": "code",
   "execution_count": 448,
   "metadata": {},
   "outputs": [
    {
     "name": "stdout",
     "output_type": "stream",
     "text": [
      "Maximum beta-carotene flow:  0.07334963325183375\n",
      "0.05244798254163893\n",
      "0.00010666666820003979\n",
      "\n",
      "Investigation of maximum beta-carotene yield with a min growth flow of 99,9 % of the max groth flow: 0.05\n",
      "Max beta-carotene flow on glucose:\t 0.0\n",
      "yield beta/glc:\t\t 1.8e-05 \tmol/mol\n",
      "Yield beta/glc:\t\t 0.05 \tmg/g\n",
      "\n",
      "yield beta/x:\t\t 0.002036 \tmol/mol\n",
      "Yield beta/x:\t\t 1.54 \tmg/g\n"
     ]
    }
   ],
   "source": [
    " with model_iMM904:\n",
    "    model_iMM904.reactions.PYK.bounds = 0,0\n",
    "    model_iMM904.objective = model_iMM904.reactions.BIOMASS_SC5_notrace \n",
    "    solution = model_iMM904.optimize()\n",
    "    max_growth_flux = model_iMM904.optimize().objective_value\n",
    "    model_iMM904.reactions.BIOMASS_SC5_notrace.bounds = max_growth_flux*0.999, 100\n",
    "    \n",
    "    model_iMM904.objective = model_iMM904.reactions.EX_beta \n",
    "    solution_beta = model_iMM904.optimize()\n",
    "    max_beta_flux = model_iMM904.optimize().objective_value \n",
    "    \n",
    "    print('\\nInvestigation of maximum beta-carotene yield with a min growth flow of 99,9 % of the max groth flow:', round(max_growth_flux*0.999,2))\n",
    "    yield_b_glc_g = (max_beta_flux /abs(solution_beta.fluxes[\"EX_glc__D_e\"]))*(beta_weight/glucose_weight)\n",
    "    yield_b_glc_mol = max_beta_flux /abs(solution_beta.fluxes[\"EX_glc__D_e\"])\n",
    "    yield_b_X_g = (max_beta_flux /abs(solution_beta.fluxes[\"BIOMASS_SC5_notrace\"]))*(beta_weight/biomass_weight)\n",
    "    yield_b_X_mol = max_beta_flux /abs(solution_beta.fluxes[\"BIOMASS_SC5_notrace\"])\n",
    "    \n",
    "    #print \n",
    "    print(\"Max beta-carotene flow on glucose:\\t\",round(max_beta_flux,2))\n",
    "    print(\"yield beta/glc:\\t\\t\", round(yield_b_glc_mol,6), \"\\tmol/mol\")\n",
    "    print(\"Yield beta/glc:\\t\\t\", round(yield_b_glc_g*1000,2), \"\\tmg/g\\n\")\n",
    "    print(\"yield beta/x:\\t\\t\", round(yield_b_X_mol,6), \"\\tmol/mol\")\n",
    "    print(\"Yield beta/x:\\t\\t\", round(yield_b_X_g*1000,2), \"\\tmg/g\")"
   ]
  },
  {
   "cell_type": "markdown",
   "metadata": {},
   "source": [
    "Here it can be seen that the flow of 0.0733 of beta caroten again is lower than before where the flow was 0.351.\n",
    "Next we try to know out Arginase:"
   ]
  },
  {
   "cell_type": "code",
   "execution_count": 30,
   "metadata": {},
   "outputs": [
    {
     "data": {
      "text/html": [
       "\n",
       "        <table>\n",
       "            <tr>\n",
       "                <td><strong>Reaction identifier</strong></td><td>ARGN</td>\n",
       "            </tr><tr>\n",
       "                <td><strong>Name</strong></td><td>Arginase</td>\n",
       "            </tr><tr>\n",
       "                <td><strong>Memory address</strong></td>\n",
       "                <td>0x07f4b715b9940</td>\n",
       "            </tr><tr>\n",
       "                <td><strong>Stoichiometry</strong></td>\n",
       "                <td>\n",
       "                    <p style='text-align:right'>arg__L_c + h2o_c --> orn_c + urea_c</p>\n",
       "                    <p style='text-align:right'>L-Arginine + H2O H2O --> Ornithine + Urea CH4N2O</p>\n",
       "                </td>\n",
       "            </tr><tr>\n",
       "                <td><strong>GPR</strong></td><td>YPL111W</td>\n",
       "            </tr><tr>\n",
       "                <td><strong>Lower bound</strong></td><td>0.0</td>\n",
       "            </tr><tr>\n",
       "                <td><strong>Upper bound</strong></td><td>999999.0</td>\n",
       "            </tr>\n",
       "        </table>\n",
       "        "
      ],
      "text/plain": [
       "<Reaction ARGN at 0x7f4b715b9940>"
      ]
     },
     "execution_count": 30,
     "metadata": {},
     "output_type": "execute_result"
    }
   ],
   "source": [
    "model_iMM904.reactions.ARGN"
   ]
  },
  {
   "cell_type": "code",
   "execution_count": 31,
   "metadata": {},
   "outputs": [
    {
     "name": "stdout",
     "output_type": "stream",
     "text": [
      "Maximum beta-carotene flow:  0.35143769968051114\n"
     ]
    }
   ],
   "source": [
    "with model_iMM904:\n",
    "    model_iMM904.reactions.ARGN.bounds = 0,0\n",
    "    model_iMM904.objective = model_iMM904.reactions.EX_beta \n",
    "    print(\"Maximum beta-carotene flux: \",model_iMM904.optimize().objective_value)"
   ]
  },
  {
   "cell_type": "code",
   "execution_count": 452,
   "metadata": {},
   "outputs": [
    {
     "name": "stdout",
     "output_type": "stream",
     "text": [
      "\n",
      "Investigation of maximum beta-carotene yield with a min growth flow of 99,9 % of the max groth flow: 0.29\n",
      "Max beta-carotene flow on glucose:\t 0.00061\n",
      "yield beta/glc:\t\t 6.1e-05 \tmol/mol\n",
      "Yield beta/glc:\t\t 0.18 \tmg/g\n",
      "\n",
      "yield beta/x:\t\t 0.00212 \tmol/mol\n",
      "Yield beta/x:\t\t 1.61 \tmg/g\n"
     ]
    }
   ],
   "source": [
    "with model_iMM904:\n",
    "    model_iMM904.reactions.ARGN.bounds = 0,0\n",
    "    model_iMM904.objective = model_iMM904.reactions.BIOMASS_SC5_notrace \n",
    "    solution = model_iMM904.optimize()\n",
    "    max_growth_flux = model_iMM904.optimize().objective_value\n",
    "    model_iMM904.reactions.BIOMASS_SC5_notrace.bounds = max_growth_flux*0.999, 100\n",
    "    \n",
    "    model_iMM904.objective = model_iMM904.reactions.EX_beta \n",
    "    solution_beta = model_iMM904.optimize()\n",
    "    max_beta_flux = model_iMM904.optimize().objective_value \n",
    "    \n",
    "    print('\\nInvestigation of maximum beta-carotene yield with a min growth flow of 99,9 % of the max groth flow:', round(max_growth_flux*0.999,2))\n",
    "    yield_b_glc_g = (max_beta_flux /abs(solution_beta.fluxes[\"EX_glc__D_e\"]))*(beta_weight/glucose_weight)\n",
    "    yield_b_glc_mol = max_beta_flux /abs(solution_beta.fluxes[\"EX_glc__D_e\"])\n",
    "    yield_b_X_g = (max_beta_flux /abs(solution_beta.fluxes[\"BIOMASS_SC5_notrace\"]))*(beta_weight/biomass_weight)\n",
    "    yield_b_X_mol = max_beta_flux /abs(solution_beta.fluxes[\"BIOMASS_SC5_notrace\"])\n",
    "    \n",
    "    #print \n",
    "    print(\"Max beta-carotene flow on glucose:\\t\",round(max_beta_flux,6))\n",
    "    print(\"yield beta/glc:\\t\\t\", round(yield_b_glc_mol,6), \"\\tmol/mol\")\n",
    "    print(\"Yield beta/glc:\\t\\t\", round(yield_b_glc_g*1000,2), \"\\tmg/g\\n\")\n",
    "    print(\"yield beta/x:\\t\\t\", round(yield_b_X_mol,6), \"\\tmol/mol\")\n",
    "    print(\"Yield beta/x:\\t\\t\", round(yield_b_X_g*1000,2), \"\\tmg/g\")"
   ]
  },
  {
   "cell_type": "markdown",
   "metadata": {},
   "source": [
    "Here it can be seen that the flow of 0.351 is the same as before we started knowcking out genes. \n",
    "Next we try to know out Pyruvate decarboxylase:"
   ]
  },
  {
   "cell_type": "code",
   "execution_count": 32,
   "metadata": {},
   "outputs": [
    {
     "data": {
      "text/html": [
       "\n",
       "        <table>\n",
       "            <tr>\n",
       "                <td><strong>Reaction identifier</strong></td><td>PYRDC</td>\n",
       "            </tr><tr>\n",
       "                <td><strong>Name</strong></td><td>Pyruvate decarboxylase</td>\n",
       "            </tr><tr>\n",
       "                <td><strong>Memory address</strong></td>\n",
       "                <td>0x07f4b70a1f908</td>\n",
       "            </tr><tr>\n",
       "                <td><strong>Stoichiometry</strong></td>\n",
       "                <td>\n",
       "                    <p style='text-align:right'>h_c + pyr_c --> acald_c + co2_c</p>\n",
       "                    <p style='text-align:right'>H+ + Pyruvate --> Acetaldehyde + CO2 CO2</p>\n",
       "                </td>\n",
       "            </tr><tr>\n",
       "                <td><strong>GPR</strong></td><td>YGR087C or YLR134W or YLR044C</td>\n",
       "            </tr><tr>\n",
       "                <td><strong>Lower bound</strong></td><td>0.0</td>\n",
       "            </tr><tr>\n",
       "                <td><strong>Upper bound</strong></td><td>999999.0</td>\n",
       "            </tr>\n",
       "        </table>\n",
       "        "
      ],
      "text/plain": [
       "<Reaction PYRDC at 0x7f4b70a1f908>"
      ]
     },
     "execution_count": 32,
     "metadata": {},
     "output_type": "execute_result"
    }
   ],
   "source": [
    "model_iMM904.reactions.PYRDC"
   ]
  },
  {
   "cell_type": "code",
   "execution_count": 454,
   "metadata": {},
   "outputs": [
    {
     "name": "stdout",
     "output_type": "stream",
     "text": [
      "\n",
      "Investigation of maximum beta-carotene yield with a min growth flow of 99,9 % of the max groth flow: 0.19\n",
      "Max beta-carotene flow on glucose:\t 0.000365\n",
      "yield beta/glc:\t\t 3.7e-05 \tmol/mol\n",
      "Yield beta/glc:\t\t 0.11 \tmg/g\n",
      "\n",
      "yield beta/x:\t\t 0.001909 \tmol/mol\n",
      "Yield beta/x:\t\t 1.45 \tmg/g\n"
     ]
    }
   ],
   "source": [
    "with model_iMM904:\n",
    "    model_iMM904.reactions.PYRDC.bounds = 0,0\n",
    "    model_iMM904.objective = model_iMM904.reactions.BIOMASS_SC5_notrace \n",
    "    solution = model_iMM904.optimize()\n",
    "    max_growth_flux = model_iMM904.optimize().objective_value\n",
    "    model_iMM904.reactions.BIOMASS_SC5_notrace.bounds = max_growth_flux*0.999, 100\n",
    "    \n",
    "    model_iMM904.objective = model_iMM904.reactions.EX_beta \n",
    "    solution_beta = model_iMM904.optimize()\n",
    "    max_beta_flux = model_iMM904.optimize().objective_value \n",
    "    \n",
    "    print('\\nInvestigation of maximum beta-carotene yield with a min growth flow of 99,9 % of the max groth flow:', round(max_growth_flux*0.999,2))\n",
    "    yield_b_glc_g = (max_beta_flux /abs(solution_beta.fluxes[\"EX_glc__D_e\"]))*(beta_weight/glucose_weight)\n",
    "    yield_b_glc_mol = max_beta_flux /abs(solution_beta.fluxes[\"EX_glc__D_e\"])\n",
    "    yield_b_X_g = (max_beta_flux /abs(solution_beta.fluxes[\"BIOMASS_SC5_notrace\"]))*(beta_weight/biomass_weight)\n",
    "    yield_b_X_mol = max_beta_flux /abs(solution_beta.fluxes[\"BIOMASS_SC5_notrace\"])\n",
    "    \n",
    "    #print \n",
    "    print(\"Max beta-carotene flow on glucose:\\t\",round(max_beta_flux,6))\n",
    "    print(\"yield beta/glc:\\t\\t\", round(yield_b_glc_mol,6), \"\\tmol/mol\")\n",
    "    print(\"Yield beta/glc:\\t\\t\", round(yield_b_glc_g*1000,2), \"\\tmg/g\\n\")\n",
    "    print(\"yield beta/x:\\t\\t\", round(yield_b_X_mol,6), \"\\tmol/mol\")\n",
    "    print(\"Yield beta/x:\\t\\t\", round(yield_b_X_g*1000,2), \"\\tmg/g\")"
   ]
  },
  {
   "cell_type": "markdown",
   "metadata": {},
   "source": [
    "Here it can be seen that the flow is 0.34 and slightly lower than to be begin with. \n",
    "Next we try to knockout different combinations of genes to see if this have an impact on the flow of beta carotene. "
   ]
  },
  {
   "cell_type": "code",
   "execution_count": 445,
   "metadata": {},
   "outputs": [
    {
     "name": "stdout",
     "output_type": "stream",
     "text": [
      "Maximum beta-carotene flow:  6.345381526122882e-05\n",
      "\n",
      "Investigation of maximum beta-carotene yield with a min growth flow of 99,9 % of the max groth flow: 0.04\n",
      "Max beta-carotene flow on glucose:\t 0.0\n",
      "yield beta/glc:\t\t 0.00011 \tmol/mol\n",
      "Yield beta/glc:\t\t 0.33 \t\tmg/g\n",
      "\n",
      "yield beta/x:\t\t 0.001606 \tmol/mol\n",
      "Yield beta/x:\t\t 1.22 \t\tmg/g\n"
     ]
    }
   ],
   "source": [
    "with model_iMM904:\n",
    "    model_iMM904.reactions.PYRDC.bounds = 0,0\n",
    "    model_iMM904.reactions.ARGN.bounds = 0,0\n",
    "    model_iMM904.reactions.GAPD.bounds = 0,0\n",
    "    model_iMM904.reactions.PYK.bounds = 0,0\n",
    "    model_iMM904.reactions.ATPS.bounds = 0,0\n",
    "\n",
    "    model_iMM904.objective = model_iMM904.reactions.BIOMASS_SC5_notrace \n",
    "    solution = model_iMM904.optimize()\n",
    "    max_growth_flux = model_iMM904.optimize().objective_value\n",
    "    model_iMM904.reactions.BIOMASS_SC5_notrace.bounds = max_growth_flux*0.999, 100\n",
    "    \n",
    "    model_iMM904.objective = model_iMM904.reactions.EX_beta \n",
    "    solution_beta = model_iMM904.optimize()\n",
    "    max_beta_flux = model_iMM904.optimize().objective_value \n",
    "    print(\"Maximum beta-carotene flow: \",max_beta_flux)\n",
    "    \n",
    "    print('\\nInvestigation of maximum beta-carotene yield with a min growth flow of 99,9 % of the max groth flow:', round(max_growth_flux*0.999,2))\n",
    "    yield_b_glc_g = (max_beta_flux /abs(solution_beta.fluxes[\"EX_glc__D_e\"]))*(beta_weight/glucose_weight)\n",
    "    yield_b_glc_mol = max_beta_flux /abs(solution_beta.fluxes[\"EX_glc__D_e\"])\n",
    "    yield_b_X_g = (max_beta_flux /abs(solution_beta.fluxes[\"BIOMASS_SC5_notrace\"]))*(beta_weight/biomass_weight)\n",
    "    yield_b_X_mol = max_beta_flux /abs(solution_beta.fluxes[\"BIOMASS_SC5_notrace\"])\n",
    "    \n",
    "    #print \n",
    "    print(\"Max beta-carotene flow on glucose:\\t\",round(max_beta_flux,2))\n",
    "    print(\"yield beta/glc:\\t\\t\", round(yield_b_glc_mol,6), \"\\tmol/mol\")\n",
    "    print(\"Yield beta/glc:\\t\\t\", round(yield_b_glc_g*1000,2), \"\\t\\tmg/g\\n\")\n",
    "    print(\"yield beta/x:\\t\\t\", round(yield_b_X_mol,6), \"\\tmol/mol\")\n",
    "    print(\"Yield beta/x:\\t\\t\", round(yield_b_X_g*1000,2), \"\\t\\tmg/g\")"
   ]
  },
  {
   "cell_type": "markdown",
   "metadata": {},
   "source": [
    "Different combinations of gene knockout did have apositive effect on the final flow of beta-carotene. "
   ]
  },
  {
   "cell_type": "markdown",
   "metadata": {},
   "source": [
    "### Finding knock-outs with OptKnock\n",
    "We chose to also try OptKnock to find possible knock-outs to optimize the beta-carotene production. A screenshot of the code is seen below. For the full code see the notebook OptKnock.ipynb."
   ]
  },
  {
   "cell_type": "markdown",
   "metadata": {},
   "source": [
    "![Opt](Figures/OptKnock.png)"
   ]
  },
  {
   "cell_type": "markdown",
   "metadata": {},
   "source": [
    "As seen from the table above we get a fva value of 0, meaning that we do not get any production of beta-carotene but that we observe the optimal growth rate for our S. Cerevisiae strain. Put in other words this means that we do not get an increased beta-carotene yield by knocking out multiple gene combinations of max 3 genes at a time. By using the optknock function we do though not get the full picture of the situation as the optknock function only optimize the pathway leading up to our product of biomass. Optknock do hence not account for the presence of competing pathways in the metabolic network, which possibly fuel on our synthesized product and like that degrade it resulting in lower production titers than reality. In order to investigate if this is the case one could run robustknock but as this is not implemented in a python package, yet we will not do this. "
   ]
  },
  {
   "cell_type": "code",
   "execution_count": 18,
   "metadata": {},
   "outputs": [
    {
     "name": "stdout",
     "output_type": "stream",
     "text": [
      "Maximum growth:  0.28754975097687085\n",
      "Maximum beta-carotene flow:  0.3514376996805114\n"
     ]
    }
   ],
   "source": [
    "with model_iMM904:\n",
    "    model_iMM904.reactions.FACOAL181.bounds = 0,0\n",
    "    model_iMM904.reactions.MTHFD.bounds = 0,0\n",
    "    model_iMM904.reactions.ACt2r.bounds = 0,0\n",
    "    print(\"Maximum growth: \",model_iMM904.optimize().objective_value)\n",
    "    model_iMM904.objective = model_iMM904.reactions.EX_beta \n",
    "    print(\"Maximum beta-carotene flow: \",model_iMM904.optimize().objective_value)"
   ]
  },
  {
   "cell_type": "code",
   "execution_count": 455,
   "metadata": {},
   "outputs": [
    {
     "name": "stdout",
     "output_type": "stream",
     "text": [
      "Maximum beta-carotene flow:  0.0006096435933192949\n",
      "\n",
      "Investigation of maximum beta-carotene yield with a min growth flow of 99,9 % of the max groth flow: 0.29\n",
      "Max beta-carotene flow on glucose:\t 0.0\n",
      "yield beta/glc:\t\t 6.1e-05 \tmol/mol\n",
      "Yield beta/glc:\t\t 0.18 \t\tmg/g\n",
      "\n",
      "yield beta/x:\t\t 0.002122 \tmol/mol\n",
      "Yield beta/x:\t\t 1.61 \t\tmg/g\n"
     ]
    }
   ],
   "source": [
    "with model_iMM904:\n",
    "    model_iMM904.reactions.FACOAL181.bounds = 0,0\n",
    "    model_iMM904.reactions.MTHFD.bounds = 0,0\n",
    "    model_iMM904.reactions.ACt2r.bounds = 0,0\n",
    "\n",
    "    model_iMM904.objective = model_iMM904.reactions.BIOMASS_SC5_notrace \n",
    "    solution = model_iMM904.optimize()\n",
    "    max_growth_flux = model_iMM904.optimize().objective_value\n",
    "    model_iMM904.reactions.BIOMASS_SC5_notrace.bounds = max_growth_flux*0.999, 100\n",
    "    \n",
    "    model_iMM904.objective = model_iMM904.reactions.EX_beta \n",
    "    solution_beta = model_iMM904.optimize()\n",
    "    max_beta_flux = model_iMM904.optimize().objective_value \n",
    "    print(\"Maximum beta-carotene flow: \",max_beta_flux)\n",
    "    \n",
    "    print('\\nInvestigation of maximum beta-carotene yield with a min growth flow of 99,9 % of the max groth flow:', round(max_growth_flux*0.999,2))\n",
    "    yield_b_glc_g = (max_beta_flux /abs(solution_beta.fluxes[\"EX_glc__D_e\"]))*(beta_weight/glucose_weight)\n",
    "    yield_b_glc_mol = max_beta_flux /abs(solution_beta.fluxes[\"EX_glc__D_e\"])\n",
    "    yield_b_X_g = (max_beta_flux /abs(solution_beta.fluxes[\"BIOMASS_SC5_notrace\"]))*(beta_weight/biomass_weight)\n",
    "    yield_b_X_mol = max_beta_flux /abs(solution_beta.fluxes[\"BIOMASS_SC5_notrace\"])\n",
    "    \n",
    "    #print \n",
    "    print(\"Max beta-carotene flow on glucose:\\t\",round(max_beta_flux,2))\n",
    "    print(\"yield beta/glc:\\t\\t\", round(yield_b_glc_mol,6), \"\\tmol/mol\")\n",
    "    print(\"Yield beta/glc:\\t\\t\", round(yield_b_glc_g*1000,2), \"\\t\\tmg/g\\n\")\n",
    "    print(\"yield beta/x:\\t\\t\", round(yield_b_X_mol,6), \"\\tmol/mol\")\n",
    "    print(\"Yield beta/x:\\t\\t\", round(yield_b_X_g*1000,2), \"\\t\\tmg/g\")"
   ]
  },
  {
   "cell_type": "code",
   "execution_count": null,
   "metadata": {},
   "outputs": [],
   "source": []
  },
  {
   "cell_type": "markdown",
   "metadata": {},
   "source": [
    "## 5. Discussion (<500 words)"
   ]
  },
  {
   "cell_type": "markdown",
   "metadata": {},
   "source": [
    "Through the analysis we found that the gene knockouts that had been studied in the literature did not give any flux of EX_beta. this indicates that something might be missing from the model or the reactions added, as the literature revealed higher titers of the compound. \n",
    "\n",
    "As we can see the \n",
    "\n"
   ]
  },
  {
   "cell_type": "markdown",
   "metadata": {},
   "source": [
    "## 6. Conclusion (<200 words)"
   ]
  },
  {
   "cell_type": "markdown",
   "metadata": {},
   "source": [
    "Throughout this work we have investigated the beta-carotene production possibilities from a non-natural producer, namely S. cerevisiae strain S288C. In addition, we have investigated different available GSM and utilized the GSM iMM904 which received the highest score through memote and subsequent contained more metabolites, reactions and genes. We studied two different beta-carotene pathways and excluded one based on the need for Plastoquinol and incorporated the metabolites and pathways from the other into the GSM for its natural synthesis of beta-carotene. \n",
    "We have used computational modeling to predict genetic manipulation that can optimize our microbial strain to a max production rate of beta-carotene, among these we found that we could obtain a % increase in growth rate and a % increase in beta-carotene production by changing the carbon source to …. but found no increase in flow when grown under anerobic conditions. Note that these numbers are independent upon each other. Based upon a literature search we knocked out different gene combinations as well as analyzed knockout possibilities through optknock but did not experience an increase in beta-carotene flow. \n",
    "In short, we have engineered the S. cerevisiae strain S288C to produce ….. g/mol beta-carotene with a growth rate of …."
   ]
  },
  {
   "cell_type": "markdown",
   "metadata": {},
   "source": [
    "## References"
   ]
  },
  {
   "cell_type": "markdown",
   "metadata": {},
   "source": [
    "[1] Madigan, M. T., Martinko, J. M., & Parker, J. (2014). Brock biology of microorganisms. Upper Saddle River, NJ: Prentice Hall/Pearson Education."
   ]
  },
  {
   "cell_type": "markdown",
   "metadata": {},
   "source": [
    "[2] Qian Li, Zhiqiang Sun, Jing Li, Yansheng Zhang, Enhancing beta-carotene production in Saccharomyces cerevisiae by metabolic engineering, FEMS Microbiology Letters, Volume 345, Issue 2, August 2013, Pages 94–101, https://doi.org/10.1111/1574-6968.12187"
   ]
  },
  {
   "cell_type": "code",
   "execution_count": null,
   "metadata": {},
   "outputs": [],
   "source": []
  },
  {
   "cell_type": "code",
   "execution_count": null,
   "metadata": {},
   "outputs": [],
   "source": []
  }
 ],
 "metadata": {
  "kernelspec": {
   "display_name": "Python 3",
   "language": "python",
   "name": "python3"
  },
  "language_info": {
   "codemirror_mode": {
    "name": "ipython",
    "version": 3
   },
   "file_extension": ".py",
   "mimetype": "text/x-python",
   "name": "python",
   "nbconvert_exporter": "python",
   "pygments_lexer": "ipython3",
   "version": "3.8.5"
  }
 },
 "nbformat": 4,
 "nbformat_minor": 4
}
