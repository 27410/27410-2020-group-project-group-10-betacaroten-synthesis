{
 "cells": [
  {
   "cell_type": "markdown",
   "metadata": {},
   "source": [
    "# [Title]"
   ]
  },
  {
   "cell_type": "markdown",
   "metadata": {},
   "source": [
    "## 1. Introduction"
   ]
  },
  {
   "cell_type": "markdown",
   "metadata": {},
   "source": [
    "### 1.1 Literature review of the compound (<500 words)"
   ]
  },
  {
   "cell_type": "markdown",
   "metadata": {},
   "source": [
    "**β-carotene** \n",
    "\n",
    "β-carotene belongs to the large group of caroterpernoids, also called tetraterpenoids. Caroterpernoids are organic red/orange pigments. They are found naturally in many plants and fungi as well as some algae and bacteria. β-carotene are well known for giving plants as carrots and pumkin their characteristic orange color [1]. \n",
    "\n",
    "As Caroterpernoids are tetraterpenoids they are all synthesized from 8 isoprene molecules and have the chemical formula $C_{40}$$H_{x}$. Caroterpernoids devided in two classes xanthophylls and carotenes. Xanthophylls contains oxygen whereas carotenes is purely carbohydrates. β-carotene ($C_{40}$$H_{56}$) belongs in the carotene class as can be seen on the figure below [1]. "
   ]
  },
  {
   "cell_type": "markdown",
   "metadata": {},
   "source": [
    "![Beta-carotine drawing](Figures/Beta-Carotin.png)"
   ]
  },
  {
   "cell_type": "markdown",
   "metadata": {},
   "source": [
    "β-carotene has a number of biological functions. It serves as a precursor for vitamin A, which is related to a number of important functions in the human body including proper growth and function of sight[1,2]. Moreover, it is shown to have properties as antioxidant and anticancer.\n",
    "\n",
    "β-carotene is a valuble propduct within the food, pharmalogical and cosmetic indutry. Not only for its bioactive properties but also as an additive for colouring in food and pharmaceutical tablets. Within cosmetics it is often used in creams as it protects the skin against oxidation and UV radiation[2]. \n",
    "\n",
    "**Current production methods**\n",
    "\n",
    "\n",
    "\n",
    "----------------------\n",
    "[1] Berman, Judit, et al. “Nutritionally Important Carotenoids as Consumer Products.” Phytochemistry Reviews, vol. 14, no. 5, Springer Netherlands, 2015, pp. 727–43, doi:10.1007/s11101-014-9373-1, 10.1007/11101.1572-980X.\n",
    "[2] https://academic.oup.com/fqs/article/2/2/69/4970186"
   ]
  },
  {
   "cell_type": "markdown",
   "metadata": {},
   "source": [
    "**Current production methods**\n",
    "\n",
    "- Extracted from plants.\n",
    "- Chemical synthesis \n",
    "- Biosynthesis"
   ]
  },
  {
   "cell_type": "markdown",
   "metadata": {},
   "source": [
    "### 1.2 Literature review of the cell factory (<500 words)\n",
    "*Saccharomyces cerevisiae* was chosen as the cell factory for this project, as it is a well-known organism with beneficial features in industrial production setups. It differs from the model bacterial organism *Escherichia coli* by its larger size and is presence of nucleus, and gives other possibilities of production that are not available in bacteria[1]\n",
    "\n",
    "*S. cerevisiae* is a eukaryotic single-celled organism of the species yeast, under the phylum ascomycetes. It has been used for thousands of years in various productions like wine, brewing and cheese making, and is considered non-pathogenic, which emphasises its importance to many nations. Due to the age of usage it has been studied as a model eukaryote for many years and was the first eukaryotic cell with the full genome sequenced[1]. \n",
    "\n",
    "As there have been made extensive work, which has created thorough knowledge of the specie, many advanced molecular biological tools for genetically manipulation are available. This makes it suitable to work with in the laboratory, to test new pathways and products. This is not let alone with the fact that it is advanced in growth speed and is well established in industrial biotechnology, making it suitable as a cell factory and widely used in the fermentation-based industry[2]. \n",
    "\n",
    "As this project focuses on beta-carotene production, *S. cerevisiae* has proven to be even more relevant. As conventional yeast, *S. cerevisiae* can produce geranylgeranyl diphosphate, which is a precursor in the carotenoid biosynthesis. Through genetic engineering it has been proven possible to produce beta-carotenes in *S. cerevisiae*. Compared to other heterlogous beta-carotene production organisms, it is considered safe which is important, as beta-carotenes can be used in food production etc.[4]\n",
    "\n",
    "Due to the extensive knowledge of *S. cerevisiae* and that it has already been proven possible to produce beta-carotene in the organism, we found it relevant to take a computational look at this organism and available gene sequence models (GSM). This will hopefully make it possible to predict higher production titers and better hypothetical genetic engineering strategies for production optimisation. More specificly, we will work with the strain *S. cerevisiae S288C*[3], which has two GSMs available on BIGG.com*\n",
    "\n",
    "\n",
    "[1]Madigan, M. T., Martinko, J. M., & Parker, J. (2014). Brock biology of microorganisms. Upper Saddle River, NJ: Prentice Hall/Pearson Education.\n",
    "[2]Li, Q., Sun, Z., Li, J., & Zhang, Y. (2013). Enhancing beta-carotene production in Saccharomyces cerevisiae by metabolic engineering. FEMS microbiology letters, 345(2), 94–101. https://doi.org/10.1111/1574-6968.12187\n",
    "[3] Fisk, D. G., Ball, C. A., Dolinski, K., Engel, S. R., Hong, E. L., Issel-Tarver, L., Schwartz, K., Sethuraman, A., Botstein, D., Cherry, J. M., & Saccharomyces Genome Database Project (2006). Saccharomyces cerevisiae S288C genome annotation: a working hypothesis. Yeast (Chichester, England), 23(12), 857–865. https://doi.org/10.1002/yea.1400\n",
    "\n",
    "[4] Qian Li, Zhiqiang Sun, Jing Li, Yansheng Zhang, Enhancing beta-carotene production in Saccharomyces cerevisiae by metabolic engineering, FEMS Microbiology Letters, Volume 345, Issue 2, August 2013, Pages 94–101, https://doi.org/10.1111/1574-6968.12187\n",
    "\n",
    "* This statement is based on seach on the website http://bigg.ucsd.edu/search?query=Saccharomyces+cerevisiae the 10/11/2020.\n",
    "\n"
   ]
  },
  {
   "cell_type": "markdown",
   "metadata": {},
   "source": [
    "## 2. Problem definition (<300 words)\n",
    "Beta-carotene is a carotenoid with numerous biological functions in the human body including being involved in the natural synthesis of provitamin A, among others necessary for growth, vision and embryotic development. Beta-carotene is furthermore widely used in the industry as a coloring agent in food and cosmetics and an additive in medicine as it has shown anticancer as well as antioxidant properties. Despite the numerous functions of beta-carotene, we are not able to synthesize it in the human body, pushing market demands for its synthetic production. \n",
    "Chemical synthesis is as of today the most commonly used technique for its production, but research has revealed that synthetic beta-carotene has carcinogenic activity and effective production methods for its natural synthesis is thus of great interest. Based on this extensive research has been caried out to examine the microbial biosynthesis of it as it provides a solid basis for a natural and sustainable production while avoiding the use of organic solvents such as heavy metals, strong acids and bases along with the formation of byproducts. Metabolic engineering has additionally carved the way to improve the yield and thus obtain higher titers and productivity of the product, through strain engineering. All though utilizing a natural producer of beta-carotene seem like the straightforward choice as production organism, it has been found that most of these are non-cultivable in laboratory conditions and that they require extensive optimalization. Choosing a well characterized microorganism, with various tools available for genetic engineering will thus enhance the chances and ease the process of increasing the product yield and productivity of the strain. \n",
    "We have utilized an existing genome scale metabolic model (GSM) for *S. cerevisiae* and incorporate relevant reactions and pathways for its natural synthesis of beta-carotene. Afterwards we have performed phenotype predictions based on gene deletions and essentiality and evaluated on metabolic pathway visualizations with Escher.\n",
    "\n",
    "Kiler artilker: \n",
    "β-Carotene—properties and production methods (Food Quality and Safety)\n",
    "Engineering microbial factories for synthesis of value-added products (J Ind Microbiol Biotechnol.)"
   ]
  },
  {
   "cell_type": "markdown",
   "metadata": {},
   "source": [
    "## 3. *If Project category II:* Selection and assessment of existing GSM (<500 words)"
   ]
  },
  {
   "cell_type": "markdown",
   "metadata": {},
   "source": [
    "Using the data base BiGG, two GSM models for *S. cerevisias* were identified. Both are from the same strain, strain S288C, however iMM904, contains 1226 metabolites, 1557 reaction and 905 genes while iND750 is a bit smaller with 1059 metabolites, 1266 reactions and 750 genes. Before begining on the engineering strategy, memote will be used to detemine which model have the best score. Based on the score and model size, one GSM will be choosen as the model used in this project. "
   ]
  },
  {
   "cell_type": "code",
   "execution_count": 33,
   "metadata": {},
   "outputs": [],
   "source": [
    "import numpy as np\n",
    "from cobra.io import read_sbml_model\n",
    "from cobra import Reaction, Metabolite"
   ]
  },
  {
   "cell_type": "markdown",
   "metadata": {},
   "source": [
    "#### Memote report of iMM904.xml"
   ]
  },
  {
   "cell_type": "code",
   "execution_count": 34,
   "metadata": {},
   "outputs": [],
   "source": [
    "model_iMM904 = read_sbml_model('iMM904.xml')"
   ]
  },
  {
   "cell_type": "code",
   "execution_count": 35,
   "metadata": {},
   "outputs": [],
   "source": [
    "#This code has been outcommented as it only needed to be runned once. It takes about 10 - 15 min to run this code. \n",
    "#%%time\n",
    "#!memote report snapshot iMM904.xml --filename iMM904.html"
   ]
  },
  {
   "cell_type": "markdown",
   "metadata": {},
   "source": [
    "From the memote analysis of iMM904.xml, the overall score is 85%.\n",
    "The consistenty test had a good result with a sub score of 96%. Here the score of stoichiometric inconsistency was 100% and the mass balance gave a score of 96%. \n",
    "For the annotation tests, the score was generlly high (above 80%) except for the gene annotation, which only score 43%"
   ]
  },
  {
   "cell_type": "markdown",
   "metadata": {},
   "source": [
    "#### Memote report of iND750.xml"
   ]
  },
  {
   "cell_type": "code",
   "execution_count": 36,
   "metadata": {},
   "outputs": [],
   "source": [
    "#This code has been outcommented as it only needed to be runned once. It takes about 10 - 15 min to run this code.\n",
    "#model_iND750 = read_sbml_model('iND750.xml') #This model is not used and is therefore outcommented. \n",
    "#%%time\n",
    "#!memote report snapshot iND750.xml --filename iND750.html"
   ]
  },
  {
   "cell_type": "markdown",
   "metadata": {},
   "source": [
    "The memote analysis of iND750.xml gave a overall score is 86%.\n",
    "The consistenty test of this model also gave a good result with a sub score of 97%. Here the score of stoichiometric inconsistency of 100% and the mass balance gave a score of 97.3%. \n",
    "For the annotation tests, the score was generlly high (above 80%) except for the gene annotation, which only score 43%"
   ]
  },
  {
   "cell_type": "markdown",
   "metadata": {},
   "source": [
    "#### Choice of GSM"
   ]
  },
  {
   "cell_type": "markdown",
   "metadata": {},
   "source": [
    "Overall the models are fairly similar and both have high scores. However, even though the smallere model iND750 is a bit higher scored, it is the larger model, iMM904, that will be used in this report to similate the production of β-carotene. This is simply because iMM904 contains more genes, reaction and metabolites and therefore is able to simulate the organisme better. Here the different in score is not large engouth to arguee for the use of the smallere model.\n",
    "\n",
    "*Idea for rewrite:*\n",
    "From the memote analysis of the two GSM's, the models were overall fairly similar and were both given high scores. \n",
    "The smallere model iND750 had a slightly higher score, however, the difference in score is not large enough to arguee for the use of the smallere model. iMM904 contains more genes, reaction and metabolites and is therefore able to simulate the organisme better. Therefore we chose to use the large model iMM904 to simulate the different enigneering strategies for production of β-carotene."
   ]
  },
  {
   "cell_type": "markdown",
   "metadata": {},
   "source": [
    "## 4. Computer-Aided Cell Factory Engineering (<1500 words if Category II project)"
   ]
  },
  {
   "cell_type": "markdown",
   "metadata": {},
   "source": [
    "*S. cerevisiae* is not a natural producer of β-carotene, and therefore a pathway for production of the compound is not found in the model. To enable the production, some new metabolites and reaction must be added to iMM904, to allow prediction of the production of β-carotene through the GSM. \n",
    "\n",
    "Through research in the literature and investigation on KEGG, two pathways were found to be availble for this matter. Therefore it was relevant to investigate which of the two would be the most optimal pathway. (kilde) \n",
    "\n",
    "![Pathways on kegg](Figures/Second_pathway_13_11_2020.png)\n",
    "\n",
    "The figure above illustrates the two pathways. In the following, pathway 1 will refer to the yellow illustration, and pathway 2 will refer to the red pathway. \n",
    "\n",
    "It is relevant to note that the two first illustrated metabolite Geranyl-geranyl-PP is already in the model, and this is the step we are starting from. \n"
   ]
  },
  {
   "cell_type": "code",
   "execution_count": 37,
   "metadata": {},
   "outputs": [
    {
     "data": {
      "text/html": [
       "\n",
       "        <table>\n",
       "            <tr>\n",
       "                <td><strong>Metabolite identifier</strong></td><td>ggdp_c</td>\n",
       "            </tr><tr>\n",
       "                <td><strong>Name</strong></td><td>Geranylgeranyl diphosphate C20H33O7P2</td>\n",
       "            </tr><tr>\n",
       "                <td><strong>Memory address</strong></td>\n",
       "                <td>0x07feb8abaefd0</td>\n",
       "            </tr><tr>\n",
       "                <td><strong>Formula</strong></td><td>C20H33O7P2</td>\n",
       "            </tr><tr>\n",
       "                <td><strong>Compartment</strong></td><td>c</td>\n",
       "            </tr><tr>\n",
       "                <td><strong>In 2 reaction(s)</strong></td><td>\n",
       "                    FRTT, GGTT</td>\n",
       "            </tr>\n",
       "        </table>"
      ],
      "text/plain": [
       "<Metabolite ggdp_c at 0x7feb8abaefd0>"
      ]
     },
     "execution_count": 37,
     "metadata": {},
     "output_type": "execute_result"
    }
   ],
   "source": [
    "model_iMM904.metabolites.ggdp_c"
   ]
  },
  {
   "cell_type": "markdown",
   "metadata": {},
   "source": [
    "#### Pathway 1\n",
    "The first pathyway is also described in the paper \"....\"\n",
    "It starts at hydroxymethylglutaryl coA, which is produced from acetyl coA naturally in *S. cerevisiae*, but it is only the last four reactions in the pathway that needs to be added as the rest is already in the model.\n",
    "\n",
    "The pathway:\n",
    "    \n",
    "    hydroxymethylglutaryl CoA --> mevalonate (metabolite id: hmgcoa_c and mev_R_c) \n",
    "    (Enzyme name: HMG CoA reductase, reaction id: HMGCOAR)\n",
    "    \n",
    "    mevalonate --> --> geranyl diphosphate (metabolite id: ggdp_c) (multiple reactions)\n",
    "\n",
    "    step 1: 2 geranyl diphosphate --> Phytoene + 2 diphosphate (metabolite id: ppi_c)\n",
    "    (https://www.genome.jp/dbget-bin/www_bget?rn:R10177 - multistep reaction (see R02065+R04218))\n",
    "\n",
    "    step 2: Phytoene + 3 Acceptors -> Neurosporene + 3 reduced acceptors \n",
    "    (https://www.genome.jp/dbget-bin/www_bget?rn:R09691)\n",
    "\n",
    "    step 3: Neurosporene + reduced acceptor + O2 -> Lycopene + acceptor + 2 water \n",
    "    (https://www.genome.jp/dbget-bin/www_bget?rn:R04800)\n",
    "\n",
    "    step 4: Lycopene -> beta-Carotene \n",
    "    (https://www.genome.jp/dbget-bin/www_bget?rn:R03823)\n",
    "    \n",
    "Unfortunately, some of the steps have unknown acceptors and reducers. Therefore we had to take some assumptions. We chose to use NADP+ and NADPH as acceptors and reducers, as these are common in cellular reactions. If this assumption was not taken, it would not be possible to get a flux through the pathway. We argue that this assumption is valid, as the paper **...** has already shown that the pathway can be added for β-carotene production in *S. cerevisiae*.\n",
    "\n",
    "KILDE! "
   ]
  },
  {
   "cell_type": "markdown",
   "metadata": {},
   "source": [
    "#### Pathway 2\n",
    "The second pathway was found through KEGG. \n",
    "This pathway consists of the several steps. However through research of the reactions, it was found that ... needs .... which is only available in plants, and therefore we assume that this reaction would not be possible to get β-carotene production. "
   ]
  },
  {
   "cell_type": "markdown",
   "metadata": {},
   "source": [
    "#### Choice of pathway\n",
    "As Pathway 2 would require extensive research and novel findings due to the ...., we choce to go further with pathway 1 for this cell factory engineering design. \n"
   ]
  },
  {
   "cell_type": "markdown",
   "metadata": {},
   "source": [
    "### 4.2 Adding reactions from pathway 1 to create β-carotene pathway in *S. cerevisiae*:"
   ]
  },
  {
   "cell_type": "markdown",
   "metadata": {},
   "source": [
    "To add the relevant reactions to the GSM, we investigated which metabolites and reactions that were already present in the model. These can be seen below. For code simplicity these are outcommented. "
   ]
  },
  {
   "cell_type": "code",
   "execution_count": 38,
   "metadata": {},
   "outputs": [],
   "source": [
    "#Reactions from mev__R_c to ggdp_c:\n",
    "#model_iMM904.reactions.HMGCOAR     #Hydroxymethylglutaryl CoA reductase\n",
    "#model_iMM904.reactions.MEVK1       #Mevalonate kinase atp\n",
    "#model_iMM904.reactions.PMEVK       #Phosphomevalonate kinase\n",
    "#model_iMM904.reactions.DPMVD       #Diphosphomevalonate decarboxylase\n",
    "#model_iMM904.reactions.IPDDI       #Isopentenyl-diphosphate D-isomerase\n",
    "#model_iMM904.reactions.DMATT       #Dimethylallyltranstransferase\n",
    "#model_iMM904.reactions.GRTT        #Geranyltranstransferase\n",
    "#model_iMM904.reactions.FRTT        #Farnesyltranstransferase\n",
    "\n",
    "#Metabolites relevant for the new reactions\n",
    "#model_iMM904.metabolites.hmgcoa_c  #Hydroxymethylglutaryl CoA\n",
    "#model_iMM904.metabolites.mev__R_c  #R Mevalonate\n",
    "#model_iMM904.metabolites.frdp_c    #Farnesyl diphosphate\n",
    "#model_iMM904.metabolites.ggdp_c    #Geranylgeranyl diphosphate\n",
    "#model_iMM904.metabolites.ppi_c     #Diphosphate\n",
    "#model_iMM904.metabolites.nadp_c    #Nicotinamide adenine dinucleotide phosphate\n",
    "#model_iMM904.metabolites.nadph_c   #Nicotinamide adenine dinucleotide phosphate H\n",
    "#model_iMM904.metabolites.h2o_c     #Hydrogen dioxide \n",
    "#model_iMM904.metabolites.o2_c      #Oxygen\n"
   ]
  },
  {
   "cell_type": "markdown",
   "metadata": {},
   "source": [
    "In the following, step 1-4 will be added to the model. "
   ]
  },
  {
   "cell_type": "markdown",
   "metadata": {},
   "source": [
    "#### 15-cis-Phytoene syntase\n",
    "The frist reaction to be added is: *2 Geranylgeranyl diphosphate <=> 15-cis-Phytoene + 2 Diphosphate*\n",
    "\n",
    "This will allow for Phytoene production which is a precurser in the reaction. \n",
    "\n",
    "(https://www.genome.jp/dbget-bin/www_bget?rn:R10177)"
   ]
  },
  {
   "cell_type": "code",
   "execution_count": 39,
   "metadata": {},
   "outputs": [
    {
     "name": "stdout",
     "output_type": "stream",
     "text": [
      "2 ggdp_c --> phy + 2 ppi_c\n"
     ]
    }
   ],
   "source": [
    "phy = Metabolite(id='phy', name='phytoene', compartment='c') #Adding the metabolite\n",
    "new_reaction1 = Reaction('phy_syn') #PHYtoene SYNtase\n",
    "phy = Metabolite(id='phy', name='phytoene', compartment='c') #Adding the metabolite\n",
    "\n",
    "new_reaction1.add_metabolites({model_iMM904.metabolites.ggdp_c: -2,\n",
    "                              phy: 1, # our newly created metabolites\n",
    "                               model_iMM904.metabolites.ppi_c: 2\n",
    "                                })\n",
    "print(new_reaction1.build_reaction_string()) # see if one get the rigth reaction"
   ]
  },
  {
   "cell_type": "markdown",
   "metadata": {},
   "source": [
    "The above print statement shows that the reaction was correctly assembled. Below we incorporate the reaction to the GSM and check the occruance. The procedure will be performed on all the reactions added to the model. "
   ]
  },
  {
   "cell_type": "code",
   "execution_count": 40,
   "metadata": {},
   "outputs": [
    {
     "data": {
      "text/html": [
       "\n",
       "        <table>\n",
       "            <tr>\n",
       "                <td><strong>Reaction identifier</strong></td><td>phy_syn</td>\n",
       "            </tr><tr>\n",
       "                <td><strong>Name</strong></td><td></td>\n",
       "            </tr><tr>\n",
       "                <td><strong>Memory address</strong></td>\n",
       "                <td>0x07feb89c1f790</td>\n",
       "            </tr><tr>\n",
       "                <td><strong>Stoichiometry</strong></td>\n",
       "                <td>\n",
       "                    <p style='text-align:right'>2 ggdp_c --> phy + 2 ppi_c</p>\n",
       "                    <p style='text-align:right'>2 Geranylgeranyl diphosphate C20H33O7P2 --> phytoene + 2 Diphosphate</p>\n",
       "                </td>\n",
       "            </tr><tr>\n",
       "                <td><strong>GPR</strong></td><td></td>\n",
       "            </tr><tr>\n",
       "                <td><strong>Lower bound</strong></td><td>0.0</td>\n",
       "            </tr><tr>\n",
       "                <td><strong>Upper bound</strong></td><td>1000.0</td>\n",
       "            </tr>\n",
       "        </table>\n",
       "        "
      ],
      "text/plain": [
       "<Reaction phy_syn at 0x7feb89c1f790>"
      ]
     },
     "execution_count": 40,
     "metadata": {},
     "output_type": "execute_result"
    }
   ],
   "source": [
    "model_iMM904.add_reactions([new_reaction1])\n",
    "model_iMM904.reactions.phy_syn #check that the reaction is in the model"
   ]
  },
  {
   "cell_type": "markdown",
   "metadata": {},
   "source": [
    "#### All-trans-Neurosporene Syntase\n",
    "The next reaction added synthesises all-trans-Neurosporene as seen below: \n",
    "\n",
    "*15-cis-Phytoene + 3 Acceptor <=> all-trans-Neurosporene + 3 Reduced acceptor*\n",
    "\n",
    "(https://www.genome.jp/dbget-bin/www_bget?rn:R09691)"
   ]
  },
  {
   "cell_type": "code",
   "execution_count": 41,
   "metadata": {},
   "outputs": [
    {
     "name": "stdout",
     "output_type": "stream",
     "text": [
      "3 nadp_c + phy --> 3 nadph_c + neu\n"
     ]
    }
   ],
   "source": [
    "new_reaction2 = Reaction('neu_syn') #NEUrosporene SYNtase\n",
    "#Adding the metabolite\n",
    "neu = Metabolite(id='neu', name='Neurosporene', compartment='c') \n",
    "#AH2 = Metabolite(id='AH2', name='Reduced acceptor', compartment='c') \n",
    "#A = Metabolite(id='A', name='Acceptor', compartment='c') \n",
    "new_reaction2.add_metabolites({\n",
    "    model_iMM904.metabolites.nadp_c: -3,\n",
    "    phy: -1, # our newly created metabolites\n",
    "    model_iMM904.metabolites.nadph_c: 3,\n",
    "    neu: 1,\n",
    "    })\n",
    "print(new_reaction2.build_reaction_string()) # see if one get the rigth reaction\n",
    "model_iMM904.add_reactions([new_reaction2])"
   ]
  },
  {
   "cell_type": "code",
   "execution_count": 42,
   "metadata": {},
   "outputs": [
    {
     "data": {
      "text/html": [
       "\n",
       "        <table>\n",
       "            <tr>\n",
       "                <td><strong>Reaction identifier</strong></td><td>neu_syn</td>\n",
       "            </tr><tr>\n",
       "                <td><strong>Name</strong></td><td></td>\n",
       "            </tr><tr>\n",
       "                <td><strong>Memory address</strong></td>\n",
       "                <td>0x07feb8afb1d00</td>\n",
       "            </tr><tr>\n",
       "                <td><strong>Stoichiometry</strong></td>\n",
       "                <td>\n",
       "                    <p style='text-align:right'>3 nadp_c + phy --> 3 nadph_c + neu</p>\n",
       "                    <p style='text-align:right'>3 Nicotinamide adenine dinucleotide phosphate + phytoene --> 3 Nicotinamide adenine dinucleotide phosphate - reduced + Neurosporene</p>\n",
       "                </td>\n",
       "            </tr><tr>\n",
       "                <td><strong>GPR</strong></td><td></td>\n",
       "            </tr><tr>\n",
       "                <td><strong>Lower bound</strong></td><td>0.0</td>\n",
       "            </tr><tr>\n",
       "                <td><strong>Upper bound</strong></td><td>1000.0</td>\n",
       "            </tr>\n",
       "        </table>\n",
       "        "
      ],
      "text/plain": [
       "<Reaction neu_syn at 0x7feb8afb1d00>"
      ]
     },
     "execution_count": 42,
     "metadata": {},
     "output_type": "execute_result"
    }
   ],
   "source": [
    "model_iMM904.reactions.neu_syn #check that the reaction is in the model"
   ]
  },
  {
   "cell_type": "markdown",
   "metadata": {},
   "source": [
    "#### Lycopene synthesis\n",
    "The production og lycopene is show below: \n",
    "\n",
    "*all-trans-Neurosporene + Reduced acceptor + Oxygen <=> Lycopene + Acceptor + 2 H2O* \n",
    "\n",
    "(https://www.genome.jp/dbget-bin/www_bget?rn:R04800)"
   ]
  },
  {
   "cell_type": "code",
   "execution_count": 43,
   "metadata": {},
   "outputs": [
    {
     "name": "stdout",
     "output_type": "stream",
     "text": [
      "nadph_c + neu + o2_c --> 2 h2o_c + lyc + nadp_c\n"
     ]
    }
   ],
   "source": [
    "new_reaction3 = Reaction('lyc_syn') #LYCopene SYNtase\n",
    "lyc = Metabolite(id='lyc', name='Lycopene', compartment='c') #Adding the metabolite\n",
    "new_reaction3.add_metabolites({\n",
    "    neu: -1, # our newly created metabolites\n",
    "    model_iMM904.metabolites.nadph_c: -1, \n",
    "    model_iMM904.metabolites.o2_c: -1,\n",
    "    lyc: 1,\n",
    "    model_iMM904.metabolites.nadp_c: 1,\n",
    "    model_iMM904.metabolites.h2o_c: 2,\n",
    "    })\n",
    "print(new_reaction3.build_reaction_string()) # see if one get the rigth reaction"
   ]
  },
  {
   "cell_type": "code",
   "execution_count": 44,
   "metadata": {},
   "outputs": [
    {
     "data": {
      "text/html": [
       "\n",
       "        <table>\n",
       "            <tr>\n",
       "                <td><strong>Reaction identifier</strong></td><td>lyc_syn</td>\n",
       "            </tr><tr>\n",
       "                <td><strong>Name</strong></td><td></td>\n",
       "            </tr><tr>\n",
       "                <td><strong>Memory address</strong></td>\n",
       "                <td>0x07feb89c25ac0</td>\n",
       "            </tr><tr>\n",
       "                <td><strong>Stoichiometry</strong></td>\n",
       "                <td>\n",
       "                    <p style='text-align:right'>nadph_c + neu + o2_c --> 2 h2o_c + lyc + nadp_c</p>\n",
       "                    <p style='text-align:right'>Nicotinamide adenine dinucleotide phosphate - reduced + Neurosporene + O2 O2 --> 2 H2O H2O + Lycopene + Nicotinamide adenine dinucleotide phosphate</p>\n",
       "                </td>\n",
       "            </tr><tr>\n",
       "                <td><strong>GPR</strong></td><td></td>\n",
       "            </tr><tr>\n",
       "                <td><strong>Lower bound</strong></td><td>0.0</td>\n",
       "            </tr><tr>\n",
       "                <td><strong>Upper bound</strong></td><td>1000.0</td>\n",
       "            </tr>\n",
       "        </table>\n",
       "        "
      ],
      "text/plain": [
       "<Reaction lyc_syn at 0x7feb89c25ac0>"
      ]
     },
     "execution_count": 44,
     "metadata": {},
     "output_type": "execute_result"
    }
   ],
   "source": [
    "model_iMM904.add_reactions([new_reaction3])\n",
    "model_iMM904.reactions.lyc_syn #check that the reaction is in the model"
   ]
  },
  {
   "cell_type": "markdown",
   "metadata": {},
   "source": [
    " #### beta-carotene production\n",
    " The last reaction for beta-Carotene production is added:\n",
    " \n",
    " *Lycopene -> beta-Carotene* \n",
    " \n",
    " (https://www.genome.jp/dbget-bin/www_bget?rn:R03823)"
   ]
  },
  {
   "cell_type": "code",
   "execution_count": 45,
   "metadata": {},
   "outputs": [
    {
     "name": "stdout",
     "output_type": "stream",
     "text": [
      "lyc --> beta\n"
     ]
    }
   ],
   "source": [
    "new_reaction4 = Reaction('beta_syn') #BETA-carotene SYNtase\n",
    "beta = Metabolite(id='beta', name='Beta-carotene', compartment='c') #Adding the metabolite\n",
    "new_reaction4.add_metabolites({\n",
    "    lyc: -1, # our newly created metabolites\n",
    "    beta: 1,\n",
    "    })\n",
    "print(new_reaction4.build_reaction_string()) # see if one get the rigth reaction"
   ]
  },
  {
   "cell_type": "code",
   "execution_count": 46,
   "metadata": {},
   "outputs": [
    {
     "data": {
      "text/html": [
       "\n",
       "        <table>\n",
       "            <tr>\n",
       "                <td><strong>Reaction identifier</strong></td><td>beta_syn</td>\n",
       "            </tr><tr>\n",
       "                <td><strong>Name</strong></td><td></td>\n",
       "            </tr><tr>\n",
       "                <td><strong>Memory address</strong></td>\n",
       "                <td>0x07feb8afb6b50</td>\n",
       "            </tr><tr>\n",
       "                <td><strong>Stoichiometry</strong></td>\n",
       "                <td>\n",
       "                    <p style='text-align:right'>lyc --> beta</p>\n",
       "                    <p style='text-align:right'>Lycopene --> Beta-carotene</p>\n",
       "                </td>\n",
       "            </tr><tr>\n",
       "                <td><strong>GPR</strong></td><td></td>\n",
       "            </tr><tr>\n",
       "                <td><strong>Lower bound</strong></td><td>0.0</td>\n",
       "            </tr><tr>\n",
       "                <td><strong>Upper bound</strong></td><td>1000.0</td>\n",
       "            </tr>\n",
       "        </table>\n",
       "        "
      ],
      "text/plain": [
       "<Reaction beta_syn at 0x7feb8afb6b50>"
      ]
     },
     "execution_count": 46,
     "metadata": {},
     "output_type": "execute_result"
    }
   ],
   "source": [
    "model_iMM904.add_reactions([new_reaction4])\n",
    "model_iMM904.reactions.beta_syn #check that the reaction is in the model"
   ]
  },
  {
   "cell_type": "markdown",
   "metadata": {},
   "source": [
    "#### Beta-carotene extraction from the cell\n",
    "To make a balance in the model, a beta-carotene exchange reaction is created. We assume that beta-carotene is secreted from the cell."
   ]
  },
  {
   "cell_type": "code",
   "execution_count": 47,
   "metadata": {},
   "outputs": [
    {
     "name": "stdout",
     "output_type": "stream",
     "text": [
      "beta --> \n"
     ]
    }
   ],
   "source": [
    "new_reaction5 = Reaction('EX_beta') #BETA-carotene SYNtase\n",
    "new_reaction5.add_metabolites({\n",
    "    beta: -1 #Excretion of beta-carotene\n",
    "    })\n",
    "print(new_reaction5.build_reaction_string()) # see if one get the rigth reaction"
   ]
  },
  {
   "cell_type": "code",
   "execution_count": 48,
   "metadata": {},
   "outputs": [
    {
     "data": {
      "text/html": [
       "\n",
       "        <table>\n",
       "            <tr>\n",
       "                <td><strong>Reaction identifier</strong></td><td>EX_beta</td>\n",
       "            </tr><tr>\n",
       "                <td><strong>Name</strong></td><td></td>\n",
       "            </tr><tr>\n",
       "                <td><strong>Memory address</strong></td>\n",
       "                <td>0x07feb8a725820</td>\n",
       "            </tr><tr>\n",
       "                <td><strong>Stoichiometry</strong></td>\n",
       "                <td>\n",
       "                    <p style='text-align:right'>beta --></p>\n",
       "                    <p style='text-align:right'>Beta-carotene --></p>\n",
       "                </td>\n",
       "            </tr><tr>\n",
       "                <td><strong>GPR</strong></td><td></td>\n",
       "            </tr><tr>\n",
       "                <td><strong>Lower bound</strong></td><td>0.0</td>\n",
       "            </tr><tr>\n",
       "                <td><strong>Upper bound</strong></td><td>1000.0</td>\n",
       "            </tr>\n",
       "        </table>\n",
       "        "
      ],
      "text/plain": [
       "<Reaction EX_beta at 0x7feb8a725820>"
      ]
     },
     "execution_count": 48,
     "metadata": {},
     "output_type": "execute_result"
    }
   ],
   "source": [
    "model_iMM904.add_reactions([new_reaction5])\n",
    "model_iMM904.reactions.EX_beta #check that the reaction is in the model"
   ]
  },
  {
   "cell_type": "markdown",
   "metadata": {},
   "source": [
<<<<<<< HEAD
    "### Testing titers of beta-carotene production and growth rates on different carbon sources"
=======
    "### 4.3 Testing titers of beta-carotene production and growth rates "
>>>>>>> 976cef6b644786dde62626913dd88dfb21ba0966
   ]
  },
  {
   "cell_type": "markdown",
   "metadata": {},
   "source": [
    "The growth rate and maximum production of beta-carotene will be calculated in the following.\n",
    "\n",
    "First we wanted to investigate the maximum growthrate of the cells, and afterwards investigate the maximum possible beta-carotene production, independent on eachother."
   ]
  },
  {
   "cell_type": "code",
   "execution_count": 63,
   "metadata": {},
   "outputs": [
    {
     "name": "stdout",
     "output_type": "stream",
     "text": [
      "Max growth and production in glucose. Growth rate and production is independent:\n",
      "\n",
      "Max growth rate on glucose: 0.29\n",
      "Max beta-carotene flow on glucose: 0.35\n"
     ]
    }
   ],
   "source": [
    "#Find the max growth rate of S. cerevisiae on glucose with the standard medium settings with glucose\n",
    "#Test the maximum beta-carotene production at another growth rate\n",
    "print(\"Max growth and production in glucose. Growth rate and production is independent:\\n\")\n",
    "with model_iMM904: \n",
    "    #Max growth\n",
    "    initial_growth = model_iMM904.slim_optimize()\n",
    "    print(\"Max growth rate on glucose:\",round(initial_growth,2))\n",
    "    \n",
    "    #max production\n",
    "    model_iMM904.objective = model_iMM904.reactions.EX_beta           #sets objective to the beta-carotene flow\n",
    "    initial_beta_flow = model_iMM904.optimize().objective_value       #Find max beta-carotene flow\n",
    "    print(\"Max beta-carotene flow on glucose:\",round(initial_beta_flow,2))"
   ]
  },
  {
   "cell_type": "markdown",
   "metadata": {},
   "source": [
    "\n",
    "In the following we wanted to test the growth and production at different carbon sources."
   ]
  },
  {
   "cell_type": "markdown",
   "metadata": {},
   "source": [
    "**Consider moving the following up**"
   ]
  },
  {
   "cell_type": "code",
   "execution_count": 64,
   "metadata": {},
   "outputs": [
    {
     "name": "stdout",
     "output_type": "stream",
     "text": [
      "Growth and production at different carbon sources. Growth rate and production is independent: \n",
      "D-Galactose exchange:\n",
      "Maximum growth rate for this carbon source:  0.29\n",
      "Maximum beta-carotene flow for this carbon-source:  0.35\n",
      " \n",
      "D-Glucosamine 6-phosphate exchange:\n",
      "Maximum growth rate for this carbon source:  0.41\n",
      "Maximum beta-carotene flow for this carbon-source:  0.45\n",
      " \n",
      "Adenosine exchange:\n",
      "Maximum growth rate for this carbon source:  0.37\n",
      "Maximum beta-carotene flow for this carbon-source:  0.41\n",
      " \n",
      "Guanosine exchange:\n",
      "Maximum growth rate for this carbon source:  0.37\n",
      "Maximum beta-carotene flow for this carbon-source:  0.41\n",
      " \n",
      "S Adenosyl L methionine exchange:\n",
      "Maximum growth rate for this carbon source:  0.37\n",
      "Maximum beta-carotene flow for this carbon-source:  0.41\n",
      " \n",
      "Inosine exchange:\n",
      "Maximum growth rate for this carbon source:  0.37\n",
      "Maximum beta-carotene flow for this carbon-source:  0.41\n",
      " \n",
      "Maltose exchange:\n",
      "Maximum growth rate for this carbon source:  0.52\n",
      "Maximum beta-carotene flow for this carbon-source:  0.61\n",
      " \n",
      "D-Mannose exchange:\n",
      "Maximum growth rate for this carbon source:  0.29\n",
      "Maximum beta-carotene flow for this carbon-source:  0.35\n",
      " \n",
      "Melibiose exchange:\n",
      "Maximum growth rate for this carbon source:  0.52\n",
      "Maximum beta-carotene flow for this carbon-source:  0.61\n",
      " \n",
      "Sucrose exchange:\n",
      "Maximum growth rate for this carbon source:  0.52\n",
      "Maximum beta-carotene flow for this carbon-source:  0.61\n",
      " \n",
      "Adenosine 3  5  bisphosphate exchange:\n",
      "Maximum growth rate for this carbon source:  0.37\n",
      "Maximum beta-carotene flow for this carbon-source:  0.41\n",
      " \n",
      "Trehalose exchange:\n",
      "Maximum growth rate for this carbon source:  0.52\n",
      "Maximum beta-carotene flow for this carbon-source:  0.61\n",
      " \n",
      "Xanthosine exchange:\n",
      "Maximum growth rate for this carbon source:  0.37\n",
      "Maximum beta-carotene flow for this carbon-source:  0.41\n",
      " \n",
      "There are 13 exchange reactions that can give a equal or higher growth rate and beta-carotene production. (independent of each other)\n"
     ]
    }
   ],
   "source": [
    "#Save all exchange reactions with carbon in a list\n",
    "carbon_source_exchanges=[]                                    #Creates list to save carbon sources\n",
    "for exchange in model_iMM904.exchanges:                       #Iterate through all exchange reactions\n",
    "    for metabolite in exchange.metabolites:                   #Iterate through metabolites\n",
    "        if \"C\" in metabolite.elements:                        #Save all reactions that contains carbon\n",
    "            carbon_source_exchanges.append(exchange.id) \n",
    "            \n",
    "print(\"Growth and production at different carbon sources. Growth rate and production is independent: \\n\")\n",
    "#Investigate growthrates and beta-carotene for different carbon sources.     \n",
    "potential_better_Csources = []                                 #Create list to save potential better C-sources\n",
    "count = 0\n",
    "for i in range (0,len(carbon_source_exchanges)):               #iterate through exchange reaction\n",
    "    with model_iMM904:                                         #Only local changes\n",
    "        #Change medium\n",
    "        medium=model_iMM904.medium                             #Resets medium to standard\n",
    "        medium['EX_glc__D_e']= 0                               #sets glucose level to 0\n",
    "        medium[carbon_source_exchanges[i]]= 10                 #sets level of carbon source to 10\n",
    "        model_iMM904.medium = medium                           \n",
    "        \n",
    "        #Save max growthrate\n",
    "        solution_growth = model_iMM904.slim_optimize(error_value=0.) \n",
    "        \n",
    "        #Only choose growthrate equal or higher than glucose (standard)\n",
    "        if solution_growth >= initial_growth: \n",
    "            model_iMM904.objective = model_iMM904.reactions.EX_beta               #sets objective to the beta-carotene flow\n",
    "            solution_beta = model_iMM904.optimize().objective_value               #save max beta-carotene flow\n",
    "            \n",
    "            #Only choose beta-carotene flow is equal or higher than the standard\n",
    "            if solution_beta >= initial_beta_flow: #checks if max \n",
    "                count += 1\n",
    "                potential_better_Csources.append(carbon_source_exchanges[i])      #If true, save the carbon source in the list\n",
    "                name=model_iMM904.reactions.get_by_id(carbon_source_exchanges[i]) #gets the reaction name for the carbon source\n",
    "                print(name.name+\":\")                                              #print name \n",
    "                print(\"Maximum growth rate for this carbon source: \",round(solution_growth,2)) #prints rounded max growth rate\n",
    "                print(\"Maximum beta-carotene flow for this carbon-source: \",round(model_iMM904.optimize().objective_value,2)) #prints max beta-carotene flow\n",
    "                print(\" \")#just spacing \n",
    "print(\"There are \"+ str(count) + \" exchange reactions that can give a equal or higher growth rate and beta-carotene production. (independent of each other)\") "
   ]
  },
  {
   "cell_type": "markdown",
   "metadata": {},
   "source": [
    "From the above code, it seems that we have 13 possible exchange reactions that would be intersting to investigate further. \n",
    "\n",
    "Maltose, Melibiose, Sucrose and Trehalose seems promosing."
   ]
  },
  {
   "cell_type": "markdown",
   "metadata": {},
   "source": [
    "#### Testing optimal titers of beta-carotene at optimal growth\n",
    "In the following we wanted to investigate the optimal growth for beta-carotene production. "
   ]
  },
  {
   "cell_type": "code",
   "execution_count": 65,
   "metadata": {},
   "outputs": [
    {
     "name": "stdout",
     "output_type": "stream",
     "text": [
      "Maximum beta-carotene flow:  0.3514376996805112\n",
      "Growth rate at maximum beta carotene flow:  0.0\n"
     ]
    }
   ],
   "source": [
    "with model_iMM904:\n",
    "    model_iMM904.objective = model_iMM904.reactions.EX_beta \n",
    "    print(\"Maximum beta-carotene flow: \",model_iMM904.optimize().objective_value)\n",
    "    solution = model_iMM904.optimize()\n",
    "    print(\"Growth rate at maximum beta carotene flow: \", solution.fluxes['BIOMASS_SC5_notrace'])"
   ]
  },
  {
   "cell_type": "markdown",
   "metadata": {},
   "source": [
    "It is clear that the maximum beta-carotene production allows no growth, and therefore it is relevant to find the point of which optimal growth and optimal beta-carotene production. "
   ]
  },
  {
   "cell_type": "code",
   "execution_count": 67,
   "metadata": {},
   "outputs": [],
   "source": [
    "import cobra.test\n",
    "from cobra.flux_analysis import production_envelope"
   ]
  },
  {
   "cell_type": "code",
   "execution_count": 81,
   "metadata": {},
   "outputs": [
    {
     "name": "stdout",
     "output_type": "stream",
     "text": [
      "EX_malt_e plot: \n",
      "EX_melib_e plot: \n",
      "EX_sucr_e plot: \n",
      "EX_tre_e plot: \n"
     ]
    },
    {
     "data": {
      "image/png": "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\n",
      "text/plain": [
       "<Figure size 432x288 with 1 Axes>"
      ]
     },
     "metadata": {
      "needs_background": "light"
     },
     "output_type": "display_data"
    },
    {
     "data": {
      "image/png": "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\n",
      "text/plain": [
       "<Figure size 432x288 with 1 Axes>"
      ]
     },
     "metadata": {
      "needs_background": "light"
     },
     "output_type": "display_data"
    },
    {
     "data": {
      "image/png": "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\n",
      "text/plain": [
       "<Figure size 432x288 with 1 Axes>"
      ]
     },
     "metadata": {
      "needs_background": "light"
     },
     "output_type": "display_data"
    },
    {
     "data": {
      "image/png": "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\n",
      "text/plain": [
       "<Figure size 432x288 with 1 Axes>"
      ]
     },
     "metadata": {
      "needs_background": "light"
     },
     "output_type": "display_data"
    }
   ],
   "source": [
    "#Plotting the growthrate in relation to betacarotene production for different carbon sources. \n",
    "for i in range(len(potential_better_Csources)):\n",
    "    with model_iMM904:\n",
    "        medium=model_iMM904.medium                             #Resets medium to standard\n",
    "        medium['EX_glc__D_e']= 0                               #sets glucose level to 0\n",
    "        medium[potential_better_Csources[i]]= 10               #sets level of carbon source to 10\n",
    "        model_iMM904.medium = medium \n",
    "        solution_growth = model_iMM904.slim_optimize(error_value=0.)\n",
    "        if  solution_growth >= 0.51:\n",
    "            print(potential_better_Csources[i], \"plot: \")\n",
    "            max_beta = production_envelope(\n",
    "                    model_iMM904,\n",
    "                    reactions=[model_iMM904.reactions.EX_beta],\n",
    "                    objective=model_iMM904.reactions.BIOMASS_SC5_notrace\n",
    "                    )\n",
    "            max_beta.plot(x='EX_beta', y='flux_maximum')"
   ]
  },
  {
   "cell_type": "code",
   "execution_count": 68,
   "metadata": {},
   "outputs": [],
   "source": [
    "max_beta = production_envelope(\n",
    "    \n",
    "            model_iMM904,\n",
    "            reactions=[model_iMM904.reactions.EX_beta],\n",
    "            objective=model_iMM904.reactions.BIOMASS_SC5_notrace\n",
    "            )"
   ]
  },
  {
   "cell_type": "code",
   "execution_count": 72,
   "metadata": {},
   "outputs": [
    {
     "data": {
      "text/plain": [
       "<matplotlib.axes._subplots.AxesSubplot at 0x7feb8c436880>"
      ]
     },
     "execution_count": 72,
     "metadata": {},
     "output_type": "execute_result"
    },
    {
     "data": {
      "image/png": "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\n",
      "text/plain": [
       "<Figure size 432x288 with 1 Axes>"
      ]
     },
     "metadata": {
      "needs_background": "light"
     },
     "output_type": "display_data"
    }
   ],
   "source": [
    "max_beta.plot(x='EX_beta', y='flux_maximum')"
   ]
  },
  {
   "cell_type": "code",
   "execution_count": 73,
   "metadata": {},
   "outputs": [
    {
     "data": {
      "text/plain": [
       "0     0.287866\n",
       "1     0.278905\n",
       "2     0.267186\n",
       "3     0.252407\n",
       "4     0.237629\n",
       "5     0.222687\n",
       "6     0.206781\n",
       "7     0.190875\n",
       "8     0.174969\n",
       "9     0.159062\n",
       "10    0.143156\n",
       "11    0.127250\n",
       "12    0.111344\n",
       "13    0.095437\n",
       "14    0.079531\n",
       "15    0.063625\n",
       "16    0.047719\n",
       "17    0.031812\n",
       "18    0.015906\n",
       "19    0.000000\n",
       "Name: flux_maximum, dtype: float64"
      ]
     },
     "execution_count": 73,
     "metadata": {},
     "output_type": "execute_result"
    }
   ],
   "source": [
    "max_beta.flux_maximum"
   ]
  },
  {
   "cell_type": "markdown",
   "metadata": {},
   "source": [
    "From the plot we see a linear curve. To not get a too low cell growth, "
   ]
  },
  {
   "cell_type": "markdown",
   "metadata": {},
   "source": [
    "#### Improving the yield of beta-caroten through knockouts\n"
   ]
  },
  {
   "cell_type": "markdown",
   "metadata": {},
   "source": [
    "Reading ..(reference) different knowck strdegies was tried to improve the flow of beta caroten.\n",
    "First we try to knock out Glyceraldehyde-3-phosphate dehydrogenase:"
   ]
  },
  {
   "cell_type": "code",
   "execution_count": 56,
   "metadata": {},
   "outputs": [
    {
     "data": {
      "text/html": [
       "\n",
       "        <table>\n",
       "            <tr>\n",
       "                <td><strong>Reaction identifier</strong></td><td>GAPD</td>\n",
       "            </tr><tr>\n",
       "                <td><strong>Name</strong></td><td>Glyceraldehyde-3-phosphate dehydrogenase</td>\n",
       "            </tr><tr>\n",
       "                <td><strong>Memory address</strong></td>\n",
       "                <td>0x07f4da73e20f0</td>\n",
       "            </tr><tr>\n",
       "                <td><strong>Stoichiometry</strong></td>\n",
       "                <td>\n",
       "                    <p style='text-align:right'>g3p_c + nad_c + pi_c <=> 13dpg_c + h_c + nadh_c</p>\n",
       "                    <p style='text-align:right'>Glyceraldehyde 3-phosphate + Nicotinamide adenine dinucleotide + Phosphate <=> 3-Phospho-D-glyceroyl phosphate + H+ + Nicotinamide adenine dinucleotide - reduced</p>\n",
       "                </td>\n",
       "            </tr><tr>\n",
       "                <td><strong>GPR</strong></td><td>YJL052W or YJR009C or YGR192C</td>\n",
       "            </tr><tr>\n",
       "                <td><strong>Lower bound</strong></td><td>-999999.0</td>\n",
       "            </tr><tr>\n",
       "                <td><strong>Upper bound</strong></td><td>999999.0</td>\n",
       "            </tr>\n",
       "        </table>\n",
       "        "
      ],
      "text/plain": [
       "<Reaction GAPD at 0x7f4da73e20f0>"
      ]
     },
     "execution_count": 56,
     "metadata": {},
     "output_type": "execute_result"
    }
   ],
   "source": [
    "model_iMM904.reactions.GAPD"
   ]
  },
  {
   "cell_type": "code",
   "execution_count": 78,
   "metadata": {},
   "outputs": [
    {
     "name": "stdout",
     "output_type": "stream",
     "text": [
      "Maximum beta-carotene flow:  0.05714285714285716\n"
     ]
    }
   ],
   "source": [
    "with model_iMM904:\n",
    "    model_iMM904.reactions.GAPD.bounds = 0,0\n",
    "    model_iMM904.objective = model_iMM904.reactions.EX_beta \n",
    "    print(\"Maximum beta-carotene flow: \",model_iMM904.optimize().objective_value) "
   ]
  },
  {
   "cell_type": "markdown",
   "metadata": {},
   "source": [
    "Here it can be seen that the flow of 0.0571 of beta caroten is lower than before where the flow was 0.351.\n",
    "Next we try to know out Pyruvate kinase:"
   ]
  },
  {
   "cell_type": "code",
   "execution_count": 19,
   "metadata": {},
   "outputs": [
    {
     "data": {
      "text/html": [
       "\n",
       "        <table>\n",
       "            <tr>\n",
       "                <td><strong>Reaction identifier</strong></td><td>PYK</td>\n",
       "            </tr><tr>\n",
       "                <td><strong>Name</strong></td><td>Pyruvate kinase</td>\n",
       "            </tr><tr>\n",
       "                <td><strong>Memory address</strong></td>\n",
       "                <td>0x07f4dabfc9588</td>\n",
       "            </tr><tr>\n",
       "                <td><strong>Stoichiometry</strong></td>\n",
       "                <td>\n",
       "                    <p style='text-align:right'>adp_c + h_c + pep_c --> atp_c + pyr_c</p>\n",
       "                    <p style='text-align:right'>ADP C10H12N5O10P2 + H+ + Phosphoenolpyruvate --> ATP C10H12N5O13P3 + Pyruvate</p>\n",
       "                </td>\n",
       "            </tr><tr>\n",
       "                <td><strong>GPR</strong></td><td>YAL038W or YOR347C</td>\n",
       "            </tr><tr>\n",
       "                <td><strong>Lower bound</strong></td><td>0.0</td>\n",
       "            </tr><tr>\n",
       "                <td><strong>Upper bound</strong></td><td>999999.0</td>\n",
       "            </tr>\n",
       "        </table>\n",
       "        "
      ],
      "text/plain": [
       "<Reaction PYK at 0x7f4dabfc9588>"
      ]
     },
     "execution_count": 19,
     "metadata": {},
     "output_type": "execute_result"
    }
   ],
   "source": [
    "model_iMM904.reactions.PYK"
   ]
  },
  {
   "cell_type": "code",
   "execution_count": 20,
   "metadata": {},
   "outputs": [
    {
     "name": "stdout",
     "output_type": "stream",
     "text": [
      "Maximum beta-carotene yield:  0.07334963325183375\n"
     ]
    }
   ],
   "source": [
    "with model_iMM904:\n",
    "    model_iMM904.reactions.PYK.bounds = 0,0\n",
    "    model_iMM904.objective = model_iMM904.reactions.EX_beta \n",
    "    print(\"Maximum beta-carotene flow: \",model_iMM904.optimize().objective_value)"
   ]
  },
  {
   "cell_type": "markdown",
   "metadata": {},
   "source": [
    "Here it can be seen that the flow of 0.0733 of beta caroten again is lower than before where the flow was 0.351.\n",
    "Next we try to know out Arginase:"
   ]
  },
  {
   "cell_type": "code",
   "execution_count": 21,
   "metadata": {},
   "outputs": [
    {
     "data": {
      "text/html": [
       "\n",
       "        <table>\n",
       "            <tr>\n",
       "                <td><strong>Reaction identifier</strong></td><td>ARGN</td>\n",
       "            </tr><tr>\n",
       "                <td><strong>Name</strong></td><td>Arginase</td>\n",
       "            </tr><tr>\n",
       "                <td><strong>Memory address</strong></td>\n",
       "                <td>0x07f4dacbe0198</td>\n",
       "            </tr><tr>\n",
       "                <td><strong>Stoichiometry</strong></td>\n",
       "                <td>\n",
       "                    <p style='text-align:right'>arg__L_c + h2o_c --> orn_c + urea_c</p>\n",
       "                    <p style='text-align:right'>L-Arginine + H2O H2O --> Ornithine + Urea CH4N2O</p>\n",
       "                </td>\n",
       "            </tr><tr>\n",
       "                <td><strong>GPR</strong></td><td>YPL111W</td>\n",
       "            </tr><tr>\n",
       "                <td><strong>Lower bound</strong></td><td>0.0</td>\n",
       "            </tr><tr>\n",
       "                <td><strong>Upper bound</strong></td><td>999999.0</td>\n",
       "            </tr>\n",
       "        </table>\n",
       "        "
      ],
      "text/plain": [
       "<Reaction ARGN at 0x7f4dacbe0198>"
      ]
     },
     "execution_count": 21,
     "metadata": {},
     "output_type": "execute_result"
    }
   ],
   "source": [
    "model_iMM904.reactions.ARGN"
   ]
  },
  {
   "cell_type": "code",
   "execution_count": 22,
   "metadata": {},
   "outputs": [
    {
     "name": "stdout",
     "output_type": "stream",
     "text": [
      "Maximum beta-carotene yield:  0.351437699680511\n"
     ]
    }
   ],
   "source": [
    "with model_iMM904:\n",
    "    model_iMM904.reactions.ARGN.bounds = 0,0\n",
    "    model_iMM904.objective = model_iMM904.reactions.EX_beta \n",
    "    print(\"Maximum beta-carotene flow: \",model_iMM904.optimize().objective_value)"
   ]
  },
  {
   "cell_type": "markdown",
   "metadata": {},
   "source": [
    "Here it can be seen that the flow of 0.351 is the same as before we started knowcking out genes. \n",
    "Next we try to know out Pyruvate decarboxylase:"
   ]
  },
  {
   "cell_type": "code",
   "execution_count": 80,
   "metadata": {},
   "outputs": [
    {
     "data": {
      "text/html": [
       "\n",
       "        <table>\n",
       "            <tr>\n",
       "                <td><strong>Reaction identifier</strong></td><td>PYRDC</td>\n",
       "            </tr><tr>\n",
       "                <td><strong>Name</strong></td><td>Pyruvate decarboxylase</td>\n",
       "            </tr><tr>\n",
       "                <td><strong>Memory address</strong></td>\n",
       "                <td>0x07f4da5df09e8</td>\n",
       "            </tr><tr>\n",
       "                <td><strong>Stoichiometry</strong></td>\n",
       "                <td>\n",
       "                    <p style='text-align:right'>h_c + pyr_c --> acald_c + co2_c</p>\n",
       "                    <p style='text-align:right'>H+ + Pyruvate --> Acetaldehyde + CO2 CO2</p>\n",
       "                </td>\n",
       "            </tr><tr>\n",
       "                <td><strong>GPR</strong></td><td>YGR087C or YLR134W or YLR044C</td>\n",
       "            </tr><tr>\n",
       "                <td><strong>Lower bound</strong></td><td>0.0</td>\n",
       "            </tr><tr>\n",
       "                <td><strong>Upper bound</strong></td><td>999999.0</td>\n",
       "            </tr>\n",
       "        </table>\n",
       "        "
      ],
      "text/plain": [
       "<Reaction PYRDC at 0x7f4da5df09e8>"
      ]
     },
     "execution_count": 80,
     "metadata": {},
     "output_type": "execute_result"
    }
   ],
   "source": [
    "model_iMM904.reactions.PYRDC"
   ]
  },
  {
   "cell_type": "code",
   "execution_count": 86,
   "metadata": {},
   "outputs": [
    {
     "name": "stdout",
     "output_type": "stream",
     "text": [
      "Maximum beta-carotene flow:  0.34546386468477747\n"
     ]
    }
   ],
   "source": [
    "with model_iMM904:\n",
    "    model_iMM904.reactions.PYRDC.bounds = 0,0\n",
    "    model_iMM904.objective = model_iMM904.reactions.EX_beta \n",
    "    print(\"Maximum beta-carotene flow: \",model_iMM904.optimize().objective_value)"
   ]
  },
  {
   "cell_type": "markdown",
   "metadata": {},
   "source": [
    "Here it can be seen that the flow is 0.34 and slightly lower than to be begin with. \n",
    "Next we try to knockout different combinations of genes to see if this have an impact on the flow of beta carotene. "
   ]
  },
  {
   "cell_type": "code",
   "execution_count": 92,
   "metadata": {},
   "outputs": [
    {
     "name": "stdout",
     "output_type": "stream",
     "text": [
      "Maximum beta-carotene flow:  0.057142857142857106\n"
     ]
    }
   ],
   "source": [
    "with model_iMM904:\n",
    "    model_iMM904.reactions.PYRDC.bounds = 0,0\n",
    "    model_iMM904.reactions.ARGN.bounds = 0,0\n",
    "    model_iMM904.reactions.GAPD.bounds = 0,0\n",
    "    model_iMM904.reactions.PYK.bounds = 0,0\n",
    "    model_iMM904.reactions.ATPS.bounds = 0,0\n",
    "    model_iMM904.objective = model_iMM904.reactions.EX_beta \n",
    "    print(\"Maximum beta-carotene flow: \",model_iMM904.optimize().objective_value)"
   ]
  },
  {
   "cell_type": "markdown",
   "metadata": {},
   "source": [
    "Different combinations of gene knockout did not affect the final flow of beta-carotene. "
   ]
  },
  {
   "cell_type": "markdown",
   "metadata": {},
   "source": [
    "## 5. Discussion (<500 words)"
   ]
  },
  {
   "cell_type": "code",
   "execution_count": null,
   "metadata": {},
   "outputs": [],
   "source": []
  },
  {
   "cell_type": "markdown",
   "metadata": {},
   "source": [
    "## 6. Conclusion (<200 words)"
   ]
  },
  {
   "cell_type": "markdown",
   "metadata": {},
   "source": [
    "## References"
   ]
  },
  {
   "cell_type": "markdown",
   "metadata": {},
   "source": [
    "[1] Madigan, M. T., Martinko, J. M., & Parker, J. (2014). Brock biology of microorganisms. Upper Saddle River, NJ: Prentice Hall/Pearson Education."
   ]
  },
  {
   "cell_type": "markdown",
   "metadata": {},
   "source": [
    "[2] Qian Li, Zhiqiang Sun, Jing Li, Yansheng Zhang, Enhancing beta-carotene production in Saccharomyces cerevisiae by metabolic engineering, FEMS Microbiology Letters, Volume 345, Issue 2, August 2013, Pages 94–101, https://doi.org/10.1111/1574-6968.12187"
   ]
  },
  {
   "cell_type": "code",
   "execution_count": null,
   "metadata": {},
   "outputs": [],
   "source": []
  },
  {
   "cell_type": "code",
   "execution_count": null,
   "metadata": {},
   "outputs": [],
   "source": []
  }
 ],
 "metadata": {
  "kernelspec": {
   "display_name": "Python 3",
   "language": "python",
   "name": "python3"
  },
  "language_info": {
   "codemirror_mode": {
    "name": "ipython",
    "version": 3
   },
   "file_extension": ".py",
   "mimetype": "text/x-python",
   "name": "python",
   "nbconvert_exporter": "python",
   "pygments_lexer": "ipython3",
   "version": "3.8.3"
  }
 },
 "nbformat": 4,
 "nbformat_minor": 4
}
