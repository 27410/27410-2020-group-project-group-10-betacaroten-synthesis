{
 "cells": [
  {
   "cell_type": "markdown",
   "metadata": {},
   "source": [
    "# [Title]"
   ]
  },
  {
   "cell_type": "markdown",
   "metadata": {},
   "source": [
    "## 1. Introduction"
   ]
  },
  {
   "cell_type": "markdown",
   "metadata": {},
   "source": [
    "### 1.1 Literature review of the compound (<500 words)"
   ]
  },
  {
   "cell_type": "markdown",
   "metadata": {},
   "source": [
    "**β-carotene** \n",
    "\n",
    "β-carotene belongs to the large group of caroterpernoids, also called tetraterpenoids. Caroterpernoids are organic red/orange pigments. They are found naturally in many fungi and plants as well as some algae and bacteria. β-carotene are well known for giving plants as carrots and pumkin their characteristic orange color. \n",
    "\n",
    "As Caroterpernoids are tetraterpenoids they are all produced from 8 isoprene molecules and have the chemical formula $C_{40}$$H_{x}$. Caroterpernoids devided in two classes xanthophylls and carotenes. Xanthophylls contains oxygen whereas carotenes is purely carbohydrates. β-carotene ($C_{40}$$H_{56}$) belongs in the carotene class as can be seen on the figure below. "
   ]
  },
  {
   "cell_type": "markdown",
   "metadata": {},
   "source": [
    "![Beta-carotine drawing](Figures/Beta-Carotin.png)"
   ]
  },
  {
   "cell_type": "markdown",
   "metadata": {},
   "source": [
    "β-carotene has a number of biological functions. It serves as an antioxidant as well as a precursor for vitamin A. As humans and other animals are not able to synthesis β-carotene, we are dependt on it through our diets. \n",
    "\n",
    "Due to β-carotene high bioactivity the compund has large interest for the pharmacuetical industry.\n",
    "\n",
    "\n",
    "\n",
    "\n",
    "https://academic.oup.com/fqs/article/2/2/69/4970186"
   ]
  },
  {
   "cell_type": "markdown",
   "metadata": {},
   "source": [
    "**Current production methods**\n",
    "- Extracted from plants.\n",
    "- Chemical synthesis \n",
    "- Biosynthesis"
   ]
  },
  {
   "cell_type": "markdown",
   "metadata": {},
   "source": [
   ]
  },
  {
   "cell_type": "markdown",
   "metadata": {},
   "source": [
    "## 2. Problem definition (<300 words)\n",
    "Beta-carotene is a carotenoid with numerous biological functions in the human body including beeing involved in the natural synthesis of provitamin A, among others nesessary for growth, vision and embryotic development. Beta-carotene is furthermore widely used in the industry as an additive in food, cosmetics and in the pharmacutical industry as a substance in medicine as it has shown anticancer as well as antioxidant properties. Despite the numerous functuons of beta-carotene, we are not able to synthensize it in the human body, pushing market demands for its synthetic production and effective production methods is thus of great interest. \n",
    "\n",
    "As of today beta caroten is produced through chemical synthesis \n",
    "https://watermark.silverchair.com/fyy004.pdf?token=AQECAHi208BE49Ooan9kkhW_Ercy7Dm3ZL_9Cf3qfKAc485ysgAAAqYwggKiBgkqhkiG9w0BBwagggKTMIICjwIBADCCAogGCSqGSIb3DQEHATAeBglghkgBZQMEAS4wEQQM6uLW-XjUj4dVpRy7AgEQgIICWTUu0u1QvG_XCOllxaR4sETXjwtEA2FcaJZq1uhWUvlCZluziDsWLtX_6mBilaAJcgE0dVLDWF7vI2KpowzvKxn3wkiPaZCCYKOY-ds8lRfaEQMu9Y7X50C62jXreJ0iraFc3kpuEf-zImlh3lBsCnUt_bY-tlYy_JhvMDC0b1wxz5JTYFwzMIDTeJ5D0wuqVmDaM4zha4IvnFrZFt3O2ShmlRZwgEDA_5IyuCmQp97_hMzEvjYiNsYoiLEWdKATISWl96cfZ8fV0LA5yipTrZ-nghFz4VAbnYwDq8dVZZa9FCILwxFVIJDZcf-M-GzYlDnUW0-J1Z_ZvHbCJ-keS0EaDryxufGI1HHy4M2Ei8rKLJs57vtjDULIHauxYAx_5O870-x1wz5_uEFjM8JL0h-JvCPVWRA21qiQ48IgTDciiaiFI6DrqnPktaxVEZyr41zzxn7FGR4q63wpa-Pc3TJ_XV0Q2jO3k4GP_mydnT4ch-IPgjapEChj0cgK_sFn5VkiGr_pqtiI7diUBk7hgwk7SRphFpvMuVKzGmLLeq9teb_CS3nS14Jb1lvZ8GuVPyX66dRdUzFLAwNfX43kJyWSqGdBQqRZLMjcrmYn6hRVEp8k4u0kNZdrmZiPCUstnpIOJx9Xg8QU4YOrO3ATaeJgrEVmErD8_LY1E4JM4l3nCYqXwmf16JDt872d41OTlogkjp2Dv6hui2u_aUJNmc-fI9NqdCvjp5SIG9LgV7f4dZ22PtBh5oMu250RJ2A06yxw4S3esRWqm_SZ_MTcXOgPa6OFpEWNQUo  \n",
    "\n",
    "valuable substance, forelagtigt\n",
    "ungå kemisk syntese --> sustainable production\n"
   ]
  },
  {
   "cell_type": "markdown",
   "metadata": {},
   "source": [
    "## 3. *If Project category II:* Selection and assessment of existing GSM (<500 words)"
   ]
  },
  {
   "cell_type": "markdown",
   "metadata": {},
   "source": [
    "## 4. Computer-Aided Cell Factory Engineering (<1500 words if Category II project; <500 words for Category I project)"
   ]
  },
  {
   "cell_type": "markdown",
   "metadata": {},
   "source": [
    "## 5. Discussion (<500 words)"
   ]
  },
  {
   "cell_type": "markdown",
   "metadata": {},
   "source": [
    "## 6. Conclusion (<200 words)"
   ]
  },
  {
   "cell_type": "markdown",
   "metadata": {},
   "source": [
    "## References"
   ]
  },
  {
   "cell_type": "code",
   "execution_count": null,
   "metadata": {},
   "outputs": [],
   "source": []
  }
 ],
 "metadata": {
  "kernelspec": {
   "display_name": "python3.6",
   "language": "python",
   "name": "python3.6"
  },
  "language_info": {
   "codemirror_mode": {
    "name": "ipython",
    "version": 3
   },
   "file_extension": ".py",
   "mimetype": "text/x-python",
   "name": "python",
   "nbconvert_exporter": "python",
   "pygments_lexer": "ipython3",
   "version": "3.6.12"
  }
 },
 "nbformat": 4,
 "nbformat_minor": 4
}
