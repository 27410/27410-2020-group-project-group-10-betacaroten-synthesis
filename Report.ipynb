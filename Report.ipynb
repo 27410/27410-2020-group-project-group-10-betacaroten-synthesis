{
 "cells": [
  {
   "cell_type": "markdown",
   "metadata": {},
   "source": [
    "# [Title]"
   ]
  },
  {
   "cell_type": "markdown",
   "metadata": {},
   "source": [
    "## 1. Introduction"
   ]
  },
  {
   "cell_type": "markdown",
   "metadata": {},
   "source": [
    "### 1.1 Literature review of the compound (<500 words)"
   ]
  },
  {
   "cell_type": "markdown",
   "metadata": {},
   "source": [
    "### 1.2 Literature review of the cell factory (<500 words)"
   ]
  },
  {
   "cell_type": "markdown",
   "metadata": {},
   "source": [
    "For this project, Saccharomyces cerevisiae was chosen as the cell factory. \n",
    "\n",
    "S. cerevisiae is a yeast that has been used for thousands of years in varous productions like wine, brewing and making. It is one of the most intensively studied eukaryptic model organisms within molecular biology,\n",
    ">kilde - jeg tænker de må stå i brock\n",
    "\n",
    "and is widely used in the fermentation based industry. It is easy to genetically manipulate due to advanced molecular biology tools, is advanced in growth speed and is well established in industrial biotechnology, making it suitable as a cell factory. \n",
    ">Enhancing beta-carotene production in Saccharomyces cerevisiae by metabolic engineering)\n",
    "\n",
    "As it has been used and studied for many years, the genome of S. cerevisiae is a well-characterized eukaryotic genome, and is simple in identifying open reading frames. This is very relevant in the work with gene sequence model, as this makes predictions throuhg models more precise.  \n",
    ">Saccharomyces cerevisiae S288C genome annotation: a working hypothesis\n",
    "\n",
    "\n",
    "One imporant fact is that conventional S. cerevisiae can produce geranylgeranyl diphosphate, which is a precursor in the carotenoid biosynhtesis. Through genetic engineeering it has been provden possible to produe beta-carotenes in S. cerevisiae. Compared to other heterlogous beta-carotene production oganisms, it is considered safe which is important, as beta-carotenes can be used in food production etc., making it relevant as a cell factory in beta-carotene production. \n",
    ">Is this relevant? \n",
    ">(Enhancing beta-carotene production in Saccharomyces cerevisiae by metabolic engineering)\n",
    "\n",
    "\n",
    "On BIGG.com, two GSMs are availble for the strain S288C. \n",
    "\n",
    "\n",
    "\n",
    "\n",
    "\n",
    "\n"
   ]
  },
  {
   "cell_type": "markdown",
   "metadata": {},
   "source": [
    "## 2. Problem definition (<300 words)"
   ]
  },
  {
   "cell_type": "markdown",
   "metadata": {},
   "source": [
    "## 3. *If Project category II:* Selection and assessment of existing GSM (<500 words)"
   ]
  },
  {
   "cell_type": "markdown",
   "metadata": {},
   "source": [
    "## 4. Computer-Aided Cell Factory Engineering (<1500 words if Category II project; <500 words for Category I project)"
   ]
  },
  {
   "cell_type": "markdown",
   "metadata": {},
   "source": [
    "## 5. Discussion (<500 words)"
   ]
  },
  {
   "cell_type": "markdown",
   "metadata": {},
   "source": [
    "## 6. Conclusion (<200 words)"
   ]
  },
  {
   "cell_type": "markdown",
   "metadata": {},
   "source": [
    "## References"
   ]
  },
  {
   "cell_type": "code",
   "execution_count": null,
   "metadata": {},
   "outputs": [],
   "source": []
  }
 ],
 "metadata": {
  "kernelspec": {
   "display_name": "python3.6",
   "language": "python",
   "name": "python3.6"
  },
  "language_info": {
   "codemirror_mode": {
    "name": "ipython",
    "version": 3
   },
   "file_extension": ".py",
   "mimetype": "text/x-python",
   "name": "python",
   "nbconvert_exporter": "python",
   "pygments_lexer": "ipython3",
   "version": "3.6.12"
  }
 },
 "nbformat": 4,
 "nbformat_minor": 4
}
