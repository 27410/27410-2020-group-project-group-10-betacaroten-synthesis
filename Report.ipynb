{
 "cells": [
  {
   "cell_type": "markdown",
   "metadata": {},
   "source": [
    "# [Title]"
   ]
  },
  {
   "cell_type": "markdown",
   "metadata": {},
   "source": [
    "## 1. Introduction"
   ]
  },
  {
   "cell_type": "markdown",
   "metadata": {},
   "source": [
    "### 1.1 Literature review of the compound (<500 words)"
   ]
  },
  {
   "cell_type": "markdown",
   "metadata": {},
   "source": [
    "**β-carotene** \n",
    "\n",
    "β-carotene belongs to the large group of caroterpernoids, also called tetraterpenoids. Caroterpernoids are organic red/orange pigments. They are found naturally in many plants and fungi as well as some algae and bacteria. β-carotene are well known for giving plants as carrots and pumkin their characteristic orange color [1]. \n",
    "\n",
    "As Caroterpernoids are tetraterpenoids they are all synthesized from 8 isoprene molecules and have the chemical formula $C_{40}$$H_{x}$. Caroterpernoids devided in two classes xanthophylls and carotenes. Xanthophylls contains oxygen whereas carotenes is purely carbohydrates. β-carotene ($C_{40}$$H_{56}$) belongs in the carotene class as can be seen on the figure below [1]. "
   ]
  },
  {
   "cell_type": "markdown",
   "metadata": {},
   "source": [
    "![Beta-carotine drawing](Figures/Beta-Carotin.png)"
   ]
  },
  {
   "cell_type": "markdown",
   "metadata": {},
   "source": [
    "β-carotene has a number of biological functions. It serves as a precursor for vitamin A, which is related to a number of important functions in the human body including proper growth and function of sight[1,2]. Moreover, it is shown to have properties as antioxidant and anticancer.\n",
    "\n",
    "β-carotene is a valuble propduct within the food, pharmalogical and cosmetic indutry. Not only for its bioactive properties but also as an additive for colouring in food and pharmaceutical tablets. Within cosmetics it is often used in creams as it protects the skin against oxidation and UV radiation[2]. \n",
    "\n",
    "**Current production methods**\n",
    "\n",
    "\n",
    "\n",
    "----------------------\n",
    "[1] Berman, Judit, et al. “Nutritionally Important Carotenoids as Consumer Products.” Phytochemistry Reviews, vol. 14, no. 5, Springer Netherlands, 2015, pp. 727–43, doi:10.1007/s11101-014-9373-1, 10.1007/11101.1572-980X.\n",
    "[2] https://academic.oup.com/fqs/article/2/2/69/4970186"
   ]
  },
  {
   "cell_type": "markdown",
   "metadata": {},
   "source": [
    "**Current production methods**\n",
    "\n",
    "- Extracted from plants.\n",
    "- Chemical synthesis \n",
    "- Biosynthesis"
   ]
  },
  {
   "cell_type": "markdown",
   "metadata": {},
   "source": [
    "### 1.2 Literature review of the cell factory (<500 words)\n",
    "For this project, Saccharomyces cerevisiae was chosen as the cell factory. \n",
    "\n",
    "S. cerevisiae is a yeast that has been used for thousands of years in varous productions like wine, brewing and making. It is one of the most intensively studied eukaryptic model organisms within molecular biology,\n",
    ">kilde - jeg tænker de må stå i brock\n",
    "\n",
    "and is widely used in the fermentation based industry. It is easy to genetically manipulate due to advanced molecular biology tools, is advanced in growth speed and is well established in industrial biotechnology, making it suitable as a cell factory. \n",
    ">Enhancing beta-carotene production in Saccharomyces cerevisiae by metabolic engineering)\n",
    "\n",
    "As it has been used and studied for many years, the genome of S. cerevisiae is a well-characterized eukaryotic genome, and is simple in identifying open reading frames. This is very relevant in the work with gene sequence model, as this makes predictions throuhg models more precise.  \n",
    ">Saccharomyces cerevisiae S288C genome annotation: a working hypothesis\n",
    "\n",
    "\n",
    "One imporant fact is that conventional S. cerevisiae can produce geranylgeranyl diphosphate, which is a precursor in the carotenoid biosynhtesis. Through genetic engineeering it has been provden possible to produe beta-carotenes in S. cerevisiae. Compared to other heterlogous beta-carotene production oganisms, it is considered safe which is important, as beta-carotenes can be used in food production etc., making it relevant as a cell factory in beta-carotene production. \n",
    ">Is this relevant? \n",
    ">(Enhancing beta-carotene production in Saccharomyces cerevisiae by metabolic engineering)\n",
    "\n",
    "\n",
    "On BIGG.com, two GSMs are availble for the strain S288C. \n"
   ]
  },
  {
   "cell_type": "markdown",
   "metadata": {},
   "source": [
    "## 2. Problem definition (<300 words)\n",
    "Beta-carotene is a carotenoid with numerous biological functions in the human body including beeing involved in the natural synthesis of provitamin A, among others nesessary for growth, vision and embryotic development. Beta-carotene is furthermore widely used in the industry as an additive in food, cosmetics and in the pharmacutical industry as a substance in medicine as it has shown anticancer as well as antioxidant properties. Despite the numerous functuons of beta-carotene, we are not able to synthensize it in the human body, pushing market demands for its synthetic production and effective production methods is thus of great interest. \n",
    "\n",
    "As of today beta caroten is produced through chemical synthesis......  \n",
    "\n",
    "valuable substance, forelagtigt\n",
    "ungå kemisk syntese --> sustainable production\n"
   ]
  },
  {
   "cell_type": "markdown",
   "metadata": {},
   "source": [
    "## 3. *If Project category II:* Selection and assessment of existing GSM (<500 words)"
   ]
  },
  {
   "cell_type": "markdown",
   "metadata": {},
   "source": [
    "Using the data base BiGG, two GSM models for S. cerevisias was identified. Both are from the same strain, strain S288C, however one, iMM904, contains 1226 metabolites, 1557 reaction and 905 genes while the other one, iND750, is a bit smaller with 1059 metabolites, 1266 reactions and 750 genes. Before begning on the engineering, memote will be used to detemine which model have the best score and choose that on to work with. "
   ]
  },
  {
   "cell_type": "code",
   "execution_count": 12,
   "metadata": {},
   "outputs": [],
   "source": [
    "import numpy as np\n",
    "from cobra.io import read_sbml_model\n",
    "from cobra import Reaction, Metabolite"
   ]
  },
  {
   "cell_type": "code",
   "execution_count": 13,
   "metadata": {},
   "outputs": [],
   "source": [
    "model_iMM904 = read_sbml_model('iMM904.xml')"
   ]
  },
  {
   "cell_type": "code",
   "execution_count": 6,
   "metadata": {},
   "outputs": [],
   "source": [
    "#%%time\n",
    "#!memote report snapshot iMM904.xml --filename iMM904.html\n",
    "#This has been outcommented so we don't run it again. "
   ]
  },
  {
   "cell_type": "markdown",
   "metadata": {},
   "source": [
    "The overall score is 85%.\n",
    "The consistenty test gav a good result with a sub score of 96%. Here the score of stoichiometric inconsistency of 100% and the mass balance gave a score of 96%. \n",
    "For the annotation tests, the score was generlly high (above 80%) except for the genes, which only score 43%"
   ]
  },
  {
   "cell_type": "code",
   "execution_count": 14,
   "metadata": {},
   "outputs": [],
   "source": [
    "model_iND750 = read_sbml_model('iND750.xml')"
   ]
  },
  {
   "cell_type": "code",
   "execution_count": 8,
   "metadata": {},
   "outputs": [],
   "source": [
    "#%%time\n",
    "#!memote report snapshot iND750.xml --filename iND750.html\n",
    "#This has been outcommented so we don't run it again. "
   ]
  },
  {
   "cell_type": "markdown",
   "metadata": {},
   "source": [
    "The overall score is 86%.\n",
    "The consistenty test gav a good result with a sub score of 97%. Here the score of stoichiometric inconsistency of 100% and the mass balance gave a score of 97.3%. \n",
    "For the annotation tests, the score was generlly high (above 80%) except for the genes, which only score 43%"
   ]
  },
  {
   "cell_type": "markdown",
   "metadata": {},
   "source": [
    "Overall the models are fairly similar and both have high scores. However, eventhough the smallere model iND750 is a bit higher scored, it is the larger model, iMM904 there will be used in this report to similate the production of β-carotene. This is simply because iMM904 contains more genes, reaction and metabolites and therefore is able to simulate the organisme better. Here the different in score is not large engouth to arguee for the use of the smallere model.\n",
    "\n",
    "\n",
    "Since S. cerevisias is not a natural producer of β-carotene, the pathway is not in the model jet. Therefore some new metabolites and reaction is added to iMM904, so the GSM can be used to model production of β-carotene."
   ]
  },
  {
   "cell_type": "code",
   "execution_count": null,
   "metadata": {},
   "outputs": [],
   "source": [
    "#Here we re going to add the reaction and metabolites that needed to be added for the model to produce β-carotene."
   ]
  },
  {
   "cell_type": "markdown",
   "metadata": {},
   "source": [
    "## 4. Computer-Aided Cell Factory Engineering (<1500 words if Category II project)"
   ]
  },
  {
   "cell_type": "markdown",
   "metadata": {},
   "source": [
    "The pathway:\n",
    "    \n",
    "    hydroxymethylglutaryl CoA (hmgcoa_c) -> mevalonate (mev_R_c)\n",
    "\n",
    "    mev_R_c -> farnesyl diphosphate (frdp_c)\n",
    "\n",
    "    frdp_c -> geranyl diphosphate (ggdp_c)\n",
    "\n",
    "    2 ggdp_c -> Phytoene + 2 diphosphate (https://www.genome.jp/dbget-bin/www_bget?rn:R10177)\n",
    "\n",
    "    Phytoene -> Neurosporene (https://www.genome.jp/dbget-bin/www_bget?rn:R09691)\n",
    "\n",
    "    Neurosporene -> Lycopene (https://www.genome.jp/dbget-bin/www_bget?rn:R04800)\n",
    "\n",
    "    Lycopene -> beta-Carotene (https://www.genome.jp/dbget-bin/www_bget?rn:R03823)\n",
    "\n",
    "det er de sidste 4 reactioner som mangler.\n",
    "\n",
    "NB! Nogle links står der accpetor på. Det er en hydrogen acceptor, det vil sige NADP+. den reduceret er NADPH\n",
    "Husk at loaded model iMM904\n",
    "\n",
    "De metaboliter som i skal bruge, der er i model i forvejen har jeg vist nedenunder"
   ]
  },
  {
   "cell_type": "code",
   "execution_count": 33,
   "metadata": {},
   "outputs": [
    {
     "data": {
      "text/html": [
       "\n",
       "        <table>\n",
       "            <tr>\n",
       "                <td><strong>Metabolite identifier</strong></td><td>o2_c</td>\n",
       "            </tr><tr>\n",
       "                <td><strong>Name</strong></td><td>O2 O2</td>\n",
       "            </tr><tr>\n",
       "                <td><strong>Memory address</strong></td>\n",
       "                <td>0x07f19824d8ef0</td>\n",
       "            </tr><tr>\n",
       "                <td><strong>Formula</strong></td><td>O2</td>\n",
       "            </tr><tr>\n",
       "                <td><strong>Compartment</strong></td><td>c</td>\n",
       "            </tr><tr>\n",
       "                <td><strong>In 46 reaction(s)</strong></td><td>\n",
       "                    CPPPGO, DESAT16, C4STMO1, LNS14DMx, LNS14DM, DESAT14, DHORDi, DESAT18_2, ARAB14LO, APRTO2, POLYAO2, POLYAO, lyc_syn, 3HAO, PDX5POi, TAUDO, PYAM5PO, C5STDS, FAS141, O2tm, CERH126_copy1, FAS181, O2t,...</td>\n",
       "            </tr>\n",
       "        </table>"
      ],
      "text/plain": [
       "<Metabolite o2_c at 0x7f19824d8ef0>"
      ]
     },
     "execution_count": 33,
     "metadata": {},
     "output_type": "execute_result"
    }
   ],
   "source": [
    "model_iMM904.metabolites.hmgcoa_c\n",
    "model_iMM904.metabolites.mev__R_c\n",
    "model_iMM904.metabolites.frdp_c\n",
    "model_iMM904.metabolites.ggdp_c\n",
    "model_iMM904.metabolites.ppi_c\n",
    "model_iMM904.metabolites.nadp_c\n",
    "model_iMM904.metabolites.nadph_c\n",
    "model_iMM904.metabolites.h2o_c\n",
    "model_iMM904.metabolites.o2_c"
   ]
  },
  {
   "cell_type": "markdown",
   "metadata": {},
   "source": [
    "Adding the first reaction: 2 ggdp_c -> Phytoene + 2 diphosphate (https://www.genome.jp/dbget-bin/www_bget?rn:R10177)"
   ]
  },
  {
   "cell_type": "code",
   "execution_count": 34,
   "metadata": {},
   "outputs": [],
   "source": [
    "new_reaction1 = Reaction('phy_syn') #PHYtoene SYNtase"
   ]
  },
  {
   "cell_type": "code",
   "execution_count": 35,
   "metadata": {},
   "outputs": [],
   "source": [
    "phy = Metabolite(id='phy', name='phytoene', compartment='c') #Adding the metabolite"
   ]
  },
  {
   "cell_type": "code",
   "execution_count": 36,
   "metadata": {},
   "outputs": [
    {
     "name": "stdout",
     "output_type": "stream",
     "text": [
      "2 ggdp_c --> phy + 2 ppi_c\n"
     ]
    }
   ],
   "source": [
    "new_reaction1.add_metabolites({model_iMM904.metabolites.ggdp_c: -2,\n",
    "                              phy: 1, # our newly created metabolites\n",
    "                               model_iMM904.metabolites.ppi_c: 2\n",
    "                                })\n",
    "print(new_reaction1.build_reaction_string()) # see if one get the rigth reaction"
   ]
  },
  {
   "cell_type": "code",
   "execution_count": 37,
   "metadata": {},
   "outputs": [
    {
     "name": "stderr",
     "output_type": "stream",
     "text": [
      "Ignoring reaction 'phy_syn' since it already exists.\n"
     ]
    }
   ],
   "source": [
    "model_iMM904.add_reactions([new_reaction1])"
   ]
  },
  {
   "cell_type": "code",
   "execution_count": 38,
   "metadata": {},
   "outputs": [
    {
     "data": {
      "text/html": [
       "\n",
       "        <table>\n",
       "            <tr>\n",
       "                <td><strong>Reaction identifier</strong></td><td>phy_syn</td>\n",
       "            </tr><tr>\n",
       "                <td><strong>Name</strong></td><td></td>\n",
       "            </tr><tr>\n",
       "                <td><strong>Memory address</strong></td>\n",
       "                <td>0x07f1981e91400</td>\n",
       "            </tr><tr>\n",
       "                <td><strong>Stoichiometry</strong></td>\n",
       "                <td>\n",
       "                    <p style='text-align:right'>2 ggdp_c --> phy + 2 ppi_c</p>\n",
       "                    <p style='text-align:right'>2 Geranylgeranyl diphosphate C20H33O7P2 --> phytoene + 2 Diphosphate</p>\n",
       "                </td>\n",
       "            </tr><tr>\n",
       "                <td><strong>GPR</strong></td><td></td>\n",
       "            </tr><tr>\n",
       "                <td><strong>Lower bound</strong></td><td>0.0</td>\n",
       "            </tr><tr>\n",
       "                <td><strong>Upper bound</strong></td><td>1000.0</td>\n",
       "            </tr>\n",
       "        </table>\n",
       "        "
      ],
      "text/plain": [
       "<Reaction phy_syn at 0x7f1981e91400>"
      ]
     },
     "execution_count": 38,
     "metadata": {},
     "output_type": "execute_result"
    }
   ],
   "source": [
    "model_iMM904.reactions.phy_syn #check that the reaction is in the model"
   ]
  },
  {
   "cell_type": "markdown",
   "metadata": {},
   "source": [
    "#Neurosporene Syntase\n",
    "15-cis-Phytoene + 3 Acceptor <=> all-trans-Neurosporene + 3 Reduced acceptor"
   ]
  },
  {
   "cell_type": "code",
   "execution_count": 39,
   "metadata": {},
   "outputs": [
    {
     "name": "stderr",
     "output_type": "stream",
     "text": [
      "Ignoring reaction 'neu_syn' since it already exists.\n"
     ]
    },
    {
     "name": "stdout",
     "output_type": "stream",
     "text": [
      "3 A + phy --> 3 AH2 + neu\n"
     ]
    }
   ],
   "source": [
    "new_reaction2 = Reaction('neu_syn') #NEUrosporene SYNtase\n",
    "#Adding the metabolite\n",
    "neu = Metabolite(id='neu', name='Neurosporene', compartment='c') \n",
    "AH2 = Metabolite(id='AH2', name='Reduced acceptor', compartment='c') \n",
    "A = Metabolite(id='A', name='Acceptor', compartment='c') \n",
    "new_reaction2.add_metabolites({\n",
    "    A: -3,\n",
    "    phy: -1, # our newly created metabolites\n",
    "    AH2: 3,\n",
    "    neu: 1,\n",
    "    })\n",
    "print(new_reaction2.build_reaction_string()) # see if one get the rigth reaction\n",
    "model_iMM904.add_reactions([new_reaction2])"
   ]
  },
  {
   "cell_type": "code",
   "execution_count": 40,
   "metadata": {},
   "outputs": [
    {
     "data": {
      "text/html": [
       "\n",
       "        <table>\n",
       "            <tr>\n",
       "                <td><strong>Reaction identifier</strong></td><td>phy_syn</td>\n",
       "            </tr><tr>\n",
       "                <td><strong>Name</strong></td><td></td>\n",
       "            </tr><tr>\n",
       "                <td><strong>Memory address</strong></td>\n",
       "                <td>0x07f1981e91400</td>\n",
       "            </tr><tr>\n",
       "                <td><strong>Stoichiometry</strong></td>\n",
       "                <td>\n",
       "                    <p style='text-align:right'>2 ggdp_c --> phy + 2 ppi_c</p>\n",
       "                    <p style='text-align:right'>2 Geranylgeranyl diphosphate C20H33O7P2 --> phytoene + 2 Diphosphate</p>\n",
       "                </td>\n",
       "            </tr><tr>\n",
       "                <td><strong>GPR</strong></td><td></td>\n",
       "            </tr><tr>\n",
       "                <td><strong>Lower bound</strong></td><td>0.0</td>\n",
       "            </tr><tr>\n",
       "                <td><strong>Upper bound</strong></td><td>1000.0</td>\n",
       "            </tr>\n",
       "        </table>\n",
       "        "
      ],
      "text/plain": [
       "<Reaction phy_syn at 0x7f1981e91400>"
      ]
     },
     "execution_count": 40,
     "metadata": {},
     "output_type": "execute_result"
    }
   ],
   "source": [
    "model_iMM904.reactions.phy_syn #check that the reaction is in the model"
   ]
  },
  {
   "cell_type": "markdown",
   "metadata": {},
   "source": [
    "Neurosporene -> Lycopene (https://www.genome.jp/dbget-bin/www_bget?rn:R04800)"
   ]
  },
  {
   "cell_type": "code",
   "execution_count": 41,
   "metadata": {},
   "outputs": [],
   "source": [
    "new_reaction3 = Reaction('lyc_syn') #LYCopene SYNtase"
   ]
  },
  {
   "cell_type": "code",
   "execution_count": 42,
   "metadata": {},
   "outputs": [],
   "source": [
    "lyc = Metabolite(id='lyc', name='Lycopene', compartment='c') #Adding the metabolite"
   ]
  },
  {
   "cell_type": "code",
   "execution_count": 43,
   "metadata": {},
   "outputs": [
    {
     "name": "stdout",
     "output_type": "stream",
     "text": [
      "AH2 + neu + o2_c --> A + 2 h2o_c + lyc\n"
     ]
    }
   ],
   "source": [
    "new_reaction3.add_metabolites({\n",
    "    neu: -1, # our newly created metabolites\n",
    "    AH2: -1, \n",
    "    model_iMM904.metabolites.o2_c: -1,\n",
    "    lyc: 1,\n",
    "    A: 1,\n",
    "    model_iMM904.metabolites.h2o_c: 2,\n",
    "    })\n",
    "print(new_reaction3.build_reaction_string()) # see if one get the rigth reaction"
   ]
  },
  {
   "cell_type": "code",
   "execution_count": 44,
   "metadata": {},
   "outputs": [
    {
     "name": "stderr",
     "output_type": "stream",
     "text": [
      "Ignoring reaction 'lyc_syn' since it already exists.\n"
     ]
    }
   ],
   "source": [
    "model_iMM904.add_reactions([new_reaction3])"
   ]
  },
  {
   "cell_type": "code",
   "execution_count": 46,
   "metadata": {},
   "outputs": [
    {
     "data": {
      "text/html": [
       "\n",
       "        <table>\n",
       "            <tr>\n",
       "                <td><strong>Reaction identifier</strong></td><td>lyc_syn</td>\n",
       "            </tr><tr>\n",
       "                <td><strong>Name</strong></td><td></td>\n",
       "            </tr><tr>\n",
       "                <td><strong>Memory address</strong></td>\n",
       "                <td>0x07f1981e9b2e8</td>\n",
       "            </tr><tr>\n",
       "                <td><strong>Stoichiometry</strong></td>\n",
       "                <td>\n",
       "                    <p style='text-align:right'>AH2 + neu + o2_c --> A + 2 h2o_c + lyc</p>\n",
       "                    <p style='text-align:right'>Reduced acceptor + Neurosporene + O2 O2 --> Acceptor + 2 H2O H2O + Lycopene</p>\n",
       "                </td>\n",
       "            </tr><tr>\n",
       "                <td><strong>GPR</strong></td><td></td>\n",
       "            </tr><tr>\n",
       "                <td><strong>Lower bound</strong></td><td>0.0</td>\n",
       "            </tr><tr>\n",
       "                <td><strong>Upper bound</strong></td><td>1000.0</td>\n",
       "            </tr>\n",
       "        </table>\n",
       "        "
      ],
      "text/plain": [
       "<Reaction lyc_syn at 0x7f1981e9b2e8>"
      ]
     },
     "execution_count": 46,
     "metadata": {},
     "output_type": "execute_result"
    }
   ],
   "source": [
    "model_iMM904.reactions.lyc_syn #check that the reaction is in the model"
   ]
  },
  {
   "cell_type": "markdown",
   "metadata": {},
   "source": [
    " Lycopene -> beta-Carotene (https://www.genome.jp/dbget-bin/www_bget?rn:R03823)"
   ]
  },
  {
   "cell_type": "code",
   "execution_count": 51,
   "metadata": {},
   "outputs": [],
   "source": [
    "new_reaction4 = Reaction('beta_syn') #BETA-carotene SYNtase"
   ]
  },
  {
   "cell_type": "code",
   "execution_count": 52,
   "metadata": {},
   "outputs": [],
   "source": [
<<<<<<< HEAD
    "beta = Metabolite(id='beta', name='Beta-carotene', compartment='c') #Adding the metabolite"
   ]
  },
  {
   "cell_type": "code",
   "execution_count": 53,
   "metadata": {},
   "outputs": [
    {
     "name": "stdout",
     "output_type": "stream",
     "text": [
      "lyc --> beta\n"
     ]
    }
   ],
   "source": [
    "new_reaction4.add_metabolites({\n",
    "    lyc: -1, # our newly created metabolites\n",
    "    beta: 1,\n",
    "    })\n",
    "print(new_reaction4.build_reaction_string()) # see if one get the rigth reaction"
   ]
  },
  {
   "cell_type": "code",
   "execution_count": 54,
   "metadata": {},
   "outputs": [],
   "source": [
    "model_iMM904.add_reactions([new_reaction4])"
   ]
  },
  {
   "cell_type": "code",
   "execution_count": 55,
   "metadata": {},
   "outputs": [
    {
     "data": {
      "text/html": [
       "\n",
       "        <table>\n",
       "            <tr>\n",
       "                <td><strong>Reaction identifier</strong></td><td>beta_syn</td>\n",
       "            </tr><tr>\n",
       "                <td><strong>Name</strong></td><td></td>\n",
       "            </tr><tr>\n",
       "                <td><strong>Memory address</strong></td>\n",
       "                <td>0x07f1981ea1630</td>\n",
       "            </tr><tr>\n",
       "                <td><strong>Stoichiometry</strong></td>\n",
       "                <td>\n",
       "                    <p style='text-align:right'>lyc --> beta</p>\n",
       "                    <p style='text-align:right'>Lycopene --> Beta-carotene</p>\n",
       "                </td>\n",
       "            </tr><tr>\n",
       "                <td><strong>GPR</strong></td><td></td>\n",
       "            </tr><tr>\n",
       "                <td><strong>Lower bound</strong></td><td>0.0</td>\n",
       "            </tr><tr>\n",
       "                <td><strong>Upper bound</strong></td><td>1000.0</td>\n",
       "            </tr>\n",
       "        </table>\n",
       "        "
      ],
      "text/plain": [
       "<Reaction beta_syn at 0x7f1981ea1630>"
      ]
     },
     "execution_count": 55,
     "metadata": {},
     "output_type": "execute_result"
    }
   ],
   "source": [
    "model_iMM904.reactions.beta_syn #check that the reaction is in the model"
=======
    "model_iMM904.reactions.lyc_syn #check that the reaction is in the model"
>>>>>>> dad1f7c15cc9ba3c057e7d7232faf88db9de8ed9
   ]
  },
  {
   "cell_type": "markdown",
   "metadata": {},
   "source": [
    "## 5. Discussion (<500 words)"
   ]
  },
  {
   "cell_type": "markdown",
   "metadata": {},
   "source": [
    "## 6. Conclusion (<200 words)"
   ]
  },
  {
   "cell_type": "markdown",
   "metadata": {},
   "source": [
    "## References"
   ]
  },
  {
   "cell_type": "markdown",
   "metadata": {},
   "source": [
    "[1]Madigan, M. T., Martinko, J. M., & Parker, J. (2014). Brock biology of microorganisms. Upper Saddle River, NJ: Prentice Hall/Pearson Education."
   ]
  },
  {
   "cell_type": "markdown",
   "metadata": {},
   "source": [
    "[2]Qian Li, Zhiqiang Sun, Jing Li, Yansheng Zhang, Enhancing beta-carotene production in Saccharomyces cerevisiae by metabolic engineering, FEMS Microbiology Letters, Volume 345, Issue 2, August 2013, Pages 94–101, https://doi.org/10.1111/1574-6968.12187"
   ]
  },
  {
   "cell_type": "code",
   "execution_count": null,
   "metadata": {},
   "outputs": [],
   "source": []
  },
  {
   "cell_type": "code",
   "execution_count": null,
   "metadata": {},
   "outputs": [],
   "source": []
  }
 ],
 "metadata": {
  "kernelspec": {
   "display_name": "python3.6",
   "language": "python",
   "name": "python3.6"
  },
  "language_info": {
   "codemirror_mode": {
    "name": "ipython",
    "version": 3
   },
   "file_extension": ".py",
   "mimetype": "text/x-python",
   "name": "python",
   "nbconvert_exporter": "python",
   "pygments_lexer": "ipython3",
   "version": "3.6.12"
  }
 },
 "nbformat": 4,
 "nbformat_minor": 4
}
