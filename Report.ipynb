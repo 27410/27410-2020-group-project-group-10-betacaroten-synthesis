{
 "cells": [
  {
   "cell_type": "markdown",
   "metadata": {},
   "source": [
    "# [Title]"
   ]
  },
  {
   "cell_type": "markdown",
   "metadata": {},
   "source": [
    "## 1. Introduction"
   ]
  },
  {
   "cell_type": "markdown",
   "metadata": {},
   "source": [
    "### 1.1 Literature review of the compound (<500 words)"
   ]
  },
  {
   "cell_type": "markdown",
   "metadata": {},
   "source": [
    "**β-carotene** \n",
    "\n",
    "β-carotene belongs to the large group of caroterpernoids, also called tetraterpenoids. Caroterpernoids are organic red/orange pigments. They are found naturally in many plants and fungi as well as some algae and bacteria. β-carotene are well known for giving plants as carrots and pumkin their characteristic orange color [1]. \n",
    "\n",
    "As Caroterpernoids are tetraterpenoids they are all synthesized from 8 isoprene molecules and have the chemical formula $C_{40}$$H_{x}$. Caroterpernoids devided in two classes xanthophylls and carotenes. Xanthophylls contains oxygen whereas carotenes is purely carbohydrates. β-carotene ($C_{40}$$H_{56}$) belongs in the carotene class as can be seen on the figure below [1]. "
   ]
  },
  {
   "cell_type": "markdown",
   "metadata": {},
   "source": [
    "![Beta-carotine drawing](Figures/Beta-Carotin.png)"
   ]
  },
  {
   "cell_type": "markdown",
   "metadata": {},
   "source": [
    "β-carotene has a number of biological functions. It serves as a precursor for vitamin A, which is related to a number of important functions in the human body including proper growth and function of sight[1,2]. Moreover, it is shown to have properties as antioxidant and anticancer.\n",
    "\n",
    "β-carotene is a valuble propduct within the food, pharmalogical and cosmetic indutry. Not only for its bioactive properties but also as an additive for colouring in food and pharmaceutical tablets. Within cosmetics it is often used in creams as it protects the skin against oxidation and UV radiation[2]. \n",
    "\n",
    "**Current production methods**\n",
    "\n",
    "\n",
    "\n",
    "----------------------\n",
    "[1] Berman, Judit, et al. “Nutritionally Important Carotenoids as Consumer Products.” Phytochemistry Reviews, vol. 14, no. 5, Springer Netherlands, 2015, pp. 727–43, doi:10.1007/s11101-014-9373-1, 10.1007/11101.1572-980X.\n",
    "[2] https://academic.oup.com/fqs/article/2/2/69/4970186"
   ]
  },
  {
   "cell_type": "markdown",
   "metadata": {},
   "source": [
    "**Current production methods**\n",
    "\n",
    "- Extracted from plants.\n",
    "- Chemical synthesis \n",
    "- Biosynthesis"
   ]
  },
  {
   "cell_type": "markdown",
   "metadata": {},
   "source": [
    "### 1.2 Literature review of the cell factory (<500 words)\n",
    "For this project, Saccharomyces cerevisiae was chosen as the cell factory. \n",
    "\n",
    "S. cerevisiae is a yeast that has been used for thousands of years in varous productions like wine, brewing and making. It is one of the most intensively studied eukaryptic model organisms within molecular biology,\n",
    ">kilde - jeg tænker de må stå i brock\n",
    "\n",
    "and is widely used in the fermentation based industry. It is easy to genetically manipulate due to advanced molecular biology tools, is advanced in growth speed and is well established in industrial biotechnology, making it suitable as a cell factory. \n",
    ">Enhancing beta-carotene production in Saccharomyces cerevisiae by metabolic engineering)\n",
    "\n",
    "As it has been used and studied for many years, the genome of S. cerevisiae is a well-characterized eukaryotic genome, and is simple in identifying open reading frames. This is very relevant in the work with gene sequence model, as this makes predictions throuhg models more precise.  \n",
    ">Saccharomyces cerevisiae S288C genome annotation: a working hypothesis\n",
    "\n",
    "\n",
    "One imporant fact is that conventional S. cerevisiae can produce geranylgeranyl diphosphate, which is a precursor in the carotenoid biosynhtesis. Through genetic engineeering it has been provden possible to produe beta-carotenes in S. cerevisiae. Compared to other heterlogous beta-carotene production oganisms, it is considered safe which is important, as beta-carotenes can be used in food production etc., making it relevant as a cell factory in beta-carotene production. \n",
    ">Is this relevant? \n",
    ">(Enhancing beta-carotene production in Saccharomyces cerevisiae by metabolic engineering)\n",
    "\n",
    "\n",
    "On BIGG.com, two GSMs are availble for the strain S288C. \n"
   ]
  },
  {
   "cell_type": "markdown",
   "metadata": {},
   "source": [
    "## 2. Problem definition (<300 words)\n",
    "Beta-carotene is a carotenoid with numerous biological functions in the human body including being involved in the natural synthesis of provitamin A, among others necessary for growth, vision and embryotic development. Beta-carotene is furthermore widely used in the industry as a coloring agent in food and cosmetics and an additive in medicine as it has shown anticancer as well as antioxidant properties. Despite the numerous functions of beta-carotene, we are not able to synthesize it in the human body, pushing market demands for its synthetic production. \n",
    "Chemical synthesis is as of today the most commonly used technique its production, but research has revealed that synthetic beta-carotene has carcinogenic activity and effective production methods for its natural synthesis is thus of great interest. Based on this extensive research has been caried out to examine the microbial biosynthesis of it as it provides a solid basis for a natural and sustainable production while avoiding the use of organic solvents such as heavy metals, strong acids and bases along with the formation of byproducts. Metabolic engineering has additionally carved the way to improve the yield and thus obtain higher titers and productivity of the product, through strain engineering. All though utilizing a natural producer of beta-carotene seem like the straightforward choice as production organism, it has been found that most of these are non-cultivable in laboratory conditions and that they require extensive optimalization. Choosing a well characterized microorganism, with various tools available for genetic engineering will thus enhance the chances and ease the process of increasing the product yield and productivity of the strain. \n",
    "We have utilized an existing genome scale metabolic model (GSM) for S. Cerevisiae and incorporate relevant reactions and pathways for its natural synthesis of beta-carotene. Afterwards we have performed phenotype predictions based on gene deletions and essentiality and evaluated on metabolic pathway visualizations with Escher.\n",
    "\n",
    "Kiler artilker: \n",
    "β-Carotene—properties and production methods (Food Quality and Safety)\n",
    "Engineering microbial factories for synthesis of value-added products (J Ind Microbiol Biotechnol.)"
   ]
  },
  {
   "cell_type": "markdown",
   "metadata": {},
   "source": [
    "## 3. *If Project category II:* Selection and assessment of existing GSM (<500 words)"
   ]
  },
  {
   "cell_type": "markdown",
   "metadata": {},
   "source": [
    "Using the data base BiGG, two GSM models for S. cerevisias was identified. Both are from the same strain, strain S288C, however one, iMM904, contains 1226 metabolites, 1557 reaction and 905 genes while the other one, iND750, is a bit smaller with 1059 metabolites, 1266 reactions and 750 genes. Before begning on the engineering, memote will be used to detemine which model have the best score. Bsed on the score and model size, one GSM will be choosen as the model used in this project. "
   ]
  },
  {
   "cell_type": "code",
   "execution_count": 44,
   "metadata": {},
   "outputs": [],
   "source": [
    "import numpy as np\n",
    "from cobra.io import read_sbml_model\n",
    "from cobra import Reaction, Metabolite"
   ]
  },
  {
   "cell_type": "code",
<<<<<<< HEAD
   "execution_count": 45,
=======
<<<<<<< HEAD
   "execution_count": 2,
=======
   "execution_count": 3,
>>>>>>> f973f0f84546751acdc794521524099d0c7c21d3
>>>>>>> a62dea163966b1f291e77c485a42a74ea4a0143b
   "metadata": {},
   "outputs": [],
   "source": [
    "model_iMM904 = read_sbml_model('iMM904.xml')"
   ]
  },
  {
   "cell_type": "code",
   "execution_count": 46,
   "metadata": {},
   "outputs": [],
   "source": [
    "#%%time\n",
    "#!memote report snapshot iMM904.xml --filename iMM904.html\n",
    "#This has been outcommented so we don't run it again. It takes about 10 - 15 min to run this code "
   ]
  },
  {
   "cell_type": "markdown",
   "metadata": {},
   "source": [
    "The overall score is 85%.\n",
    "The consistenty test gav a good result with a sub score of 96%. Here the score of stoichiometric inconsistency was 100% and the mass balance gave a score of 96%. \n",
    "For the annotation tests, the score was generlly high (above 80%) except for the gene annotation, which only score 43%"
   ]
  },
  {
   "cell_type": "code",
<<<<<<< HEAD
   "execution_count": 47,
=======
   "execution_count": 3,
>>>>>>> a62dea163966b1f291e77c485a42a74ea4a0143b
   "metadata": {},
   "outputs": [],
   "source": [
    "model_iND750 = read_sbml_model('iND750.xml') #This model is not used"
   ]
  },
  {
   "cell_type": "code",
   "execution_count": 48,
   "metadata": {},
   "outputs": [],
   "source": [
    "#%%time\n",
    "#!memote report snapshot iND750.xml --filename iND750.html\n",
    "#This has been outcommented so we don't run it again. It takes about 10 - 15 min to run this code "
   ]
  },
  {
   "cell_type": "markdown",
   "metadata": {},
   "source": [
    "The overall score is 86%.\n",
    "The consistenty test gav a good result with a sub score of 97%. Here the score of stoichiometric inconsistency of 100% and the mass balance gave a score of 97.3%. \n",
    "For the annotation tests, the score was generlly high (above 80%) except for the gene annotation, which only score 43%"
   ]
  },
  {
   "cell_type": "markdown",
   "metadata": {},
   "source": [
    "Overall the models are fairly similar and both have high scores. However, eventhough the smallere model iND750 is a bit higher scored, it is the larger model, iMM904, there will be used in this report to similate the production of β-carotene. This is simply because iMM904 contains more genes, reaction and metabolites and therefore is able to simulate the organisme better. Here the different in score is not large engouth to arguee for the use of the smallere model."
   ]
  },
  {
   "cell_type": "markdown",
   "metadata": {},
   "source": [
    "## 4. Computer-Aided Cell Factory Engineering (<1500 words if Category II project)"
   ]
  },
  {
   "cell_type": "markdown",
   "metadata": {},
   "source": [
    "Since S. cerevisias is not a natural producer of β-carotene, the pathway is not in the model jet. Therefore some new metabolites and reaction is added to iMM904, so the GSM can be used to model production of β-carotene. The pathyway starts at hydroxymethylglutaryl coA, which is produced from acetyl coA naturally in S. cerevisia. In fact it is only the last four reactions in the pathway that needs to be added.\n",
    "\n",
    "The pathway:\n",
    "    \n",
    "    hydroxymethylglutaryl CoA (metabolite id: hmgcoa_c) --> mevalonate (metabolite id: mev_R_c) (Enzyme name: HMG CoA reductase, reaction id: HMGCOAR)\n",
    "\n",
    "    mevalonate --> --> --> farnesyl diphosphate (metabolite id: frdp_c) \n",
    "    \n",
    "    farnesyl diphosphate --> geranyl diphosphate (metabolite id: ggdp_c) (enzyme name: Farnesyltranstransferase, reaction id: FRTT)\n",
    "\n",
    "    2 geranyl diphosphate --> Phytoene + 2 diphosphate (metabolite id: ppi_c) (https://www.genome.jp/dbget-bin/www_bget?rn:R10177)\n",
    "\n",
    "    Phytoene + 3 Acceptors -> Neurosporene + 3 reduced acceptors (https://www.genome.jp/dbget-bin/www_bget?rn:R09691)\n",
    "\n",
    "    Neurosporene + reduced acceptor + O2 -> Lycopene + acceptor + 2 water (https://www.genome.jp/dbget-bin/www_bget?rn:R04800)\n",
    "\n",
    "    Lycopene -> beta-Carotene (https://www.genome.jp/dbget-bin/www_bget?rn:R03823)\n",
    "\n",
    "\n",
    "\n",
    "NB! Nogle links står der accpetor på. Det er en hydrogen acceptor, det vil sige NADP+. den reduceret er NADPH\n",
    "Husk at loaded model iMM904\n",
    "\n",
    "De metaboliter som i skal bruge, der er i model i forvejen har jeg vist nedenunder"
   ]
  },
  {
   "cell_type": "code",
   "execution_count": 49,
   "metadata": {},
   "outputs": [
    {
     "data": {
      "text/html": [
       "\n",
       "        <table>\n",
       "            <tr>\n",
       "                <td><strong>Metabolite identifier</strong></td><td>ggdp_c</td>\n",
       "            </tr><tr>\n",
       "                <td><strong>Name</strong></td><td>Geranylgeranyl diphosphate C20H33O7P2</td>\n",
       "            </tr><tr>\n",
       "                <td><strong>Memory address</strong></td>\n",
<<<<<<< HEAD
       "                <td>0x07f6ff02551d0</td>\n",
=======
<<<<<<< HEAD
       "                <td>0x07fc283a49f60</td>\n",
=======
       "                <td>0x07f618d5e6610</td>\n",
>>>>>>> f973f0f84546751acdc794521524099d0c7c21d3
>>>>>>> a62dea163966b1f291e77c485a42a74ea4a0143b
       "            </tr><tr>\n",
       "                <td><strong>Formula</strong></td><td>C20H33O7P2</td>\n",
       "            </tr><tr>\n",
       "                <td><strong>Compartment</strong></td><td>c</td>\n",
       "            </tr><tr>\n",
<<<<<<< HEAD
       "                <td><strong>In 45 reaction(s)</strong></td><td>\n",
       "                    3OPHB5Hm, C4STMO2, CERH126_copy1, KYN3OX, POLYAO3, CHLSTI, AACTOOR, C22STDSx, DESAT18, C22STDS, CERS326, O2t, PYAM5PO, PYDXO, HGNTOR, CERH126_copy2, FAS161, O2ter, DESAT16, CPPPGO, C4STMO1, CERH124...</td>\n",
=======
       "                <td><strong>In 2 reaction(s)</strong></td><td>\n",
<<<<<<< HEAD
       "                    GGTT, FRTT</td>\n",
=======
       "                    FRTT, GGTT</td>\n",
>>>>>>> f973f0f84546751acdc794521524099d0c7c21d3
>>>>>>> a62dea163966b1f291e77c485a42a74ea4a0143b
       "            </tr>\n",
       "        </table>"
      ],
      "text/plain": [
<<<<<<< HEAD
       "<Metabolite ggdp_c at 0x7f6ff02551d0>"
=======
<<<<<<< HEAD
       "<Metabolite o2_c at 0x7fc283a49f60>"
=======
       "<Metabolite ggdp_c at 0x7f618d5e6610>"
>>>>>>> f973f0f84546751acdc794521524099d0c7c21d3
>>>>>>> a62dea163966b1f291e77c485a42a74ea4a0143b
      ]
     },
     "execution_count": 49,
     "metadata": {},
     "output_type": "execute_result"
    }
   ],
   "source": [
    "model_iMM904.metabolites.hmgcoa_c\n",
    "model_iMM904.metabolites.mev__R_c\n",
    "#model_iMM904.metabolites.frdp_c\n",
    "model_iMM904.metabolites.ggdp_c\n",
    "#model_iMM904.metabolites.ppi_c\n",
    "#model_iMM904.metabolites.nadp_c\n",
    "#model_iMM904.metabolites.nadph_c\n",
    "#model_iMM904.metabolites.h2o_c\n",
    "#model_iMM904.metabolites.o2_c\n",
    "#model_iMM904.reactions.HMGCOAR"
   ]
  },
  {
   "cell_type": "markdown",
   "metadata": {},
   "source": [
    "### Adding relevant reactions to create beta-carotene pathway:"
   ]
  },
  {
<<<<<<< HEAD
   "cell_type": "markdown",
=======
   "cell_type": "code",
   "execution_count": 6,
>>>>>>> a62dea163966b1f291e77c485a42a74ea4a0143b
   "metadata": {},
   "source": [
    "#### 15-cis-Phytoene syntase\n",
    "The frist reaction to be added is: 2 Geranylgeranyl diphosphate <=> 15-cis-Phytoene + 2 Diphosphate\n",
    "(https://www.genome.jp/dbget-bin/www_bget?rn:R10177)\n",
    "This will allow for Phytoene production which is a precurser in the reaction. "
   ]
  },
  {
   "cell_type": "code",
<<<<<<< HEAD
   "execution_count": 50,
=======
   "execution_count": 7,
   "metadata": {},
   "outputs": [],
   "source": [
    "phy = Metabolite(id='phy', name='phytoene', compartment='c') #Adding the metabolite"
   ]
  },
  {
   "cell_type": "code",
   "execution_count": 8,
>>>>>>> a62dea163966b1f291e77c485a42a74ea4a0143b
   "metadata": {},
   "outputs": [
    {
     "name": "stdout",
     "output_type": "stream",
     "text": [
      "2 ggdp_c --> phy + 2 ppi_c\n"
     ]
    }
   ],
   "source": [
    "new_reaction1 = Reaction('phy_syn') #PHYtoene SYNtase\n",
    "phy = Metabolite(id='phy', name='phytoene', compartment='c') #Adding the metabolite\n",
    "\n",
    "new_reaction1.add_metabolites({model_iMM904.metabolites.ggdp_c: -2,\n",
    "                              phy: 1, # our newly created metabolites\n",
    "                               model_iMM904.metabolites.ppi_c: 2\n",
    "                                })\n",
    "print(new_reaction1.build_reaction_string()) # see if one get the rigth reaction"
   ]
  },
  {
<<<<<<< HEAD
   "cell_type": "markdown",
   "metadata": {},
=======
   "cell_type": "code",
   "execution_count": 9,
   "metadata": {},
   "outputs": [],
>>>>>>> a62dea163966b1f291e77c485a42a74ea4a0143b
   "source": [
    "The above print statement shows that the reaction was correctly assembled. Below we incorporate the reaction to the GSM and check the occruance. The procedure will be performed on all the reactions added to the model. "
   ]
  },
  {
   "cell_type": "code",
<<<<<<< HEAD
   "execution_count": 51,
=======
   "execution_count": 10,
>>>>>>> a62dea163966b1f291e77c485a42a74ea4a0143b
   "metadata": {},
   "outputs": [
    {
     "data": {
      "text/html": [
       "\n",
       "        <table>\n",
       "            <tr>\n",
       "                <td><strong>Reaction identifier</strong></td><td>phy_syn</td>\n",
       "            </tr><tr>\n",
       "                <td><strong>Name</strong></td><td></td>\n",
       "            </tr><tr>\n",
       "                <td><strong>Memory address</strong></td>\n",
<<<<<<< HEAD
       "                <td>0x07f6fee5795f8</td>\n",
=======
       "                <td>0x07fc282a4ac88</td>\n",
>>>>>>> a62dea163966b1f291e77c485a42a74ea4a0143b
       "            </tr><tr>\n",
       "                <td><strong>Stoichiometry</strong></td>\n",
       "                <td>\n",
       "                    <p style='text-align:right'>2 ggdp_c --> phy + 2 ppi_c</p>\n",
       "                    <p style='text-align:right'>2 Geranylgeranyl diphosphate C20H33O7P2 --> phytoene + 2 Diphosphate</p>\n",
       "                </td>\n",
       "            </tr><tr>\n",
       "                <td><strong>GPR</strong></td><td></td>\n",
       "            </tr><tr>\n",
       "                <td><strong>Lower bound</strong></td><td>0.0</td>\n",
       "            </tr><tr>\n",
       "                <td><strong>Upper bound</strong></td><td>1000.0</td>\n",
       "            </tr>\n",
       "        </table>\n",
       "        "
      ],
      "text/plain": [
<<<<<<< HEAD
       "<Reaction phy_syn at 0x7f6fee5795f8>"
      ]
     },
     "execution_count": 51,
=======
       "<Reaction phy_syn at 0x7fc282a4ac88>"
      ]
     },
     "execution_count": 10,
>>>>>>> a62dea163966b1f291e77c485a42a74ea4a0143b
     "metadata": {},
     "output_type": "execute_result"
    }
   ],
   "source": [
    "model_iMM904.add_reactions([new_reaction1])\n",
    "model_iMM904.reactions.phy_syn #check that the reaction is in the model"
   ]
  },
  {
   "cell_type": "markdown",
   "metadata": {},
   "source": [
    "#### All-trans-Neurosporene Syntase\n",
    "The next reaction added synthesises all-trans-Neurosporene as seen below: \n",
    "\n",
    "15-cis-Phytoene + 3 Acceptor <=> all-trans-Neurosporene + 3 Reduced acceptor\n",
    "https://www.genome.jp/dbget-bin/www_bget?rn:R09691"
   ]
  },
  {
   "cell_type": "code",
<<<<<<< HEAD
   "execution_count": 52,
   "metadata": {},
   "outputs": [
    {
     "name": "stdout",
     "output_type": "stream",
     "text": [
      "3 A + phy --> 3 AH2 + neu\n"
     ]
    }
   ],
=======
   "execution_count": null,
   "metadata": {},
   "outputs": [],
>>>>>>> a62dea163966b1f291e77c485a42a74ea4a0143b
   "source": [
    "new_reaction2 = Reaction('neu_syn') #NEUrosporene SYNtase\n",
    "#Adding the metabolite\n",
    "neu = Metabolite(id='neu', name='Neurosporene', compartment='c') \n",
    "AH2 = Metabolite(id='AH2', name='Reduced acceptor', compartment='c') \n",
    "A = Metabolite(id='A', name='Acceptor', compartment='c') \n",
    "new_reaction2.add_metabolites({\n",
    "    A: -3,\n",
    "    phy: -1, # our newly created metabolites\n",
    "    AH2: 3,\n",
    "    neu: 1,\n",
    "    })\n",
    "print(new_reaction2.build_reaction_string()) # see if one get the rigth reaction\n",
    "model_iMM904.add_reactions([new_reaction2])"
   ]
  },
  {
   "cell_type": "code",
<<<<<<< HEAD
   "execution_count": 53,
   "metadata": {},
   "outputs": [
    {
     "data": {
      "text/html": [
       "\n",
       "        <table>\n",
       "            <tr>\n",
       "                <td><strong>Reaction identifier</strong></td><td>neu_syn</td>\n",
       "            </tr><tr>\n",
       "                <td><strong>Name</strong></td><td></td>\n",
       "            </tr><tr>\n",
       "                <td><strong>Memory address</strong></td>\n",
       "                <td>0x07f6fee56d128</td>\n",
       "            </tr><tr>\n",
       "                <td><strong>Stoichiometry</strong></td>\n",
       "                <td>\n",
       "                    <p style='text-align:right'>3 A + phy --> 3 AH2 + neu</p>\n",
       "                    <p style='text-align:right'>3 Acceptor + phytoene --> 3 Reduced acceptor + Neurosporene</p>\n",
       "                </td>\n",
       "            </tr><tr>\n",
       "                <td><strong>GPR</strong></td><td></td>\n",
       "            </tr><tr>\n",
       "                <td><strong>Lower bound</strong></td><td>0.0</td>\n",
       "            </tr><tr>\n",
       "                <td><strong>Upper bound</strong></td><td>1000.0</td>\n",
       "            </tr>\n",
       "        </table>\n",
       "        "
      ],
      "text/plain": [
       "<Reaction neu_syn at 0x7f6fee56d128>"
      ]
     },
     "execution_count": 53,
     "metadata": {},
     "output_type": "execute_result"
    }
   ],
=======
   "execution_count": null,
   "metadata": {},
   "outputs": [],
>>>>>>> a62dea163966b1f291e77c485a42a74ea4a0143b
   "source": [
    "model_iMM904.reactions.neu_syn #check that the reaction is in the model"
   ]
  },
  {
   "cell_type": "markdown",
   "metadata": {},
   "source": [
<<<<<<< HEAD
    "#### Lycopene synthesis\n",
    "The production og lycopene is show below: \n",
    "\n",
    "all-trans-Neurosporene + Reduced acceptor + Oxygen <=> Lycopene + Acceptor + 2 H2O \n",
    "\n",
    "(https://www.genome.jp/dbget-bin/www_bget?rn:R04800)"
=======
    "Neurosporene -> Lycopene (https://www.genome.jp/dbget-bin/www_bget?rn:R04800)"
   ]
  },
  {
   "cell_type": "code",
   "execution_count": null,
   "metadata": {},
   "outputs": [],
   "source": [
    "new_reaction3 = Reaction('lyc_syn') #LYCopene SYNtase"
   ]
  },
  {
   "cell_type": "code",
   "execution_count": null,
   "metadata": {},
   "outputs": [],
   "source": [
    "lyc = Metabolite(id='lyc', name='Lycopene', compartment='c') #Adding the metabolite"
>>>>>>> a62dea163966b1f291e77c485a42a74ea4a0143b
   ]
  },
  {
   "cell_type": "code",
<<<<<<< HEAD
   "execution_count": 54,
=======
   "execution_count": null,
>>>>>>> a62dea163966b1f291e77c485a42a74ea4a0143b
   "metadata": {},
   "outputs": [],
   "source": [
    "new_reaction3 = Reaction('lyc_syn') #LYCopene SYNtase\n",
    "lyc = Metabolite(id='lyc', name='Lycopene', compartment='c') #Adding the metabolite\n",
    "new_reaction3.add_metabolites({\n",
    "    neu: -1, # our newly created metabolites\n",
    "    AH2: -1, \n",
    "    model_iMM904.metabolites.o2_c: -1,\n",
    "    lyc: 1,\n",
    "    A: 1,\n",
    "    model_iMM904.metabolites.h2o_c: 2,\n",
    "    })\n",
    "print(new_reaction3.build_reaction_string()) # see if one get the rigth reaction"
   ]
  },
  {
   "cell_type": "code",
<<<<<<< HEAD
   "execution_count": 55,
   "metadata": {},
   "outputs": [
    {
     "data": {
      "text/html": [
       "\n",
       "        <table>\n",
       "            <tr>\n",
       "                <td><strong>Reaction identifier</strong></td><td>lyc_syn</td>\n",
       "            </tr><tr>\n",
       "                <td><strong>Name</strong></td><td></td>\n",
       "            </tr><tr>\n",
       "                <td><strong>Memory address</strong></td>\n",
       "                <td>0x07f6fee56dbe0</td>\n",
       "            </tr><tr>\n",
       "                <td><strong>Stoichiometry</strong></td>\n",
       "                <td>\n",
       "                    <p style='text-align:right'>AH2 + neu + o2_c --> A + 2 h2o_c + lyc</p>\n",
       "                    <p style='text-align:right'>Reduced acceptor + Neurosporene + O2 O2 --> Acceptor + 2 H2O H2O + Lycopene</p>\n",
       "                </td>\n",
       "            </tr><tr>\n",
       "                <td><strong>GPR</strong></td><td></td>\n",
       "            </tr><tr>\n",
       "                <td><strong>Lower bound</strong></td><td>0.0</td>\n",
       "            </tr><tr>\n",
       "                <td><strong>Upper bound</strong></td><td>1000.0</td>\n",
       "            </tr>\n",
       "        </table>\n",
       "        "
      ],
      "text/plain": [
       "<Reaction lyc_syn at 0x7f6fee56dbe0>"
      ]
     },
     "execution_count": 55,
     "metadata": {},
     "output_type": "execute_result"
    }
   ],
=======
   "execution_count": null,
   "metadata": {},
   "outputs": [],
   "source": [
    "model_iMM904.add_reactions([new_reaction3])"
   ]
  },
  {
   "cell_type": "code",
   "execution_count": null,
   "metadata": {},
   "outputs": [],
>>>>>>> a62dea163966b1f291e77c485a42a74ea4a0143b
   "source": [
    "model_iMM904.add_reactions([new_reaction3])\n",
    "model_iMM904.reactions.lyc_syn #check that the reaction is in the model"
   ]
  },
  {
   "cell_type": "markdown",
   "metadata": {},
   "source": [
    " #### beta-carotene production\n",
    " The last reaction for beta-Carotene production is added:\n",
    " \n",
    " Lycopene -> beta-Carotene (https://www.genome.jp/dbget-bin/www_bget?rn:R03823)"
   ]
  },
  {
   "cell_type": "code",
<<<<<<< HEAD
   "execution_count": 56,
=======
   "execution_count": null,
>>>>>>> a62dea163966b1f291e77c485a42a74ea4a0143b
   "metadata": {},
   "outputs": [
    {
     "name": "stdout",
     "output_type": "stream",
     "text": [
      "lyc --> beta\n"
     ]
    }
   ],
   "source": [
    "new_reaction4 = Reaction('beta_syn') #BETA-carotene SYNtase\n",
    "beta = Metabolite(id='beta', name='Beta-carotene', compartment='c') #Adding the metabolite\n",
    "new_reaction4.add_metabolites({\n",
    "    lyc: -1, # our newly created metabolites\n",
    "    beta: 1,\n",
    "    })\n",
    "print(new_reaction4.build_reaction_string()) # see if one get the rigth reaction"
   ]
  },
  {
   "cell_type": "code",
<<<<<<< HEAD
   "execution_count": 57,
=======
   "execution_count": null,
>>>>>>> a62dea163966b1f291e77c485a42a74ea4a0143b
   "metadata": {},
   "outputs": [
    {
     "data": {
      "text/html": [
       "\n",
       "        <table>\n",
       "            <tr>\n",
       "                <td><strong>Reaction identifier</strong></td><td>beta_syn</td>\n",
       "            </tr><tr>\n",
       "                <td><strong>Name</strong></td><td></td>\n",
       "            </tr><tr>\n",
       "                <td><strong>Memory address</strong></td>\n",
       "                <td>0x07f6fee579470</td>\n",
       "            </tr><tr>\n",
       "                <td><strong>Stoichiometry</strong></td>\n",
       "                <td>\n",
       "                    <p style='text-align:right'>lyc --> beta</p>\n",
       "                    <p style='text-align:right'>Lycopene --> Beta-carotene</p>\n",
       "                </td>\n",
       "            </tr><tr>\n",
       "                <td><strong>GPR</strong></td><td></td>\n",
       "            </tr><tr>\n",
       "                <td><strong>Lower bound</strong></td><td>0.0</td>\n",
       "            </tr><tr>\n",
       "                <td><strong>Upper bound</strong></td><td>1000.0</td>\n",
       "            </tr>\n",
       "        </table>\n",
       "        "
      ],
      "text/plain": [
       "<Reaction beta_syn at 0x7f6fee579470>"
      ]
     },
     "execution_count": 57,
     "metadata": {},
     "output_type": "execute_result"
    }
   ],
   "source": [
    "model_iMM904.add_reactions([new_reaction4])\n",
    "model_iMM904.reactions.beta_syn #check that the reaction is in the model"
   ]
  },
  {
   "cell_type": "markdown",
   "metadata": {},
   "source": [
    "#### Beta-carotene extraction from the cell  -> I did not look this up! "
   ]
  },
  {
   "cell_type": "code",
<<<<<<< HEAD
   "execution_count": 39,
   "metadata": {},
   "outputs": [
    {
     "name": "stdout",
     "output_type": "stream",
     "text": [
      "beta --> \n"
     ]
    }
   ],
=======
   "execution_count": null,
   "metadata": {},
   "outputs": [],
>>>>>>> a62dea163966b1f291e77c485a42a74ea4a0143b
   "source": [
    "new_reaction5 = Reaction('EX_beta') #BETA-carotene SYNtase\n",
    "new_reaction5.add_metabolites({\n",
    "    beta: -1 #Excretion of beta-carotene\n",
    "    })\n",
<<<<<<< HEAD
    "print(new_reaction5.build_reaction_string()) # see if one get the rigth reaction"
=======
    "print(new_reaction4.build_reaction_string()) # see if one get the rigth reaction"
   ]
  },
  {
   "cell_type": "code",
   "execution_count": null,
   "metadata": {},
   "outputs": [],
   "source": [
    "model_iMM904.add_reactions([new_reaction4])"
>>>>>>> a62dea163966b1f291e77c485a42a74ea4a0143b
   ]
  },
  {
   "cell_type": "code",
<<<<<<< HEAD
   "execution_count": 38,
   "metadata": {},
   "outputs": [
    {
     "data": {
      "text/html": [
       "\n",
       "        <table>\n",
       "            <tr>\n",
       "                <td><strong>Reaction identifier</strong></td><td>EX_beta</td>\n",
       "            </tr><tr>\n",
       "                <td><strong>Name</strong></td><td></td>\n",
       "            </tr><tr>\n",
       "                <td><strong>Memory address</strong></td>\n",
       "                <td>0x07f6fefbc04a8</td>\n",
       "            </tr><tr>\n",
       "                <td><strong>Stoichiometry</strong></td>\n",
       "                <td>\n",
       "                    <p style='text-align:right'>beta --> </p>\n",
       "                    <p style='text-align:right'>Beta-carotene --> </p>\n",
       "                </td>\n",
       "            </tr><tr>\n",
       "                <td><strong>GPR</strong></td><td></td>\n",
       "            </tr><tr>\n",
       "                <td><strong>Lower bound</strong></td><td>0.0</td>\n",
       "            </tr><tr>\n",
       "                <td><strong>Upper bound</strong></td><td>1000.0</td>\n",
       "            </tr>\n",
       "        </table>\n",
       "        "
      ],
      "text/plain": [
       "<Reaction EX_beta at 0x7f6fefbc04a8>"
      ]
     },
     "execution_count": 38,
     "metadata": {},
     "output_type": "execute_result"
    }
   ],
=======
   "execution_count": null,
   "metadata": {},
   "outputs": [],
>>>>>>> a62dea163966b1f291e77c485a42a74ea4a0143b
   "source": [
    "model_iMM904.add_reactions([new_reaction5])\n",
    "model_iMM904.reactions.EX_beta #check that the reaction is in the model"
   ]
  },
  {
   "cell_type": "markdown",
   "metadata": {},
   "source": [
    "### Testing titers of betacarotene production and growth rates"
   ]
  },
  {
   "cell_type": "code",
   "execution_count": 26,
   "metadata": {},
   "outputs": [
    {
     "name": "stdout",
     "output_type": "stream",
     "text": [
      "Maximize\n",
      "1.0*BIOMASS_SC5_notrace - 1.0*BIOMASS_SC5_notrace_reverse_93090\n"
     ]
    }
   ],
   "source": [
    "print(model_iMM904.objective)"
   ]
  },
  {
   "cell_type": "markdown",
   "metadata": {},
   "source": [
    "The maximum production of beta-carotene will be calculated in the following: "
   ]
  },
  {
   "cell_type": "code",
   "execution_count": 43,
   "metadata": {},
   "outputs": [
    {
     "name": "stdout",
     "output_type": "stream",
     "text": [
      "0.0\n"
     ]
    }
   ],
   "source": [
    "with model_iMM904:\n",
    "    model_iMM904.objective = model_iMM904.reactions.EX_beta \n",
    "    print(model_iMM904.optimize().objective_value)"
   ]
  },
  {
   "cell_type": "markdown",
   "metadata": {},
   "source": [
    "## 5. Discussion (<500 words)"
   ]
  },
  {
   "cell_type": "markdown",
   "metadata": {},
   "source": [
    "## 6. Conclusion (<200 words)"
   ]
  },
  {
   "cell_type": "markdown",
   "metadata": {},
   "source": [
    "## References"
   ]
  },
  {
   "cell_type": "markdown",
   "metadata": {},
   "source": [
    "[1]Madigan, M. T., Martinko, J. M., & Parker, J. (2014). Brock biology of microorganisms. Upper Saddle River, NJ: Prentice Hall/Pearson Education."
   ]
  },
  {
   "cell_type": "markdown",
   "metadata": {},
   "source": [
    "[2]Qian Li, Zhiqiang Sun, Jing Li, Yansheng Zhang, Enhancing beta-carotene production in Saccharomyces cerevisiae by metabolic engineering, FEMS Microbiology Letters, Volume 345, Issue 2, August 2013, Pages 94–101, https://doi.org/10.1111/1574-6968.12187"
   ]
  },
  {
   "cell_type": "code",
   "execution_count": null,
   "metadata": {},
   "outputs": [],
   "source": []
  },
  {
   "cell_type": "code",
   "execution_count": null,
   "metadata": {},
   "outputs": [],
   "source": []
  }
 ],
 "metadata": {
  "kernelspec": {
   "display_name": "python3.6",
   "language": "python",
   "name": "python3.6"
  },
  "language_info": {
   "codemirror_mode": {
    "name": "ipython",
    "version": 3
   },
   "file_extension": ".py",
   "mimetype": "text/x-python",
   "name": "python",
   "nbconvert_exporter": "python",
   "pygments_lexer": "ipython3",
   "version": "3.6.12"
  }
 },
 "nbformat": 4,
 "nbformat_minor": 4
}
