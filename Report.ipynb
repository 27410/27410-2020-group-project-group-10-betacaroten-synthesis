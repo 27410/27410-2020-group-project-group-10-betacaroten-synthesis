{
 "cells": [
  {
   "cell_type": "markdown",
   "metadata": {},
   "source": [
    "# [Title]"
   ]
  },
  {
   "cell_type": "markdown",
   "metadata": {},
   "source": [
    "## 1. Introduction"
   ]
  },
  {
   "cell_type": "markdown",
   "metadata": {},
   "source": [
    "### 1.1 Literature review of the compound (<500 words)"
   ]
  },
  {
   "cell_type": "markdown",
   "metadata": {},
   "source": [
    "**β-carotene** \n",
    "\n",
    "β-carotene belongs to the large group of caroterpernoids, also called tetraterpenoids. Caroterpernoids are organic red/orange pigments. They are found naturally in many plants and fungi as well as some algae and bacteria. β-carotene are well known for giving plants as carrots and pumkin their characteristic orange color [1]. \n",
    "\n",
    "As Caroterpernoids are tetraterpenoids they are all synthesized from 8 isoprene molecules and have the chemical formula $C_{40}$$H_{x}$. Caroterpernoids devided in two classes xanthophylls and carotenes. Xanthophylls contains oxygen whereas carotenes is purely carbohydrates. β-carotene ($C_{40}$$H_{56}$) belongs in the carotene class as can be seen on the figure below [1]. "
   ]
  },
  {
   "cell_type": "markdown",
   "metadata": {},
   "source": [
    "![Beta-carotine drawing](Figures/Beta-Carotin.png)"
   ]
  },
  {
   "cell_type": "markdown",
   "metadata": {},
   "source": [
    "β-carotene has a number of biological functions. It serves as a precursor for vitamin A, which is related to a number of important functions in the human body including proper growth and function of sight[1,2]. Moreover, it is shown to have properties as antioxidant and anticancer.\n",
    "\n",
    "β-carotene is a valuble propduct within the food, pharmalogical and cosmetic indutry. Not only for its bioactive properties but also as an additive for colouring in food and pharmaceutical tablets. Within cosmetics it is often used in creams as it protects the skin against oxidation and UV radiation[2]. \n",
    "\n",
    "**Current production methods**\n",
    "\n",
    "\n",
    "\n",
    "----------------------\n",
    "[1] Berman, Judit, et al. “Nutritionally Important Carotenoids as Consumer Products.” Phytochemistry Reviews, vol. 14, no. 5, Springer Netherlands, 2015, pp. 727–43, doi:10.1007/s11101-014-9373-1, 10.1007/11101.1572-980X.\n",
    "[2] https://academic.oup.com/fqs/article/2/2/69/4970186"
   ]
  },
  {
   "cell_type": "markdown",
   "metadata": {},
   "source": [
    "**Current production methods**\n",
    "\n",
    "- Extracted from plants.\n",
    "- Chemical synthesis \n",
    "- Biosynthesis"
   ]
  },
  {
   "cell_type": "markdown",
   "metadata": {},
   "source": [
    "### 1.2 Literature review of the cell factory (<500 words)\n",
    "For this project, Saccharomyces cerevisiae was chosen as the cell factory. \n",
    "\n",
    "S. cerevisiae is a yeast that has been used for thousands of years in varous productions like wine, brewing and making. It is one of the most intensively studied eukaryptic model organisms within molecular biology,\n",
    ">kilde - jeg tænker de må stå i brock\n",
    "\n",
    "and is widely used in the fermentation based industry. It is easy to genetically manipulate due to advanced molecular biology tools, is advanced in growth speed and is well established in industrial biotechnology, making it suitable as a cell factory. \n",
    ">Enhancing beta-carotene production in Saccharomyces cerevisiae by metabolic engineering)\n",
    "\n",
    "As it has been used and studied for many years, the genome of S. cerevisiae is a well-characterized eukaryotic genome, and is simple in identifying open reading frames. This is very relevant in the work with gene sequence model, as this makes predictions throuhg models more precise.  \n",
    ">Saccharomyces cerevisiae S288C genome annotation: a working hypothesis\n",
    "\n",
    "\n",
    "One imporant fact is that conventional S. cerevisiae can produce geranylgeranyl diphosphate, which is a precursor in the carotenoid biosynhtesis. Through genetic engineeering it has been provden possible to produe beta-carotenes in S. cerevisiae. Compared to other heterlogous beta-carotene production oganisms, it is considered safe which is important, as beta-carotenes can be used in food production etc., making it relevant as a cell factory in beta-carotene production. \n",
    ">Is this relevant? \n",
    ">(Enhancing beta-carotene production in Saccharomyces cerevisiae by metabolic engineering)\n",
    "\n",
    "\n",
    "On BIGG.com, two GSMs are availble for the strain S288C. \n"
   ]
  },
  {
   "cell_type": "markdown",
   "metadata": {},
   "source": [
    "## 2. Problem definition (<300 words)\n",
    "Beta-carotene is a carotenoid with numerous biological functions in the human body including being involved in the natural synthesis of provitamin A, among others necessary for growth, vision and embryotic development. Beta-carotene is furthermore widely used in the industry as a coloring agent in food and cosmetics and an additive in medicine as it has shown anticancer as well as antioxidant properties. Despite the numerous functions of beta-carotene, we are not able to synthesize it in the human body, pushing market demands for its synthetic production. \n",
    "Chemical synthesis is as of today the most commonly used technique its production, but research has revealed that synthetic beta-carotene has carcinogenic activity and effective production methods for its natural synthesis is thus of great interest. Based on this extensive research has been caried out to examine the microbial biosynthesis of it as it provides a solid basis for a natural and sustainable production while avoiding the use of organic solvents such as heavy metals, strong acids and bases along with the formation of byproducts. Metabolic engineering has additionally carved the way to improve the yield and thus obtain higher titers and productivity of the product, through strain engineering. All though utilizing a natural producer of beta-carotene seem like the straightforward choice as production organism, it has been found that most of these are non-cultivable in laboratory conditions and that they require extensive optimalization. Choosing a well characterized microorganism, with various tools available for genetic engineering will thus enhance the chances and ease the process of increasing the product yield and productivity of the strain. \n",
    "We have utilized an existing genome scale metabolic model (GSM) for S. Cerevisiae and incorporate relevant reactions and pathways for its natural synthesis of beta-carotene. Afterwards we have performed phenotype predictions based on gene deletions and essentiality and evaluated on metabolic pathway visualizations with Escher.\n",
    "\n",
    "Kiler artilker: \n",
    "β-Carotene—properties and production methods (Food Quality and Safety)\n",
    "Engineering microbial factories for synthesis of value-added products (J Ind Microbiol Biotechnol.)"
   ]
  },
  {
   "cell_type": "markdown",
   "metadata": {},
   "source": [
    "## 3. *If Project category II:* Selection and assessment of existing GSM (<500 words)"
   ]
  },
  {
   "cell_type": "markdown",
   "metadata": {},
   "source": [
    "Using the data base BiGG, two GSM models for S. cerevisias was identified. Both are from the same strain, strain S288C, however one, iMM904, contains 1226 metabolites, 1557 reaction and 905 genes while the other one, iND750, is a bit smaller with 1059 metabolites, 1266 reactions and 750 genes. Before begning on the engineering, memote will be used to detemine which model have the best score. Bsed on the score and model size, one GSM will be choosen as the model used in this project. "
   ]
  },
  {
   "cell_type": "code",
   "execution_count": 54,
   "metadata": {},
   "outputs": [],
   "source": [
    "import numpy as np\n",
    "from cobra.io import read_sbml_model\n",
    "from cobra import Reaction, Metabolite"
   ]
  },
  {
   "cell_type": "code",
   "execution_count": 55,
   "metadata": {},
   "outputs": [],
   "source": [
    "model_iMM904 = read_sbml_model('iMM904.xml')"
   ]
  },
  {
   "cell_type": "code",
   "execution_count": 56,
   "metadata": {},
   "outputs": [],
   "source": [
    "#%%time\n",
    "#!memote report snapshot iMM904.xml --filename iMM904.html\n",
    "#This has been outcommented so we don't run it again. It takes about 10 - 15 min to run this code "
   ]
  },
  {
   "cell_type": "markdown",
   "metadata": {},
   "source": [
    "The overall score is 85%.\n",
    "The consistenty test gav a good result with a sub score of 96%. Here the score of stoichiometric inconsistency was 100% and the mass balance gave a score of 96%. \n",
    "For the annotation tests, the score was generlly high (above 80%) except for the gene annotation, which only score 43%"
   ]
  },
  {
   "cell_type": "code",
   "execution_count": 57,
   "metadata": {},
   "outputs": [],
   "source": [
    "model_iND750 = read_sbml_model('iND750.xml') #This model is not used"
   ]
  },
  {
   "cell_type": "code",
   "execution_count": 21,
   "metadata": {},
   "outputs": [],
   "source": [
    "#%%time\n",
    "#!memote report snapshot iND750.xml --filename iND750.html\n",
    "#This has been outcommented so we don't run it again. It takes about 10 - 15 min to run this code "
   ]
  },
  {
   "cell_type": "markdown",
   "metadata": {},
   "source": [
    "The overall score is 86%.\n",
    "The consistenty test gav a good result with a sub score of 97%. Here the score of stoichiometric inconsistency of 100% and the mass balance gave a score of 97.3%. \n",
    "For the annotation tests, the score was generlly high (above 80%) except for the gene annotation, which only score 43%"
   ]
  },
  {
   "cell_type": "markdown",
   "metadata": {},
   "source": [
    "Overall the models are fairly similar and both have high scores. However, eventhough the smallere model iND750 is a bit higher scored, it is the larger model, iMM904, there will be used in this report to similate the production of β-carotene. This is simply because iMM904 contains more genes, reaction and metabolites and therefore is able to simulate the organisme better. Here the different in score is not large engouth to arguee for the use of the smallere model."
   ]
  },
  {
   "cell_type": "markdown",
   "metadata": {},
   "source": [
    "## 4. Computer-Aided Cell Factory Engineering (<1500 words if Category II project)"
   ]
  },
  {
   "cell_type": "markdown",
   "metadata": {},
   "source": [
    "Since S. cerevisias is not a natural producer of β-carotene, the pathway is not in the model jet. Therefore some new metabolites and reaction is added to iMM904, so the GSM can be used to model production of β-carotene. The pathyway starts at hydroxymethylglutaryl coA, which is produced from acetyl coA naturally in S. cerevisia. In fact it is only the last four reactions in the pathway that needs to be added.\n",
    "\n",
    "The pathway:\n",
    "    \n",
    "    hydroxymethylglutaryl CoA (metabolite id: hmgcoa_c) --> mevalonate (metabolite id: mev_R_c) (Enzyme name: HMG CoA reductase, reaction id: HMGCOAR)\n",
    "\n",
    "    mevalonate --> --> --> farnesyl diphosphate (metabolite id: frdp_c) \n",
    "    \n",
    "    farnesyl diphosphate --> geranyl diphosphate (metabolite id: ggdp_c) (enzyme name: Farnesyltranstransferase, reaction id: FRTT)\n",
    "\n",
    "    2 geranyl diphosphate --> Phytoene + 2 diphosphate (metabolite id: ppi_c) (https://www.genome.jp/dbget-bin/www_bget?rn:R10177)\n",
    "\n",
    "    Phytoene + 3 Acceptors -> Neurosporene + 3 reduced acceptors (https://www.genome.jp/dbget-bin/www_bget?rn:R09691)\n",
    "\n",
    "    Neurosporene + reduced acceptor + O2 -> Lycopene + acceptor + 2 water (https://www.genome.jp/dbget-bin/www_bget?rn:R04800)\n",
    "\n",
    "    Lycopene -> beta-Carotene (https://www.genome.jp/dbget-bin/www_bget?rn:R03823)\n",
    "\n",
    "\n",
    "\n",
    "NB! Nogle links står der accpetor på. Det er en hydrogen acceptor, det vil sige NADP+. den reduceret er NADPH\n",
    "Husk at loaded model iMM904\n",
    "\n",
    "De metaboliter som i skal bruge, der er i model i forvejen har jeg vist nedenunder"
   ]
  },
  {
   "cell_type": "code",
   "execution_count": 58,
   "metadata": {},
   "outputs": [
    {
     "data": {
      "text/html": [
       "\n",
       "        <table>\n",
       "            <tr>\n",
       "                <td><strong>Metabolite identifier</strong></td><td>ggdp_c</td>\n",
       "            </tr><tr>\n",
       "                <td><strong>Name</strong></td><td>Geranylgeranyl diphosphate C20H33O7P2</td>\n",
       "            </tr><tr>\n",
       "                <td><strong>Memory address</strong></td>\n",
       "                <td>0x07fc2810de710</td>\n",
       "            </tr><tr>\n",
       "                <td><strong>Formula</strong></td><td>C20H33O7P2</td>\n",
       "            </tr><tr>\n",
       "                <td><strong>Compartment</strong></td><td>c</td>\n",
       "            </tr><tr>\n",
       "                <td><strong>In 2 reaction(s)</strong></td><td>\n",
       "                    FRTT, GGTT</td>\n",
       "            </tr>\n",
       "        </table>"
      ],
      "text/plain": [
       "<Metabolite ggdp_c at 0x7fc2810de710>"
      ]
     },
     "execution_count": 58,
     "metadata": {},
     "output_type": "execute_result"
    }
   ],
   "source": [
    "model_iMM904.metabolites.hmgcoa_c\n",
    "model_iMM904.metabolites.mev__R_c\n",
    "#model_iMM904.metabolites.frdp_c\n",
    "model_iMM904.metabolites.ggdp_c\n",
    "#model_iMM904.metabolites.ppi_c\n",
    "#model_iMM904.metabolites.nadp_c\n",
    "#model_iMM904.metabolites.nadph_c\n",
    "#model_iMM904.metabolites.h2o_c\n",
    "#model_iMM904.metabolites.o2_c\n",
    "#model_iMM904.reactions.HMGCOAR"
   ]
  },
  {
   "cell_type": "markdown",
   "metadata": {},
   "source": [
    "### Adding relevant reactions to create beta-carotene pathway:"
   ]
  },
  {
   "cell_type": "markdown",
   "metadata": {},
   "source": [
    "#### 15-cis-Phytoene syntase\n",
    "The frist reaction to be added is: 2 Geranylgeranyl diphosphate <=> 15-cis-Phytoene + 2 Diphosphate\n",
    "(https://www.genome.jp/dbget-bin/www_bget?rn:R10177)\n",
    "This will allow for Phytoene production which is a precurser in the reaction. "
   ]
  },
  {
   "cell_type": "code",
   "execution_count": 59,
   "metadata": {},
   "outputs": [
    {
     "name": "stdout",
     "output_type": "stream",
     "text": [
      "2 ggdp_c --> phy + 2 ppi_c\n"
     ]
    }
   ],
   "source": [
    "new_reaction1 = Reaction('phy_syn') #PHYtoene SYNtase\n",
    "phy = Metabolite(id='phy', name='phytoene', compartment='c') #Adding the metabolite\n",
    "\n",
    "new_reaction1.add_metabolites({model_iMM904.metabolites.ggdp_c: -2,\n",
    "                              phy: 1, # our newly created metabolites\n",
    "                               model_iMM904.metabolites.ppi_c: 2\n",
    "                                })\n",
    "print(new_reaction1.build_reaction_string()) # see if one get the rigth reaction"
   ]
  },
  {
   "cell_type": "markdown",
   "metadata": {},
   "source": [
    "The above print statement shows that the reaction was correctly assembled. Below we incorporate the reaction to the GSM and check the occruance. The procedure will be performed on all the reactions added to the model. "
   ]
  },
  {
   "cell_type": "code",
   "execution_count": 60,
   "metadata": {},
   "outputs": [
    {
     "data": {
      "text/html": [
       "\n",
       "        <table>\n",
       "            <tr>\n",
       "                <td><strong>Reaction identifier</strong></td><td>phy_syn</td>\n",
       "            </tr><tr>\n",
       "                <td><strong>Name</strong></td><td></td>\n",
       "            </tr><tr>\n",
       "                <td><strong>Memory address</strong></td>\n",
       "                <td>0x07fc27fd2e898</td>\n",
       "            </tr><tr>\n",
       "                <td><strong>Stoichiometry</strong></td>\n",
       "                <td>\n",
       "                    <p style='text-align:right'>2 ggdp_c --> phy + 2 ppi_c</p>\n",
       "                    <p style='text-align:right'>2 Geranylgeranyl diphosphate C20H33O7P2 --> phytoene + 2 Diphosphate</p>\n",
       "                </td>\n",
       "            </tr><tr>\n",
       "                <td><strong>GPR</strong></td><td></td>\n",
       "            </tr><tr>\n",
       "                <td><strong>Lower bound</strong></td><td>0.0</td>\n",
       "            </tr><tr>\n",
       "                <td><strong>Upper bound</strong></td><td>1000.0</td>\n",
       "            </tr>\n",
       "        </table>\n",
       "        "
      ],
      "text/plain": [
       "<Reaction phy_syn at 0x7fc27fd2e898>"
      ]
     },
     "execution_count": 60,
     "metadata": {},
     "output_type": "execute_result"
    }
   ],
   "source": [
    "model_iMM904.add_reactions([new_reaction1])\n",
    "model_iMM904.reactions.phy_syn #check that the reaction is in the model"
   ]
  },
  {
   "cell_type": "markdown",
   "metadata": {},
   "source": [
    "#### All-trans-Neurosporene Syntase\n",
    "The next reaction added synthesises all-trans-Neurosporene as seen below: \n",
    "\n",
    "15-cis-Phytoene + 3 Acceptor <=> all-trans-Neurosporene + 3 Reduced acceptor\n",
    "https://www.genome.jp/dbget-bin/www_bget?rn:R09691"
   ]
  },
  {
   "cell_type": "code",
   "execution_count": 61,
   "metadata": {},
   "outputs": [
    {
     "name": "stdout",
     "output_type": "stream",
     "text": [
      "phy --> neu\n"
     ]
    }
   ],
   "source": [
    "new_reaction2 = Reaction('neu_syn') #NEUrosporene SYNtase\n",
    "#Adding the metabolite\n",
    "neu = Metabolite(id='neu', name='Neurosporene', compartment='c') \n",
    "AH2 = Metabolite(id='AH2', name='Reduced acceptor', compartment='c') \n",
    "A = Metabolite(id='A', name='Acceptor', compartment='c') \n",
    "new_reaction2.add_metabolites({\n",
    "    #A: -3, #A\n",
    "    phy: -1, # our newly created metabolites\n",
    "    #AH2: 3, #AH2\n",
    "    neu: 1,\n",
    "    })\n",
    "print(new_reaction2.build_reaction_string()) # see if one get the rigth reaction\n",
    "model_iMM904.add_reactions([new_reaction2])"
   ]
  },
  {
   "cell_type": "code",
   "execution_count": 62,
   "metadata": {},
   "outputs": [
    {
     "data": {
      "text/html": [
       "\n",
       "        <table>\n",
       "            <tr>\n",
       "                <td><strong>Reaction identifier</strong></td><td>neu_syn</td>\n",
       "            </tr><tr>\n",
       "                <td><strong>Name</strong></td><td></td>\n",
       "            </tr><tr>\n",
       "                <td><strong>Memory address</strong></td>\n",
       "                <td>0x07fc27fd26048</td>\n",
       "            </tr><tr>\n",
       "                <td><strong>Stoichiometry</strong></td>\n",
       "                <td>\n",
       "                    <p style='text-align:right'>phy --> neu</p>\n",
       "                    <p style='text-align:right'>phytoene --> Neurosporene</p>\n",
       "                </td>\n",
       "            </tr><tr>\n",
       "                <td><strong>GPR</strong></td><td></td>\n",
       "            </tr><tr>\n",
       "                <td><strong>Lower bound</strong></td><td>0.0</td>\n",
       "            </tr><tr>\n",
       "                <td><strong>Upper bound</strong></td><td>1000.0</td>\n",
       "            </tr>\n",
       "        </table>\n",
       "        "
      ],
      "text/plain": [
       "<Reaction neu_syn at 0x7fc27fd26048>"
      ]
     },
     "execution_count": 62,
     "metadata": {},
     "output_type": "execute_result"
    }
   ],
   "source": [
    "model_iMM904.reactions.neu_syn #check that the reaction is in the model"
   ]
  },
  {
   "cell_type": "markdown",
   "metadata": {},
   "source": [
    "#### Lycopene synthesis\n",
    "The production og lycopene is show below: \n",
    "\n",
    "all-trans-Neurosporene + Reduced acceptor + Oxygen <=> Lycopene + Acceptor + 2 H2O \n",
    "\n",
    "(https://www.genome.jp/dbget-bin/www_bget?rn:R04800)"
   ]
  },
  {
   "cell_type": "code",
   "execution_count": 63,
   "metadata": {},
   "outputs": [
    {
     "name": "stdout",
     "output_type": "stream",
     "text": [
      "neu + o2_c --> 2 h2o_c + lyc\n"
     ]
    }
   ],
   "source": [
    "new_reaction3 = Reaction('lyc_syn') #LYCopene SYNtase\n",
    "lyc = Metabolite(id='lyc', name='Lycopene', compartment='c') #Adding the metabolite\n",
    "new_reaction3.add_metabolites({\n",
    "    neu: -1, # our newly created metabolites\n",
    "    #AH2: -1, \n",
    "    model_iMM904.metabolites.o2_c: -1,\n",
    "    lyc: 1,\n",
    "    #A: 1,\n",
    "    model_iMM904.metabolites.h2o_c: 2,\n",
    "    })\n",
    "print(new_reaction3.build_reaction_string()) # see if one get the rigth reaction"
   ]
  },
  {
   "cell_type": "code",
   "execution_count": 64,
   "metadata": {},
   "outputs": [
    {
     "data": {
      "text/html": [
       "\n",
       "        <table>\n",
       "            <tr>\n",
       "                <td><strong>Reaction identifier</strong></td><td>lyc_syn</td>\n",
       "            </tr><tr>\n",
       "                <td><strong>Name</strong></td><td></td>\n",
       "            </tr><tr>\n",
       "                <td><strong>Memory address</strong></td>\n",
       "                <td>0x07fc27fd269e8</td>\n",
       "            </tr><tr>\n",
       "                <td><strong>Stoichiometry</strong></td>\n",
       "                <td>\n",
       "                    <p style='text-align:right'>neu + o2_c --> 2 h2o_c + lyc</p>\n",
       "                    <p style='text-align:right'>Neurosporene + O2 O2 --> 2 H2O H2O + Lycopene</p>\n",
       "                </td>\n",
       "            </tr><tr>\n",
       "                <td><strong>GPR</strong></td><td></td>\n",
       "            </tr><tr>\n",
       "                <td><strong>Lower bound</strong></td><td>0.0</td>\n",
       "            </tr><tr>\n",
       "                <td><strong>Upper bound</strong></td><td>1000.0</td>\n",
       "            </tr>\n",
       "        </table>\n",
       "        "
      ],
      "text/plain": [
       "<Reaction lyc_syn at 0x7fc27fd269e8>"
      ]
     },
     "execution_count": 64,
     "metadata": {},
     "output_type": "execute_result"
    }
   ],
   "source": [
    "model_iMM904.add_reactions([new_reaction3])\n",
    "model_iMM904.reactions.lyc_syn #check that the reaction is in the model"
   ]
  },
  {
   "cell_type": "markdown",
   "metadata": {},
   "source": [
    " #### beta-carotene production\n",
    " The last reaction for beta-Carotene production is added:\n",
    " \n",
    " Lycopene -> beta-Carotene (https://www.genome.jp/dbget-bin/www_bget?rn:R03823)"
   ]
  },
  {
   "cell_type": "code",
   "execution_count": 65,
   "metadata": {},
   "outputs": [
    {
     "name": "stdout",
     "output_type": "stream",
     "text": [
      "lyc --> beta\n"
     ]
    }
   ],
   "source": [
    "new_reaction4 = Reaction('beta_syn') #BETA-carotene SYNtase\n",
    "beta = Metabolite(id='beta', name='Beta-carotene', compartment='c') #Adding the metabolite\n",
    "new_reaction4.add_metabolites({\n",
    "    lyc: -1, # our newly created metabolites\n",
    "    beta: 1,\n",
    "    })\n",
    "print(new_reaction4.build_reaction_string()) # see if one get the rigth reaction"
   ]
  },
  {
   "cell_type": "code",
   "execution_count": 66,
   "metadata": {},
   "outputs": [
    {
     "data": {
      "text/html": [
       "\n",
       "        <table>\n",
       "            <tr>\n",
       "                <td><strong>Reaction identifier</strong></td><td>beta_syn</td>\n",
       "            </tr><tr>\n",
       "                <td><strong>Name</strong></td><td></td>\n",
       "            </tr><tr>\n",
       "                <td><strong>Memory address</strong></td>\n",
       "                <td>0x07fc34d2b1898</td>\n",
       "            </tr><tr>\n",
       "                <td><strong>Stoichiometry</strong></td>\n",
       "                <td>\n",
       "                    <p style='text-align:right'>lyc --> beta</p>\n",
       "                    <p style='text-align:right'>Lycopene --> Beta-carotene</p>\n",
       "                </td>\n",
       "            </tr><tr>\n",
       "                <td><strong>GPR</strong></td><td></td>\n",
       "            </tr><tr>\n",
       "                <td><strong>Lower bound</strong></td><td>0.0</td>\n",
       "            </tr><tr>\n",
       "                <td><strong>Upper bound</strong></td><td>1000.0</td>\n",
       "            </tr>\n",
       "        </table>\n",
       "        "
      ],
      "text/plain": [
       "<Reaction beta_syn at 0x7fc34d2b1898>"
      ]
     },
     "execution_count": 66,
     "metadata": {},
     "output_type": "execute_result"
    }
   ],
   "source": [
    "model_iMM904.add_reactions([new_reaction4])\n",
    "model_iMM904.reactions.beta_syn #check that the reaction is in the model"
   ]
  },
  {
   "cell_type": "markdown",
   "metadata": {},
   "source": [
    "#### Beta-carotene extraction from the cell  -> I did not look this up! "
   ]
  },
  {
   "cell_type": "code",
   "execution_count": 67,
   "metadata": {},
   "outputs": [
    {
     "name": "stdout",
     "output_type": "stream",
     "text": [
      "lyc --> beta\n"
     ]
    }
   ],
   "source": [
    "new_reaction5 = Reaction('EX_beta') #BETA-carotene SYNtase\n",
    "new_reaction5.add_metabolites({\n",
    "    beta: -1 #Excretion of beta-carotene\n",
    "    })\n",
    "print(new_reaction4.build_reaction_string()) # see if one get the rigth reaction"
   ]
  },
  {
   "cell_type": "code",
   "execution_count": 68,
   "metadata": {},
   "outputs": [
    {
     "data": {
      "text/html": [
       "\n",
       "        <table>\n",
       "            <tr>\n",
       "                <td><strong>Reaction identifier</strong></td><td>EX_beta</td>\n",
       "            </tr><tr>\n",
       "                <td><strong>Name</strong></td><td></td>\n",
       "            </tr><tr>\n",
       "                <td><strong>Memory address</strong></td>\n",
       "                <td>0x07fc27fd2ef98</td>\n",
       "            </tr><tr>\n",
       "                <td><strong>Stoichiometry</strong></td>\n",
       "                <td>\n",
       "                    <p style='text-align:right'>beta --> </p>\n",
       "                    <p style='text-align:right'>Beta-carotene --> </p>\n",
       "                </td>\n",
       "            </tr><tr>\n",
       "                <td><strong>GPR</strong></td><td></td>\n",
       "            </tr><tr>\n",
       "                <td><strong>Lower bound</strong></td><td>0.0</td>\n",
       "            </tr><tr>\n",
       "                <td><strong>Upper bound</strong></td><td>1000.0</td>\n",
       "            </tr>\n",
       "        </table>\n",
       "        "
      ],
      "text/plain": [
       "<Reaction EX_beta at 0x7fc27fd2ef98>"
      ]
     },
     "execution_count": 68,
     "metadata": {},
     "output_type": "execute_result"
    }
   ],
   "source": [
    "model_iMM904.add_reactions([new_reaction5])\n",
    "model_iMM904.reactions.EX_beta #check that the reaction is in the model"
   ]
  },
  {
   "cell_type": "markdown",
   "metadata": {},
   "source": [
    "### Testing titers of betacarotene production and growth rates"
   ]
  },
  {
   "cell_type": "code",
   "execution_count": 69,
   "metadata": {},
   "outputs": [
    {
     "name": "stdout",
     "output_type": "stream",
     "text": [
      "Maximize\n",
      "1.0*BIOMASS_SC5_notrace - 1.0*BIOMASS_SC5_notrace_reverse_93090\n",
      "0.28786570370403164\n"
     ]
    }
   ],
   "source": [
    "print(model_iMM904.objective)\n",
    "print(model_iMM904.optimize().objective_value)"
   ]
  },
  {
   "cell_type": "markdown",
   "metadata": {},
   "source": [
    "The growth rate and maximum production of beta-carotene will be calculated in the following: "
   ]
  },
  {
   "cell_type": "code",
   "execution_count": 82,
   "metadata": {},
   "outputs": [
    {
     "name": "stdout",
     "output_type": "stream",
     "text": [
      "Maximum growth rate:  0.2878657037040162\n",
      "Maximum beta-carotene yield:  0.35143769968051336\n"
     ]
    },
    {
     "ename": "AttributeError",
     "evalue": "'float' object has no attribute 'fluxes'",
     "output_type": "error",
     "traceback": [
      "\u001b[0;31m---------------------------------------------------------------------------\u001b[0m",
      "\u001b[0;31mAttributeError\u001b[0m                            Traceback (most recent call last)",
      "\u001b[0;32m<ipython-input-82-6c75c941f7b0>\u001b[0m in \u001b[0;36m<module>\u001b[0;34m\u001b[0m\n\u001b[1;32m      6\u001b[0m     \u001b[0mmodel_iMM904\u001b[0m\u001b[0;34m.\u001b[0m\u001b[0mobjective\u001b[0m \u001b[0;34m=\u001b[0m \u001b[0mmodel_iMM904\u001b[0m\u001b[0;34m.\u001b[0m\u001b[0mreactions\u001b[0m\u001b[0;34m.\u001b[0m\u001b[0mEX_beta\u001b[0m\u001b[0;34m\u001b[0m\u001b[0;34m\u001b[0m\u001b[0m\n\u001b[1;32m      7\u001b[0m     \u001b[0mprint\u001b[0m\u001b[0;34m(\u001b[0m\u001b[0;34m\"Maximum beta-carotene yield: \"\u001b[0m\u001b[0;34m,\u001b[0m\u001b[0mmodel_iMM904\u001b[0m\u001b[0;34m.\u001b[0m\u001b[0moptimize\u001b[0m\u001b[0;34m(\u001b[0m\u001b[0;34m)\u001b[0m\u001b[0;34m.\u001b[0m\u001b[0mobjective_value\u001b[0m\u001b[0;34m)\u001b[0m\u001b[0;34m\u001b[0m\u001b[0;34m\u001b[0m\u001b[0m\n\u001b[0;32m----> 8\u001b[0;31m     \u001b[0mprint\u001b[0m\u001b[0;34m(\u001b[0m\u001b[0msolution\u001b[0m\u001b[0;34m.\u001b[0m\u001b[0mfluxes\u001b[0m\u001b[0;34m[\u001b[0m\u001b[0;34m\"BIOMASS_SC5_notrace\"\u001b[0m\u001b[0;34m]\u001b[0m\u001b[0;34m)\u001b[0m\u001b[0;34m\u001b[0m\u001b[0;34m\u001b[0m\u001b[0m\n\u001b[0m\u001b[1;32m      9\u001b[0m \u001b[0;34m\u001b[0m\u001b[0m\n",
      "\u001b[0;31mAttributeError\u001b[0m: 'float' object has no attribute 'fluxes'"
     ]
    }
   ],
   "source": [
    "with model_iMM904:\n",
    "    model_iMM904.objective = model_iMM904.reactions.BIOMASS_SC5_notrace \n",
    "    print(\"Maximum growth rate: \",model_iMM904.optimize().objective_value)\n",
    "    \n",
    "with model_iMM904:\n",
    "    model_iMM904.objective = model_iMM904.reactions.EX_beta \n",
    "    print(\"Maximum beta-carotene yield: \",model_iMM904.optimize().objective_value)\n",
    "    print(solution.fluxes[\"BIOMASS_SC5_notrace\"])\n",
    "    "
   ]
  },
  {
   "cell_type": "markdown",
   "metadata": {},
   "source": [
    "We would now like to examine the growth rate  when growing on a different carbon source. \n",
    "Therefore we will set the carbon sorce glucose as we examined above as 0 and look at the growth rates at the other medias. Comment on concentration! P:s virker ikke lige C i alle!"
   ]
  },
  {
   "cell_type": "code",
   "execution_count": 81,
   "metadata": {},
   "outputs": [
    {
     "name": "stdout",
     "output_type": "stream",
     "text": [
      "{'C': 1695, 'H': 2995, 'O': 101}\n",
      "{'C': 28, 'H': 46, 'O': 1}\n",
      "{'C': 28, 'H': 44, 'O': 1}\n",
      "{'C': 1695, 'H': 2993, 'O': 101}\n",
      "{'C': 6, 'H': 10, 'O': 5}\n",
      "{'C': 2, 'H': 8, 'N': 1, 'O': 1}\n",
      "{'C': 4, 'H': 7, 'O': 3}\n",
      "{'C': 2, 'H': 6, 'O': 1}\n",
      "{'C': 28, 'H': 46, 'O': 1}\n",
      "{'C': 7, 'H': 14, 'O': 2}\n",
      "{'C': 5, 'H': 10, 'O': 1}\n",
      "{'C': 5, 'H': 12, 'O': 1}\n",
      "{'C': 4, 'H': 8, 'O': 1}\n",
      "{'C': 8, 'H': 10, 'O': 1}\n",
      "{'C': 1695, 'H': 2995, 'O': 101}\n",
      "{'C': 17, 'H': 19, 'N': 4, 'O': 9, 'P': 1}\n",
      "{'C': 7, 'H': 10, 'O': 5}\n",
      "{'C': 5, 'H': 10, 'O': 1}\n",
      "{'C': 1, 'H': 1, 'O': 2}\n",
      "{'C': 6, 'H': 12, 'O': 6}\n",
      "{'C': 6, 'H': 9, 'O': 3}\n",
      "{'C': 4, 'H': 9, 'N': 1, 'O': 2}\n",
      "{'C': 4, 'H': 2, 'O': 4}\n",
      "{'C': 8, 'H': 20, 'N': 1, 'O': 6, 'P': 1}\n",
      "{'C': 7, 'H': 6, 'N': 1, 'O': 2}\n",
      "{'C': 5, 'H': 9, 'N': 1, 'O': 3}\n",
      "{'C': 9, 'H': 18, 'O': 11, 'P': 1}\n",
      "{'C': 6, 'H': 12, 'O': 6}\n",
      "{'C': 9, 'H': 17, 'N': 1, 'O': 3}\n",
      "{'C': 20, 'H': 22, 'N': 2, 'O': 8}\n",
      "{'C': 5, 'H': 12, 'O': 5}\n",
      "{'C': 2, 'H': 3, 'O': 2}\n",
      "{'C': 2, 'H': 4, 'O': 1}\n",
      "{'C': 4, 'H': 8, 'O': 2}\n",
      "{'C': 6, 'H': 9, 'O': 7}\n",
      "{'C': 6, 'H': 13, 'N': 1, 'O': 8, 'P': 1}\n",
      "{'C': 2, 'H': 4, 'O': 2}\n",
      "{'C': 6, 'H': 12, 'O': 6}\n",
      "{'C': 5, 'H': 10, 'N': 2, 'O': 3}\n",
      "{'C': 5, 'H': 8, 'N': 1, 'O': 4}\n",
      "{'C': 2, 'H': 1, 'O': 3}\n",
      "{'C': 5, 'H': 5, 'N': 5}\n",
      "{'C': 10, 'H': 13, 'N': 5, 'O': 4}\n",
      "{'C': 5, 'H': 4, 'O': 5}\n",
      "{'C': 3, 'H': 7, 'N': 1, 'O': 2}\n",
      "{'C': 2, 'H': 5, 'N': 1, 'O': 2}\n",
      "{'C': 3, 'H': 8, 'O': 3}\n",
      "{'C': 10, 'H': 13, 'N': 5, 'O': 5}\n",
      "{'C': 20, 'H': 30, 'N': 6, 'O': 12, 'S': 2}\n",
      "{'C': 10, 'H': 16, 'N': 3, 'O': 6, 'S': 1}\n",
      "{'C': 4, 'H': 6, 'N': 4, 'O': 3}\n",
      "{'C': 4, 'H': 7, 'N': 4, 'O': 4}\n",
      "{'C': 15, 'H': 23, 'N': 6, 'O': 5, 'S': 1}\n",
      "{'C': 5, 'H': 10, 'O': 5}\n",
      "{'C': 5, 'H': 10, 'O': 5}\n",
      "{'C': 5, 'H': 5, 'N': 5, 'O': 1}\n",
      "{'C': 6, 'H': 15, 'N': 4, 'O': 2}\n",
      "{'C': 16, 'H': 31, 'O': 2}\n",
      "{'C': 16, 'H': 29, 'O': 2}\n",
      "{'C': 4, 'H': 8, 'N': 2, 'O': 3}\n",
      "{'C': 4, 'H': 6, 'N': 1, 'O': 4}\n",
      "{'C': 4, 'H': 10, 'O': 2}\n",
      "{'C': 10, 'H': 15, 'N': 2, 'O': 3, 'S': 1}\n",
      "{'C': 26, 'H': 51, 'O': 2}\n",
      "{'C': 6, 'H': 9, 'N': 3, 'O': 2}\n",
      "{'C': 5, 'H': 4, 'N': 4, 'O': 1}\n",
      "{'C': 7, 'H': 14, 'O': 2}\n",
      "{'C': 5, 'H': 12, 'O': 1}\n",
      "{'C': 6, 'H': 12, 'O': 2}\n",
      "{'C': 5, 'H': 14, 'N': 1, 'O': 1}\n",
      "{'C': 6, 'H': 5, 'O': 7}\n",
      "{'C': 1, 'O': 2}\n",
      "{'C': 7, 'H': 15, 'N': 1, 'O': 3}\n",
      "{'C': 4, 'H': 5, 'N': 3, 'O': 1}\n",
      "{'C': 3, 'H': 7, 'N': 1, 'O': 2, 'S': 1}\n",
      "{'C': 9, 'H': 13, 'N': 3, 'O': 5}\n",
      "{'C': 10, 'H': 13, 'N': 5, 'O': 3}\n",
      "{'C': 9, 'H': 21, 'N': 2, 'O': 2}\n",
      "{'C': 4, 'H': 10, 'O': 1}\n",
      "{'C': 10, 'H': 9, 'N': 1, 'O': 1}\n",
      "{'C': 6, 'H': 13, 'N': 1, 'O': 2}\n",
      "{'C': 10, 'H': 11, 'N': 1, 'O': 1}\n",
      "{'C': 6, 'H': 12, 'O': 6}\n",
      "{'C': 10, 'H': 19, 'O': 2}\n",
      "{'C': 9, 'H': 13, 'N': 3, 'O': 4}\n",
      "{'C': 12, 'H': 23, 'O': 2}\n",
      "{'C': 10, 'H': 12, 'N': 4, 'O': 5}\n",
      "{'C': 10, 'H': 13, 'N': 5, 'O': 4}\n",
      "{'C': 10, 'H': 12, 'N': 4, 'O': 4}\n",
      "{'C': 3, 'H': 5, 'O': 3}\n",
      "{'C': 3, 'H': 5, 'O': 3}\n",
      "{'C': 30, 'H': 50, 'O': 1}\n",
      "{'C': 1697, 'H': 2999, 'O': 101}\n",
      "{'C': 10, 'H': 13, 'N': 2, 'O': 14, 'P': 3}\n",
      "{'C': 9, 'H': 12, 'N': 2, 'O': 5}\n",
      "{'C': 6, 'H': 13, 'N': 1, 'O': 2}\n",
      "{'C': 6, 'H': 15, 'N': 2, 'O': 2}\n",
      "{'C': 4, 'H': 4, 'O': 5}\n",
      "{'C': 12, 'H': 22, 'O': 11}\n",
      "{'C': 17, 'H': 20, 'N': 4, 'O': 6}\n",
      "{'C': 6, 'H': 14, 'O': 6}\n",
      "{'C': 6, 'H': 12, 'O': 6}\n",
      "{'C': 12, 'H': 22, 'O': 11}\n",
      "{'C': 5, 'H': 11, 'N': 1, 'O': 2, 'S': 1}\n",
      "{'C': 6, 'H': 14, 'N': 1, 'O': 2, 'S': 1}\n",
      "{'C': 6, 'H': 4, 'N': 1, 'O': 2}\n",
      "{'C': 6, 'H': 14, 'O': 6}\n",
      "{'C': 3, 'H': 7, 'N': 1, 'O': 3}\n",
      "{'C': 7, 'H': 22, 'N': 3}\n",
      "{'C': 10, 'H': 30, 'N': 4}\n",
      "{'C': 6, 'H': 12, 'O': 6}\n",
      "{'C': 4, 'H': 4, 'O': 4}\n",
      "{'C': 21, 'H': 25, 'N': 7, 'O': 17, 'P': 3}\n",
      "{'C': 11, 'H': 14, 'N': 2, 'O': 8, 'P': 1}\n",
      "{'C': 12, 'H': 22, 'O': 11}\n",
      "{'C': 2, 'H': 7, 'N': 1, 'O': 3, 'S': 1}\n",
      "{'C': 12, 'H': 17, 'N': 4, 'O': 1, 'S': 1}\n",
      "{'C': 4, 'H': 2, 'O': 5}\n",
      "{'C': 18, 'H': 35, 'O': 2}\n",
      "{'C': 18, 'H': 33, 'O': 2}\n",
      "{'C': 18, 'H': 31, 'O': 2}\n",
      "{'C': 5, 'H': 13, 'N': 2, 'O': 2}\n",
      "{'C': 12, 'H': 16, 'N': 4, 'O': 4, 'P': 1, 'S': 1}\n",
      "{'C': 12, 'H': 16, 'N': 4, 'O': 7, 'P': 2, 'S': 1}\n",
      "{'C': 4, 'H': 9, 'N': 1, 'O': 3}\n",
      "{'C': 5, 'H': 6, 'N': 2, 'O': 2}\n",
      "{'C': 8, 'H': 8, 'O': 1}\n",
      "{'C': 10, 'H': 11, 'N': 5, 'O': 10, 'P': 2}\n",
      "{'C': 10, 'H': 14, 'N': 2, 'O': 5}\n",
      "{'C': 12, 'H': 22, 'O': 11}\n",
      "{'C': 11, 'H': 12, 'N': 2, 'O': 2}\n",
      "{'C': 4040, 'H': 7844, 'N': 100, 'O': 800, 'P': 100}\n",
      "{'C': 6, 'H': 7, 'O': 6}\n",
      "{'C': 4, 'H': 6, 'N': 2, 'O': 3, 'R': 2}\n",
      "{'C': 9, 'H': 11, 'N': 1, 'O': 2}\n",
      "{'C': 10, 'H': 12, 'O': 2}\n",
      "{'C': 9, 'H': 16, 'N': 1, 'O': 5}\n",
      "{'C': 14, 'H': 27, 'O': 2}\n",
      "{'C': 9, 'H': 11, 'N': 1, 'O': 3}\n",
      "{'C': 4, 'H': 4, 'N': 2, 'O': 2}\n",
      "{'C': 1, 'H': 4, 'N': 2, 'O': 1}\n",
      "{'C': 9, 'H': 12, 'N': 2, 'O': 6}\n",
      "{'C': 5, 'H': 11, 'N': 1, 'O': 2}\n",
      "{'C': 5, 'H': 4, 'N': 4, 'O': 2}\n",
      "{'C': 10, 'H': 12, 'N': 4, 'O': 6}\n",
      "{'C': 5, 'H': 9, 'N': 1, 'O': 2}\n",
      "{'C': 4140, 'H': 7644, 'O': 1300, 'P': 100}\n",
      "{'C': 4, 'H': 14, 'N': 2}\n",
      "{'C': 3, 'H': 3, 'O': 3}\n",
      "{'C': 5, 'H': 10, 'O': 5}\n",
      "{'C': 5, 'H': 12, 'O': 5}\n",
      "{'C': 5, 'H': 10, 'O': 5}\n",
      "{'C': 27, 'H': 44, 'O': 1}\n",
      "{'C': 1694, 'H': 2993, 'O': 101}\n",
      "['EX_13BDglcn_e', 'EX_2hb_e', 'EX_etoh_e', 'EX_for_e', 'EX_fru_e', 'EX_4abut_e', 'EX_fum_e', 'EX_gal_e', 'EX_ac_e', 'EX_acald_e', 'EX_gam6p_e', 'EX_glc__D_e', 'EX_gln__L_e', 'EX_glu__L_e', 'EX_glx_e', 'EX_adn_e', 'EX_akg_e', 'EX_ala__L_e', 'EX_gly_e', 'EX_glyc_e', 'EX_gsn_e', 'EX_alltn_e', 'EX_alltt_e', 'EX_amet_e', 'EX_arg__L_e', 'EX_asn__L_e', 'EX_asp__L_e', 'EX_cit_e', 'EX_cytd_e', 'EX_ins_e', 'EX_lac__D_e', 'EX_lac__L_e', 'EX_mal__L_e', 'EX_malt_e', 'EX_sbt__D_e', 'EX_man_e', 'EX_melib_e', 'EX_ser__L_e', 'EX_succ_e', 'EX_sucr_e', 'EX_oaa_e', 'EX_orn_e', 'EX_thr__L_e', 'EX_pap_e', 'EX_tre_e', 'EX_uri_e', 'EX_xtsn_e', 'EX_pro__L_e', 'EX_pyr_e', 'EX_xyl__D_e', 'EX_xylt_e', 'EX_rib__D_e']\n"
     ]
    }
   ],
   "source": [
    "carbon_source_exchanges=[]\n",
    "for exchange in model_iMM904.exchanges:\n",
    "    for metabolite in exchange.metabolites:\n",
    "        if \"C\" in metabolite.elements:\n",
    "            print(metabolite.elements)\n",
    "            carbon_source_exchanges.append(exchange.id)\n",
    "anaerobic_carbon_sources=[]\n",
    "for i in range (0,len(carbon_source_exchanges)):\n",
    "    with model_iMM904:\n",
    "        medium=model_iMM904.medium\n",
    "        medium['EX_glc__D_e']=0\n",
    "        medium[carbon_source_exchanges[i]]=100\n",
    "        model_iMM904.medium =medium\n",
    "        solution=model_iMM904.slim_optimize(error_value=0.)\n",
    "        if solution >0:\n",
    "            anaerobic_carbon_sources.extend([carbon_source_exchanges[i]])\n",
    "print(anaerobic_carbon_sources)     "
   ]
  },
  {
   "cell_type": "markdown",
   "metadata": {},
   "source": [
    "#### Improving the yield of beta-caroten \n",
    "We would l"
   ]
  },
  {
   "cell_type": "markdown",
   "metadata": {},
   "source": [
    "## 5. Discussion (<500 words)"
   ]
  },
  {
   "cell_type": "markdown",
   "metadata": {},
   "source": [
    "## 6. Conclusion (<200 words)"
   ]
  },
  {
   "cell_type": "markdown",
   "metadata": {},
   "source": [
    "## References"
   ]
  },
  {
   "cell_type": "markdown",
   "metadata": {},
   "source": [
    "[1]Madigan, M. T., Martinko, J. M., & Parker, J. (2014). Brock biology of microorganisms. Upper Saddle River, NJ: Prentice Hall/Pearson Education."
   ]
  },
  {
   "cell_type": "markdown",
   "metadata": {},
   "source": [
    "[2]Qian Li, Zhiqiang Sun, Jing Li, Yansheng Zhang, Enhancing beta-carotene production in Saccharomyces cerevisiae by metabolic engineering, FEMS Microbiology Letters, Volume 345, Issue 2, August 2013, Pages 94–101, https://doi.org/10.1111/1574-6968.12187"
   ]
  },
  {
   "cell_type": "code",
   "execution_count": null,
   "metadata": {},
   "outputs": [],
   "source": []
  },
  {
   "cell_type": "code",
   "execution_count": null,
   "metadata": {},
   "outputs": [],
   "source": []
  }
 ],
 "metadata": {
  "kernelspec": {
   "display_name": "python3.6",
   "language": "python",
   "name": "python3.6"
  },
  "language_info": {
   "codemirror_mode": {
    "name": "ipython",
    "version": 3
   },
   "file_extension": ".py",
   "mimetype": "text/x-python",
   "name": "python",
   "nbconvert_exporter": "python",
   "pygments_lexer": "ipython3",
   "version": "3.6.12"
  }
 },
 "nbformat": 4,
 "nbformat_minor": 4
}
