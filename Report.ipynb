{
 "cells": [
  {
   "cell_type": "markdown",
   "metadata": {},
   "source": [
    "# [Title]"
   ]
  },
  {
   "cell_type": "markdown",
   "metadata": {},
   "source": [
    "## 1. Introduction"
   ]
  },
  {
   "cell_type": "markdown",
   "metadata": {},
   "source": [
    "### 1.1 Literature review of the compound (<500 words)"
   ]
  },
  {
   "cell_type": "markdown",
   "metadata": {},
   "source": [
    "**β-carotene** \n",
    "\n",
    "β-carotene belongs to the large group of caroterpernoids, also called tetraterpenoids. Caroterpernoids are organic red/orange pigments. They are found naturally in many fungi and plants as well as some algae and bacteria. β-carotene are well known for giving plants as carrots and pumkin their characteristic orange color. \n",
    "\n",
    "As Caroterpernoids are tetraterpenoids they are all produced from 8 isoprene molecules and have the chemical formula $C_{40}$$H_{x}$. Caroterpernoids devided in two classes xanthophylls and carotenes. Xanthophylls contains oxygen whereas carotenes is purely carbohydrates. β-carotene ($C_{40}$$H_{56}$) belongs in the carotene class as can be seen on the figure below. "
   ]
  },
  {
   "cell_type": "markdown",
   "metadata": {},
   "source": [
    "![Beta-carotine drawing](Figures/Beta-Carotin.png)"
   ]
  },
  {
   "cell_type": "markdown",
   "metadata": {},
   "source": [
    "β-carotene has a number of biological functions. It serves as an antioxidant as well as a precursor for vitamin A. As humans and other animals are not able to synthesis β-carotene, we are dependt on it through our diets. \n",
    "\n",
    "Due to β-carotene high bioactivity the compund has large interest for the pharmacuetical industry.\n",
    "\n",
    "\n",
    "\n",
    "\n",
    "https://academic.oup.com/fqs/article/2/2/69/4970186"
   ]
  },
  {
   "cell_type": "markdown",
   "metadata": {},
   "source": [
    "**Current production methods**\n",
    "- Extracted from plants.\n",
    "- Chemical synthesis \n",
    "- Biosynthesis"
   ]
  },
  {
   "cell_type": "markdown",
   "metadata": {},
   "source": [
    "### 1.2 Literature review of the cell factory (<500 words)\n",
    "For this project, Saccharomyces cerevisiae was chosen as the cell factory. \n",
    "\n",
    "S. cerevisiae is a yeast that has been used for thousands of years in varous productions like wine, brewing and making. It is one of the most intensively studied eukaryptic model organisms within molecular biology,\n",
    ">kilde - jeg tænker de må stå i brock\n",
    "\n",
    "and is widely used in the fermentation based industry. It is easy to genetically manipulate due to advanced molecular biology tools, is advanced in growth speed and is well established in industrial biotechnology, making it suitable as a cell factory. \n",
    ">Enhancing beta-carotene production in Saccharomyces cerevisiae by metabolic engineering)\n",
    "\n",
    "As it has been used and studied for many years, the genome of S. cerevisiae is a well-characterized eukaryotic genome, and is simple in identifying open reading frames. This is very relevant in the work with gene sequence model, as this makes predictions throuhg models more precise.  \n",
    ">Saccharomyces cerevisiae S288C genome annotation: a working hypothesis\n",
    "\n",
    "\n",
    "One imporant fact is that conventional S. cerevisiae can produce geranylgeranyl diphosphate, which is a precursor in the carotenoid biosynhtesis. Through genetic engineeering it has been provden possible to produe beta-carotenes in S. cerevisiae. Compared to other heterlogous beta-carotene production oganisms, it is considered safe which is important, as beta-carotenes can be used in food production etc., making it relevant as a cell factory in beta-carotene production. \n",
    ">Is this relevant? \n",
    ">(Enhancing beta-carotene production in Saccharomyces cerevisiae by metabolic engineering)\n",
    "\n",
    "\n",
    "On BIGG.com, two GSMs are availble for the strain S288C. \n"
   ]
  },
  {
   "cell_type": "markdown",
   "metadata": {},
   "source": [
    "## 2. Problem definition (<300 words)\n",
    "Beta-carotene is a carotenoid with numerous biological functions in the human body including beeing involved in the natural synthesis of provitamin A, among others nesessary for growth, vision and embryotic development. Beta-carotene is furthermore widely used in the industry as an additive in food, cosmetics and in the pharmacutical industry as a substance in medicine as it has shown anticancer as well as antioxidant properties. Despite the numerous functuons of beta-carotene, we are not able to synthensize it in the human body, pushing market demands for its synthetic production and effective production methods is thus of great interest. \n",
    "\n",
    "As of today beta caroten is produced through chemical synthesis......  \n",
    "\n",
    "valuable substance, forelagtigt\n",
    "ungå kemisk syntese --> sustainable production\n"
   ]
  },
  {
   "cell_type": "markdown",
   "metadata": {},
   "source": [
    "## 3. *If Project category II:* Selection and assessment of existing GSM (<500 words)"
   ]
  },
  {
   "cell_type": "markdown",
   "metadata": {},
   "source": [
    "Using the data base BiGG, two GSM models for S. cerevisias was identified. Both are from the same strain, strain S288C, however one, iMM904, contains 1226 metabolites, 1557 reaction and 905 genes while the other one, iND750, is a bit smaller with 1059 metabolites, 1266 reactions and 750 genes. Before begning on the engineering, memote will be used to detemine which model have the best score and choose that on to work with. "
   ]
  },
  {
   "cell_type": "code",
   "execution_count": 1,
   "metadata": {},
   "outputs": [],
   "source": [
    "import numpy as np\n",
    "from cobra.io import read_sbml_model\n",
    "from cobra import Reaction, Metabolite"
   ]
  },
  {
   "cell_type": "code",
   "execution_count": 4,
   "metadata": {},
   "outputs": [],
   "source": [
    "model_iMM904 = read_sbml_model('iMM904.xml')"
   ]
  },
  {
   "cell_type": "code",
   "execution_count": 6,
   "metadata": {
    "collapsed": true,
    "jupyter": {
     "outputs_hidden": true
    }
   },
   "outputs": [
    {
     "name": "stdout",
     "output_type": "stream",
     "text": [
      "\u001b[1m============================= test session starts ==============================\u001b[0m\n",
      "platform linux -- Python 3.6.12, pytest-6.0.2, py-1.9.0, pluggy-0.13.1\n",
      "rootdir: /usr/local/lib/python3.6/dist-packages/memote/suite/tests\n",
      "collected 145 items                                                            \u001b[0m\u001b[1m\n",
      "\n",
      "../../../../usr/local/lib/python3.6/dist-packages/memote/suite/tests/test_annotation.py \u001b[32m.\u001b[0m\u001b[32m [  0%]\n",
      "\u001b[0m\u001b[32m.\u001b[0m\u001b[32m.\u001b[0m\u001b[31mF\u001b[0m\u001b[31mF\u001b[0m\u001b[31mF\u001b[0m\u001b[31mF\u001b[0m\u001b[31mF\u001b[0m\u001b[31mF\u001b[0m\u001b[31mF\u001b[0m\u001b[31mF\u001b[0m\u001b[32m.\u001b[0m\u001b[32m.\u001b[0m\u001b[31mF\u001b[0m\u001b[31mF\u001b[0m\u001b[31mF\u001b[0m\u001b[31mF\u001b[0m\u001b[31mF\u001b[0m\u001b[32m.\u001b[0m\u001b[31mF\u001b[0m\u001b[31mF\u001b[0m\u001b[31mF\u001b[0m\u001b[31mF\u001b[0m\u001b[31mF\u001b[0m\u001b[31mF\u001b[0m\u001b[31mF\u001b[0m\u001b[31mF\u001b[0m\u001b[31mF\u001b[0m\u001b[31mF\u001b[0m\u001b[31mF\u001b[0m\u001b[31mF\u001b[0m\u001b[31mF\u001b[0m\u001b[31mF\u001b[0m\u001b[31mF\u001b[0m\u001b[32m.\u001b[0m\u001b[32m.\u001b[0m\u001b[31mF\u001b[0m\u001b[31mF\u001b[0m\u001b[32m.\u001b[0m\u001b[32m.\u001b[0m\u001b[31mF\u001b[0m\u001b[32m.\u001b[0m\u001b[32m.\u001b[0m\u001b[32m.\u001b[0m\u001b[31mF\u001b[0m\u001b[32m.\u001b[0m\u001b[32m.\u001b[0m\u001b[32m.\u001b[0m\u001b[32m.\u001b[0m\u001b[31mF\u001b[0m\u001b[31mF\u001b[0m\u001b[31mF\u001b[0m\u001b[32m.\u001b[0m\u001b[31mF\u001b[0m\u001b[31mF\u001b[0m\u001b[31mF\u001b[0m\u001b[31mF\u001b[0m\u001b[31mF\u001b[0m\u001b[32m.\u001b[0m\u001b[31mF\u001b[0m\u001b[31mF\u001b[0m\u001b[31mF\u001b[0m\u001b[31mF\u001b[0m\u001b[32m.\u001b[0m\u001b[32m.\u001b[0m\u001b[31m         [ 44%]\u001b[0m\n",
      "../../../../usr/local/lib/python3.6/dist-packages/memote/suite/tests/test_basic.py \u001b[32m.\u001b[0m\u001b[31m [ 45%]\n",
      "\u001b[0m\u001b[32m.\u001b[0m\u001b[32m.\u001b[0m\u001b[32m.\u001b[0m\u001b[32m.\u001b[0m\u001b[32m.\u001b[0m\u001b[31mF\u001b[0m\u001b[31mF\u001b[0m\u001b[32m.\u001b[0m\u001b[32m.\u001b[0m\u001b[32m.\u001b[0m\u001b[32m.\u001b[0m\u001b[32m.\u001b[0m\u001b[32m.\u001b[0m\u001b[32m.\u001b[0m\u001b[31mF\u001b[0m\u001b[32m.\u001b[0m\u001b[32m.\u001b[0m\u001b[32m.\u001b[0m\u001b[31mF\u001b[0m\u001b[32m.\u001b[0m\u001b[31mF\u001b[0m\u001b[31mF\u001b[0m\u001b[31m                                                   [ 60%]\u001b[0m\n",
      "../../../../usr/local/lib/python3.6/dist-packages/memote/suite/tests/test_biomass.py \u001b[32m.\u001b[0m\u001b[31m [ 61%]\n",
      "\u001b[0m\u001b[31mF\u001b[0m\u001b[32m.\u001b[0m\u001b[32m.\u001b[0m\u001b[32m.\u001b[0m\u001b[32m.\u001b[0m\u001b[31mF\u001b[0m\u001b[31mF\u001b[0m\u001b[32m.\u001b[0m\u001b[31mF\u001b[0m\u001b[31m                                                                [ 67%]\u001b[0m\n",
      "../../../../usr/local/lib/python3.6/dist-packages/memote/suite/tests/test_consistency.py \u001b[32m.\u001b[0m\u001b[31m [ 68%]\n",
      "\u001b[0m\u001b[33ms\u001b[0m\u001b[33ms\u001b[0m\u001b[33ms\u001b[0m\u001b[33ms\u001b[0m\u001b[33ms\u001b[0m\u001b[33ms\u001b[0m\u001b[33ms\u001b[0m\u001b[33ms\u001b[0m\u001b[33ms\u001b[0m\u001b[33ms\u001b[0m\u001b[33ms\u001b[0m\u001b[33ms\u001b[0m\u001b[33ms\u001b[0m\u001b[33ms\u001b[0m\u001b[33ms\u001b[0m\u001b[33ms\u001b[0m\u001b[31mF\u001b[0m\u001b[31mF\u001b[0m\u001b[31mF\u001b[0m\u001b[31mF\u001b[0m\u001b[31mF\u001b[0m\u001b[31mF\u001b[0m\u001b[32m.\u001b[0m\u001b[31mF\u001b[0m\u001b[31mF\u001b[0m\u001b[31mF\u001b[0m\u001b[31m                                               [ 86%]\u001b[0m\n",
      "../../../../usr/local/lib/python3.6/dist-packages/memote/suite/tests/test_essentiality.py \u001b[33ms\u001b[0m\u001b[31m [ 86%]\n",
      "\u001b[0m\u001b[31m                                                                         [ 86%]\u001b[0m\n",
      "../../../../usr/local/lib/python3.6/dist-packages/memote/suite/tests/test_growth.py \u001b[33ms\u001b[0m\u001b[31m [ 87%]\n",
      "\u001b[0m\u001b[31m                                                                         [ 87%]\u001b[0m\n",
      "../../../../usr/local/lib/python3.6/dist-packages/memote/suite/tests/test_matrix.py \u001b[32m.\u001b[0m\u001b[31m [ 88%]\n",
      "\u001b[0m\u001b[32m.\u001b[0m\u001b[32m.\u001b[0m\u001b[32m.\u001b[0m\u001b[31m                                                                      [ 90%]\u001b[0m\n",
      "../../../../usr/local/lib/python3.6/dist-packages/memote/suite/tests/test_sbml.py \u001b[32m.\u001b[0m\u001b[31m [ 91%]\n",
      "\u001b[0m\u001b[32m.\u001b[0m\u001b[31m                                                                        [ 91%]\u001b[0m\n",
      "../../../../usr/local/lib/python3.6/dist-packages/memote/suite/tests/test_sbo.py \u001b[31mF\u001b[0m\u001b[31m [ 92%]\n",
      "\u001b[0m\u001b[31mF\u001b[0m\u001b[31mF\u001b[0m\u001b[31mF\u001b[0m\u001b[31mF\u001b[0m\u001b[31mF\u001b[0m\u001b[31mF\u001b[0m\u001b[31mF\u001b[0m\u001b[33ms\u001b[0m\u001b[33ms\u001b[0m\u001b[32m.\u001b[0m\u001b[31m                                                               [ 99%]\u001b[0m\n",
      "../../../../usr/local/lib/python3.6/dist-packages/memote/suite/tests/test_thermodynamics.py \u001b[32m.\u001b[0m\u001b[31m [100%]\u001b[0m\n",
      "\n",
      "\u001b[33m=============================== warnings summary ===============================\u001b[0m\n",
      "/usr/local/lib/python3.6/dist-packages/_pytest/stepwise.py:122\n",
      "  /usr/local/lib/python3.6/dist-packages/_pytest/stepwise.py:122 \u001b[1;31mPytestCacheWarning\u001b[0m: could not create cache path /usr/local/lib/python3.6/dist-packages/memote/suite/tests/.pytest_cache/v/cache/stepwise\n",
      "\n",
      "/usr/local/lib/python3.6/dist-packages/_pytest/cacheprovider.py:396\n",
      "  /usr/local/lib/python3.6/dist-packages/_pytest/cacheprovider.py:396 \u001b[1;31mPytestCacheWarning\u001b[0m: could not create cache path /usr/local/lib/python3.6/dist-packages/memote/suite/tests/.pytest_cache/v/cache/nodeids\n",
      "\n",
      "/usr/local/lib/python3.6/dist-packages/_pytest/cacheprovider.py:350\n",
      "  /usr/local/lib/python3.6/dist-packages/_pytest/cacheprovider.py:350 \u001b[1;31mPytestCacheWarning\u001b[0m: could not create cache path /usr/local/lib/python3.6/dist-packages/memote/suite/tests/.pytest_cache/v/cache/lastfailed\n",
      "\n",
      "-- Docs: https://docs.pytest.org/en/stable/warnings.html\n",
      "=========================== short test summary info ============================\n",
      "FAILED ../../../../usr/local/lib/python3.6/dist-packages/memote/suite/tests/test_annotation.py::test_metabolite_annotation_overview[pubchem.compound]\n",
      "FAILED ../../../../usr/local/lib/python3.6/dist-packages/memote/suite/tests/test_annotation.py::test_metabolite_annotation_overview[kegg.compound]\n",
      "FAILED ../../../../usr/local/lib/python3.6/dist-packages/memote/suite/tests/test_annotation.py::test_metabolite_annotation_overview[seed.compound]\n",
      "FAILED ../../../../usr/local/lib/python3.6/dist-packages/memote/suite/tests/test_annotation.py::test_metabolite_annotation_overview[inchikey]\n",
      "FAILED ../../../../usr/local/lib/python3.6/dist-packages/memote/suite/tests/test_annotation.py::test_metabolite_annotation_overview[inchi]\n",
      "FAILED ../../../../usr/local/lib/python3.6/dist-packages/memote/suite/tests/test_annotation.py::test_metabolite_annotation_overview[chebi]\n",
      "FAILED ../../../../usr/local/lib/python3.6/dist-packages/memote/suite/tests/test_annotation.py::test_metabolite_annotation_overview[hmdb]\n",
      "FAILED ../../../../usr/local/lib/python3.6/dist-packages/memote/suite/tests/test_annotation.py::test_metabolite_annotation_overview[reactome]\n",
      "FAILED ../../../../usr/local/lib/python3.6/dist-packages/memote/suite/tests/test_annotation.py::test_metabolite_annotation_overview[biocyc]\n",
      "FAILED ../../../../usr/local/lib/python3.6/dist-packages/memote/suite/tests/test_annotation.py::test_reaction_annotation_overview[rhea]\n",
      "FAILED ../../../../usr/local/lib/python3.6/dist-packages/memote/suite/tests/test_annotation.py::test_reaction_annotation_overview[kegg.reaction]\n",
      "FAILED ../../../../usr/local/lib/python3.6/dist-packages/memote/suite/tests/test_annotation.py::test_reaction_annotation_overview[seed.reaction]\n",
      "FAILED ../../../../usr/local/lib/python3.6/dist-packages/memote/suite/tests/test_annotation.py::test_reaction_annotation_overview[metanetx.reaction]\n",
      "FAILED ../../../../usr/local/lib/python3.6/dist-packages/memote/suite/tests/test_annotation.py::test_reaction_annotation_overview[reactome]\n",
      "FAILED ../../../../usr/local/lib/python3.6/dist-packages/memote/suite/tests/test_annotation.py::test_reaction_annotation_overview[ec-code]\n",
      "FAILED ../../../../usr/local/lib/python3.6/dist-packages/memote/suite/tests/test_annotation.py::test_reaction_annotation_overview[brenda]\n",
      "FAILED ../../../../usr/local/lib/python3.6/dist-packages/memote/suite/tests/test_annotation.py::test_reaction_annotation_overview[biocyc]\n",
      "FAILED ../../../../usr/local/lib/python3.6/dist-packages/memote/suite/tests/test_annotation.py::test_gene_product_annotation_overview[refseq]\n",
      "FAILED ../../../../usr/local/lib/python3.6/dist-packages/memote/suite/tests/test_annotation.py::test_gene_product_annotation_overview[uniprot]\n",
      "FAILED ../../../../usr/local/lib/python3.6/dist-packages/memote/suite/tests/test_annotation.py::test_gene_product_annotation_overview[ecogene]\n",
      "FAILED ../../../../usr/local/lib/python3.6/dist-packages/memote/suite/tests/test_annotation.py::test_gene_product_annotation_overview[kegg.genes]\n",
      "FAILED ../../../../usr/local/lib/python3.6/dist-packages/memote/suite/tests/test_annotation.py::test_gene_product_annotation_overview[ncbigi]\n",
      "FAILED ../../../../usr/local/lib/python3.6/dist-packages/memote/suite/tests/test_annotation.py::test_gene_product_annotation_overview[ncbigene]\n",
      "FAILED ../../../../usr/local/lib/python3.6/dist-packages/memote/suite/tests/test_annotation.py::test_gene_product_annotation_overview[ncbiprotein]\n",
      "FAILED ../../../../usr/local/lib/python3.6/dist-packages/memote/suite/tests/test_annotation.py::test_gene_product_annotation_overview[ccds]\n",
      "FAILED ../../../../usr/local/lib/python3.6/dist-packages/memote/suite/tests/test_annotation.py::test_gene_product_annotation_overview[hprd]\n",
      "FAILED ../../../../usr/local/lib/python3.6/dist-packages/memote/suite/tests/test_annotation.py::test_gene_product_annotation_overview[asap]\n",
      "FAILED ../../../../usr/local/lib/python3.6/dist-packages/memote/suite/tests/test_annotation.py::test_metabolite_annotation_wrong_ids[pubchem.compound]\n",
      "FAILED ../../../../usr/local/lib/python3.6/dist-packages/memote/suite/tests/test_annotation.py::test_metabolite_annotation_wrong_ids[inchikey]\n",
      "FAILED ../../../../usr/local/lib/python3.6/dist-packages/memote/suite/tests/test_annotation.py::test_metabolite_annotation_wrong_ids[inchi]\n",
      "FAILED ../../../../usr/local/lib/python3.6/dist-packages/memote/suite/tests/test_annotation.py::test_metabolite_annotation_wrong_ids[reactome]\n",
      "FAILED ../../../../usr/local/lib/python3.6/dist-packages/memote/suite/tests/test_annotation.py::test_reaction_annotation_wrong_ids[rhea]\n",
      "FAILED ../../../../usr/local/lib/python3.6/dist-packages/memote/suite/tests/test_annotation.py::test_reaction_annotation_wrong_ids[reactome]\n",
      "FAILED ../../../../usr/local/lib/python3.6/dist-packages/memote/suite/tests/test_annotation.py::test_reaction_annotation_wrong_ids[ec-code]\n",
      "FAILED ../../../../usr/local/lib/python3.6/dist-packages/memote/suite/tests/test_annotation.py::test_reaction_annotation_wrong_ids[brenda]\n",
      "FAILED ../../../../usr/local/lib/python3.6/dist-packages/memote/suite/tests/test_annotation.py::test_gene_product_annotation_wrong_ids[refseq]\n",
      "FAILED ../../../../usr/local/lib/python3.6/dist-packages/memote/suite/tests/test_annotation.py::test_gene_product_annotation_wrong_ids[uniprot]\n",
      "FAILED ../../../../usr/local/lib/python3.6/dist-packages/memote/suite/tests/test_annotation.py::test_gene_product_annotation_wrong_ids[ecogene]\n",
      "FAILED ../../../../usr/local/lib/python3.6/dist-packages/memote/suite/tests/test_annotation.py::test_gene_product_annotation_wrong_ids[kegg.genes]\n",
      "FAILED ../../../../usr/local/lib/python3.6/dist-packages/memote/suite/tests/test_annotation.py::test_gene_product_annotation_wrong_ids[ncbigi]\n",
      "FAILED ../../../../usr/local/lib/python3.6/dist-packages/memote/suite/tests/test_annotation.py::test_gene_product_annotation_wrong_ids[ncbiprotein]\n",
      "FAILED ../../../../usr/local/lib/python3.6/dist-packages/memote/suite/tests/test_annotation.py::test_gene_product_annotation_wrong_ids[ccds]\n",
      "FAILED ../../../../usr/local/lib/python3.6/dist-packages/memote/suite/tests/test_annotation.py::test_gene_product_annotation_wrong_ids[hprd]\n",
      "FAILED ../../../../usr/local/lib/python3.6/dist-packages/memote/suite/tests/test_annotation.py::test_gene_product_annotation_wrong_ids[asap]\n",
      "FAILED ../../../../usr/local/lib/python3.6/dist-packages/memote/suite/tests/test_basic.py::test_gene_protein_reaction_rule_presence\n",
      "FAILED ../../../../usr/local/lib/python3.6/dist-packages/memote/suite/tests/test_basic.py::test_ngam_presence\n",
      "FAILED ../../../../usr/local/lib/python3.6/dist-packages/memote/suite/tests/test_basic.py::test_transport_reaction_gpr_presence\n",
      "FAILED ../../../../usr/local/lib/python3.6/dist-packages/memote/suite/tests/test_basic.py::test_find_reactions_with_partially_identical_annotations\n",
      "FAILED ../../../../usr/local/lib/python3.6/dist-packages/memote/suite/tests/test_basic.py::test_find_reactions_with_identical_genes\n",
      "FAILED ../../../../usr/local/lib/python3.6/dist-packages/memote/suite/tests/test_basic.py::test_find_medium_metabolites\n",
      "FAILED ../../../../usr/local/lib/python3.6/dist-packages/memote/suite/tests/test_biomass.py::test_biomass_consistency[BIOMASS_SC5_notrace]\n",
      "FAILED ../../../../usr/local/lib/python3.6/dist-packages/memote/suite/tests/test_biomass.py::test_gam_in_biomass[BIOMASS_SC5_notrace]\n",
      "FAILED ../../../../usr/local/lib/python3.6/dist-packages/memote/suite/tests/test_biomass.py::test_fast_growth_default[BIOMASS_SC5_notrace]\n",
      "FAILED ../../../../usr/local/lib/python3.6/dist-packages/memote/suite/tests/test_biomass.py::test_essential_precursors_not_in_biomass[BIOMASS_SC5_notrace]\n",
      "FAILED ../../../../usr/local/lib/python3.6/dist-packages/memote/suite/tests/test_consistency.py::test_reaction_charge_balance\n",
      "FAILED ../../../../usr/local/lib/python3.6/dist-packages/memote/suite/tests/test_consistency.py::test_reaction_mass_balance\n",
      "FAILED ../../../../usr/local/lib/python3.6/dist-packages/memote/suite/tests/test_consistency.py::test_blocked_reactions\n",
      "FAILED ../../../../usr/local/lib/python3.6/dist-packages/memote/suite/tests/test_consistency.py::test_find_stoichiometrically_balanced_cycles\n",
      "FAILED ../../../../usr/local/lib/python3.6/dist-packages/memote/suite/tests/test_consistency.py::test_find_orphans\n",
      "FAILED ../../../../usr/local/lib/python3.6/dist-packages/memote/suite/tests/test_consistency.py::test_find_deadends\n",
      "FAILED ../../../../usr/local/lib/python3.6/dist-packages/memote/suite/tests/test_consistency.py::test_find_metabolites_not_produced_with_open_bounds\n",
      "FAILED ../../../../usr/local/lib/python3.6/dist-packages/memote/suite/tests/test_consistency.py::test_find_metabolites_not_consumed_with_open_bounds\n",
      "FAILED ../../../../usr/local/lib/python3.6/dist-packages/memote/suite/tests/test_consistency.py::test_find_reactions_unbounded_flux_default_condition\n",
      "FAILED ../../../../usr/local/lib/python3.6/dist-packages/memote/suite/tests/test_sbo.py::test_metabolite_sbo_presence\n",
      "FAILED ../../../../usr/local/lib/python3.6/dist-packages/memote/suite/tests/test_sbo.py::test_reaction_sbo_presence\n",
      "FAILED ../../../../usr/local/lib/python3.6/dist-packages/memote/suite/tests/test_sbo.py::test_gene_sbo_presence\n",
      "FAILED ../../../../usr/local/lib/python3.6/dist-packages/memote/suite/tests/test_sbo.py::test_metabolic_reaction_specific_sbo_presence\n",
      "FAILED ../../../../usr/local/lib/python3.6/dist-packages/memote/suite/tests/test_sbo.py::test_transport_reaction_specific_sbo_presence\n",
      "FAILED ../../../../usr/local/lib/python3.6/dist-packages/memote/suite/tests/test_sbo.py::test_metabolite_specific_sbo_presence\n",
      "FAILED ../../../../usr/local/lib/python3.6/dist-packages/memote/suite/tests/test_sbo.py::test_gene_specific_sbo_presence\n",
      "FAILED ../../../../usr/local/lib/python3.6/dist-packages/memote/suite/tests/test_sbo.py::test_exchange_specific_sbo_presence\n",
      "\u001b[31m======= \u001b[31m\u001b[1m71 failed\u001b[0m, \u001b[32m54 passed\u001b[0m, \u001b[33m20 skipped\u001b[0m, \u001b[33m3 warnings\u001b[0m\u001b[31m in 68.03s (0:01:08)\u001b[0m\u001b[31m =======\u001b[0m\n",
      "Writing snapshot report to 'iMM904.html'.\n",
      "CPU times: user 1.38 s, sys: 292 ms, total: 1.67 s\n",
      "Wall time: 1min 20s\n"
     ]
    }
   ],
   "source": [
    "%%time\n",
    "!memote report snapshot iMM904.xml --filename iMM904.html"
   ]
  },
  {
   "cell_type": "markdown",
   "metadata": {},
   "source": [
    "The overall score is 85%.\n",
    "The consistenty test gav a good result with a sub score of 96%. Here the score of stoichiometric inconsistency of 100% and the mass balance gave a score of 96%. \n",
    "For the annotation tests, the score was generlly high (above 80%) except for the genes, which only score 43%"
   ]
  },
  {
   "cell_type": "code",
   "execution_count": 2,
   "metadata": {},
   "outputs": [],
   "source": [
    "model_iND750 = read_sbml_model('iND750.xml')"
   ]
  },
  {
   "cell_type": "code",
   "execution_count": 3,
   "metadata": {
    "collapsed": true,
    "jupyter": {
     "outputs_hidden": true
    }
   },
   "outputs": [
    {
     "name": "stdout",
     "output_type": "stream",
     "text": [
      "\u001b[1m============================= test session starts ==============================\u001b[0m\n",
      "platform linux -- Python 3.6.12, pytest-6.0.2, py-1.9.0, pluggy-0.13.1\n",
      "rootdir: /usr/local/lib/python3.6/dist-packages/memote/suite/tests\n",
      "collected 145 items                                                            \u001b[0m\u001b[1m\n",
      "\n",
      "../../../../usr/local/lib/python3.6/dist-packages/memote/suite/tests/test_annotation.py \u001b[32m.\u001b[0m\u001b[32m [  0%]\n",
      "\u001b[0m\u001b[32m.\u001b[0m\u001b[32m.\u001b[0m\u001b[31mF\u001b[0m\u001b[31mF\u001b[0m\u001b[31mF\u001b[0m\u001b[31mF\u001b[0m\u001b[31mF\u001b[0m\u001b[31mF\u001b[0m\u001b[31mF\u001b[0m\u001b[31mF\u001b[0m\u001b[32m.\u001b[0m\u001b[32m.\u001b[0m\u001b[31mF\u001b[0m\u001b[31mF\u001b[0m\u001b[31mF\u001b[0m\u001b[31mF\u001b[0m\u001b[32m.\u001b[0m\u001b[32m.\u001b[0m\u001b[31mF\u001b[0m\u001b[31mF\u001b[0m\u001b[31mF\u001b[0m\u001b[31mF\u001b[0m\u001b[31mF\u001b[0m\u001b[31mF\u001b[0m\u001b[31mF\u001b[0m\u001b[31mF\u001b[0m\u001b[31mF\u001b[0m\u001b[31mF\u001b[0m\u001b[31mF\u001b[0m\u001b[31mF\u001b[0m\u001b[31mF\u001b[0m\u001b[31mF\u001b[0m\u001b[31mF\u001b[0m\u001b[32m.\u001b[0m\u001b[32m.\u001b[0m\u001b[31mF\u001b[0m\u001b[31mF\u001b[0m\u001b[32m.\u001b[0m\u001b[32m.\u001b[0m\u001b[31mF\u001b[0m\u001b[32m.\u001b[0m\u001b[32m.\u001b[0m\u001b[32m.\u001b[0m\u001b[32m.\u001b[0m\u001b[32m.\u001b[0m\u001b[32m.\u001b[0m\u001b[32m.\u001b[0m\u001b[32m.\u001b[0m\u001b[31mF\u001b[0m\u001b[31mF\u001b[0m\u001b[31mF\u001b[0m\u001b[32m.\u001b[0m\u001b[31mF\u001b[0m\u001b[31mF\u001b[0m\u001b[31mF\u001b[0m\u001b[31mF\u001b[0m\u001b[31mF\u001b[0m\u001b[32m.\u001b[0m\u001b[31mF\u001b[0m\u001b[31mF\u001b[0m\u001b[31mF\u001b[0m\u001b[31mF\u001b[0m\u001b[32m.\u001b[0m\u001b[32m.\u001b[0m\u001b[31m         [ 44%]\u001b[0m\n",
      "../../../../usr/local/lib/python3.6/dist-packages/memote/suite/tests/test_basic.py \u001b[32m.\u001b[0m\u001b[31m [ 45%]\n",
      "\u001b[0m\u001b[32m.\u001b[0m\u001b[32m.\u001b[0m\u001b[32m.\u001b[0m\u001b[32m.\u001b[0m\u001b[32m.\u001b[0m\u001b[31mF\u001b[0m\u001b[31mF\u001b[0m\u001b[32m.\u001b[0m\u001b[32m.\u001b[0m\u001b[32m.\u001b[0m\u001b[32m.\u001b[0m\u001b[32m.\u001b[0m\u001b[32m.\u001b[0m\u001b[32m.\u001b[0m\u001b[31mF\u001b[0m\u001b[32m.\u001b[0m\u001b[32m.\u001b[0m\u001b[32m.\u001b[0m\u001b[31mF\u001b[0m\u001b[32m.\u001b[0m\u001b[31mF\u001b[0m\u001b[31mF\u001b[0m\u001b[31m                                                   [ 60%]\u001b[0m\n",
      "../../../../usr/local/lib/python3.6/dist-packages/memote/suite/tests/test_biomass.py \u001b[32m.\u001b[0m\u001b[31m [ 61%]\n",
      "\u001b[0m\u001b[31mF\u001b[0m\u001b[32m.\u001b[0m\u001b[32m.\u001b[0m\u001b[32m.\u001b[0m\u001b[32m.\u001b[0m\u001b[31mF\u001b[0m\u001b[31mF\u001b[0m\u001b[32m.\u001b[0m\u001b[31mF\u001b[0m\u001b[31m                                                                [ 67%]\u001b[0m\n",
      "../../../../usr/local/lib/python3.6/dist-packages/memote/suite/tests/test_consistency.py \u001b[32m.\u001b[0m\u001b[31m [ 68%]\n",
      "\u001b[0m\u001b[33ms\u001b[0m\u001b[33ms\u001b[0m\u001b[33ms\u001b[0m\u001b[33ms\u001b[0m\u001b[33ms\u001b[0m\u001b[33ms\u001b[0m\u001b[33ms\u001b[0m\u001b[33ms\u001b[0m\u001b[33ms\u001b[0m\u001b[33ms\u001b[0m\u001b[33ms\u001b[0m\u001b[33ms\u001b[0m\u001b[33ms\u001b[0m\u001b[33ms\u001b[0m\u001b[33ms\u001b[0m\u001b[33ms\u001b[0m\u001b[32m.\u001b[0m\u001b[31mF\u001b[0m\u001b[31mF\u001b[0m\u001b[31mF\u001b[0m\u001b[31mF\u001b[0m\u001b[31mF\u001b[0m\u001b[32m.\u001b[0m\u001b[31mF\u001b[0m\u001b[31mF\u001b[0m\u001b[31mF\u001b[0m\u001b[31m                                               [ 86%]\u001b[0m\n",
      "../../../../usr/local/lib/python3.6/dist-packages/memote/suite/tests/test_essentiality.py \u001b[33ms\u001b[0m\u001b[31m [ 86%]\n",
      "\u001b[0m\u001b[31m                                                                         [ 86%]\u001b[0m\n",
      "../../../../usr/local/lib/python3.6/dist-packages/memote/suite/tests/test_growth.py \u001b[33ms\u001b[0m\u001b[31m [ 87%]\n",
      "\u001b[0m\u001b[31m                                                                         [ 87%]\u001b[0m\n",
      "../../../../usr/local/lib/python3.6/dist-packages/memote/suite/tests/test_matrix.py \u001b[32m.\u001b[0m\u001b[31m [ 88%]\n",
      "\u001b[0m\u001b[32m.\u001b[0m\u001b[32m.\u001b[0m\u001b[32m.\u001b[0m\u001b[31m                                                                      [ 90%]\u001b[0m\n",
      "../../../../usr/local/lib/python3.6/dist-packages/memote/suite/tests/test_sbml.py \u001b[32m.\u001b[0m\u001b[31m [ 91%]\n",
      "\u001b[0m\u001b[32m.\u001b[0m\u001b[31m                                                                        [ 91%]\u001b[0m\n",
      "../../../../usr/local/lib/python3.6/dist-packages/memote/suite/tests/test_sbo.py \u001b[31mF\u001b[0m\u001b[31m [ 92%]\n",
      "\u001b[0m\u001b[31mF\u001b[0m\u001b[31mF\u001b[0m\u001b[31mF\u001b[0m\u001b[31mF\u001b[0m\u001b[31mF\u001b[0m\u001b[31mF\u001b[0m\u001b[31mF\u001b[0m\u001b[33ms\u001b[0m\u001b[33ms\u001b[0m\u001b[32m.\u001b[0m\u001b[31m                                                               [ 99%]\u001b[0m\n",
      "../../../../usr/local/lib/python3.6/dist-packages/memote/suite/tests/test_thermodynamics.py \u001b[32m.\u001b[0m\u001b[31m [100%]\u001b[0m\n",
      "\n",
      "\u001b[33m=============================== warnings summary ===============================\u001b[0m\n",
      "/usr/local/lib/python3.6/dist-packages/_pytest/stepwise.py:122\n",
      "  /usr/local/lib/python3.6/dist-packages/_pytest/stepwise.py:122 \u001b[1;31mPytestCacheWarning\u001b[0m: could not create cache path /usr/local/lib/python3.6/dist-packages/memote/suite/tests/.pytest_cache/v/cache/stepwise\n",
      "\n",
      "/usr/local/lib/python3.6/dist-packages/_pytest/cacheprovider.py:396\n",
      "  /usr/local/lib/python3.6/dist-packages/_pytest/cacheprovider.py:396 \u001b[1;31mPytestCacheWarning\u001b[0m: could not create cache path /usr/local/lib/python3.6/dist-packages/memote/suite/tests/.pytest_cache/v/cache/nodeids\n",
      "\n",
      "/usr/local/lib/python3.6/dist-packages/_pytest/cacheprovider.py:350\n",
      "  /usr/local/lib/python3.6/dist-packages/_pytest/cacheprovider.py:350 \u001b[1;31mPytestCacheWarning\u001b[0m: could not create cache path /usr/local/lib/python3.6/dist-packages/memote/suite/tests/.pytest_cache/v/cache/lastfailed\n",
      "\n",
      "-- Docs: https://docs.pytest.org/en/stable/warnings.html\n",
      "=========================== short test summary info ============================\n",
      "FAILED ../../../../usr/local/lib/python3.6/dist-packages/memote/suite/tests/test_annotation.py::test_metabolite_annotation_overview[pubchem.compound]\n",
      "FAILED ../../../../usr/local/lib/python3.6/dist-packages/memote/suite/tests/test_annotation.py::test_metabolite_annotation_overview[kegg.compound]\n",
      "FAILED ../../../../usr/local/lib/python3.6/dist-packages/memote/suite/tests/test_annotation.py::test_metabolite_annotation_overview[seed.compound]\n",
      "FAILED ../../../../usr/local/lib/python3.6/dist-packages/memote/suite/tests/test_annotation.py::test_metabolite_annotation_overview[inchikey]\n",
      "FAILED ../../../../usr/local/lib/python3.6/dist-packages/memote/suite/tests/test_annotation.py::test_metabolite_annotation_overview[inchi]\n",
      "FAILED ../../../../usr/local/lib/python3.6/dist-packages/memote/suite/tests/test_annotation.py::test_metabolite_annotation_overview[chebi]\n",
      "FAILED ../../../../usr/local/lib/python3.6/dist-packages/memote/suite/tests/test_annotation.py::test_metabolite_annotation_overview[hmdb]\n",
      "FAILED ../../../../usr/local/lib/python3.6/dist-packages/memote/suite/tests/test_annotation.py::test_metabolite_annotation_overview[reactome]\n",
      "FAILED ../../../../usr/local/lib/python3.6/dist-packages/memote/suite/tests/test_annotation.py::test_metabolite_annotation_overview[biocyc]\n",
      "FAILED ../../../../usr/local/lib/python3.6/dist-packages/memote/suite/tests/test_annotation.py::test_reaction_annotation_overview[rhea]\n",
      "FAILED ../../../../usr/local/lib/python3.6/dist-packages/memote/suite/tests/test_annotation.py::test_reaction_annotation_overview[kegg.reaction]\n",
      "FAILED ../../../../usr/local/lib/python3.6/dist-packages/memote/suite/tests/test_annotation.py::test_reaction_annotation_overview[seed.reaction]\n",
      "FAILED ../../../../usr/local/lib/python3.6/dist-packages/memote/suite/tests/test_annotation.py::test_reaction_annotation_overview[reactome]\n",
      "FAILED ../../../../usr/local/lib/python3.6/dist-packages/memote/suite/tests/test_annotation.py::test_reaction_annotation_overview[ec-code]\n",
      "FAILED ../../../../usr/local/lib/python3.6/dist-packages/memote/suite/tests/test_annotation.py::test_reaction_annotation_overview[brenda]\n",
      "FAILED ../../../../usr/local/lib/python3.6/dist-packages/memote/suite/tests/test_annotation.py::test_reaction_annotation_overview[biocyc]\n",
      "FAILED ../../../../usr/local/lib/python3.6/dist-packages/memote/suite/tests/test_annotation.py::test_gene_product_annotation_overview[refseq]\n",
      "FAILED ../../../../usr/local/lib/python3.6/dist-packages/memote/suite/tests/test_annotation.py::test_gene_product_annotation_overview[uniprot]\n",
      "FAILED ../../../../usr/local/lib/python3.6/dist-packages/memote/suite/tests/test_annotation.py::test_gene_product_annotation_overview[ecogene]\n",
      "FAILED ../../../../usr/local/lib/python3.6/dist-packages/memote/suite/tests/test_annotation.py::test_gene_product_annotation_overview[kegg.genes]\n",
      "FAILED ../../../../usr/local/lib/python3.6/dist-packages/memote/suite/tests/test_annotation.py::test_gene_product_annotation_overview[ncbigi]\n",
      "FAILED ../../../../usr/local/lib/python3.6/dist-packages/memote/suite/tests/test_annotation.py::test_gene_product_annotation_overview[ncbigene]\n",
      "FAILED ../../../../usr/local/lib/python3.6/dist-packages/memote/suite/tests/test_annotation.py::test_gene_product_annotation_overview[ncbiprotein]\n",
      "FAILED ../../../../usr/local/lib/python3.6/dist-packages/memote/suite/tests/test_annotation.py::test_gene_product_annotation_overview[ccds]\n",
      "FAILED ../../../../usr/local/lib/python3.6/dist-packages/memote/suite/tests/test_annotation.py::test_gene_product_annotation_overview[hprd]\n",
      "FAILED ../../../../usr/local/lib/python3.6/dist-packages/memote/suite/tests/test_annotation.py::test_gene_product_annotation_overview[asap]\n",
      "FAILED ../../../../usr/local/lib/python3.6/dist-packages/memote/suite/tests/test_annotation.py::test_metabolite_annotation_wrong_ids[pubchem.compound]\n",
      "FAILED ../../../../usr/local/lib/python3.6/dist-packages/memote/suite/tests/test_annotation.py::test_metabolite_annotation_wrong_ids[inchikey]\n",
      "FAILED ../../../../usr/local/lib/python3.6/dist-packages/memote/suite/tests/test_annotation.py::test_metabolite_annotation_wrong_ids[inchi]\n",
      "FAILED ../../../../usr/local/lib/python3.6/dist-packages/memote/suite/tests/test_annotation.py::test_metabolite_annotation_wrong_ids[reactome]\n",
      "FAILED ../../../../usr/local/lib/python3.6/dist-packages/memote/suite/tests/test_annotation.py::test_reaction_annotation_wrong_ids[reactome]\n",
      "FAILED ../../../../usr/local/lib/python3.6/dist-packages/memote/suite/tests/test_annotation.py::test_reaction_annotation_wrong_ids[ec-code]\n",
      "FAILED ../../../../usr/local/lib/python3.6/dist-packages/memote/suite/tests/test_annotation.py::test_reaction_annotation_wrong_ids[brenda]\n",
      "FAILED ../../../../usr/local/lib/python3.6/dist-packages/memote/suite/tests/test_annotation.py::test_gene_product_annotation_wrong_ids[refseq]\n",
      "FAILED ../../../../usr/local/lib/python3.6/dist-packages/memote/suite/tests/test_annotation.py::test_gene_product_annotation_wrong_ids[uniprot]\n",
      "FAILED ../../../../usr/local/lib/python3.6/dist-packages/memote/suite/tests/test_annotation.py::test_gene_product_annotation_wrong_ids[ecogene]\n",
      "FAILED ../../../../usr/local/lib/python3.6/dist-packages/memote/suite/tests/test_annotation.py::test_gene_product_annotation_wrong_ids[kegg.genes]\n",
      "FAILED ../../../../usr/local/lib/python3.6/dist-packages/memote/suite/tests/test_annotation.py::test_gene_product_annotation_wrong_ids[ncbigi]\n",
      "FAILED ../../../../usr/local/lib/python3.6/dist-packages/memote/suite/tests/test_annotation.py::test_gene_product_annotation_wrong_ids[ncbiprotein]\n",
      "FAILED ../../../../usr/local/lib/python3.6/dist-packages/memote/suite/tests/test_annotation.py::test_gene_product_annotation_wrong_ids[ccds]\n",
      "FAILED ../../../../usr/local/lib/python3.6/dist-packages/memote/suite/tests/test_annotation.py::test_gene_product_annotation_wrong_ids[hprd]\n",
      "FAILED ../../../../usr/local/lib/python3.6/dist-packages/memote/suite/tests/test_annotation.py::test_gene_product_annotation_wrong_ids[asap]\n",
      "FAILED ../../../../usr/local/lib/python3.6/dist-packages/memote/suite/tests/test_basic.py::test_gene_protein_reaction_rule_presence\n",
      "FAILED ../../../../usr/local/lib/python3.6/dist-packages/memote/suite/tests/test_basic.py::test_ngam_presence\n",
      "FAILED ../../../../usr/local/lib/python3.6/dist-packages/memote/suite/tests/test_basic.py::test_transport_reaction_gpr_presence\n",
      "FAILED ../../../../usr/local/lib/python3.6/dist-packages/memote/suite/tests/test_basic.py::test_find_reactions_with_partially_identical_annotations\n",
      "FAILED ../../../../usr/local/lib/python3.6/dist-packages/memote/suite/tests/test_basic.py::test_find_reactions_with_identical_genes\n",
      "FAILED ../../../../usr/local/lib/python3.6/dist-packages/memote/suite/tests/test_basic.py::test_find_medium_metabolites\n",
      "FAILED ../../../../usr/local/lib/python3.6/dist-packages/memote/suite/tests/test_biomass.py::test_biomass_consistency[BIOMASS_SC4_bal]\n",
      "FAILED ../../../../usr/local/lib/python3.6/dist-packages/memote/suite/tests/test_biomass.py::test_gam_in_biomass[BIOMASS_SC4_bal]\n",
      "FAILED ../../../../usr/local/lib/python3.6/dist-packages/memote/suite/tests/test_biomass.py::test_fast_growth_default[BIOMASS_SC4_bal]\n",
      "FAILED ../../../../usr/local/lib/python3.6/dist-packages/memote/suite/tests/test_biomass.py::test_essential_precursors_not_in_biomass[BIOMASS_SC4_bal]\n",
      "FAILED ../../../../usr/local/lib/python3.6/dist-packages/memote/suite/tests/test_consistency.py::test_reaction_mass_balance\n",
      "FAILED ../../../../usr/local/lib/python3.6/dist-packages/memote/suite/tests/test_consistency.py::test_blocked_reactions\n",
      "FAILED ../../../../usr/local/lib/python3.6/dist-packages/memote/suite/tests/test_consistency.py::test_find_stoichiometrically_balanced_cycles\n",
      "FAILED ../../../../usr/local/lib/python3.6/dist-packages/memote/suite/tests/test_consistency.py::test_find_orphans\n",
      "FAILED ../../../../usr/local/lib/python3.6/dist-packages/memote/suite/tests/test_consistency.py::test_find_deadends\n",
      "FAILED ../../../../usr/local/lib/python3.6/dist-packages/memote/suite/tests/test_consistency.py::test_find_metabolites_not_produced_with_open_bounds\n",
      "FAILED ../../../../usr/local/lib/python3.6/dist-packages/memote/suite/tests/test_consistency.py::test_find_metabolites_not_consumed_with_open_bounds\n",
      "FAILED ../../../../usr/local/lib/python3.6/dist-packages/memote/suite/tests/test_consistency.py::test_find_reactions_unbounded_flux_default_condition\n",
      "FAILED ../../../../usr/local/lib/python3.6/dist-packages/memote/suite/tests/test_sbo.py::test_metabolite_sbo_presence\n",
      "FAILED ../../../../usr/local/lib/python3.6/dist-packages/memote/suite/tests/test_sbo.py::test_reaction_sbo_presence\n",
      "FAILED ../../../../usr/local/lib/python3.6/dist-packages/memote/suite/tests/test_sbo.py::test_gene_sbo_presence\n",
      "FAILED ../../../../usr/local/lib/python3.6/dist-packages/memote/suite/tests/test_sbo.py::test_metabolic_reaction_specific_sbo_presence\n",
      "FAILED ../../../../usr/local/lib/python3.6/dist-packages/memote/suite/tests/test_sbo.py::test_transport_reaction_specific_sbo_presence\n",
      "FAILED ../../../../usr/local/lib/python3.6/dist-packages/memote/suite/tests/test_sbo.py::test_metabolite_specific_sbo_presence\n",
      "FAILED ../../../../usr/local/lib/python3.6/dist-packages/memote/suite/tests/test_sbo.py::test_gene_specific_sbo_presence\n",
      "FAILED ../../../../usr/local/lib/python3.6/dist-packages/memote/suite/tests/test_sbo.py::test_exchange_specific_sbo_presence\n",
      "\u001b[31m============ \u001b[31m\u001b[1m68 failed\u001b[0m, \u001b[32m57 passed\u001b[0m, \u001b[33m20 skipped\u001b[0m, \u001b[33m3 warnings\u001b[0m\u001b[31m in 55.18s\u001b[0m\u001b[31m ============\u001b[0m\n",
      "Writing snapshot report to 'iND750.html'.\n",
      "CPU times: user 1.22 s, sys: 247 ms, total: 1.46 s\n",
      "Wall time: 1min 12s\n"
     ]
    }
   ],
   "source": [
    "%%time\n",
    "!memote report snapshot iND750.xml --filename iND750.html"
   ]
  },
  {
   "cell_type": "markdown",
   "metadata": {},
   "source": [
    "The overall score is 86%.\n",
    "The consistenty test gav a good result with a sub score of 97%. Here the score of stoichiometric inconsistency of 100% and the mass balance gave a score of 97.3%. \n",
    "For the annotation tests, the score was generlly high (above 80%) except for the genes, which only score 43%"
   ]
  },
  {
   "cell_type": "markdown",
   "metadata": {},
   "source": [
    "Overall the models are fairly similar and both have high scores. However, eventhough the smallere model iND750 is a bit higher scored, it is the larger model, iMM904 there will be used in this report to similate the production of β-carotene. This is simply because iMM904 contains more genes, reaction and metabolites and therefore is able to simulate the organisme better. Here the different in score is not large engouth to arguee for the use of the smallere model.\n",
    "\n",
    "\n",
    "Since S. cerevisias is not a natural producer of β-carotene, the pathway is not in the model jet. Therefore some new metabolites and reaction is added to iMM904, so the GSM can be used to model production of β-carotene."
   ]
  },
  {
   "cell_type": "code",
   "execution_count": null,
   "metadata": {},
   "outputs": [],
   "source": [
    "#Here we re going to add the reaction and metabolites that needed to be added for the model to produce β-carotene."
   ]
  },
  {
   "cell_type": "markdown",
   "metadata": {},
   "source": [
    "## 4. Computer-Aided Cell Factory Engineering (<1500 words if Category II project)"
   ]
  },
  {
   "cell_type": "markdown",
   "metadata": {},
   "source": [
    "The pathway:\n",
    "    \n",
    "    hydroxymethylglutaryl CoA (hmgcoa_c) -> mevalonate (mev_R_c)\n",
    "\n",
    "    mev_R_c -> farnesyl diphosphate (frdp_c)\n",
    "\n",
    "    frdp_c -> geranyl diphosphate (ggdp_c)\n",
    "\n",
    "    2 ggdp_c -> Phytoene + 2 diphosphate (https://www.genome.jp/dbget-bin/www_bget?rn:R10177)\n",
    "\n",
    "    Phytoene -> Neurosporene (https://www.genome.jp/dbget-bin/www_bget?rn:R09691)\n",
    "\n",
    "    Neurosporene -> Lycopene (https://www.genome.jp/dbget-bin/www_bget?rn:R04800)\n",
    "\n",
    "    Lycopene -> beta-Carotene (https://www.genome.jp/dbget-bin/www_bget?rn:R03823)\n",
    "\n",
    "det er de sidste 4 reactioner some mangler.\n"
   ]
  },
  {
   "cell_type": "code",
   "execution_count": 17,
   "metadata": {},
   "outputs": [
    {
     "data": {
      "text/html": [
       "\n",
       "        <table>\n",
       "            <tr>\n",
       "                <td><strong>Metabolite identifier</strong></td><td>hmgcoa_c</td>\n",
       "            </tr><tr>\n",
       "                <td><strong>Name</strong></td><td>Hydroxymethylglutaryl CoA C27H39N7O20P3S</td>\n",
       "            </tr><tr>\n",
       "                <td><strong>Memory address</strong></td>\n",
       "                <td>0x07f74d9b55850</td>\n",
       "            </tr><tr>\n",
       "                <td><strong>Formula</strong></td><td>C27H39N7O20P3S</td>\n",
       "            </tr><tr>\n",
       "                <td><strong>Compartment</strong></td><td>c</td>\n",
       "            </tr><tr>\n",
       "                <td><strong>In 3 reaction(s)</strong></td><td>\n",
       "                    HMGCOAS, HMGCOAtm, HMGCOAR</td>\n",
       "            </tr>\n",
       "        </table>"
      ],
      "text/plain": [
       "<Metabolite hmgcoa_c at 0x7f74d9b55850>"
      ]
     },
     "execution_count": 17,
     "metadata": {},
     "output_type": "execute_result"
    }
   ],
   "source": [
    "model_iMM904.metabolites.hmgcoa_c\n",
    "#model_iMM904.metabolites.mev__R_c\n",
    "#model_iMM904.metabolites.frdp_c\n",
    "#model_iMM904.metabolites.ggdp_c"
   ]
  },
  {
   "cell_type": "markdown",
   "metadata": {},
   "source": [
    "## 5. Discussion (<500 words)"
   ]
  },
  {
   "cell_type": "markdown",
   "metadata": {},
   "source": [
    "## 6. Conclusion (<200 words)"
   ]
  },
  {
   "cell_type": "markdown",
   "metadata": {},
   "source": [
    "## References"
   ]
  },
  {
   "cell_type": "markdown",
   "metadata": {},
   "source": [
    "[1]Madigan, M. T., Martinko, J. M., & Parker, J. (2014). Brock biology of microorganisms. Upper Saddle River, NJ: Prentice Hall/Pearson Education."
   ]
  },
  {
   "cell_type": "markdown",
   "metadata": {},
   "source": [
    "[2]Qian Li, Zhiqiang Sun, Jing Li, Yansheng Zhang, Enhancing beta-carotene production in Saccharomyces cerevisiae by metabolic engineering, FEMS Microbiology Letters, Volume 345, Issue 2, August 2013, Pages 94–101, https://doi.org/10.1111/1574-6968.12187"
   ]
  },
  {
   "cell_type": "code",
   "execution_count": null,
   "metadata": {},
   "outputs": [],
   "source": []
  },
  {
   "cell_type": "code",
   "execution_count": null,
   "metadata": {},
   "outputs": [],
   "source": []
  }
 ],
 "metadata": {
  "kernelspec": {
   "display_name": "python3.6",
   "language": "python",
   "name": "python3.6"
  },
  "language_info": {
   "codemirror_mode": {
    "name": "ipython",
    "version": 3
   },
   "file_extension": ".py",
   "mimetype": "text/x-python",
   "name": "python",
   "nbconvert_exporter": "python",
   "pygments_lexer": "ipython3",
   "version": "3.6.12"
  }
 },
 "nbformat": 4,
 "nbformat_minor": 4
}
