{
 "cells": [
  {
   "cell_type": "code",
   "execution_count": 31,
   "metadata": {},
   "outputs": [
    {
     "name": "stdout",
     "output_type": "stream",
     "text": [
      "Maximum beta-carotene flow:  0.35143769968051247\n"
     ]
    }
   ],
   "source": [
    "import numpy as np\n",
    "from cobra.io import read_sbml_model\n",
    "from cobra import Reaction, Metabolite\n",
    "model_iMM904 = read_sbml_model('iMM904.xml')\n",
    "phy = Metabolite(id='phy', name='phytoene', compartment='c') #Adding the metabolite\n",
    "new_reaction1 = Reaction('phy_syn') #PHYtoene SYNtase\n",
    "phy = Metabolite(id='phy', name='phytoene', compartment='c') #Adding the metabolite\n",
    "\n",
    "new_reaction1.add_metabolites({model_iMM904.metabolites.ggdp_c: -2,\n",
    "                              phy: 1, # our newly created metabolites\n",
    "                               model_iMM904.metabolites.ppi_c: 2\n",
    "                                })\n",
    "model_iMM904.add_reactions([new_reaction1])\n",
    "new_reaction2 = Reaction('neu_syn') #NEUrosporene SYNtase\n",
    "#Adding the metabolite\n",
    "neu = Metabolite(id='neu', name='Neurosporene', compartment='c') \n",
    "#AH2 = Metabolite(id='AH2', name='Reduced acceptor', compartment='c') \n",
    "#A = Metabolite(id='A', name='Acceptor', compartment='c') \n",
    "new_reaction2.add_metabolites({\n",
    "    model_iMM904.metabolites.nadp_c: -3,\n",
    "    phy: -1, # our newly created metabolites\n",
    "    model_iMM904.metabolites.nadph_c: 3,\n",
    "    neu: 1,\n",
    "    })\n",
    "model_iMM904.add_reactions([new_reaction2])\n",
    "new_reaction3 = Reaction('lyc_syn') #LYCopene SYNtase\n",
    "lyc = Metabolite(id='lyc', name='Lycopene', compartment='c') #Adding the metabolite\n",
    "new_reaction3.add_metabolites({\n",
    "    neu: -1, # our newly created metabolites\n",
    "    model_iMM904.metabolites.nadph_c: -1, \n",
    "    model_iMM904.metabolites.o2_c: -1,\n",
    "    lyc: 1,\n",
    "    model_iMM904.metabolites.nadp_c: 1,\n",
    "    model_iMM904.metabolites.h2o_c: 2,\n",
    "    })\n",
    "model_iMM904.add_reactions([new_reaction3])\n",
    "new_reaction4 = Reaction('beta_syn') #BETA-carotene SYNtase\n",
    "beta = Metabolite(id='beta', name='Beta-carotene', compartment='c', formula ='C40H56') #Adding the metabolite\n",
    "new_reaction4.add_metabolites({\n",
    "    lyc: -1, # our newly created metabolites\n",
    "    beta: 1,\n",
    "    })\n",
    "model_iMM904.add_reactions([new_reaction4])\n",
    "new_reaction5 = Reaction('EX_beta') #BETA-carotene SYNtase\n",
    "new_reaction5.add_metabolites({\n",
    "    beta: -1 #Excretion of beta-carotene\n",
    "    })\n",
    "model_iMM904.add_reactions([new_reaction5])\n",
    "with model_iMM904:\n",
    "    model_iMM904.objective = model_iMM904.reactions.EX_beta \n",
    "    print(\"Maximum beta-carotene flow: \",model_iMM904.optimize().objective_value)"
   ]
  },
  {
   "cell_type": "code",
   "execution_count": 32,
   "metadata": {},
   "outputs": [
    {
     "name": "stdout",
     "output_type": "stream",
     "text": [
      "{'C': 40, 'H': 56}\n"
     ]
    }
   ],
   "source": [
    "print(model_iMM904.metabolites.beta.elements)"
   ]
  },
  {
   "cell_type": "code",
   "execution_count": 33,
   "metadata": {},
   "outputs": [],
   "source": [
    "C = 12\n",
    "H = 1\n",
    "N = 14\n",
    "O = 16\n",
    "biomass_weight = C*47.5+H*7+N*9.25 #g/mol - this is the median measured\n",
    "beta_weight = model_iMM904.metabolites.beta.elements['C']*C+model_iMM904.metabolites.beta.elements['H']*H #g/mol\n",
    "gxtsn_e_weight = model_iMM904.metabolites.xtsn_e.elements['C']*C+model_iMM904.metabolites.xtsn_e.elements['H']*H+model_iMM904.metabolites.xtsn_e.elements['O']*O+model_iMM904.metabolites.xtsn_e.elements['N']*N\n",
    "glucose_weight = model_iMM904.metabolites.glc__D_c.elements['C']*C+model_iMM904.metabolites.glc__D_c.elements['H']*H+model_iMM904.metabolites.glc__D_c.elements['O']*O\n",
    "    "
   ]
  },
  {
   "cell_type": "code",
   "execution_count": 34,
   "metadata": {},
   "outputs": [],
   "source": [
    "genes_for_kncokout = ['GAPD','PYK','ARGN','ARGN', 'PYRDC']"
   ]
  },
  {
   "cell_type": "code",
   "execution_count": 35,
   "metadata": {},
   "outputs": [
    {
     "name": "stdout",
     "output_type": "stream",
     "text": [
      "<class 'str'>\n"
     ]
    }
   ],
   "source": [
    "print(type(genes_for_kncokout[0]))"
   ]
  },
  {
   "cell_type": "code",
   "execution_count": 36,
   "metadata": {},
   "outputs": [
    {
     "data": {
      "text/html": [
       "\n",
       "        <table>\n",
       "            <tr>\n",
       "                <td><strong>Reaction identifier</strong></td><td>GAPD</td>\n",
       "            </tr><tr>\n",
       "                <td><strong>Name</strong></td><td>Glyceraldehyde-3-phosphate dehydrogenase</td>\n",
       "            </tr><tr>\n",
       "                <td><strong>Memory address</strong></td>\n",
       "                <td>0x07f9f19b2de20</td>\n",
       "            </tr><tr>\n",
       "                <td><strong>Stoichiometry</strong></td>\n",
       "                <td>\n",
       "                    <p style='text-align:right'>g3p_c + nad_c + pi_c <=> 13dpg_c + h_c + nadh_c</p>\n",
       "                    <p style='text-align:right'>Glyceraldehyde 3-phosphate + Nicotinamide adenine dinucleotide + Phosphate <=> 3-Phospho-D-glyceroyl phosphate + H+ + Nicotinamide adenine dinucleotide - reduced</p>\n",
       "                </td>\n",
       "            </tr><tr>\n",
       "                <td><strong>GPR</strong></td><td>YJL052W or YJR009C or YGR192C</td>\n",
       "            </tr><tr>\n",
       "                <td><strong>Lower bound</strong></td><td>-999999.0</td>\n",
       "            </tr><tr>\n",
       "                <td><strong>Upper bound</strong></td><td>999999.0</td>\n",
       "            </tr>\n",
       "        </table>\n",
       "        "
      ],
      "text/plain": [
       "<Reaction GAPD at 0x7f9f19b2de20>"
      ]
     },
     "execution_count": 36,
     "metadata": {},
     "output_type": "execute_result"
    }
   ],
   "source": [
    "model_iMM904.reactions.get_by_id(genes_for_kncokout[0])"
   ]
  },
  {
   "cell_type": "code",
   "execution_count": 46,
   "metadata": {},
   "outputs": [
    {
     "name": "stdout",
     "output_type": "stream",
     "text": [
      "\u001b[1m\n",
      "Yield when GAPD is knockout out.\u001b[0m\n",
      "Investigation of maximum beta-carotene yield with a min growth flux of 99,9 % of the max groth flow: 0.04\n",
      "\n",
      "Max beta-carotene flux on glucose: 6.3e-05\n",
      "yield beta/glc:\t\t 0.00011 \tmol/mol\n",
      "Yield beta/glc:\t\t 0.33 \t\tmg/g\n",
      "\n",
      "yield beta/x:\t\t 0.001604 \tmol/mol\n",
      "Yield beta/x:\t\t 1.22 \t\tmg/g\n",
      "\u001b[1m\n",
      "Yield when PYK is knockout out.\u001b[0m\n",
      "Investigation of maximum beta-carotene yield with a min growth flux of 99,9 % of the max groth flow: 0.05\n",
      "\n",
      "Max beta-carotene flux on glucose: 0.000107\n",
      "yield beta/glc:\t\t 0.000163 \tmol/mol\n",
      "Yield beta/glc:\t\t 0.49 \t\tmg/g\n",
      "\n",
      "yield beta/x:\t\t 0.002036 \tmol/mol\n",
      "Yield beta/x:\t\t 1.54 \t\tmg/g\n",
      "\u001b[1m\n",
      "Yield when ARGN is knockout out.\u001b[0m\n",
      "Investigation of maximum beta-carotene yield with a min growth flux of 99,9 % of the max groth flow: 0.29\n",
      "\n",
      "Max beta-carotene flux on glucose: 0.00061\n",
      "yield beta/glc:\t\t 6.1e-05 \tmol/mol\n",
      "Yield beta/glc:\t\t 0.18 \t\tmg/g\n",
      "\n",
      "yield beta/x:\t\t 0.00212 \tmol/mol\n",
      "Yield beta/x:\t\t 1.61 \t\tmg/g\n",
      "\u001b[1m\n",
      "Yield when ARGN is knockout out.\u001b[0m\n",
      "Investigation of maximum beta-carotene yield with a min growth flux of 99,9 % of the max groth flow: 0.29\n",
      "\n",
      "Max beta-carotene flux on glucose: 0.00061\n",
      "yield beta/glc:\t\t 6.1e-05 \tmol/mol\n",
      "Yield beta/glc:\t\t 0.18 \t\tmg/g\n",
      "\n",
      "yield beta/x:\t\t 0.00212 \tmol/mol\n",
      "Yield beta/x:\t\t 1.61 \t\tmg/g\n",
      "\u001b[1m\n",
      "Yield when PYRDC is knockout out.\u001b[0m\n",
      "Investigation of maximum beta-carotene yield with a min growth flux of 99,9 % of the max groth flow: 0.19\n",
      "\n",
      "Max beta-carotene flux on glucose: 0.000365\n",
      "yield beta/glc:\t\t 3.7e-05 \tmol/mol\n",
      "Yield beta/glc:\t\t 0.11 \t\tmg/g\n",
      "\n",
      "yield beta/x:\t\t 0.001909 \tmol/mol\n",
      "Yield beta/x:\t\t 1.45 \t\tmg/g\n"
     ]
    }
   ],
   "source": [
    "genes_for_kncokout = ['GAPD','PYK','ARGN','ARGN', 'PYRDC']\n",
    "for i in range(len(genes_for_kncokout)):\n",
    "    with model_iMM904:\n",
    "        print(\"\\033[1m\\nYield when\", genes_for_kncokout[i], \"is knockout out.\\033[0m\")\n",
    "        model_iMM904.reactions.get_by_id(genes_for_kncokout[i]).bounds = 0,0\n",
    "        model_iMM904.objective = model_iMM904.reactions.BIOMASS_SC5_notrace \n",
    "        solution = model_iMM904.optimize()\n",
    "        max_growth_flux = model_iMM904.optimize().objective_value\n",
    "        model_iMM904.reactions.BIOMASS_SC5_notrace.bounds = max_growth_flux*0.999, 100\n",
    "\n",
    "        model_iMM904.objective = model_iMM904.reactions.EX_beta \n",
    "        solution_beta = model_iMM904.optimize()\n",
    "        max_beta_flux = model_iMM904.optimize().objective_value \n",
    "\n",
    "        print('Investigation of maximum beta-carotene yield with a min growth flux of 99,9 % of the max groth flow:', round(max_growth_flux*0.999,2))\n",
    "        yield_b_glc_g = (max_beta_flux /abs(solution_beta.fluxes[\"EX_glc__D_e\"]))*(beta_weight/glucose_weight)\n",
    "        yield_b_glc_mol = max_beta_flux /abs(solution_beta.fluxes[\"EX_glc__D_e\"])\n",
    "        yield_b_X_g = (max_beta_flux /abs(solution_beta.fluxes[\"BIOMASS_SC5_notrace\"]))*(beta_weight/biomass_weight)\n",
    "        yield_b_X_mol = max_beta_flux /abs(solution_beta.fluxes[\"BIOMASS_SC5_notrace\"])\n",
    "\n",
    "        #print \n",
    "        print()\n",
    "        print(\"Max beta-carotene flux on glucose:\",round(max_beta_flux,6))\n",
    "        print(\"yield beta/glc:\\t\\t\", round(yield_b_glc_mol,6), \"\\tmol/mol\")\n",
    "        print(\"Yield beta/glc:\\t\\t\", round(yield_b_glc_g*1000,2), \"\\t\\tmg/g\\n\")\n",
    "        print(\"yield beta/x:\\t\\t\", round(yield_b_X_mol,6), \"\\tmol/mol\")\n",
    "        print(\"Yield beta/x:\\t\\t\", round(yield_b_X_g*1000,2), \"\\t\\tmg/g\")"
   ]
  },
  {
   "cell_type": "code",
   "execution_count": null,
   "metadata": {},
   "outputs": [],
   "source": []
  }
 ],
 "metadata": {
  "kernelspec": {
   "display_name": "Python 3",
   "language": "python",
   "name": "python3"
  },
  "language_info": {
   "codemirror_mode": {
    "name": "ipython",
    "version": 3
   },
   "file_extension": ".py",
   "mimetype": "text/x-python",
   "name": "python",
   "nbconvert_exporter": "python",
   "pygments_lexer": "ipython3",
   "version": "3.8.3"
  }
 },
 "nbformat": 4,
 "nbformat_minor": 4
}
