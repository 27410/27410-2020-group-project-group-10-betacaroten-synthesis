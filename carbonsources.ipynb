{
 "cells": [
  {
   "cell_type": "code",
   "execution_count": 68,
   "metadata": {},
   "outputs": [
    {
     "name": "stdout",
     "output_type": "stream",
     "text": [
      "Maximum beta-carotene flow:  0.35143769968051247\n"
     ]
    }
   ],
   "source": [
    "import numpy as np\n",
    "from cobra.io import read_sbml_model\n",
    "from cobra import Reaction, Metabolite\n",
    "model_iMM904 = read_sbml_model('iMM904.xml')\n",
    "phy = Metabolite(id='phy', name='phytoene', compartment='c') #Adding the metabolite\n",
    "new_reaction1 = Reaction('phy_syn') #PHYtoene SYNtase\n",
    "phy = Metabolite(id='phy', name='phytoene', compartment='c') #Adding the metabolite\n",
    "\n",
    "new_reaction1.add_metabolites({model_iMM904.metabolites.ggdp_c: -2,\n",
    "                              phy: 1, # our newly created metabolites\n",
    "                               model_iMM904.metabolites.ppi_c: 2\n",
    "                                })\n",
    "model_iMM904.add_reactions([new_reaction1])\n",
    "new_reaction2 = Reaction('neu_syn') #NEUrosporene SYNtase\n",
    "#Adding the metabolite\n",
    "neu = Metabolite(id='neu', name='Neurosporene', compartment='c') \n",
    "#AH2 = Metabolite(id='AH2', name='Reduced acceptor', compartment='c') \n",
    "#A = Metabolite(id='A', name='Acceptor', compartment='c') \n",
    "new_reaction2.add_metabolites({\n",
    "    model_iMM904.metabolites.nadp_c: -3,\n",
    "    phy: -1, # our newly created metabolites\n",
    "    model_iMM904.metabolites.nadph_c: 3,\n",
    "    neu: 1,\n",
    "    })\n",
    "model_iMM904.add_reactions([new_reaction2])\n",
    "new_reaction3 = Reaction('lyc_syn') #LYCopene SYNtase\n",
    "lyc = Metabolite(id='lyc', name='Lycopene', compartment='c') #Adding the metabolite\n",
    "new_reaction3.add_metabolites({\n",
    "    neu: -1, # our newly created metabolites\n",
    "    model_iMM904.metabolites.nadph_c: -1, \n",
    "    model_iMM904.metabolites.o2_c: -1,\n",
    "    lyc: 1,\n",
    "    model_iMM904.metabolites.nadp_c: 1,\n",
    "    model_iMM904.metabolites.h2o_c: 2,\n",
    "    })\n",
    "model_iMM904.add_reactions([new_reaction3])\n",
    "new_reaction4 = Reaction('beta_syn') #BETA-carotene SYNtase\n",
    "beta = Metabolite(id='beta', name='Beta-carotene', compartment='c') #Adding the metabolite\n",
    "new_reaction4.add_metabolites({\n",
    "    lyc: -1, # our newly created metabolites\n",
    "    beta: 1,\n",
    "    })\n",
    "model_iMM904.add_reactions([new_reaction4])\n",
    "new_reaction5 = Reaction('EX_beta') #BETA-carotene SYNtase\n",
    "new_reaction5.add_metabolites({\n",
    "    beta: -1 #Excretion of beta-carotene\n",
    "    })\n",
    "model_iMM904.add_reactions([new_reaction5])\n",
    "with model_iMM904:\n",
    "    model_iMM904.objective = model_iMM904.reactions.EX_beta \n",
    "    print(\"Maximum beta-carotene flow: \",model_iMM904.optimize().objective_value)"
   ]
  },
  {
   "cell_type": "code",
   "execution_count": 27,
   "metadata": {},
   "outputs": [
    {
     "name": "stdout",
     "output_type": "stream",
     "text": [
      "['EX_epistest_SC_e', 'EX_epist_e', 'EX_ergst_e', 'EX_ergstest_SC_e', 'EX_13BDglcn_e', 'EX_etha_e', 'EX_2hb_e', 'EX_etoh_e', 'EX_fecost_e', 'EX_2mbac_e', 'EX_2mbald_e', 'EX_2mbtoh_e', 'EX_2mppal_e', 'EX_2phetoh_e', 'EX_fecostest_SC_e', 'EX_fmn_e', 'EX_3c3hmp_e', 'EX_3mbald_e', 'EX_for_e', 'EX_fru_e', 'EX_3mop_e', 'EX_4abut_e', 'EX_fum_e', 'EX_g3pc_e', 'EX_4abz_e', 'EX_5aop_e', 'EX_g3pi_e', 'EX_gal_e', 'EX_8aonn_e', 'EX_Nbfortyr_e', 'EX_abt_e', 'EX_ac_e', 'EX_acald_e', 'EX_aces_e', 'EX_galur_e', 'EX_gam6p_e', 'EX_gcald_e', 'EX_glc__D_e', 'EX_gln__L_e', 'EX_glu__L_e', 'EX_glx_e', 'EX_ade_e', 'EX_adn_e', 'EX_akg_e', 'EX_ala__L_e', 'EX_gly_e', 'EX_glyc_e', 'EX_gsn_e', 'EX_gthox_e', 'EX_gthrd_e', 'EX_alltn_e', 'EX_alltt_e', 'EX_amet_e', 'EX_arab__D_e', 'EX_arab__L_e', 'EX_gua_e', 'EX_arg__L_e', 'EX_hdca_e', 'EX_hdcea_e', 'EX_asn__L_e', 'EX_asp__L_e', 'EX_btd_RR_e', 'EX_btn_e', 'EX_hexc_e', 'EX_his__L_e', 'EX_hxan_e', 'EX_iamac_e', 'EX_iamoh_e', 'EX_ibutac_e', 'EX_chol_e', 'EX_cit_e', 'EX_co2_e', 'EX_crn_e', 'EX_csn_e', 'EX_cys__L_e', 'EX_cytd_e', 'EX_dad_2_e', 'EX_dann_e', 'EX_ibutoh_e', 'EX_id3acald_e', 'EX_ile__L_e', 'EX_ind3eth_e', 'EX_inost_e', 'EX_dca_e', 'EX_dcyt_e', 'EX_ddca_e', 'EX_ins_e', 'EX_dgsn_e', 'EX_din_e', 'EX_lac__D_e', 'EX_lac__L_e', 'EX_lanost_e', 'EX_lanostest_SC_e', 'EX_dttp_e', 'EX_duri_e', 'EX_leu__L_e', 'EX_lys__L_e', 'EX_mal__L_e', 'EX_malt_e', 'EX_ribflv_e', 'EX_sbt__D_e', 'EX_man_e', 'EX_melib_e', 'EX_met__L_e', 'EX_mmet_e', 'EX_nac_e', 'EX_sbt__L_e', 'EX_ser__L_e', 'EX_spmd_e', 'EX_sprm_e', 'EX_srb__L_e', 'EX_succ_e', 'EX_nadp_e', 'EX_nmn_e', 'EX_sucr_e', 'EX_taur_e', 'EX_thm_e', 'EX_oaa_e', 'EX_ocdca_e', 'EX_ocdcea_e', 'EX_ocdcya_e', 'EX_orn_e', 'EX_thmmp_e', 'EX_thmpp_e', 'EX_thr__L_e', 'EX_thym_e', 'EX_pacald_e', 'EX_pap_e', 'EX_thymd_e', 'EX_tre_e', 'EX_trp__L_e', 'EX_pc_SC_e', 'EX_pectin_e', 'EX_pepd_e', 'EX_phe__L_e', 'EX_pheac_e', 'EX_pnto__R_e', 'EX_ttdca_e', 'EX_tyr__L_e', 'EX_ura_e', 'EX_urea_e', 'EX_uri_e', 'EX_val__L_e', 'EX_xan_e', 'EX_xtsn_e', 'EX_pro__L_e', 'EX_ptd1ino_SC_e', 'EX_ptrc_e', 'EX_pyr_e', 'EX_xyl__D_e', 'EX_xylt_e', 'EX_rib__D_e', 'EX_zymst_e', 'EX_zymstest_SC_e']\n"
     ]
    }
   ],
   "source": [
    "carbon_source_exchanges=[]\n",
    "for exchange in model_iMM904.exchanges:\n",
    "    for metabolite in exchange.metabolites:\n",
    "        if \"C\" in metabolite.elements:\n",
    "            carbon_source_exchanges.append(exchange.id)"
   ]
  },
  {
   "cell_type": "code",
   "execution_count": 69,
   "metadata": {},
   "outputs": [
    {
     "name": "stdout",
     "output_type": "stream",
     "text": [
      "Max growth rate on glucose: 0.29\n",
      "Max beta-carotene flow on glucose: 0.35\n",
      " \n",
      "D-Glucosamine 6-phosphate exchange :\n",
      "Maximum growth rate for this crabonsource:  0.41\n",
      "Maximum beta-carotene flow for this carbon-source::  0.45\n",
      " \n",
      "Adenosine exchange :\n",
      "Maximum growth rate for this crabonsource:  0.37\n",
      "Maximum beta-carotene flow for this carbon-source::  0.41\n",
      " \n",
      "Guanosine exchange :\n",
      "Maximum growth rate for this crabonsource:  0.37\n",
      "Maximum beta-carotene flow for this carbon-source::  0.41\n",
      " \n",
      "S Adenosyl L methionine exchange :\n",
      "Maximum growth rate for this crabonsource:  0.37\n",
      "Maximum beta-carotene flow for this carbon-source::  0.41\n",
      " \n",
      "Inosine exchange :\n",
      "Maximum growth rate for this crabonsource:  0.37\n",
      "Maximum beta-carotene flow for this carbon-source::  0.41\n",
      " \n",
      "Maltose exchange :\n",
      "Maximum growth rate for this crabonsource:  0.52\n",
      "Maximum beta-carotene flow for this carbon-source::  0.61\n",
      " \n",
      "Melibiose exchange :\n",
      "Maximum growth rate for this crabonsource:  0.52\n",
      "Maximum beta-carotene flow for this carbon-source::  0.61\n",
      " \n",
      "Sucrose exchange :\n",
      "Maximum growth rate for this crabonsource:  0.52\n",
      "Maximum beta-carotene flow for this carbon-source::  0.61\n",
      " \n",
      "Adenosine 3  5  bisphosphate exchange :\n",
      "Maximum growth rate for this crabonsource:  0.37\n",
      "Maximum beta-carotene flow for this carbon-source::  0.41\n",
      " \n",
      "Trehalose exchange :\n",
      "Maximum growth rate for this crabonsource:  0.52\n",
      "Maximum beta-carotene flow for this carbon-source::  0.61\n",
      " \n",
      "Xanthosine exchange :\n",
      "Maximum growth rate for this crabonsource:  0.37\n",
      "Maximum beta-carotene flow for this carbon-source::  0.41\n",
      " \n"
     ]
    }
   ],
   "source": [
    "#First we sort for all the exchange reactions that \n",
    "carbon_source_exchanges=[] #creates empty list to save carbon sources\n",
    "for exchange in model_iMM904.exchanges: #goes through all exchange reactions\n",
    "    for metabolite in exchange.metabolites: #goes trhough the metabolites in all the reactions\n",
    "        if \"C\" in metabolite.elements: #Checks if it contains carbon\n",
    "            carbon_source_exchanges.append(exchange.id) #saves in case this is true\n",
    "            \n",
    "#First find the initial max growth rate and max flux so we can compare later\n",
    "#These are all for the standard medium settings with glucose\n",
    "with model_iMM904: #We do this under model to avoid our objective chaning futher in the notebook \n",
    "    initial_growth = model_iMM904.slim_optimize() #Find max growth\n",
    "    model_iMM904.objective = model_iMM904.reactions.EX_beta #sets objective to the beta-carotene flow\n",
    "    initial_beta_flow = model_iMM904.optimize().objective_value #Find max beta-carotene flow\n",
    "#prints the parameters with two decimals\n",
    "print(\"Max growth rate on glucose:\",round(initial_growth,2))\n",
    "print(\"Max beta-carotene flow on glucose:\",round(initial_beta_flow,2))\n",
    "print(\" \")\n",
    "    \n",
    "potential_better_Csources = [] #makes emtpy list so we can save potential better C-sources for further analysis\n",
    "for i in range (0,len(carbon_source_exchanges)): #we go through all carbon sources on the previous made list\n",
    "    with model_iMM904: #We do this under model to avoid our objective chaning futher in the loop and notebook\n",
    "        medium=model_iMM904.medium #resets medium to standard\n",
    "        medium['EX_glc__D_e']=0 #sets glucose level to 0\n",
    "        medium[carbon_source_exchanges[i]]=10 #sets level of carbon source to 10\n",
    "        model_iMM904.medium =medium #defines medium model\n",
    "        solution_growth = model_iMM904.slim_optimize(error_value=0.) #save max growth rate\n",
    "        if solution_growth >= initial_growth: #checks if max growth rate is equal or higher than the standard\n",
    "            model_iMM904.objective = model_iMM904.reactions.EX_beta #sets objective to the beta-carotene flow\n",
    "            solution_beta = model_iMM904.optimize().objective_value #save max beta-carotene flow\n",
    "            if solution_beta >= initial_beta_flow: #checks if max beta-carotene flow is equal or higher than the standard\n",
    "                potential_better_Csources.append(carbon_source_exchanges[i]) #In case both are true saves the carbon source in the list\n",
    "                name=model_iMM904.reactions.get_by_id(carbon_source_exchanges[i]) #gets the reaction name for the carbon source\n",
    "                print(name.name,\":\") #print name \n",
    "                print(\"Maximum growth rate for this crabonsource: \",round(solution_growth,2)) #prints rounded max growth rate\n",
    "                print(\"Maximum beta-carotene flow for this carbon-source:: \",round(model_iMM904.optimize().objective_value,2)) #prints max beta-carotene flow\n",
    "                print(\" \")#just spacing "
   ]
  },
  {
   "cell_type": "code",
   "execution_count": 26,
   "metadata": {},
   "outputs": [
    {
     "data": {
      "text/plain": [
       "0.28786570370404924"
      ]
     },
     "execution_count": 26,
     "metadata": {},
     "output_type": "execute_result"
    }
   ],
   "source": [
    "model_iMM904.slim_optimize()"
   ]
  },
  {
   "cell_type": "code",
   "execution_count": 59,
   "metadata": {},
   "outputs": [
    {
     "data": {
      "text/plain": [
       "{'EX_fe2_e': 999999.0,\n",
       " 'EX_glc__D_e': 10.0,\n",
       " 'EX_h2o_e': 999999.0,\n",
       " 'EX_h_e': 999999.0,\n",
       " 'EX_k_e': 999999.0,\n",
       " 'EX_na1_e': 999999.0,\n",
       " 'EX_so4_e': 999999.0,\n",
       " 'EX_nh4_e': 999999.0,\n",
       " 'EX_o2_e': 2.0,\n",
       " 'EX_pi_e': 999999.0}"
      ]
     },
     "execution_count": 59,
     "metadata": {},
     "output_type": "execute_result"
    }
   ],
   "source": [
    "model_iMM904.medium"
   ]
  },
  {
   "cell_type": "code",
   "execution_count": 64,
   "metadata": {},
   "outputs": [
    {
     "name": "stdout",
     "output_type": "stream",
     "text": [
      "{'EX_fe2_e': 999999.0, 'EX_glc__D_e': 10.0, 'EX_h2o_e': 999999.0, 'EX_h_e': 999999.0, 'EX_k_e': 999999.0, 'EX_na1_e': 999999.0, 'EX_so4_e': 999999.0, 'EX_nh4_e': 999999.0, 'EX_pi_e': 999999.0}\n",
      "4.2156280169557445e-31\n"
     ]
    }
   ],
   "source": [
    "with model_iMM904:\n",
    "    medium=model_iMM904.medium\n",
    "    medium['EX_o2_e']=0\n",
    "    model_iMM904.medium =medium\n",
    "    print(model_iMM904.medium)\n",
    "    print(model_iMM904.slim_optimize())"
   ]
  },
  {
   "cell_type": "code",
   "execution_count": null,
   "metadata": {},
   "outputs": [],
   "source": []
  }
 ],
 "metadata": {
  "kernelspec": {
   "display_name": "Python 3",
   "language": "python",
   "name": "python3"
  },
  "language_info": {
   "codemirror_mode": {
    "name": "ipython",
    "version": 3
   },
   "file_extension": ".py",
   "mimetype": "text/x-python",
   "name": "python",
   "nbconvert_exporter": "python",
   "pygments_lexer": "ipython3",
   "version": "3.8.5"
  }
 },
 "nbformat": 4,
 "nbformat_minor": 4
}
