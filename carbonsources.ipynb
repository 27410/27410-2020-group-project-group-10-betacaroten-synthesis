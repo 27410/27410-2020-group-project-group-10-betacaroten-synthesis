{
 "cells": [
  {
   "cell_type": "code",
   "execution_count": 2,
   "metadata": {},
   "outputs": [
    {
     "name": "stdout",
     "output_type": "stream",
     "text": [
      "Maximum beta-carotene flow:  0.35143769968051247\n"
     ]
    }
   ],
   "source": [
    "import numpy as np\n",
    "from cobra.io import read_sbml_model\n",
    "from cobra import Reaction, Metabolite\n",
    "model_iMM904 = read_sbml_model('iMM904.xml')\n",
    "phy = Metabolite(id='phy', name='phytoene', compartment='c') #Adding the metabolite\n",
    "new_reaction1 = Reaction('phy_syn') #PHYtoene SYNtase\n",
    "phy = Metabolite(id='phy', name='phytoene', compartment='c') #Adding the metabolite\n",
    "\n",
    "new_reaction1.add_metabolites({model_iMM904.metabolites.ggdp_c: -2,\n",
    "                              phy: 1, # our newly created metabolites\n",
    "                               model_iMM904.metabolites.ppi_c: 2\n",
    "                                })\n",
    "model_iMM904.add_reactions([new_reaction1])\n",
    "new_reaction2 = Reaction('neu_syn') #NEUrosporene SYNtase\n",
    "#Adding the metabolite\n",
    "neu = Metabolite(id='neu', name='Neurosporene', compartment='c') \n",
    "#AH2 = Metabolite(id='AH2', name='Reduced acceptor', compartment='c') \n",
    "#A = Metabolite(id='A', name='Acceptor', compartment='c') \n",
    "new_reaction2.add_metabolites({\n",
    "    model_iMM904.metabolites.nadp_c: -3,\n",
    "    phy: -1, # our newly created metabolites\n",
    "    model_iMM904.metabolites.nadph_c: 3,\n",
    "    neu: 1,\n",
    "    })\n",
    "model_iMM904.add_reactions([new_reaction2])\n",
    "new_reaction3 = Reaction('lyc_syn') #LYCopene SYNtase\n",
    "lyc = Metabolite(id='lyc', name='Lycopene', compartment='c') #Adding the metabolite\n",
    "new_reaction3.add_metabolites({\n",
    "    neu: -1, # our newly created metabolites\n",
    "    model_iMM904.metabolites.nadph_c: -1, \n",
    "    model_iMM904.metabolites.o2_c: -1,\n",
    "    lyc: 1,\n",
    "    model_iMM904.metabolites.nadp_c: 1,\n",
    "    model_iMM904.metabolites.h2o_c: 2,\n",
    "    })\n",
    "model_iMM904.add_reactions([new_reaction3])\n",
    "new_reaction4 = Reaction('beta_syn') #BETA-carotene SYNtase\n",
    "beta = Metabolite(id='beta', name='Beta-carotene', compartment='c') #Adding the metabolite\n",
    "new_reaction4.add_metabolites({\n",
    "    lyc: -1, # our newly created metabolites\n",
    "    beta: 1,\n",
    "    })\n",
    "model_iMM904.add_reactions([new_reaction4])\n",
    "new_reaction5 = Reaction('EX_beta') #BETA-carotene SYNtase\n",
    "new_reaction5.add_metabolites({\n",
    "    beta: -1 #Excretion of beta-carotene\n",
    "    })\n",
    "model_iMM904.add_reactions([new_reaction5])\n",
    "with model_iMM904:\n",
    "    model_iMM904.objective = model_iMM904.reactions.EX_beta \n",
    "    print(\"Maximum beta-carotene flow: \",model_iMM904.optimize().objective_value)"
   ]
  },
  {
   "cell_type": "code",
   "execution_count": 3,
   "metadata": {},
   "outputs": [
    {
     "name": "stdout",
     "output_type": "stream",
     "text": [
      "['EX_epistest_SC_e', 'EX_epist_e', 'EX_ergst_e', 'EX_ergstest_SC_e', 'EX_13BDglcn_e', 'EX_etha_e', 'EX_2hb_e', 'EX_etoh_e', 'EX_fecost_e', 'EX_2mbac_e', 'EX_2mbald_e', 'EX_2mbtoh_e', 'EX_2mppal_e', 'EX_2phetoh_e', 'EX_fecostest_SC_e', 'EX_fmn_e', 'EX_3c3hmp_e', 'EX_3mbald_e', 'EX_for_e', 'EX_fru_e', 'EX_3mop_e', 'EX_4abut_e', 'EX_fum_e', 'EX_g3pc_e', 'EX_4abz_e', 'EX_5aop_e', 'EX_g3pi_e', 'EX_gal_e', 'EX_8aonn_e', 'EX_Nbfortyr_e', 'EX_abt_e', 'EX_ac_e', 'EX_acald_e', 'EX_aces_e', 'EX_galur_e', 'EX_gam6p_e', 'EX_gcald_e', 'EX_glc__D_e', 'EX_gln__L_e', 'EX_glu__L_e', 'EX_glx_e', 'EX_ade_e', 'EX_adn_e', 'EX_akg_e', 'EX_ala__L_e', 'EX_gly_e', 'EX_glyc_e', 'EX_gsn_e', 'EX_gthox_e', 'EX_gthrd_e', 'EX_alltn_e', 'EX_alltt_e', 'EX_amet_e', 'EX_arab__D_e', 'EX_arab__L_e', 'EX_gua_e', 'EX_arg__L_e', 'EX_hdca_e', 'EX_hdcea_e', 'EX_asn__L_e', 'EX_asp__L_e', 'EX_btd_RR_e', 'EX_btn_e', 'EX_hexc_e', 'EX_his__L_e', 'EX_hxan_e', 'EX_iamac_e', 'EX_iamoh_e', 'EX_ibutac_e', 'EX_chol_e', 'EX_cit_e', 'EX_co2_e', 'EX_crn_e', 'EX_csn_e', 'EX_cys__L_e', 'EX_cytd_e', 'EX_dad_2_e', 'EX_dann_e', 'EX_ibutoh_e', 'EX_id3acald_e', 'EX_ile__L_e', 'EX_ind3eth_e', 'EX_inost_e', 'EX_dca_e', 'EX_dcyt_e', 'EX_ddca_e', 'EX_ins_e', 'EX_dgsn_e', 'EX_din_e', 'EX_lac__D_e', 'EX_lac__L_e', 'EX_lanost_e', 'EX_lanostest_SC_e', 'EX_dttp_e', 'EX_duri_e', 'EX_leu__L_e', 'EX_lys__L_e', 'EX_mal__L_e', 'EX_malt_e', 'EX_ribflv_e', 'EX_sbt__D_e', 'EX_man_e', 'EX_melib_e', 'EX_met__L_e', 'EX_mmet_e', 'EX_nac_e', 'EX_sbt__L_e', 'EX_ser__L_e', 'EX_spmd_e', 'EX_sprm_e', 'EX_srb__L_e', 'EX_succ_e', 'EX_nadp_e', 'EX_nmn_e', 'EX_sucr_e', 'EX_taur_e', 'EX_thm_e', 'EX_oaa_e', 'EX_ocdca_e', 'EX_ocdcea_e', 'EX_ocdcya_e', 'EX_orn_e', 'EX_thmmp_e', 'EX_thmpp_e', 'EX_thr__L_e', 'EX_thym_e', 'EX_pacald_e', 'EX_pap_e', 'EX_thymd_e', 'EX_tre_e', 'EX_trp__L_e', 'EX_pc_SC_e', 'EX_pectin_e', 'EX_pepd_e', 'EX_phe__L_e', 'EX_pheac_e', 'EX_pnto__R_e', 'EX_ttdca_e', 'EX_tyr__L_e', 'EX_ura_e', 'EX_urea_e', 'EX_uri_e', 'EX_val__L_e', 'EX_xan_e', 'EX_xtsn_e', 'EX_pro__L_e', 'EX_ptd1ino_SC_e', 'EX_ptrc_e', 'EX_pyr_e', 'EX_xyl__D_e', 'EX_xylt_e', 'EX_rib__D_e', 'EX_zymst_e', 'EX_zymstest_SC_e']\n"
     ]
    }
   ],
   "source": [
    "carbon_source_exchanges=[]\n",
    "for exchange in model_iMM904.exchanges:\n",
    "    for metabolite in exchange.metabolites:\n",
    "        if \"C\" in metabolite.elements:\n",
    "            carbon_source_exchanges.append(exchange.id)\n",
    "print(carbon_source_exchanges)"
   ]
  },
  {
   "cell_type": "code",
   "execution_count": 26,
   "metadata": {},
   "outputs": [
    {
     "name": "stdout",
     "output_type": "stream",
     "text": [
      "EX_13BDglcn_e\n",
      "2.280376608317388\n",
      "EX_2hb_e\n",
      "0.04278624497058172\n",
      "EX_etoh_e\n",
      "0.029162766956666083\n",
      "EX_3c3hmp_e\n",
      "2.45044350629841e-16\n",
      "EX_for_e\n",
      "0.015680467905162265\n",
      "EX_fru_e\n",
      "2.280376608318034\n",
      "EX_4abut_e\n",
      "0.04596972510305107\n",
      "EX_fum_e\n",
      "0.3353673362275545\n",
      "EX_gal_e\n",
      "2.280376608317796\n",
      "EX_ac_e\n",
      "0.025575573485879768\n",
      "EX_acald_e\n",
      "0.029162766956663772\n",
      "EX_gam6p_e\n",
      "3.379353287025532\n",
      "EX_glc__D_e\n",
      "2.2803766083180257\n",
      "EX_gln__L_e\n",
      "0.06324141092047614\n",
      "EX_glu__L_e\n",
      "0.0626503596766645\n",
      "EX_glx_e\n",
      "0.030856104605897387\n",
      "EX_adn_e\n",
      "3.0602041876131865\n",
      "EX_akg_e\n",
      "0.07702180307527515\n",
      "EX_ala__L_e\n",
      "0.0439218096806771\n",
      "EX_gly_e\n",
      "0.04428403291587839\n",
      "EX_glyc_e\n",
      "0.08606133583751305\n",
      "EX_gsn_e\n",
      "3.039423765163895\n",
      "EX_alltn_e\n",
      "0.03085610460589758\n",
      "EX_alltt_e\n",
      "0.030856104605897574\n",
      "EX_amet_e\n",
      "3.0763187173161084\n",
      "EX_arg__L_e\n",
      "0.046205626151634815\n",
      "EX_asn__L_e\n",
      "0.3432692367300105\n",
      "EX_asp__L_e\n",
      "0.3420340051681373\n",
      "EX_cit_e\n",
      "0.0792462309832161\n",
      "EX_cytd_e\n",
      "0.06808536848942173\n",
      "EX_ile__L_e\n",
      "5.900530771791386e-20\n",
      "EX_ins_e\n",
      "3.0528816446780866\n",
      "EX_lac__D_e\n",
      "0.039203956604434737\n",
      "EX_lac__L_e\n",
      "0.03920395660443473\n",
      "EX_leu__L_e\n",
      "2.796136704764901e-18\n",
      "EX_mal__L_e\n",
      "0.33536733622755777\n",
      "EX_malt_e\n",
      "4.478329965732978\n",
      "EX_sbt__D_e\n",
      "1.1445474711402948\n",
      "EX_man_e\n",
      "2.280376608318025\n",
      "EX_melib_e\n",
      "4.478329965733928\n",
      "EX_ser__L_e\n",
      "0.07214264087348965\n",
      "EX_succ_e\n",
      "0.051157729255049085\n",
      "EX_sucr_e\n",
      "4.4783299657329945\n",
      "EX_oaa_e\n",
      "0.4661590289253565\n",
      "EX_orn_e\n",
      "0.04585559077641062\n",
      "EX_thr__L_e\n",
      "0.07319814049696463\n",
      "EX_pap_e\n",
      "3.0648087057260653\n",
      "EX_tre_e\n",
      "4.481787582515539\n",
      "EX_trp__L_e\n",
      "5.139474459248008e-18\n",
      "EX_uri_e\n",
      "0.0680505282167899\n",
      "EX_val__L_e\n",
      "2.7813661705169566e-20\n",
      "EX_xtsn_e\n",
      "3.0327814918545366\n",
      "EX_pro__L_e\n",
      "0.05058538108838061\n",
      "EX_pyr_e\n",
      "0.07124143349162815\n",
      "EX_xyl__D_e\n",
      "0.8128199510915014\n",
      "EX_xylt_e\n",
      "0.6620523011323417\n",
      "EX_rib__D_e\n",
      "1.9140510487486693\n",
      "['EX_13BDglcn_e', 'EX_2hb_e', 'EX_etoh_e', 'EX_3c3hmp_e', 'EX_for_e', 'EX_fru_e', 'EX_4abut_e', 'EX_fum_e', 'EX_gal_e', 'EX_ac_e', 'EX_acald_e', 'EX_gam6p_e', 'EX_glc__D_e', 'EX_gln__L_e', 'EX_glu__L_e', 'EX_glx_e', 'EX_adn_e', 'EX_akg_e', 'EX_ala__L_e', 'EX_gly_e', 'EX_glyc_e', 'EX_gsn_e', 'EX_alltn_e', 'EX_alltt_e', 'EX_amet_e', 'EX_arg__L_e', 'EX_asn__L_e', 'EX_asp__L_e', 'EX_cit_e', 'EX_cytd_e', 'EX_ile__L_e', 'EX_ins_e', 'EX_lac__D_e', 'EX_lac__L_e', 'EX_leu__L_e', 'EX_mal__L_e', 'EX_malt_e', 'EX_sbt__D_e', 'EX_man_e', 'EX_melib_e', 'EX_ser__L_e', 'EX_succ_e', 'EX_sucr_e', 'EX_oaa_e', 'EX_orn_e', 'EX_thr__L_e', 'EX_pap_e', 'EX_tre_e', 'EX_trp__L_e', 'EX_uri_e', 'EX_val__L_e', 'EX_xtsn_e', 'EX_pro__L_e', 'EX_pyr_e', 'EX_xyl__D_e', 'EX_xylt_e', 'EX_rib__D_e']\n"
     ]
    }
   ],
   "source": [
    "aerobic_carbon_sources=[]\n",
    "for i in range (0,len(carbon_source_exchanges)):\n",
    "    with model_iMM904:\n",
    "        medium=model_iMM904.medium\n",
    "        medium['EX_glc__D_e']=0\n",
    "        medium[carbon_source_exchanges[i]]=100\n",
    "        model_iMM904.medium =medium\n",
    "        solution=model_iMM904.slim_optimize(error_value=0.)\n",
    "        if solution >0:\n",
    "            aerobic_carbon_sources.extend([carbon_source_exchanges[i]])\n",
    "            print(carbon_source_exchanges[i])\n",
    "            print(solution)\n",
    "print(aerobic_carbon_sources)"
   ]
  },
  {
   "cell_type": "code",
   "execution_count": 27,
   "metadata": {},
   "outputs": [
    {
     "name": "stdout",
     "output_type": "stream",
     "text": [
      "EX_13BDglcn_e\n",
      "2.2803766083180457\n",
      "Maximum beta-carotene flow:  1.9999999999999991\n",
      "EX_fru_e\n",
      "2.2803766083180266\n",
      "Maximum beta-carotene flow:  2.0000000000000004\n",
      "EX_gal_e\n",
      "2.2803766083180386\n",
      "Maximum beta-carotene flow:  1.9999999999999998\n",
      "EX_gam6p_e\n",
      "3.379353287025514\n",
      "Maximum beta-carotene flow:  1.9999999999998987\n",
      "EX_glc__D_e\n",
      "2.280376608318025\n",
      "Maximum beta-carotene flow:  1.9999999999999998\n",
      "EX_adn_e\n",
      "3.0602041876131714\n",
      "Maximum beta-carotene flow:  2.0000000000000058\n",
      "EX_gsn_e\n",
      "3.0394237651638996\n",
      "Maximum beta-carotene flow:  1.9999999999999993\n",
      "EX_amet_e\n",
      "3.0763187173160755\n",
      "Maximum beta-carotene flow:  2.0000000000000053\n",
      "EX_ins_e\n",
      "3.052881644678164\n",
      "Maximum beta-carotene flow:  1.9999999999999996\n",
      "EX_malt_e\n",
      "4.478329965732987\n",
      "Maximum beta-carotene flow:  2.0000000000000164\n",
      "EX_man_e\n",
      "2.280376608318027\n",
      "Maximum beta-carotene flow:  2.0000000000000004\n",
      "EX_melib_e\n",
      "4.478329965732991\n",
      "Maximum beta-carotene flow:  2.000000000000001\n",
      "EX_sucr_e\n",
      "4.47832996573299\n",
      "Maximum beta-carotene flow:  2.0\n",
      "EX_pap_e\n",
      "3.0648087057260667\n",
      "Maximum beta-carotene flow:  2.0\n",
      "EX_tre_e\n",
      "4.481787582473512\n",
      "Maximum beta-carotene flow:  1.999999998749073\n",
      "EX_xtsn_e\n",
      "3.0327814918545233\n",
      "Maximum beta-carotene flow:  2.0\n",
      "['EX_13BDglcn_e', 'EX_fru_e', 'EX_gal_e', 'EX_gam6p_e', 'EX_glc__D_e', 'EX_adn_e', 'EX_gsn_e', 'EX_amet_e', 'EX_ins_e', 'EX_malt_e', 'EX_man_e', 'EX_melib_e', 'EX_sucr_e', 'EX_pap_e', 'EX_tre_e', 'EX_xtsn_e']\n"
     ]
    }
   ],
   "source": [
    "aerobic_carbon_sources=[]\n",
    "for i in range (0,len(carbon_source_exchanges)):\n",
    "    with model_iMM904:\n",
    "        medium=model_iMM904.medium\n",
    "        medium['EX_glc__D_e']=0\n",
    "        medium[carbon_source_exchanges[i]]=100\n",
    "        model_iMM904.medium =medium\n",
    "        solution=model_iMM904.slim_optimize(error_value=0.)\n",
    "        if solution >2:\n",
    "            aerobic_carbon_sources.extend([carbon_source_exchanges[i]])\n",
    "            print(carbon_source_exchanges[i])\n",
    "            print(solution)\n",
    "            model_iMM904.objective = model_iMM904.reactions.EX_beta \n",
    "            print(\"Maximum beta-carotene flow: \",model_iMM904.optimize().objective_value)\n",
    "print(aerobic_carbon_sources)"
   ]
  },
  {
   "cell_type": "code",
   "execution_count": 9,
   "metadata": {},
   "outputs": [
    {
     "data": {
      "text/plain": [
       "154"
      ]
     },
     "execution_count": 9,
     "metadata": {},
     "output_type": "execute_result"
    }
   ],
   "source": [
    "len(carbon_source_exchanges)"
   ]
  },
  {
   "cell_type": "code",
   "execution_count": 18,
   "metadata": {},
   "outputs": [
    {
     "data": {
      "text/plain": [
       "16"
      ]
     },
     "execution_count": 18,
     "metadata": {},
     "output_type": "execute_result"
    }
   ],
   "source": [
    "len(aerobic_carbon_sources)"
   ]
  },
  {
   "cell_type": "markdown",
   "metadata": {},
   "source": [
    "Udvid til at sortere/tjekke beta-caroten flowet. Also tjek for anaerobe"
   ]
  },
  {
   "cell_type": "code",
   "execution_count": null,
   "metadata": {},
   "outputs": [],
   "source": []
  }
 ],
 "metadata": {
  "kernelspec": {
   "display_name": "Python 3",
   "language": "python",
   "name": "python3"
  },
  "language_info": {
   "codemirror_mode": {
    "name": "ipython",
    "version": 3
   },
   "file_extension": ".py",
   "mimetype": "text/x-python",
   "name": "python",
   "nbconvert_exporter": "python",
   "pygments_lexer": "ipython3",
   "version": "3.8.5"
  }
 },
 "nbformat": 4,
 "nbformat_minor": 4
}
